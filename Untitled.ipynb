{
 "cells": [
  {
   "cell_type": "code",
   "execution_count": 1,
   "metadata": {
    "collapsed": false
   },
   "outputs": [
    {
     "ename": "ImportError",
     "evalue": "No module named tensorflow",
     "output_type": "error",
     "traceback": [
      "\u001b[0;31m---------------------------------------------------------------------------\u001b[0m",
      "\u001b[0;31mImportError\u001b[0m                               Traceback (most recent call last)",
      "\u001b[0;32m<ipython-input-1-be7017274a37>\u001b[0m in \u001b[0;36m<module>\u001b[0;34m()\u001b[0m\n\u001b[1;32m      1\u001b[0m \u001b[1;32mimport\u001b[0m \u001b[0murllib2\u001b[0m\u001b[1;33m\u001b[0m\u001b[0m\n\u001b[0;32m----> 2\u001b[0;31m \u001b[1;32mimport\u001b[0m \u001b[0mtensorflow\u001b[0m \u001b[1;32mas\u001b[0m \u001b[0mtf\u001b[0m\u001b[1;33m\u001b[0m\u001b[0m\n\u001b[0m\u001b[1;32m      3\u001b[0m \u001b[1;32mimport\u001b[0m \u001b[0mnumpy\u001b[0m \u001b[1;32mas\u001b[0m \u001b[0mnp\u001b[0m\u001b[1;33m\u001b[0m\u001b[0m\n\u001b[1;32m      4\u001b[0m \u001b[1;32mimport\u001b[0m \u001b[0mfindspark\u001b[0m\u001b[1;33m\u001b[0m\u001b[0m\n\u001b[1;32m      5\u001b[0m \u001b[1;33m\u001b[0m\u001b[0m\n",
      "\u001b[0;31mImportError\u001b[0m: No module named tensorflow"
     ]
    }
   ],
   "source": [
    "import urllib2   \n",
    "import tensorflow as tf  \n",
    "import numpy as np  \n",
    "import findspark     \n",
    " \n",
    "findspark.init()  \n",
    "from pyspark import SparkContext, SparkFiles, SQLContext\n",
    " \n",
    "if not 'sc' in locals():  \n",
    "    sc = SparkContext()  \n",
    " \n",
    "if not 'sqlContext' in locals():\n",
    " sqlContext = SQLContext(sc)\n",
    " \n",
    "wordsDF = sqlContext.createDataFrame([('cat',), ('elephant',), ('rat',), ('rat',), ('cat', )], ['word'])   \n",
    "wordCountsDF = wordsDF.groupBy(\"word\").count()   \n",
    "wordCountsDF.show() \n",
    " \n",
    "x_data = np.random.rand(100).astype(np.float32)  \n",
    "y_data = x_data * 0.1 + 0.3  \n",
    " \n",
    "W = tf.Variable(tf.random_uniform([1], -1.0, 1.0))  \n",
    "b = tf.Variable(tf.zeros([1]))  \n",
    "y = W * x_data + b  \n",
    " \n",
    "loss = tf.reduce_mean(tf.square(y - y_data))  \n",
    "optimizer = tf.train.GradientDescentOptimizer(0.5)  \n",
    "train = optimizer.minimize(loss)  \n",
    " \n",
    "init = tf.initialize_all_variables()  \n",
    " \n",
    "sess = tf.Session()  \n",
    "sess.run(init)  \n",
    " \n",
    "for step in range(201):  \n",
    "    sess.run(train)  \n",
    "    if step % 20 == 0:  \n",
    "        print(step, sess.run(W), sess.run(b))  "
   ]
  },
  {
   "cell_type": "code",
   "execution_count": null,
   "metadata": {
    "collapsed": true
   },
   "outputs": [],
   "source": []
  }
 ],
 "metadata": {
  "anaconda-cloud": {},
  "kernelspec": {
   "display_name": "Python [default]",
   "language": "python",
   "name": "python2"
  },
  "language_info": {
   "codemirror_mode": {
    "name": "ipython",
    "version": 2
   },
   "file_extension": ".py",
   "mimetype": "text/x-python",
   "name": "python",
   "nbconvert_exporter": "python",
   "pygments_lexer": "ipython2",
   "version": "2.7.12"
  }
 },
 "nbformat": 4,
 "nbformat_minor": 1
}
