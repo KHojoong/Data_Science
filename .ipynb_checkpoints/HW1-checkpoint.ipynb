{
 "cells": [
  {
   "cell_type": "markdown",
   "metadata": {},
   "source": [
    "# 1주차 과제\n",
    "***\n",
    "\n",
    "## 1. import"
   ]
  },
  {
   "cell_type": "code",
   "execution_count": 1,
   "metadata": {
    "collapsed": true
   },
   "outputs": [],
   "source": [
    "import pandas as pd"
   ]
  },
  {
   "cell_type": "code",
   "execution_count": 2,
   "metadata": {
    "collapsed": true
   },
   "outputs": [],
   "source": [
    "import numpy as np"
   ]
  },
  {
   "cell_type": "code",
   "execution_count": 3,
   "metadata": {
    "collapsed": true
   },
   "outputs": [],
   "source": [
    "import matplotlib.pyplot as plt"
   ]
  },
  {
   "cell_type": "markdown",
   "metadata": {},
   "source": [
    "***\n",
    "## 2. Object Creation"
   ]
  },
  {
   "cell_type": "code",
   "execution_count": 4,
   "metadata": {
    "collapsed": true
   },
   "outputs": [],
   "source": [
    "s = pd.Series([1,3,5,np.nan,6,8])"
   ]
  },
  {
   "cell_type": "code",
   "execution_count": 5,
   "metadata": {
    "collapsed": false
   },
   "outputs": [
    {
     "data": {
      "text/plain": [
       "0    1.0\n",
       "1    3.0\n",
       "2    5.0\n",
       "3    NaN\n",
       "4    6.0\n",
       "5    8.0\n",
       "dtype: float64"
      ]
     },
     "execution_count": 5,
     "metadata": {},
     "output_type": "execute_result"
    }
   ],
   "source": [
    "s"
   ]
  },
  {
   "cell_type": "code",
   "execution_count": 6,
   "metadata": {
    "collapsed": true
   },
   "outputs": [],
   "source": [
    "dates = pd.date_range('20160101', periods=6)"
   ]
  },
  {
   "cell_type": "code",
   "execution_count": 7,
   "metadata": {
    "collapsed": false
   },
   "outputs": [
    {
     "data": {
      "text/plain": [
       "DatetimeIndex(['2016-01-01', '2016-01-02', '2016-01-03', '2016-01-04',\n",
       "               '2016-01-05', '2016-01-06'],\n",
       "              dtype='datetime64[ns]', freq='D')"
      ]
     },
     "execution_count": 7,
     "metadata": {},
     "output_type": "execute_result"
    }
   ],
   "source": [
    "dates"
   ]
  },
  {
   "cell_type": "code",
   "execution_count": 8,
   "metadata": {
    "collapsed": true
   },
   "outputs": [],
   "source": [
    "df = pd.DataFrame(np.random.randn(6,4), index=dates, columns=list('ABCD'))"
   ]
  },
  {
   "cell_type": "code",
   "execution_count": 9,
   "metadata": {
    "collapsed": false
   },
   "outputs": [
    {
     "data": {
      "text/html": [
       "<div>\n",
       "<table border=\"1\" class=\"dataframe\">\n",
       "  <thead>\n",
       "    <tr style=\"text-align: right;\">\n",
       "      <th></th>\n",
       "      <th>A</th>\n",
       "      <th>B</th>\n",
       "      <th>C</th>\n",
       "      <th>D</th>\n",
       "    </tr>\n",
       "  </thead>\n",
       "  <tbody>\n",
       "    <tr>\n",
       "      <th>2016-01-01</th>\n",
       "      <td>0.487515</td>\n",
       "      <td>-0.912500</td>\n",
       "      <td>0.853355</td>\n",
       "      <td>-2.829069</td>\n",
       "    </tr>\n",
       "    <tr>\n",
       "      <th>2016-01-02</th>\n",
       "      <td>0.928170</td>\n",
       "      <td>-0.194253</td>\n",
       "      <td>0.963450</td>\n",
       "      <td>0.155696</td>\n",
       "    </tr>\n",
       "    <tr>\n",
       "      <th>2016-01-03</th>\n",
       "      <td>-0.111018</td>\n",
       "      <td>0.065034</td>\n",
       "      <td>-0.661282</td>\n",
       "      <td>-0.647075</td>\n",
       "    </tr>\n",
       "    <tr>\n",
       "      <th>2016-01-04</th>\n",
       "      <td>-1.512980</td>\n",
       "      <td>-0.617479</td>\n",
       "      <td>-1.853221</td>\n",
       "      <td>0.360298</td>\n",
       "    </tr>\n",
       "    <tr>\n",
       "      <th>2016-01-05</th>\n",
       "      <td>0.848038</td>\n",
       "      <td>0.509462</td>\n",
       "      <td>0.925823</td>\n",
       "      <td>0.548083</td>\n",
       "    </tr>\n",
       "    <tr>\n",
       "      <th>2016-01-06</th>\n",
       "      <td>-1.209631</td>\n",
       "      <td>-0.585446</td>\n",
       "      <td>-0.749138</td>\n",
       "      <td>-0.269611</td>\n",
       "    </tr>\n",
       "  </tbody>\n",
       "</table>\n",
       "</div>"
      ],
      "text/plain": [
       "                   A         B         C         D\n",
       "2016-01-01  0.487515 -0.912500  0.853355 -2.829069\n",
       "2016-01-02  0.928170 -0.194253  0.963450  0.155696\n",
       "2016-01-03 -0.111018  0.065034 -0.661282 -0.647075\n",
       "2016-01-04 -1.512980 -0.617479 -1.853221  0.360298\n",
       "2016-01-05  0.848038  0.509462  0.925823  0.548083\n",
       "2016-01-06 -1.209631 -0.585446 -0.749138 -0.269611"
      ]
     },
     "execution_count": 9,
     "metadata": {},
     "output_type": "execute_result"
    }
   ],
   "source": [
    "df"
   ]
  },
  {
   "cell_type": "code",
   "execution_count": 10,
   "metadata": {
    "collapsed": true
   },
   "outputs": [],
   "source": [
    "df2 = pd.DataFrame({ 'A' : 1.,\n",
    "                    'B' : pd.Timestamp('20160102'),\n",
    "                    'C' : pd.Series(1,index=list(range(4)),dtype='float32'),\n",
    "                    'D' : np.array([3] * 4,dtype='int32'),\n",
    "                    'E' : pd.Categorical([\"test\",\"train\",\"test\",\"train\"]),\n",
    "                    'F' : 'foo' })"
   ]
  },
  {
   "cell_type": "code",
   "execution_count": 11,
   "metadata": {
    "collapsed": false
   },
   "outputs": [
    {
     "data": {
      "text/html": [
       "<div>\n",
       "<table border=\"1\" class=\"dataframe\">\n",
       "  <thead>\n",
       "    <tr style=\"text-align: right;\">\n",
       "      <th></th>\n",
       "      <th>A</th>\n",
       "      <th>B</th>\n",
       "      <th>C</th>\n",
       "      <th>D</th>\n",
       "      <th>E</th>\n",
       "      <th>F</th>\n",
       "    </tr>\n",
       "  </thead>\n",
       "  <tbody>\n",
       "    <tr>\n",
       "      <th>0</th>\n",
       "      <td>1.0</td>\n",
       "      <td>2016-01-02</td>\n",
       "      <td>1.0</td>\n",
       "      <td>3</td>\n",
       "      <td>test</td>\n",
       "      <td>foo</td>\n",
       "    </tr>\n",
       "    <tr>\n",
       "      <th>1</th>\n",
       "      <td>1.0</td>\n",
       "      <td>2016-01-02</td>\n",
       "      <td>1.0</td>\n",
       "      <td>3</td>\n",
       "      <td>train</td>\n",
       "      <td>foo</td>\n",
       "    </tr>\n",
       "    <tr>\n",
       "      <th>2</th>\n",
       "      <td>1.0</td>\n",
       "      <td>2016-01-02</td>\n",
       "      <td>1.0</td>\n",
       "      <td>3</td>\n",
       "      <td>test</td>\n",
       "      <td>foo</td>\n",
       "    </tr>\n",
       "    <tr>\n",
       "      <th>3</th>\n",
       "      <td>1.0</td>\n",
       "      <td>2016-01-02</td>\n",
       "      <td>1.0</td>\n",
       "      <td>3</td>\n",
       "      <td>train</td>\n",
       "      <td>foo</td>\n",
       "    </tr>\n",
       "  </tbody>\n",
       "</table>\n",
       "</div>"
      ],
      "text/plain": [
       "     A          B    C  D      E    F\n",
       "0  1.0 2016-01-02  1.0  3   test  foo\n",
       "1  1.0 2016-01-02  1.0  3  train  foo\n",
       "2  1.0 2016-01-02  1.0  3   test  foo\n",
       "3  1.0 2016-01-02  1.0  3  train  foo"
      ]
     },
     "execution_count": 11,
     "metadata": {},
     "output_type": "execute_result"
    }
   ],
   "source": [
    "df2"
   ]
  },
  {
   "cell_type": "code",
   "execution_count": 12,
   "metadata": {
    "collapsed": false
   },
   "outputs": [
    {
     "data": {
      "text/plain": [
       "A           float64\n",
       "B    datetime64[ns]\n",
       "C           float32\n",
       "D             int32\n",
       "E          category\n",
       "F            object\n",
       "dtype: object"
      ]
     },
     "execution_count": 12,
     "metadata": {},
     "output_type": "execute_result"
    }
   ],
   "source": [
    "df2.dtypes"
   ]
  },
  {
   "cell_type": "markdown",
   "metadata": {},
   "source": [
    "***\n",
    "## 3. Viewing Data"
   ]
  },
  {
   "cell_type": "code",
   "execution_count": 13,
   "metadata": {
    "collapsed": false
   },
   "outputs": [
    {
     "data": {
      "text/html": [
       "<div>\n",
       "<table border=\"1\" class=\"dataframe\">\n",
       "  <thead>\n",
       "    <tr style=\"text-align: right;\">\n",
       "      <th></th>\n",
       "      <th>A</th>\n",
       "      <th>B</th>\n",
       "      <th>C</th>\n",
       "      <th>D</th>\n",
       "    </tr>\n",
       "  </thead>\n",
       "  <tbody>\n",
       "    <tr>\n",
       "      <th>2016-01-01</th>\n",
       "      <td>0.487515</td>\n",
       "      <td>-0.912500</td>\n",
       "      <td>0.853355</td>\n",
       "      <td>-2.829069</td>\n",
       "    </tr>\n",
       "    <tr>\n",
       "      <th>2016-01-02</th>\n",
       "      <td>0.928170</td>\n",
       "      <td>-0.194253</td>\n",
       "      <td>0.963450</td>\n",
       "      <td>0.155696</td>\n",
       "    </tr>\n",
       "    <tr>\n",
       "      <th>2016-01-03</th>\n",
       "      <td>-0.111018</td>\n",
       "      <td>0.065034</td>\n",
       "      <td>-0.661282</td>\n",
       "      <td>-0.647075</td>\n",
       "    </tr>\n",
       "    <tr>\n",
       "      <th>2016-01-04</th>\n",
       "      <td>-1.512980</td>\n",
       "      <td>-0.617479</td>\n",
       "      <td>-1.853221</td>\n",
       "      <td>0.360298</td>\n",
       "    </tr>\n",
       "    <tr>\n",
       "      <th>2016-01-05</th>\n",
       "      <td>0.848038</td>\n",
       "      <td>0.509462</td>\n",
       "      <td>0.925823</td>\n",
       "      <td>0.548083</td>\n",
       "    </tr>\n",
       "  </tbody>\n",
       "</table>\n",
       "</div>"
      ],
      "text/plain": [
       "                   A         B         C         D\n",
       "2016-01-01  0.487515 -0.912500  0.853355 -2.829069\n",
       "2016-01-02  0.928170 -0.194253  0.963450  0.155696\n",
       "2016-01-03 -0.111018  0.065034 -0.661282 -0.647075\n",
       "2016-01-04 -1.512980 -0.617479 -1.853221  0.360298\n",
       "2016-01-05  0.848038  0.509462  0.925823  0.548083"
      ]
     },
     "execution_count": 13,
     "metadata": {},
     "output_type": "execute_result"
    }
   ],
   "source": [
    "df.head()"
   ]
  },
  {
   "cell_type": "code",
   "execution_count": 14,
   "metadata": {
    "collapsed": false
   },
   "outputs": [
    {
     "data": {
      "text/html": [
       "<div>\n",
       "<table border=\"1\" class=\"dataframe\">\n",
       "  <thead>\n",
       "    <tr style=\"text-align: right;\">\n",
       "      <th></th>\n",
       "      <th>A</th>\n",
       "      <th>B</th>\n",
       "      <th>C</th>\n",
       "      <th>D</th>\n",
       "    </tr>\n",
       "  </thead>\n",
       "  <tbody>\n",
       "    <tr>\n",
       "      <th>2016-01-04</th>\n",
       "      <td>-1.512980</td>\n",
       "      <td>-0.617479</td>\n",
       "      <td>-1.853221</td>\n",
       "      <td>0.360298</td>\n",
       "    </tr>\n",
       "    <tr>\n",
       "      <th>2016-01-05</th>\n",
       "      <td>0.848038</td>\n",
       "      <td>0.509462</td>\n",
       "      <td>0.925823</td>\n",
       "      <td>0.548083</td>\n",
       "    </tr>\n",
       "    <tr>\n",
       "      <th>2016-01-06</th>\n",
       "      <td>-1.209631</td>\n",
       "      <td>-0.585446</td>\n",
       "      <td>-0.749138</td>\n",
       "      <td>-0.269611</td>\n",
       "    </tr>\n",
       "  </tbody>\n",
       "</table>\n",
       "</div>"
      ],
      "text/plain": [
       "                   A         B         C         D\n",
       "2016-01-04 -1.512980 -0.617479 -1.853221  0.360298\n",
       "2016-01-05  0.848038  0.509462  0.925823  0.548083\n",
       "2016-01-06 -1.209631 -0.585446 -0.749138 -0.269611"
      ]
     },
     "execution_count": 14,
     "metadata": {},
     "output_type": "execute_result"
    }
   ],
   "source": [
    "df.tail(3)"
   ]
  },
  {
   "cell_type": "code",
   "execution_count": 15,
   "metadata": {
    "collapsed": false
   },
   "outputs": [
    {
     "data": {
      "text/plain": [
       "DatetimeIndex(['2016-01-01', '2016-01-02', '2016-01-03', '2016-01-04',\n",
       "               '2016-01-05', '2016-01-06'],\n",
       "              dtype='datetime64[ns]', freq='D')"
      ]
     },
     "execution_count": 15,
     "metadata": {},
     "output_type": "execute_result"
    }
   ],
   "source": [
    "df.index"
   ]
  },
  {
   "cell_type": "code",
   "execution_count": 16,
   "metadata": {
    "collapsed": false
   },
   "outputs": [
    {
     "data": {
      "text/plain": [
       "Index([u'A', u'B', u'C', u'D'], dtype='object')"
      ]
     },
     "execution_count": 16,
     "metadata": {},
     "output_type": "execute_result"
    }
   ],
   "source": [
    "df.columns"
   ]
  },
  {
   "cell_type": "code",
   "execution_count": 17,
   "metadata": {
    "collapsed": false
   },
   "outputs": [
    {
     "data": {
      "text/plain": [
       "array([[ 0.48751454, -0.9125003 ,  0.85335515, -2.82906864],\n",
       "       [ 0.92816951, -0.19425257,  0.96344951,  0.15569583],\n",
       "       [-0.11101789,  0.0650338 , -0.66128177, -0.64707536],\n",
       "       [-1.51297973, -0.61747895, -1.85322116,  0.36029797],\n",
       "       [ 0.8480377 ,  0.50946222,  0.92582349,  0.54808334],\n",
       "       [-1.20963093, -0.58544619, -0.74913756, -0.26961116]])"
      ]
     },
     "execution_count": 17,
     "metadata": {},
     "output_type": "execute_result"
    }
   ],
   "source": [
    "df.values"
   ]
  },
  {
   "cell_type": "code",
   "execution_count": 18,
   "metadata": {
    "collapsed": false
   },
   "outputs": [
    {
     "data": {
      "text/html": [
       "<div>\n",
       "<table border=\"1\" class=\"dataframe\">\n",
       "  <thead>\n",
       "    <tr style=\"text-align: right;\">\n",
       "      <th></th>\n",
       "      <th>A</th>\n",
       "      <th>B</th>\n",
       "      <th>C</th>\n",
       "      <th>D</th>\n",
       "    </tr>\n",
       "  </thead>\n",
       "  <tbody>\n",
       "    <tr>\n",
       "      <th>count</th>\n",
       "      <td>6.000000</td>\n",
       "      <td>6.000000</td>\n",
       "      <td>6.000000</td>\n",
       "      <td>6.000000</td>\n",
       "    </tr>\n",
       "    <tr>\n",
       "      <th>mean</th>\n",
       "      <td>-0.094984</td>\n",
       "      <td>-0.289197</td>\n",
       "      <td>-0.086835</td>\n",
       "      <td>-0.446946</td>\n",
       "    </tr>\n",
       "    <tr>\n",
       "      <th>std</th>\n",
       "      <td>1.051555</td>\n",
       "      <td>0.520844</td>\n",
       "      <td>1.174843</td>\n",
       "      <td>1.245063</td>\n",
       "    </tr>\n",
       "    <tr>\n",
       "      <th>min</th>\n",
       "      <td>-1.512980</td>\n",
       "      <td>-0.912500</td>\n",
       "      <td>-1.853221</td>\n",
       "      <td>-2.829069</td>\n",
       "    </tr>\n",
       "    <tr>\n",
       "      <th>25%</th>\n",
       "      <td>-0.934978</td>\n",
       "      <td>-0.609471</td>\n",
       "      <td>-0.727174</td>\n",
       "      <td>-0.552709</td>\n",
       "    </tr>\n",
       "    <tr>\n",
       "      <th>50%</th>\n",
       "      <td>0.188248</td>\n",
       "      <td>-0.389849</td>\n",
       "      <td>0.096037</td>\n",
       "      <td>-0.056958</td>\n",
       "    </tr>\n",
       "    <tr>\n",
       "      <th>75%</th>\n",
       "      <td>0.757907</td>\n",
       "      <td>0.000212</td>\n",
       "      <td>0.907706</td>\n",
       "      <td>0.309147</td>\n",
       "    </tr>\n",
       "    <tr>\n",
       "      <th>max</th>\n",
       "      <td>0.928170</td>\n",
       "      <td>0.509462</td>\n",
       "      <td>0.963450</td>\n",
       "      <td>0.548083</td>\n",
       "    </tr>\n",
       "  </tbody>\n",
       "</table>\n",
       "</div>"
      ],
      "text/plain": [
       "              A         B         C         D\n",
       "count  6.000000  6.000000  6.000000  6.000000\n",
       "mean  -0.094984 -0.289197 -0.086835 -0.446946\n",
       "std    1.051555  0.520844  1.174843  1.245063\n",
       "min   -1.512980 -0.912500 -1.853221 -2.829069\n",
       "25%   -0.934978 -0.609471 -0.727174 -0.552709\n",
       "50%    0.188248 -0.389849  0.096037 -0.056958\n",
       "75%    0.757907  0.000212  0.907706  0.309147\n",
       "max    0.928170  0.509462  0.963450  0.548083"
      ]
     },
     "execution_count": 18,
     "metadata": {},
     "output_type": "execute_result"
    }
   ],
   "source": [
    "df.describe()"
   ]
  },
  {
   "cell_type": "code",
   "execution_count": 19,
   "metadata": {
    "collapsed": false
   },
   "outputs": [
    {
     "data": {
      "text/html": [
       "<div>\n",
       "<table border=\"1\" class=\"dataframe\">\n",
       "  <thead>\n",
       "    <tr style=\"text-align: right;\">\n",
       "      <th></th>\n",
       "      <th>2016-01-01 00:00:00</th>\n",
       "      <th>2016-01-02 00:00:00</th>\n",
       "      <th>2016-01-03 00:00:00</th>\n",
       "      <th>2016-01-04 00:00:00</th>\n",
       "      <th>2016-01-05 00:00:00</th>\n",
       "      <th>2016-01-06 00:00:00</th>\n",
       "    </tr>\n",
       "  </thead>\n",
       "  <tbody>\n",
       "    <tr>\n",
       "      <th>A</th>\n",
       "      <td>0.487515</td>\n",
       "      <td>0.928170</td>\n",
       "      <td>-0.111018</td>\n",
       "      <td>-1.512980</td>\n",
       "      <td>0.848038</td>\n",
       "      <td>-1.209631</td>\n",
       "    </tr>\n",
       "    <tr>\n",
       "      <th>B</th>\n",
       "      <td>-0.912500</td>\n",
       "      <td>-0.194253</td>\n",
       "      <td>0.065034</td>\n",
       "      <td>-0.617479</td>\n",
       "      <td>0.509462</td>\n",
       "      <td>-0.585446</td>\n",
       "    </tr>\n",
       "    <tr>\n",
       "      <th>C</th>\n",
       "      <td>0.853355</td>\n",
       "      <td>0.963450</td>\n",
       "      <td>-0.661282</td>\n",
       "      <td>-1.853221</td>\n",
       "      <td>0.925823</td>\n",
       "      <td>-0.749138</td>\n",
       "    </tr>\n",
       "    <tr>\n",
       "      <th>D</th>\n",
       "      <td>-2.829069</td>\n",
       "      <td>0.155696</td>\n",
       "      <td>-0.647075</td>\n",
       "      <td>0.360298</td>\n",
       "      <td>0.548083</td>\n",
       "      <td>-0.269611</td>\n",
       "    </tr>\n",
       "  </tbody>\n",
       "</table>\n",
       "</div>"
      ],
      "text/plain": [
       "   2016-01-01  2016-01-02  2016-01-03  2016-01-04  2016-01-05  2016-01-06\n",
       "A    0.487515    0.928170   -0.111018   -1.512980    0.848038   -1.209631\n",
       "B   -0.912500   -0.194253    0.065034   -0.617479    0.509462   -0.585446\n",
       "C    0.853355    0.963450   -0.661282   -1.853221    0.925823   -0.749138\n",
       "D   -2.829069    0.155696   -0.647075    0.360298    0.548083   -0.269611"
      ]
     },
     "execution_count": 19,
     "metadata": {},
     "output_type": "execute_result"
    }
   ],
   "source": [
    "df.T"
   ]
  },
  {
   "cell_type": "code",
   "execution_count": 20,
   "metadata": {
    "collapsed": false
   },
   "outputs": [
    {
     "data": {
      "text/html": [
       "<div>\n",
       "<table border=\"1\" class=\"dataframe\">\n",
       "  <thead>\n",
       "    <tr style=\"text-align: right;\">\n",
       "      <th></th>\n",
       "      <th>D</th>\n",
       "      <th>C</th>\n",
       "      <th>B</th>\n",
       "      <th>A</th>\n",
       "    </tr>\n",
       "  </thead>\n",
       "  <tbody>\n",
       "    <tr>\n",
       "      <th>2016-01-01</th>\n",
       "      <td>-2.829069</td>\n",
       "      <td>0.853355</td>\n",
       "      <td>-0.912500</td>\n",
       "      <td>0.487515</td>\n",
       "    </tr>\n",
       "    <tr>\n",
       "      <th>2016-01-02</th>\n",
       "      <td>0.155696</td>\n",
       "      <td>0.963450</td>\n",
       "      <td>-0.194253</td>\n",
       "      <td>0.928170</td>\n",
       "    </tr>\n",
       "    <tr>\n",
       "      <th>2016-01-03</th>\n",
       "      <td>-0.647075</td>\n",
       "      <td>-0.661282</td>\n",
       "      <td>0.065034</td>\n",
       "      <td>-0.111018</td>\n",
       "    </tr>\n",
       "    <tr>\n",
       "      <th>2016-01-04</th>\n",
       "      <td>0.360298</td>\n",
       "      <td>-1.853221</td>\n",
       "      <td>-0.617479</td>\n",
       "      <td>-1.512980</td>\n",
       "    </tr>\n",
       "    <tr>\n",
       "      <th>2016-01-05</th>\n",
       "      <td>0.548083</td>\n",
       "      <td>0.925823</td>\n",
       "      <td>0.509462</td>\n",
       "      <td>0.848038</td>\n",
       "    </tr>\n",
       "    <tr>\n",
       "      <th>2016-01-06</th>\n",
       "      <td>-0.269611</td>\n",
       "      <td>-0.749138</td>\n",
       "      <td>-0.585446</td>\n",
       "      <td>-1.209631</td>\n",
       "    </tr>\n",
       "  </tbody>\n",
       "</table>\n",
       "</div>"
      ],
      "text/plain": [
       "                   D         C         B         A\n",
       "2016-01-01 -2.829069  0.853355 -0.912500  0.487515\n",
       "2016-01-02  0.155696  0.963450 -0.194253  0.928170\n",
       "2016-01-03 -0.647075 -0.661282  0.065034 -0.111018\n",
       "2016-01-04  0.360298 -1.853221 -0.617479 -1.512980\n",
       "2016-01-05  0.548083  0.925823  0.509462  0.848038\n",
       "2016-01-06 -0.269611 -0.749138 -0.585446 -1.209631"
      ]
     },
     "execution_count": 20,
     "metadata": {},
     "output_type": "execute_result"
    }
   ],
   "source": [
    "df.sort_index(axis=1, ascending=False)"
   ]
  },
  {
   "cell_type": "code",
   "execution_count": 21,
   "metadata": {
    "collapsed": false
   },
   "outputs": [
    {
     "data": {
      "text/html": [
       "<div>\n",
       "<table border=\"1\" class=\"dataframe\">\n",
       "  <thead>\n",
       "    <tr style=\"text-align: right;\">\n",
       "      <th></th>\n",
       "      <th>A</th>\n",
       "      <th>B</th>\n",
       "      <th>C</th>\n",
       "      <th>D</th>\n",
       "    </tr>\n",
       "  </thead>\n",
       "  <tbody>\n",
       "    <tr>\n",
       "      <th>2016-01-01</th>\n",
       "      <td>0.487515</td>\n",
       "      <td>-0.912500</td>\n",
       "      <td>0.853355</td>\n",
       "      <td>-2.829069</td>\n",
       "    </tr>\n",
       "    <tr>\n",
       "      <th>2016-01-04</th>\n",
       "      <td>-1.512980</td>\n",
       "      <td>-0.617479</td>\n",
       "      <td>-1.853221</td>\n",
       "      <td>0.360298</td>\n",
       "    </tr>\n",
       "    <tr>\n",
       "      <th>2016-01-06</th>\n",
       "      <td>-1.209631</td>\n",
       "      <td>-0.585446</td>\n",
       "      <td>-0.749138</td>\n",
       "      <td>-0.269611</td>\n",
       "    </tr>\n",
       "    <tr>\n",
       "      <th>2016-01-02</th>\n",
       "      <td>0.928170</td>\n",
       "      <td>-0.194253</td>\n",
       "      <td>0.963450</td>\n",
       "      <td>0.155696</td>\n",
       "    </tr>\n",
       "    <tr>\n",
       "      <th>2016-01-03</th>\n",
       "      <td>-0.111018</td>\n",
       "      <td>0.065034</td>\n",
       "      <td>-0.661282</td>\n",
       "      <td>-0.647075</td>\n",
       "    </tr>\n",
       "    <tr>\n",
       "      <th>2016-01-05</th>\n",
       "      <td>0.848038</td>\n",
       "      <td>0.509462</td>\n",
       "      <td>0.925823</td>\n",
       "      <td>0.548083</td>\n",
       "    </tr>\n",
       "  </tbody>\n",
       "</table>\n",
       "</div>"
      ],
      "text/plain": [
       "                   A         B         C         D\n",
       "2016-01-01  0.487515 -0.912500  0.853355 -2.829069\n",
       "2016-01-04 -1.512980 -0.617479 -1.853221  0.360298\n",
       "2016-01-06 -1.209631 -0.585446 -0.749138 -0.269611\n",
       "2016-01-02  0.928170 -0.194253  0.963450  0.155696\n",
       "2016-01-03 -0.111018  0.065034 -0.661282 -0.647075\n",
       "2016-01-05  0.848038  0.509462  0.925823  0.548083"
      ]
     },
     "execution_count": 21,
     "metadata": {},
     "output_type": "execute_result"
    }
   ],
   "source": [
    "df.sort_values(by='B')"
   ]
  },
  {
   "cell_type": "markdown",
   "metadata": {},
   "source": [
    "***\n",
    "## 4. Selection\n",
    "### 4.1. Getting"
   ]
  },
  {
   "cell_type": "code",
   "execution_count": 22,
   "metadata": {
    "collapsed": false
   },
   "outputs": [
    {
     "data": {
      "text/plain": [
       "2016-01-01    0.487515\n",
       "2016-01-02    0.928170\n",
       "2016-01-03   -0.111018\n",
       "2016-01-04   -1.512980\n",
       "2016-01-05    0.848038\n",
       "2016-01-06   -1.209631\n",
       "Freq: D, Name: A, dtype: float64"
      ]
     },
     "execution_count": 22,
     "metadata": {},
     "output_type": "execute_result"
    }
   ],
   "source": [
    "df['A']"
   ]
  },
  {
   "cell_type": "code",
   "execution_count": 23,
   "metadata": {
    "collapsed": false
   },
   "outputs": [
    {
     "data": {
      "text/html": [
       "<div>\n",
       "<table border=\"1\" class=\"dataframe\">\n",
       "  <thead>\n",
       "    <tr style=\"text-align: right;\">\n",
       "      <th></th>\n",
       "      <th>A</th>\n",
       "      <th>B</th>\n",
       "      <th>C</th>\n",
       "      <th>D</th>\n",
       "    </tr>\n",
       "  </thead>\n",
       "  <tbody>\n",
       "    <tr>\n",
       "      <th>2016-01-01</th>\n",
       "      <td>0.487515</td>\n",
       "      <td>-0.912500</td>\n",
       "      <td>0.853355</td>\n",
       "      <td>-2.829069</td>\n",
       "    </tr>\n",
       "    <tr>\n",
       "      <th>2016-01-02</th>\n",
       "      <td>0.928170</td>\n",
       "      <td>-0.194253</td>\n",
       "      <td>0.963450</td>\n",
       "      <td>0.155696</td>\n",
       "    </tr>\n",
       "    <tr>\n",
       "      <th>2016-01-03</th>\n",
       "      <td>-0.111018</td>\n",
       "      <td>0.065034</td>\n",
       "      <td>-0.661282</td>\n",
       "      <td>-0.647075</td>\n",
       "    </tr>\n",
       "  </tbody>\n",
       "</table>\n",
       "</div>"
      ],
      "text/plain": [
       "                   A         B         C         D\n",
       "2016-01-01  0.487515 -0.912500  0.853355 -2.829069\n",
       "2016-01-02  0.928170 -0.194253  0.963450  0.155696\n",
       "2016-01-03 -0.111018  0.065034 -0.661282 -0.647075"
      ]
     },
     "execution_count": 23,
     "metadata": {},
     "output_type": "execute_result"
    }
   ],
   "source": [
    "df[0:3]"
   ]
  },
  {
   "cell_type": "code",
   "execution_count": 24,
   "metadata": {
    "collapsed": false
   },
   "outputs": [
    {
     "data": {
      "text/html": [
       "<div>\n",
       "<table border=\"1\" class=\"dataframe\">\n",
       "  <thead>\n",
       "    <tr style=\"text-align: right;\">\n",
       "      <th></th>\n",
       "      <th>A</th>\n",
       "      <th>B</th>\n",
       "      <th>C</th>\n",
       "      <th>D</th>\n",
       "    </tr>\n",
       "  </thead>\n",
       "  <tbody>\n",
       "    <tr>\n",
       "      <th>2016-01-02</th>\n",
       "      <td>0.928170</td>\n",
       "      <td>-0.194253</td>\n",
       "      <td>0.963450</td>\n",
       "      <td>0.155696</td>\n",
       "    </tr>\n",
       "    <tr>\n",
       "      <th>2016-01-03</th>\n",
       "      <td>-0.111018</td>\n",
       "      <td>0.065034</td>\n",
       "      <td>-0.661282</td>\n",
       "      <td>-0.647075</td>\n",
       "    </tr>\n",
       "    <tr>\n",
       "      <th>2016-01-04</th>\n",
       "      <td>-1.512980</td>\n",
       "      <td>-0.617479</td>\n",
       "      <td>-1.853221</td>\n",
       "      <td>0.360298</td>\n",
       "    </tr>\n",
       "  </tbody>\n",
       "</table>\n",
       "</div>"
      ],
      "text/plain": [
       "                   A         B         C         D\n",
       "2016-01-02  0.928170 -0.194253  0.963450  0.155696\n",
       "2016-01-03 -0.111018  0.065034 -0.661282 -0.647075\n",
       "2016-01-04 -1.512980 -0.617479 -1.853221  0.360298"
      ]
     },
     "execution_count": 24,
     "metadata": {},
     "output_type": "execute_result"
    }
   ],
   "source": [
    "df['20160102':'20160104']"
   ]
  },
  {
   "cell_type": "markdown",
   "metadata": {},
   "source": [
    "### 4.2. Selection by Label"
   ]
  },
  {
   "cell_type": "code",
   "execution_count": 25,
   "metadata": {
    "collapsed": false
   },
   "outputs": [
    {
     "data": {
      "text/plain": [
       "A    0.487515\n",
       "B   -0.912500\n",
       "C    0.853355\n",
       "D   -2.829069\n",
       "Name: 2016-01-01 00:00:00, dtype: float64"
      ]
     },
     "execution_count": 25,
     "metadata": {},
     "output_type": "execute_result"
    }
   ],
   "source": [
    "df.loc[dates[0]]"
   ]
  },
  {
   "cell_type": "code",
   "execution_count": 26,
   "metadata": {
    "collapsed": false
   },
   "outputs": [
    {
     "data": {
      "text/html": [
       "<div>\n",
       "<table border=\"1\" class=\"dataframe\">\n",
       "  <thead>\n",
       "    <tr style=\"text-align: right;\">\n",
       "      <th></th>\n",
       "      <th>A</th>\n",
       "      <th>B</th>\n",
       "    </tr>\n",
       "  </thead>\n",
       "  <tbody>\n",
       "    <tr>\n",
       "      <th>2016-01-01</th>\n",
       "      <td>0.487515</td>\n",
       "      <td>-0.912500</td>\n",
       "    </tr>\n",
       "    <tr>\n",
       "      <th>2016-01-02</th>\n",
       "      <td>0.928170</td>\n",
       "      <td>-0.194253</td>\n",
       "    </tr>\n",
       "    <tr>\n",
       "      <th>2016-01-03</th>\n",
       "      <td>-0.111018</td>\n",
       "      <td>0.065034</td>\n",
       "    </tr>\n",
       "    <tr>\n",
       "      <th>2016-01-04</th>\n",
       "      <td>-1.512980</td>\n",
       "      <td>-0.617479</td>\n",
       "    </tr>\n",
       "    <tr>\n",
       "      <th>2016-01-05</th>\n",
       "      <td>0.848038</td>\n",
       "      <td>0.509462</td>\n",
       "    </tr>\n",
       "    <tr>\n",
       "      <th>2016-01-06</th>\n",
       "      <td>-1.209631</td>\n",
       "      <td>-0.585446</td>\n",
       "    </tr>\n",
       "  </tbody>\n",
       "</table>\n",
       "</div>"
      ],
      "text/plain": [
       "                   A         B\n",
       "2016-01-01  0.487515 -0.912500\n",
       "2016-01-02  0.928170 -0.194253\n",
       "2016-01-03 -0.111018  0.065034\n",
       "2016-01-04 -1.512980 -0.617479\n",
       "2016-01-05  0.848038  0.509462\n",
       "2016-01-06 -1.209631 -0.585446"
      ]
     },
     "execution_count": 26,
     "metadata": {},
     "output_type": "execute_result"
    }
   ],
   "source": [
    "df.loc[:,['A','B']]"
   ]
  },
  {
   "cell_type": "code",
   "execution_count": 27,
   "metadata": {
    "collapsed": false
   },
   "outputs": [
    {
     "data": {
      "text/html": [
       "<div>\n",
       "<table border=\"1\" class=\"dataframe\">\n",
       "  <thead>\n",
       "    <tr style=\"text-align: right;\">\n",
       "      <th></th>\n",
       "      <th>A</th>\n",
       "      <th>B</th>\n",
       "    </tr>\n",
       "  </thead>\n",
       "  <tbody>\n",
       "    <tr>\n",
       "      <th>2016-01-02</th>\n",
       "      <td>0.928170</td>\n",
       "      <td>-0.194253</td>\n",
       "    </tr>\n",
       "    <tr>\n",
       "      <th>2016-01-03</th>\n",
       "      <td>-0.111018</td>\n",
       "      <td>0.065034</td>\n",
       "    </tr>\n",
       "    <tr>\n",
       "      <th>2016-01-04</th>\n",
       "      <td>-1.512980</td>\n",
       "      <td>-0.617479</td>\n",
       "    </tr>\n",
       "  </tbody>\n",
       "</table>\n",
       "</div>"
      ],
      "text/plain": [
       "                   A         B\n",
       "2016-01-02  0.928170 -0.194253\n",
       "2016-01-03 -0.111018  0.065034\n",
       "2016-01-04 -1.512980 -0.617479"
      ]
     },
     "execution_count": 27,
     "metadata": {},
     "output_type": "execute_result"
    }
   ],
   "source": [
    "df.loc['20160102':'20160104', ['A','B']]"
   ]
  },
  {
   "cell_type": "code",
   "execution_count": 28,
   "metadata": {
    "collapsed": false
   },
   "outputs": [
    {
     "data": {
      "text/plain": [
       "A    0.928170\n",
       "B   -0.194253\n",
       "Name: 2016-01-02 00:00:00, dtype: float64"
      ]
     },
     "execution_count": 28,
     "metadata": {},
     "output_type": "execute_result"
    }
   ],
   "source": [
    "df.loc['20160102',['A','B']]"
   ]
  },
  {
   "cell_type": "code",
   "execution_count": 29,
   "metadata": {
    "collapsed": false
   },
   "outputs": [
    {
     "data": {
      "text/plain": [
       "0.48751454041174513"
      ]
     },
     "execution_count": 29,
     "metadata": {},
     "output_type": "execute_result"
    }
   ],
   "source": [
    "df.loc[dates[0],'A']"
   ]
  },
  {
   "cell_type": "code",
   "execution_count": 30,
   "metadata": {
    "collapsed": false
   },
   "outputs": [
    {
     "data": {
      "text/plain": [
       "0.48751454041174513"
      ]
     },
     "execution_count": 30,
     "metadata": {},
     "output_type": "execute_result"
    }
   ],
   "source": [
    "df.at[dates[0],'A']"
   ]
  },
  {
   "cell_type": "markdown",
   "metadata": {},
   "source": [
    "### 4.3. Selection by Position"
   ]
  },
  {
   "cell_type": "code",
   "execution_count": 31,
   "metadata": {
    "collapsed": false
   },
   "outputs": [
    {
     "data": {
      "text/plain": [
       "A   -1.512980\n",
       "B   -0.617479\n",
       "C   -1.853221\n",
       "D    0.360298\n",
       "Name: 2016-01-04 00:00:00, dtype: float64"
      ]
     },
     "execution_count": 31,
     "metadata": {},
     "output_type": "execute_result"
    }
   ],
   "source": [
    "df.iloc[3]"
   ]
  },
  {
   "cell_type": "code",
   "execution_count": 32,
   "metadata": {
    "collapsed": false
   },
   "outputs": [
    {
     "data": {
      "text/html": [
       "<div>\n",
       "<table border=\"1\" class=\"dataframe\">\n",
       "  <thead>\n",
       "    <tr style=\"text-align: right;\">\n",
       "      <th></th>\n",
       "      <th>A</th>\n",
       "      <th>B</th>\n",
       "    </tr>\n",
       "  </thead>\n",
       "  <tbody>\n",
       "    <tr>\n",
       "      <th>2016-01-04</th>\n",
       "      <td>-1.512980</td>\n",
       "      <td>-0.617479</td>\n",
       "    </tr>\n",
       "    <tr>\n",
       "      <th>2016-01-05</th>\n",
       "      <td>0.848038</td>\n",
       "      <td>0.509462</td>\n",
       "    </tr>\n",
       "  </tbody>\n",
       "</table>\n",
       "</div>"
      ],
      "text/plain": [
       "                   A         B\n",
       "2016-01-04 -1.512980 -0.617479\n",
       "2016-01-05  0.848038  0.509462"
      ]
     },
     "execution_count": 32,
     "metadata": {},
     "output_type": "execute_result"
    }
   ],
   "source": [
    "df.iloc[3:5,0:2]"
   ]
  },
  {
   "cell_type": "code",
   "execution_count": 33,
   "metadata": {
    "collapsed": false
   },
   "outputs": [
    {
     "data": {
      "text/html": [
       "<div>\n",
       "<table border=\"1\" class=\"dataframe\">\n",
       "  <thead>\n",
       "    <tr style=\"text-align: right;\">\n",
       "      <th></th>\n",
       "      <th>A</th>\n",
       "      <th>C</th>\n",
       "    </tr>\n",
       "  </thead>\n",
       "  <tbody>\n",
       "    <tr>\n",
       "      <th>2016-01-02</th>\n",
       "      <td>0.928170</td>\n",
       "      <td>0.963450</td>\n",
       "    </tr>\n",
       "    <tr>\n",
       "      <th>2016-01-03</th>\n",
       "      <td>-0.111018</td>\n",
       "      <td>-0.661282</td>\n",
       "    </tr>\n",
       "    <tr>\n",
       "      <th>2016-01-05</th>\n",
       "      <td>0.848038</td>\n",
       "      <td>0.925823</td>\n",
       "    </tr>\n",
       "  </tbody>\n",
       "</table>\n",
       "</div>"
      ],
      "text/plain": [
       "                   A         C\n",
       "2016-01-02  0.928170  0.963450\n",
       "2016-01-03 -0.111018 -0.661282\n",
       "2016-01-05  0.848038  0.925823"
      ]
     },
     "execution_count": 33,
     "metadata": {},
     "output_type": "execute_result"
    }
   ],
   "source": [
    "df.iloc[[1,2,4],[0,2]]\n"
   ]
  },
  {
   "cell_type": "code",
   "execution_count": 34,
   "metadata": {
    "collapsed": false
   },
   "outputs": [
    {
     "data": {
      "text/html": [
       "<div>\n",
       "<table border=\"1\" class=\"dataframe\">\n",
       "  <thead>\n",
       "    <tr style=\"text-align: right;\">\n",
       "      <th></th>\n",
       "      <th>A</th>\n",
       "      <th>B</th>\n",
       "      <th>C</th>\n",
       "      <th>D</th>\n",
       "    </tr>\n",
       "  </thead>\n",
       "  <tbody>\n",
       "    <tr>\n",
       "      <th>2016-01-02</th>\n",
       "      <td>0.928170</td>\n",
       "      <td>-0.194253</td>\n",
       "      <td>0.963450</td>\n",
       "      <td>0.155696</td>\n",
       "    </tr>\n",
       "    <tr>\n",
       "      <th>2016-01-03</th>\n",
       "      <td>-0.111018</td>\n",
       "      <td>0.065034</td>\n",
       "      <td>-0.661282</td>\n",
       "      <td>-0.647075</td>\n",
       "    </tr>\n",
       "  </tbody>\n",
       "</table>\n",
       "</div>"
      ],
      "text/plain": [
       "                   A         B         C         D\n",
       "2016-01-02  0.928170 -0.194253  0.963450  0.155696\n",
       "2016-01-03 -0.111018  0.065034 -0.661282 -0.647075"
      ]
     },
     "execution_count": 34,
     "metadata": {},
     "output_type": "execute_result"
    }
   ],
   "source": [
    "df.iloc[1:3,:]"
   ]
  },
  {
   "cell_type": "code",
   "execution_count": 35,
   "metadata": {
    "collapsed": false
   },
   "outputs": [
    {
     "data": {
      "text/html": [
       "<div>\n",
       "<table border=\"1\" class=\"dataframe\">\n",
       "  <thead>\n",
       "    <tr style=\"text-align: right;\">\n",
       "      <th></th>\n",
       "      <th>B</th>\n",
       "      <th>C</th>\n",
       "    </tr>\n",
       "  </thead>\n",
       "  <tbody>\n",
       "    <tr>\n",
       "      <th>2016-01-01</th>\n",
       "      <td>-0.912500</td>\n",
       "      <td>0.853355</td>\n",
       "    </tr>\n",
       "    <tr>\n",
       "      <th>2016-01-02</th>\n",
       "      <td>-0.194253</td>\n",
       "      <td>0.963450</td>\n",
       "    </tr>\n",
       "    <tr>\n",
       "      <th>2016-01-03</th>\n",
       "      <td>0.065034</td>\n",
       "      <td>-0.661282</td>\n",
       "    </tr>\n",
       "    <tr>\n",
       "      <th>2016-01-04</th>\n",
       "      <td>-0.617479</td>\n",
       "      <td>-1.853221</td>\n",
       "    </tr>\n",
       "    <tr>\n",
       "      <th>2016-01-05</th>\n",
       "      <td>0.509462</td>\n",
       "      <td>0.925823</td>\n",
       "    </tr>\n",
       "    <tr>\n",
       "      <th>2016-01-06</th>\n",
       "      <td>-0.585446</td>\n",
       "      <td>-0.749138</td>\n",
       "    </tr>\n",
       "  </tbody>\n",
       "</table>\n",
       "</div>"
      ],
      "text/plain": [
       "                   B         C\n",
       "2016-01-01 -0.912500  0.853355\n",
       "2016-01-02 -0.194253  0.963450\n",
       "2016-01-03  0.065034 -0.661282\n",
       "2016-01-04 -0.617479 -1.853221\n",
       "2016-01-05  0.509462  0.925823\n",
       "2016-01-06 -0.585446 -0.749138"
      ]
     },
     "execution_count": 35,
     "metadata": {},
     "output_type": "execute_result"
    }
   ],
   "source": [
    "df.iloc[:,1:3]"
   ]
  },
  {
   "cell_type": "code",
   "execution_count": 36,
   "metadata": {
    "collapsed": false
   },
   "outputs": [
    {
     "data": {
      "text/plain": [
       "-0.19425257359401846"
      ]
     },
     "execution_count": 36,
     "metadata": {},
     "output_type": "execute_result"
    }
   ],
   "source": [
    "df.iloc[1,1]"
   ]
  },
  {
   "cell_type": "code",
   "execution_count": 37,
   "metadata": {
    "collapsed": false
   },
   "outputs": [
    {
     "data": {
      "text/plain": [
       "-0.19425257359401846"
      ]
     },
     "execution_count": 37,
     "metadata": {},
     "output_type": "execute_result"
    }
   ],
   "source": [
    "df.iat[1,1]"
   ]
  },
  {
   "cell_type": "markdown",
   "metadata": {},
   "source": [
    "### 4.4. Boolean Indexing"
   ]
  },
  {
   "cell_type": "code",
   "execution_count": 38,
   "metadata": {
    "collapsed": false
   },
   "outputs": [
    {
     "data": {
      "text/html": [
       "<div>\n",
       "<table border=\"1\" class=\"dataframe\">\n",
       "  <thead>\n",
       "    <tr style=\"text-align: right;\">\n",
       "      <th></th>\n",
       "      <th>A</th>\n",
       "      <th>B</th>\n",
       "      <th>C</th>\n",
       "      <th>D</th>\n",
       "    </tr>\n",
       "  </thead>\n",
       "  <tbody>\n",
       "    <tr>\n",
       "      <th>2016-01-01</th>\n",
       "      <td>0.487515</td>\n",
       "      <td>-0.912500</td>\n",
       "      <td>0.853355</td>\n",
       "      <td>-2.829069</td>\n",
       "    </tr>\n",
       "    <tr>\n",
       "      <th>2016-01-02</th>\n",
       "      <td>0.928170</td>\n",
       "      <td>-0.194253</td>\n",
       "      <td>0.963450</td>\n",
       "      <td>0.155696</td>\n",
       "    </tr>\n",
       "    <tr>\n",
       "      <th>2016-01-05</th>\n",
       "      <td>0.848038</td>\n",
       "      <td>0.509462</td>\n",
       "      <td>0.925823</td>\n",
       "      <td>0.548083</td>\n",
       "    </tr>\n",
       "  </tbody>\n",
       "</table>\n",
       "</div>"
      ],
      "text/plain": [
       "                   A         B         C         D\n",
       "2016-01-01  0.487515 -0.912500  0.853355 -2.829069\n",
       "2016-01-02  0.928170 -0.194253  0.963450  0.155696\n",
       "2016-01-05  0.848038  0.509462  0.925823  0.548083"
      ]
     },
     "execution_count": 38,
     "metadata": {},
     "output_type": "execute_result"
    }
   ],
   "source": [
    "df[df.A > 0]"
   ]
  },
  {
   "cell_type": "code",
   "execution_count": 39,
   "metadata": {
    "collapsed": false
   },
   "outputs": [
    {
     "data": {
      "text/html": [
       "<div>\n",
       "<table border=\"1\" class=\"dataframe\">\n",
       "  <thead>\n",
       "    <tr style=\"text-align: right;\">\n",
       "      <th></th>\n",
       "      <th>A</th>\n",
       "      <th>B</th>\n",
       "      <th>C</th>\n",
       "      <th>D</th>\n",
       "    </tr>\n",
       "  </thead>\n",
       "  <tbody>\n",
       "    <tr>\n",
       "      <th>2016-01-01</th>\n",
       "      <td>0.487515</td>\n",
       "      <td>NaN</td>\n",
       "      <td>0.853355</td>\n",
       "      <td>NaN</td>\n",
       "    </tr>\n",
       "    <tr>\n",
       "      <th>2016-01-02</th>\n",
       "      <td>0.928170</td>\n",
       "      <td>NaN</td>\n",
       "      <td>0.963450</td>\n",
       "      <td>0.155696</td>\n",
       "    </tr>\n",
       "    <tr>\n",
       "      <th>2016-01-03</th>\n",
       "      <td>NaN</td>\n",
       "      <td>0.065034</td>\n",
       "      <td>NaN</td>\n",
       "      <td>NaN</td>\n",
       "    </tr>\n",
       "    <tr>\n",
       "      <th>2016-01-04</th>\n",
       "      <td>NaN</td>\n",
       "      <td>NaN</td>\n",
       "      <td>NaN</td>\n",
       "      <td>0.360298</td>\n",
       "    </tr>\n",
       "    <tr>\n",
       "      <th>2016-01-05</th>\n",
       "      <td>0.848038</td>\n",
       "      <td>0.509462</td>\n",
       "      <td>0.925823</td>\n",
       "      <td>0.548083</td>\n",
       "    </tr>\n",
       "    <tr>\n",
       "      <th>2016-01-06</th>\n",
       "      <td>NaN</td>\n",
       "      <td>NaN</td>\n",
       "      <td>NaN</td>\n",
       "      <td>NaN</td>\n",
       "    </tr>\n",
       "  </tbody>\n",
       "</table>\n",
       "</div>"
      ],
      "text/plain": [
       "                   A         B         C         D\n",
       "2016-01-01  0.487515       NaN  0.853355       NaN\n",
       "2016-01-02  0.928170       NaN  0.963450  0.155696\n",
       "2016-01-03       NaN  0.065034       NaN       NaN\n",
       "2016-01-04       NaN       NaN       NaN  0.360298\n",
       "2016-01-05  0.848038  0.509462  0.925823  0.548083\n",
       "2016-01-06       NaN       NaN       NaN       NaN"
      ]
     },
     "execution_count": 39,
     "metadata": {},
     "output_type": "execute_result"
    }
   ],
   "source": [
    "df[df > 0]"
   ]
  },
  {
   "cell_type": "code",
   "execution_count": 40,
   "metadata": {
    "collapsed": true
   },
   "outputs": [],
   "source": [
    "df2 = df.copy()"
   ]
  },
  {
   "cell_type": "code",
   "execution_count": 41,
   "metadata": {
    "collapsed": true
   },
   "outputs": [],
   "source": [
    "df2['E'] = ['one', 'one','two','three','four','three']"
   ]
  },
  {
   "cell_type": "code",
   "execution_count": 42,
   "metadata": {
    "collapsed": false
   },
   "outputs": [
    {
     "data": {
      "text/html": [
       "<div>\n",
       "<table border=\"1\" class=\"dataframe\">\n",
       "  <thead>\n",
       "    <tr style=\"text-align: right;\">\n",
       "      <th></th>\n",
       "      <th>A</th>\n",
       "      <th>B</th>\n",
       "      <th>C</th>\n",
       "      <th>D</th>\n",
       "      <th>E</th>\n",
       "    </tr>\n",
       "  </thead>\n",
       "  <tbody>\n",
       "    <tr>\n",
       "      <th>2016-01-01</th>\n",
       "      <td>0.487515</td>\n",
       "      <td>-0.912500</td>\n",
       "      <td>0.853355</td>\n",
       "      <td>-2.829069</td>\n",
       "      <td>one</td>\n",
       "    </tr>\n",
       "    <tr>\n",
       "      <th>2016-01-02</th>\n",
       "      <td>0.928170</td>\n",
       "      <td>-0.194253</td>\n",
       "      <td>0.963450</td>\n",
       "      <td>0.155696</td>\n",
       "      <td>one</td>\n",
       "    </tr>\n",
       "    <tr>\n",
       "      <th>2016-01-03</th>\n",
       "      <td>-0.111018</td>\n",
       "      <td>0.065034</td>\n",
       "      <td>-0.661282</td>\n",
       "      <td>-0.647075</td>\n",
       "      <td>two</td>\n",
       "    </tr>\n",
       "    <tr>\n",
       "      <th>2016-01-04</th>\n",
       "      <td>-1.512980</td>\n",
       "      <td>-0.617479</td>\n",
       "      <td>-1.853221</td>\n",
       "      <td>0.360298</td>\n",
       "      <td>three</td>\n",
       "    </tr>\n",
       "    <tr>\n",
       "      <th>2016-01-05</th>\n",
       "      <td>0.848038</td>\n",
       "      <td>0.509462</td>\n",
       "      <td>0.925823</td>\n",
       "      <td>0.548083</td>\n",
       "      <td>four</td>\n",
       "    </tr>\n",
       "    <tr>\n",
       "      <th>2016-01-06</th>\n",
       "      <td>-1.209631</td>\n",
       "      <td>-0.585446</td>\n",
       "      <td>-0.749138</td>\n",
       "      <td>-0.269611</td>\n",
       "      <td>three</td>\n",
       "    </tr>\n",
       "  </tbody>\n",
       "</table>\n",
       "</div>"
      ],
      "text/plain": [
       "                   A         B         C         D      E\n",
       "2016-01-01  0.487515 -0.912500  0.853355 -2.829069    one\n",
       "2016-01-02  0.928170 -0.194253  0.963450  0.155696    one\n",
       "2016-01-03 -0.111018  0.065034 -0.661282 -0.647075    two\n",
       "2016-01-04 -1.512980 -0.617479 -1.853221  0.360298  three\n",
       "2016-01-05  0.848038  0.509462  0.925823  0.548083   four\n",
       "2016-01-06 -1.209631 -0.585446 -0.749138 -0.269611  three"
      ]
     },
     "execution_count": 42,
     "metadata": {},
     "output_type": "execute_result"
    }
   ],
   "source": [
    "df2"
   ]
  },
  {
   "cell_type": "code",
   "execution_count": 43,
   "metadata": {
    "collapsed": false
   },
   "outputs": [
    {
     "data": {
      "text/html": [
       "<div>\n",
       "<table border=\"1\" class=\"dataframe\">\n",
       "  <thead>\n",
       "    <tr style=\"text-align: right;\">\n",
       "      <th></th>\n",
       "      <th>A</th>\n",
       "      <th>B</th>\n",
       "      <th>C</th>\n",
       "      <th>D</th>\n",
       "      <th>E</th>\n",
       "    </tr>\n",
       "  </thead>\n",
       "  <tbody>\n",
       "    <tr>\n",
       "      <th>2016-01-03</th>\n",
       "      <td>-0.111018</td>\n",
       "      <td>0.065034</td>\n",
       "      <td>-0.661282</td>\n",
       "      <td>-0.647075</td>\n",
       "      <td>two</td>\n",
       "    </tr>\n",
       "    <tr>\n",
       "      <th>2016-01-05</th>\n",
       "      <td>0.848038</td>\n",
       "      <td>0.509462</td>\n",
       "      <td>0.925823</td>\n",
       "      <td>0.548083</td>\n",
       "      <td>four</td>\n",
       "    </tr>\n",
       "  </tbody>\n",
       "</table>\n",
       "</div>"
      ],
      "text/plain": [
       "                   A         B         C         D     E\n",
       "2016-01-03 -0.111018  0.065034 -0.661282 -0.647075   two\n",
       "2016-01-05  0.848038  0.509462  0.925823  0.548083  four"
      ]
     },
     "execution_count": 43,
     "metadata": {},
     "output_type": "execute_result"
    }
   ],
   "source": [
    "df2[df2['E'].isin(['two','four'])]"
   ]
  },
  {
   "cell_type": "markdown",
   "metadata": {},
   "source": [
    "### 4.4. Setting"
   ]
  },
  {
   "cell_type": "code",
   "execution_count": 44,
   "metadata": {
    "collapsed": true
   },
   "outputs": [],
   "source": [
    "s1 = pd.Series([1,2,3,4,5,6], index = pd.date_range('20160102', periods=6))"
   ]
  },
  {
   "cell_type": "code",
   "execution_count": 45,
   "metadata": {
    "collapsed": false
   },
   "outputs": [
    {
     "data": {
      "text/plain": [
       "2016-01-02    1\n",
       "2016-01-03    2\n",
       "2016-01-04    3\n",
       "2016-01-05    4\n",
       "2016-01-06    5\n",
       "2016-01-07    6\n",
       "Freq: D, dtype: int64"
      ]
     },
     "execution_count": 45,
     "metadata": {},
     "output_type": "execute_result"
    }
   ],
   "source": [
    "s1"
   ]
  },
  {
   "cell_type": "code",
   "execution_count": 46,
   "metadata": {
    "collapsed": true
   },
   "outputs": [],
   "source": [
    "df['F'] = s1"
   ]
  },
  {
   "cell_type": "code",
   "execution_count": 47,
   "metadata": {
    "collapsed": true
   },
   "outputs": [],
   "source": [
    "df.at[dates[0],'A'] = 0"
   ]
  },
  {
   "cell_type": "code",
   "execution_count": 48,
   "metadata": {
    "collapsed": true
   },
   "outputs": [],
   "source": [
    "df.iat[0,1] = 0"
   ]
  },
  {
   "cell_type": "code",
   "execution_count": 49,
   "metadata": {
    "collapsed": true
   },
   "outputs": [],
   "source": [
    "df.loc[:,'D'] = np.array([5] * len(df))"
   ]
  },
  {
   "cell_type": "code",
   "execution_count": 50,
   "metadata": {
    "collapsed": false
   },
   "outputs": [
    {
     "data": {
      "text/html": [
       "<div>\n",
       "<table border=\"1\" class=\"dataframe\">\n",
       "  <thead>\n",
       "    <tr style=\"text-align: right;\">\n",
       "      <th></th>\n",
       "      <th>A</th>\n",
       "      <th>B</th>\n",
       "      <th>C</th>\n",
       "      <th>D</th>\n",
       "      <th>F</th>\n",
       "    </tr>\n",
       "  </thead>\n",
       "  <tbody>\n",
       "    <tr>\n",
       "      <th>2016-01-01</th>\n",
       "      <td>0.000000</td>\n",
       "      <td>0.000000</td>\n",
       "      <td>0.853355</td>\n",
       "      <td>5</td>\n",
       "      <td>NaN</td>\n",
       "    </tr>\n",
       "    <tr>\n",
       "      <th>2016-01-02</th>\n",
       "      <td>0.928170</td>\n",
       "      <td>-0.194253</td>\n",
       "      <td>0.963450</td>\n",
       "      <td>5</td>\n",
       "      <td>1.0</td>\n",
       "    </tr>\n",
       "    <tr>\n",
       "      <th>2016-01-03</th>\n",
       "      <td>-0.111018</td>\n",
       "      <td>0.065034</td>\n",
       "      <td>-0.661282</td>\n",
       "      <td>5</td>\n",
       "      <td>2.0</td>\n",
       "    </tr>\n",
       "    <tr>\n",
       "      <th>2016-01-04</th>\n",
       "      <td>-1.512980</td>\n",
       "      <td>-0.617479</td>\n",
       "      <td>-1.853221</td>\n",
       "      <td>5</td>\n",
       "      <td>3.0</td>\n",
       "    </tr>\n",
       "    <tr>\n",
       "      <th>2016-01-05</th>\n",
       "      <td>0.848038</td>\n",
       "      <td>0.509462</td>\n",
       "      <td>0.925823</td>\n",
       "      <td>5</td>\n",
       "      <td>4.0</td>\n",
       "    </tr>\n",
       "    <tr>\n",
       "      <th>2016-01-06</th>\n",
       "      <td>-1.209631</td>\n",
       "      <td>-0.585446</td>\n",
       "      <td>-0.749138</td>\n",
       "      <td>5</td>\n",
       "      <td>5.0</td>\n",
       "    </tr>\n",
       "  </tbody>\n",
       "</table>\n",
       "</div>"
      ],
      "text/plain": [
       "                   A         B         C  D    F\n",
       "2016-01-01  0.000000  0.000000  0.853355  5  NaN\n",
       "2016-01-02  0.928170 -0.194253  0.963450  5  1.0\n",
       "2016-01-03 -0.111018  0.065034 -0.661282  5  2.0\n",
       "2016-01-04 -1.512980 -0.617479 -1.853221  5  3.0\n",
       "2016-01-05  0.848038  0.509462  0.925823  5  4.0\n",
       "2016-01-06 -1.209631 -0.585446 -0.749138  5  5.0"
      ]
     },
     "execution_count": 50,
     "metadata": {},
     "output_type": "execute_result"
    }
   ],
   "source": [
    "df"
   ]
  },
  {
   "cell_type": "code",
   "execution_count": 51,
   "metadata": {
    "collapsed": false,
    "scrolled": true
   },
   "outputs": [
    {
     "data": {
      "text/html": [
       "<div>\n",
       "<table border=\"1\" class=\"dataframe\">\n",
       "  <thead>\n",
       "    <tr style=\"text-align: right;\">\n",
       "      <th></th>\n",
       "      <th>A</th>\n",
       "      <th>B</th>\n",
       "      <th>C</th>\n",
       "      <th>D</th>\n",
       "      <th>F</th>\n",
       "    </tr>\n",
       "  </thead>\n",
       "  <tbody>\n",
       "    <tr>\n",
       "      <th>2016-01-01</th>\n",
       "      <td>0.000000</td>\n",
       "      <td>0.000000</td>\n",
       "      <td>-0.853355</td>\n",
       "      <td>-5</td>\n",
       "      <td>NaN</td>\n",
       "    </tr>\n",
       "    <tr>\n",
       "      <th>2016-01-02</th>\n",
       "      <td>-0.928170</td>\n",
       "      <td>-0.194253</td>\n",
       "      <td>-0.963450</td>\n",
       "      <td>-5</td>\n",
       "      <td>-1.0</td>\n",
       "    </tr>\n",
       "    <tr>\n",
       "      <th>2016-01-03</th>\n",
       "      <td>-0.111018</td>\n",
       "      <td>-0.065034</td>\n",
       "      <td>-0.661282</td>\n",
       "      <td>-5</td>\n",
       "      <td>-2.0</td>\n",
       "    </tr>\n",
       "    <tr>\n",
       "      <th>2016-01-04</th>\n",
       "      <td>-1.512980</td>\n",
       "      <td>-0.617479</td>\n",
       "      <td>-1.853221</td>\n",
       "      <td>-5</td>\n",
       "      <td>-3.0</td>\n",
       "    </tr>\n",
       "    <tr>\n",
       "      <th>2016-01-05</th>\n",
       "      <td>-0.848038</td>\n",
       "      <td>-0.509462</td>\n",
       "      <td>-0.925823</td>\n",
       "      <td>-5</td>\n",
       "      <td>-4.0</td>\n",
       "    </tr>\n",
       "    <tr>\n",
       "      <th>2016-01-06</th>\n",
       "      <td>-1.209631</td>\n",
       "      <td>-0.585446</td>\n",
       "      <td>-0.749138</td>\n",
       "      <td>-5</td>\n",
       "      <td>-5.0</td>\n",
       "    </tr>\n",
       "  </tbody>\n",
       "</table>\n",
       "</div>"
      ],
      "text/plain": [
       "                   A         B         C  D    F\n",
       "2016-01-01  0.000000  0.000000 -0.853355 -5  NaN\n",
       "2016-01-02 -0.928170 -0.194253 -0.963450 -5 -1.0\n",
       "2016-01-03 -0.111018 -0.065034 -0.661282 -5 -2.0\n",
       "2016-01-04 -1.512980 -0.617479 -1.853221 -5 -3.0\n",
       "2016-01-05 -0.848038 -0.509462 -0.925823 -5 -4.0\n",
       "2016-01-06 -1.209631 -0.585446 -0.749138 -5 -5.0"
      ]
     },
     "execution_count": 51,
     "metadata": {},
     "output_type": "execute_result"
    }
   ],
   "source": [
    "df2 = df.copy()\n",
    "df2[df2 > 0] = -df2\n",
    "df2"
   ]
  },
  {
   "cell_type": "markdown",
   "metadata": {},
   "source": [
    "***\n",
    "## 5. Missing Data"
   ]
  },
  {
   "cell_type": "code",
   "execution_count": 52,
   "metadata": {
    "collapsed": true
   },
   "outputs": [],
   "source": [
    "df1 = df.reindex(index=dates[0:4], columns=list(df.columns) + ['E'])"
   ]
  },
  {
   "cell_type": "code",
   "execution_count": 53,
   "metadata": {
    "collapsed": true
   },
   "outputs": [],
   "source": [
    "df1.loc[dates[0]:dates[1],'E'] = 1"
   ]
  },
  {
   "cell_type": "code",
   "execution_count": 54,
   "metadata": {
    "collapsed": false
   },
   "outputs": [
    {
     "data": {
      "text/html": [
       "<div>\n",
       "<table border=\"1\" class=\"dataframe\">\n",
       "  <thead>\n",
       "    <tr style=\"text-align: right;\">\n",
       "      <th></th>\n",
       "      <th>A</th>\n",
       "      <th>B</th>\n",
       "      <th>C</th>\n",
       "      <th>D</th>\n",
       "      <th>F</th>\n",
       "      <th>E</th>\n",
       "    </tr>\n",
       "  </thead>\n",
       "  <tbody>\n",
       "    <tr>\n",
       "      <th>2016-01-01</th>\n",
       "      <td>0.000000</td>\n",
       "      <td>0.000000</td>\n",
       "      <td>0.853355</td>\n",
       "      <td>5</td>\n",
       "      <td>NaN</td>\n",
       "      <td>1.0</td>\n",
       "    </tr>\n",
       "    <tr>\n",
       "      <th>2016-01-02</th>\n",
       "      <td>0.928170</td>\n",
       "      <td>-0.194253</td>\n",
       "      <td>0.963450</td>\n",
       "      <td>5</td>\n",
       "      <td>1.0</td>\n",
       "      <td>1.0</td>\n",
       "    </tr>\n",
       "    <tr>\n",
       "      <th>2016-01-03</th>\n",
       "      <td>-0.111018</td>\n",
       "      <td>0.065034</td>\n",
       "      <td>-0.661282</td>\n",
       "      <td>5</td>\n",
       "      <td>2.0</td>\n",
       "      <td>NaN</td>\n",
       "    </tr>\n",
       "    <tr>\n",
       "      <th>2016-01-04</th>\n",
       "      <td>-1.512980</td>\n",
       "      <td>-0.617479</td>\n",
       "      <td>-1.853221</td>\n",
       "      <td>5</td>\n",
       "      <td>3.0</td>\n",
       "      <td>NaN</td>\n",
       "    </tr>\n",
       "  </tbody>\n",
       "</table>\n",
       "</div>"
      ],
      "text/plain": [
       "                   A         B         C  D    F    E\n",
       "2016-01-01  0.000000  0.000000  0.853355  5  NaN  1.0\n",
       "2016-01-02  0.928170 -0.194253  0.963450  5  1.0  1.0\n",
       "2016-01-03 -0.111018  0.065034 -0.661282  5  2.0  NaN\n",
       "2016-01-04 -1.512980 -0.617479 -1.853221  5  3.0  NaN"
      ]
     },
     "execution_count": 54,
     "metadata": {},
     "output_type": "execute_result"
    }
   ],
   "source": [
    "df1"
   ]
  },
  {
   "cell_type": "code",
   "execution_count": 55,
   "metadata": {
    "collapsed": false
   },
   "outputs": [
    {
     "data": {
      "text/html": [
       "<div>\n",
       "<table border=\"1\" class=\"dataframe\">\n",
       "  <thead>\n",
       "    <tr style=\"text-align: right;\">\n",
       "      <th></th>\n",
       "      <th>A</th>\n",
       "      <th>B</th>\n",
       "      <th>C</th>\n",
       "      <th>D</th>\n",
       "      <th>F</th>\n",
       "      <th>E</th>\n",
       "    </tr>\n",
       "  </thead>\n",
       "  <tbody>\n",
       "    <tr>\n",
       "      <th>2016-01-02</th>\n",
       "      <td>0.92817</td>\n",
       "      <td>-0.194253</td>\n",
       "      <td>0.96345</td>\n",
       "      <td>5</td>\n",
       "      <td>1.0</td>\n",
       "      <td>1.0</td>\n",
       "    </tr>\n",
       "  </tbody>\n",
       "</table>\n",
       "</div>"
      ],
      "text/plain": [
       "                  A         B        C  D    F    E\n",
       "2016-01-02  0.92817 -0.194253  0.96345  5  1.0  1.0"
      ]
     },
     "execution_count": 55,
     "metadata": {},
     "output_type": "execute_result"
    }
   ],
   "source": [
    "df1.dropna(how='any')"
   ]
  },
  {
   "cell_type": "code",
   "execution_count": 56,
   "metadata": {
    "collapsed": false
   },
   "outputs": [
    {
     "data": {
      "text/html": [
       "<div>\n",
       "<table border=\"1\" class=\"dataframe\">\n",
       "  <thead>\n",
       "    <tr style=\"text-align: right;\">\n",
       "      <th></th>\n",
       "      <th>A</th>\n",
       "      <th>B</th>\n",
       "      <th>C</th>\n",
       "      <th>D</th>\n",
       "      <th>F</th>\n",
       "      <th>E</th>\n",
       "    </tr>\n",
       "  </thead>\n",
       "  <tbody>\n",
       "    <tr>\n",
       "      <th>2016-01-01</th>\n",
       "      <td>0.000000</td>\n",
       "      <td>0.000000</td>\n",
       "      <td>0.853355</td>\n",
       "      <td>5</td>\n",
       "      <td>5.0</td>\n",
       "      <td>1.0</td>\n",
       "    </tr>\n",
       "    <tr>\n",
       "      <th>2016-01-02</th>\n",
       "      <td>0.928170</td>\n",
       "      <td>-0.194253</td>\n",
       "      <td>0.963450</td>\n",
       "      <td>5</td>\n",
       "      <td>1.0</td>\n",
       "      <td>1.0</td>\n",
       "    </tr>\n",
       "    <tr>\n",
       "      <th>2016-01-03</th>\n",
       "      <td>-0.111018</td>\n",
       "      <td>0.065034</td>\n",
       "      <td>-0.661282</td>\n",
       "      <td>5</td>\n",
       "      <td>2.0</td>\n",
       "      <td>5.0</td>\n",
       "    </tr>\n",
       "    <tr>\n",
       "      <th>2016-01-04</th>\n",
       "      <td>-1.512980</td>\n",
       "      <td>-0.617479</td>\n",
       "      <td>-1.853221</td>\n",
       "      <td>5</td>\n",
       "      <td>3.0</td>\n",
       "      <td>5.0</td>\n",
       "    </tr>\n",
       "  </tbody>\n",
       "</table>\n",
       "</div>"
      ],
      "text/plain": [
       "                   A         B         C  D    F    E\n",
       "2016-01-01  0.000000  0.000000  0.853355  5  5.0  1.0\n",
       "2016-01-02  0.928170 -0.194253  0.963450  5  1.0  1.0\n",
       "2016-01-03 -0.111018  0.065034 -0.661282  5  2.0  5.0\n",
       "2016-01-04 -1.512980 -0.617479 -1.853221  5  3.0  5.0"
      ]
     },
     "execution_count": 56,
     "metadata": {},
     "output_type": "execute_result"
    }
   ],
   "source": [
    "df1.fillna(value=5)"
   ]
  },
  {
   "cell_type": "code",
   "execution_count": 57,
   "metadata": {
    "collapsed": false
   },
   "outputs": [
    {
     "data": {
      "text/html": [
       "<div>\n",
       "<table border=\"1\" class=\"dataframe\">\n",
       "  <thead>\n",
       "    <tr style=\"text-align: right;\">\n",
       "      <th></th>\n",
       "      <th>A</th>\n",
       "      <th>B</th>\n",
       "      <th>C</th>\n",
       "      <th>D</th>\n",
       "      <th>F</th>\n",
       "      <th>E</th>\n",
       "    </tr>\n",
       "  </thead>\n",
       "  <tbody>\n",
       "    <tr>\n",
       "      <th>2016-01-01</th>\n",
       "      <td>False</td>\n",
       "      <td>False</td>\n",
       "      <td>False</td>\n",
       "      <td>False</td>\n",
       "      <td>True</td>\n",
       "      <td>False</td>\n",
       "    </tr>\n",
       "    <tr>\n",
       "      <th>2016-01-02</th>\n",
       "      <td>False</td>\n",
       "      <td>False</td>\n",
       "      <td>False</td>\n",
       "      <td>False</td>\n",
       "      <td>False</td>\n",
       "      <td>False</td>\n",
       "    </tr>\n",
       "    <tr>\n",
       "      <th>2016-01-03</th>\n",
       "      <td>False</td>\n",
       "      <td>False</td>\n",
       "      <td>False</td>\n",
       "      <td>False</td>\n",
       "      <td>False</td>\n",
       "      <td>True</td>\n",
       "    </tr>\n",
       "    <tr>\n",
       "      <th>2016-01-04</th>\n",
       "      <td>False</td>\n",
       "      <td>False</td>\n",
       "      <td>False</td>\n",
       "      <td>False</td>\n",
       "      <td>False</td>\n",
       "      <td>True</td>\n",
       "    </tr>\n",
       "  </tbody>\n",
       "</table>\n",
       "</div>"
      ],
      "text/plain": [
       "                A      B      C      D      F      E\n",
       "2016-01-01  False  False  False  False   True  False\n",
       "2016-01-02  False  False  False  False  False  False\n",
       "2016-01-03  False  False  False  False  False   True\n",
       "2016-01-04  False  False  False  False  False   True"
      ]
     },
     "execution_count": 57,
     "metadata": {},
     "output_type": "execute_result"
    }
   ],
   "source": [
    "pd.isnull(df1)"
   ]
  },
  {
   "cell_type": "markdown",
   "metadata": {},
   "source": [
    "***\n",
    "## 6. Operations\n",
    "### 6.1. Stats"
   ]
  },
  {
   "cell_type": "code",
   "execution_count": 58,
   "metadata": {
    "collapsed": false
   },
   "outputs": [
    {
     "data": {
      "text/plain": [
       "A   -0.176237\n",
       "B   -0.137114\n",
       "C   -0.086835\n",
       "D    5.000000\n",
       "F    3.000000\n",
       "dtype: float64"
      ]
     },
     "execution_count": 58,
     "metadata": {},
     "output_type": "execute_result"
    }
   ],
   "source": [
    "df.mean()"
   ]
  },
  {
   "cell_type": "code",
   "execution_count": 59,
   "metadata": {
    "collapsed": false
   },
   "outputs": [
    {
     "data": {
      "text/plain": [
       "2016-01-01    1.463339\n",
       "2016-01-02    1.539473\n",
       "2016-01-03    1.258547\n",
       "2016-01-04    0.803264\n",
       "2016-01-05    2.256665\n",
       "2016-01-06    1.491157\n",
       "Freq: D, dtype: float64"
      ]
     },
     "execution_count": 59,
     "metadata": {},
     "output_type": "execute_result"
    }
   ],
   "source": [
    "df.mean(1)"
   ]
  },
  {
   "cell_type": "code",
   "execution_count": 60,
   "metadata": {
    "collapsed": true
   },
   "outputs": [],
   "source": [
    "s = pd.Series([1,3,5,np.nan,6,8], index=dates).shift(2)"
   ]
  },
  {
   "cell_type": "code",
   "execution_count": 61,
   "metadata": {
    "collapsed": false
   },
   "outputs": [
    {
     "data": {
      "text/plain": [
       "2016-01-01    NaN\n",
       "2016-01-02    NaN\n",
       "2016-01-03    1.0\n",
       "2016-01-04    3.0\n",
       "2016-01-05    5.0\n",
       "2016-01-06    NaN\n",
       "Freq: D, dtype: float64"
      ]
     },
     "execution_count": 61,
     "metadata": {},
     "output_type": "execute_result"
    }
   ],
   "source": [
    "s"
   ]
  },
  {
   "cell_type": "code",
   "execution_count": 62,
   "metadata": {
    "collapsed": false
   },
   "outputs": [
    {
     "data": {
      "text/html": [
       "<div>\n",
       "<table border=\"1\" class=\"dataframe\">\n",
       "  <thead>\n",
       "    <tr style=\"text-align: right;\">\n",
       "      <th></th>\n",
       "      <th>A</th>\n",
       "      <th>B</th>\n",
       "      <th>C</th>\n",
       "      <th>D</th>\n",
       "      <th>F</th>\n",
       "    </tr>\n",
       "  </thead>\n",
       "  <tbody>\n",
       "    <tr>\n",
       "      <th>2016-01-01</th>\n",
       "      <td>NaN</td>\n",
       "      <td>NaN</td>\n",
       "      <td>NaN</td>\n",
       "      <td>NaN</td>\n",
       "      <td>NaN</td>\n",
       "    </tr>\n",
       "    <tr>\n",
       "      <th>2016-01-02</th>\n",
       "      <td>NaN</td>\n",
       "      <td>NaN</td>\n",
       "      <td>NaN</td>\n",
       "      <td>NaN</td>\n",
       "      <td>NaN</td>\n",
       "    </tr>\n",
       "    <tr>\n",
       "      <th>2016-01-03</th>\n",
       "      <td>-1.111018</td>\n",
       "      <td>-0.934966</td>\n",
       "      <td>-1.661282</td>\n",
       "      <td>4.0</td>\n",
       "      <td>1.0</td>\n",
       "    </tr>\n",
       "    <tr>\n",
       "      <th>2016-01-04</th>\n",
       "      <td>-4.512980</td>\n",
       "      <td>-3.617479</td>\n",
       "      <td>-4.853221</td>\n",
       "      <td>2.0</td>\n",
       "      <td>0.0</td>\n",
       "    </tr>\n",
       "    <tr>\n",
       "      <th>2016-01-05</th>\n",
       "      <td>-4.151962</td>\n",
       "      <td>-4.490538</td>\n",
       "      <td>-4.074177</td>\n",
       "      <td>0.0</td>\n",
       "      <td>-1.0</td>\n",
       "    </tr>\n",
       "    <tr>\n",
       "      <th>2016-01-06</th>\n",
       "      <td>NaN</td>\n",
       "      <td>NaN</td>\n",
       "      <td>NaN</td>\n",
       "      <td>NaN</td>\n",
       "      <td>NaN</td>\n",
       "    </tr>\n",
       "  </tbody>\n",
       "</table>\n",
       "</div>"
      ],
      "text/plain": [
       "                   A         B         C    D    F\n",
       "2016-01-01       NaN       NaN       NaN  NaN  NaN\n",
       "2016-01-02       NaN       NaN       NaN  NaN  NaN\n",
       "2016-01-03 -1.111018 -0.934966 -1.661282  4.0  1.0\n",
       "2016-01-04 -4.512980 -3.617479 -4.853221  2.0  0.0\n",
       "2016-01-05 -4.151962 -4.490538 -4.074177  0.0 -1.0\n",
       "2016-01-06       NaN       NaN       NaN  NaN  NaN"
      ]
     },
     "execution_count": 62,
     "metadata": {},
     "output_type": "execute_result"
    }
   ],
   "source": [
    "df.sub(s, axis='index')"
   ]
  },
  {
   "cell_type": "markdown",
   "metadata": {},
   "source": [
    "### 6.2. Apply"
   ]
  },
  {
   "cell_type": "code",
   "execution_count": 63,
   "metadata": {
    "collapsed": false
   },
   "outputs": [
    {
     "data": {
      "text/html": [
       "<div>\n",
       "<table border=\"1\" class=\"dataframe\">\n",
       "  <thead>\n",
       "    <tr style=\"text-align: right;\">\n",
       "      <th></th>\n",
       "      <th>A</th>\n",
       "      <th>B</th>\n",
       "      <th>C</th>\n",
       "      <th>D</th>\n",
       "      <th>F</th>\n",
       "    </tr>\n",
       "  </thead>\n",
       "  <tbody>\n",
       "    <tr>\n",
       "      <th>2016-01-01</th>\n",
       "      <td>0.000000</td>\n",
       "      <td>0.000000</td>\n",
       "      <td>0.853355</td>\n",
       "      <td>5</td>\n",
       "      <td>NaN</td>\n",
       "    </tr>\n",
       "    <tr>\n",
       "      <th>2016-01-02</th>\n",
       "      <td>0.928170</td>\n",
       "      <td>-0.194253</td>\n",
       "      <td>1.816805</td>\n",
       "      <td>10</td>\n",
       "      <td>1.0</td>\n",
       "    </tr>\n",
       "    <tr>\n",
       "      <th>2016-01-03</th>\n",
       "      <td>0.817152</td>\n",
       "      <td>-0.129219</td>\n",
       "      <td>1.155523</td>\n",
       "      <td>15</td>\n",
       "      <td>3.0</td>\n",
       "    </tr>\n",
       "    <tr>\n",
       "      <th>2016-01-04</th>\n",
       "      <td>-0.695828</td>\n",
       "      <td>-0.746698</td>\n",
       "      <td>-0.697698</td>\n",
       "      <td>20</td>\n",
       "      <td>6.0</td>\n",
       "    </tr>\n",
       "    <tr>\n",
       "      <th>2016-01-05</th>\n",
       "      <td>0.152210</td>\n",
       "      <td>-0.237235</td>\n",
       "      <td>0.228125</td>\n",
       "      <td>25</td>\n",
       "      <td>10.0</td>\n",
       "    </tr>\n",
       "    <tr>\n",
       "      <th>2016-01-06</th>\n",
       "      <td>-1.057421</td>\n",
       "      <td>-0.822682</td>\n",
       "      <td>-0.521012</td>\n",
       "      <td>30</td>\n",
       "      <td>15.0</td>\n",
       "    </tr>\n",
       "  </tbody>\n",
       "</table>\n",
       "</div>"
      ],
      "text/plain": [
       "                   A         B         C   D     F\n",
       "2016-01-01  0.000000  0.000000  0.853355   5   NaN\n",
       "2016-01-02  0.928170 -0.194253  1.816805  10   1.0\n",
       "2016-01-03  0.817152 -0.129219  1.155523  15   3.0\n",
       "2016-01-04 -0.695828 -0.746698 -0.697698  20   6.0\n",
       "2016-01-05  0.152210 -0.237235  0.228125  25  10.0\n",
       "2016-01-06 -1.057421 -0.822682 -0.521012  30  15.0"
      ]
     },
     "execution_count": 63,
     "metadata": {},
     "output_type": "execute_result"
    }
   ],
   "source": [
    "df.apply(np.cumsum)"
   ]
  },
  {
   "cell_type": "code",
   "execution_count": 64,
   "metadata": {
    "collapsed": false
   },
   "outputs": [
    {
     "data": {
      "text/plain": [
       "A    2.441149\n",
       "B    1.126941\n",
       "C    2.816671\n",
       "D    0.000000\n",
       "F    4.000000\n",
       "dtype: float64"
      ]
     },
     "execution_count": 64,
     "metadata": {},
     "output_type": "execute_result"
    }
   ],
   "source": [
    "df.apply(lambda x: x.max() - x.min())"
   ]
  },
  {
   "cell_type": "markdown",
   "metadata": {},
   "source": [
    "### 6.3. Histogramming"
   ]
  },
  {
   "cell_type": "code",
   "execution_count": 65,
   "metadata": {
    "collapsed": true
   },
   "outputs": [],
   "source": [
    "s = pd.Series(np.random.randint(0, 7, size=10))"
   ]
  },
  {
   "cell_type": "code",
   "execution_count": 66,
   "metadata": {
    "collapsed": false
   },
   "outputs": [
    {
     "data": {
      "text/plain": [
       "0    6\n",
       "1    0\n",
       "2    4\n",
       "3    3\n",
       "4    6\n",
       "5    2\n",
       "6    4\n",
       "7    4\n",
       "8    2\n",
       "9    5\n",
       "dtype: int32"
      ]
     },
     "execution_count": 66,
     "metadata": {},
     "output_type": "execute_result"
    }
   ],
   "source": [
    "s"
   ]
  },
  {
   "cell_type": "code",
   "execution_count": 67,
   "metadata": {
    "collapsed": false
   },
   "outputs": [
    {
     "data": {
      "text/plain": [
       "4    3\n",
       "6    2\n",
       "2    2\n",
       "5    1\n",
       "3    1\n",
       "0    1\n",
       "dtype: int64"
      ]
     },
     "execution_count": 67,
     "metadata": {},
     "output_type": "execute_result"
    }
   ],
   "source": [
    "s.value_counts()"
   ]
  },
  {
   "cell_type": "markdown",
   "metadata": {},
   "source": [
    "### 6.4. String Methods"
   ]
  },
  {
   "cell_type": "code",
   "execution_count": 68,
   "metadata": {
    "collapsed": true
   },
   "outputs": [],
   "source": [
    "s = pd.Series(['A', 'B', 'C', 'Aaba', 'Baca', np.nan, 'CABA', 'dog', 'cat'])"
   ]
  },
  {
   "cell_type": "code",
   "execution_count": 69,
   "metadata": {
    "collapsed": false
   },
   "outputs": [
    {
     "data": {
      "text/plain": [
       "0       a\n",
       "1       b\n",
       "2       c\n",
       "3    aaba\n",
       "4    baca\n",
       "5     NaN\n",
       "6    caba\n",
       "7     dog\n",
       "8     cat\n",
       "dtype: object"
      ]
     },
     "execution_count": 69,
     "metadata": {},
     "output_type": "execute_result"
    }
   ],
   "source": [
    "s.str.lower()"
   ]
  },
  {
   "cell_type": "markdown",
   "metadata": {},
   "source": [
    "***\n",
    "## 7. Merge\n",
    "### 7.1. Concat"
   ]
  },
  {
   "cell_type": "code",
   "execution_count": 70,
   "metadata": {
    "collapsed": true
   },
   "outputs": [],
   "source": [
    "df = pd.DataFrame(np.random.randn(10, 4))"
   ]
  },
  {
   "cell_type": "code",
   "execution_count": 71,
   "metadata": {
    "collapsed": false
   },
   "outputs": [
    {
     "data": {
      "text/html": [
       "<div>\n",
       "<table border=\"1\" class=\"dataframe\">\n",
       "  <thead>\n",
       "    <tr style=\"text-align: right;\">\n",
       "      <th></th>\n",
       "      <th>0</th>\n",
       "      <th>1</th>\n",
       "      <th>2</th>\n",
       "      <th>3</th>\n",
       "    </tr>\n",
       "  </thead>\n",
       "  <tbody>\n",
       "    <tr>\n",
       "      <th>0</th>\n",
       "      <td>0.327231</td>\n",
       "      <td>-1.527259</td>\n",
       "      <td>0.644880</td>\n",
       "      <td>-0.540437</td>\n",
       "    </tr>\n",
       "    <tr>\n",
       "      <th>1</th>\n",
       "      <td>0.943272</td>\n",
       "      <td>0.005222</td>\n",
       "      <td>-0.199872</td>\n",
       "      <td>-0.356879</td>\n",
       "    </tr>\n",
       "    <tr>\n",
       "      <th>2</th>\n",
       "      <td>-0.107038</td>\n",
       "      <td>-2.905371</td>\n",
       "      <td>-1.804287</td>\n",
       "      <td>-0.557262</td>\n",
       "    </tr>\n",
       "    <tr>\n",
       "      <th>3</th>\n",
       "      <td>1.112290</td>\n",
       "      <td>-0.728369</td>\n",
       "      <td>1.045917</td>\n",
       "      <td>0.147156</td>\n",
       "    </tr>\n",
       "    <tr>\n",
       "      <th>4</th>\n",
       "      <td>-1.352444</td>\n",
       "      <td>-0.275613</td>\n",
       "      <td>-0.023800</td>\n",
       "      <td>-0.236167</td>\n",
       "    </tr>\n",
       "    <tr>\n",
       "      <th>5</th>\n",
       "      <td>0.236901</td>\n",
       "      <td>-0.805217</td>\n",
       "      <td>-0.663229</td>\n",
       "      <td>0.094282</td>\n",
       "    </tr>\n",
       "    <tr>\n",
       "      <th>6</th>\n",
       "      <td>-0.843511</td>\n",
       "      <td>1.909080</td>\n",
       "      <td>-0.573847</td>\n",
       "      <td>3.645029</td>\n",
       "    </tr>\n",
       "    <tr>\n",
       "      <th>7</th>\n",
       "      <td>0.959130</td>\n",
       "      <td>-1.217752</td>\n",
       "      <td>-0.297055</td>\n",
       "      <td>0.811167</td>\n",
       "    </tr>\n",
       "    <tr>\n",
       "      <th>8</th>\n",
       "      <td>-1.062825</td>\n",
       "      <td>0.238697</td>\n",
       "      <td>-0.101716</td>\n",
       "      <td>0.039121</td>\n",
       "    </tr>\n",
       "    <tr>\n",
       "      <th>9</th>\n",
       "      <td>-1.056042</td>\n",
       "      <td>0.650876</td>\n",
       "      <td>-2.119277</td>\n",
       "      <td>2.736694</td>\n",
       "    </tr>\n",
       "  </tbody>\n",
       "</table>\n",
       "</div>"
      ],
      "text/plain": [
       "          0         1         2         3\n",
       "0  0.327231 -1.527259  0.644880 -0.540437\n",
       "1  0.943272  0.005222 -0.199872 -0.356879\n",
       "2 -0.107038 -2.905371 -1.804287 -0.557262\n",
       "3  1.112290 -0.728369  1.045917  0.147156\n",
       "4 -1.352444 -0.275613 -0.023800 -0.236167\n",
       "5  0.236901 -0.805217 -0.663229  0.094282\n",
       "6 -0.843511  1.909080 -0.573847  3.645029\n",
       "7  0.959130 -1.217752 -0.297055  0.811167\n",
       "8 -1.062825  0.238697 -0.101716  0.039121\n",
       "9 -1.056042  0.650876 -2.119277  2.736694"
      ]
     },
     "execution_count": 71,
     "metadata": {},
     "output_type": "execute_result"
    }
   ],
   "source": [
    "df"
   ]
  },
  {
   "cell_type": "code",
   "execution_count": 72,
   "metadata": {
    "collapsed": true
   },
   "outputs": [],
   "source": [
    "pieces = [df[:3], df[3:7], df[7:]]"
   ]
  },
  {
   "cell_type": "code",
   "execution_count": 73,
   "metadata": {
    "collapsed": false
   },
   "outputs": [
    {
     "data": {
      "text/html": [
       "<div>\n",
       "<table border=\"1\" class=\"dataframe\">\n",
       "  <thead>\n",
       "    <tr style=\"text-align: right;\">\n",
       "      <th></th>\n",
       "      <th>0</th>\n",
       "      <th>1</th>\n",
       "      <th>2</th>\n",
       "      <th>3</th>\n",
       "    </tr>\n",
       "  </thead>\n",
       "  <tbody>\n",
       "    <tr>\n",
       "      <th>0</th>\n",
       "      <td>0.327231</td>\n",
       "      <td>-1.527259</td>\n",
       "      <td>0.644880</td>\n",
       "      <td>-0.540437</td>\n",
       "    </tr>\n",
       "    <tr>\n",
       "      <th>1</th>\n",
       "      <td>0.943272</td>\n",
       "      <td>0.005222</td>\n",
       "      <td>-0.199872</td>\n",
       "      <td>-0.356879</td>\n",
       "    </tr>\n",
       "    <tr>\n",
       "      <th>2</th>\n",
       "      <td>-0.107038</td>\n",
       "      <td>-2.905371</td>\n",
       "      <td>-1.804287</td>\n",
       "      <td>-0.557262</td>\n",
       "    </tr>\n",
       "    <tr>\n",
       "      <th>3</th>\n",
       "      <td>1.112290</td>\n",
       "      <td>-0.728369</td>\n",
       "      <td>1.045917</td>\n",
       "      <td>0.147156</td>\n",
       "    </tr>\n",
       "    <tr>\n",
       "      <th>4</th>\n",
       "      <td>-1.352444</td>\n",
       "      <td>-0.275613</td>\n",
       "      <td>-0.023800</td>\n",
       "      <td>-0.236167</td>\n",
       "    </tr>\n",
       "    <tr>\n",
       "      <th>5</th>\n",
       "      <td>0.236901</td>\n",
       "      <td>-0.805217</td>\n",
       "      <td>-0.663229</td>\n",
       "      <td>0.094282</td>\n",
       "    </tr>\n",
       "    <tr>\n",
       "      <th>6</th>\n",
       "      <td>-0.843511</td>\n",
       "      <td>1.909080</td>\n",
       "      <td>-0.573847</td>\n",
       "      <td>3.645029</td>\n",
       "    </tr>\n",
       "    <tr>\n",
       "      <th>7</th>\n",
       "      <td>0.959130</td>\n",
       "      <td>-1.217752</td>\n",
       "      <td>-0.297055</td>\n",
       "      <td>0.811167</td>\n",
       "    </tr>\n",
       "    <tr>\n",
       "      <th>8</th>\n",
       "      <td>-1.062825</td>\n",
       "      <td>0.238697</td>\n",
       "      <td>-0.101716</td>\n",
       "      <td>0.039121</td>\n",
       "    </tr>\n",
       "    <tr>\n",
       "      <th>9</th>\n",
       "      <td>-1.056042</td>\n",
       "      <td>0.650876</td>\n",
       "      <td>-2.119277</td>\n",
       "      <td>2.736694</td>\n",
       "    </tr>\n",
       "  </tbody>\n",
       "</table>\n",
       "</div>"
      ],
      "text/plain": [
       "          0         1         2         3\n",
       "0  0.327231 -1.527259  0.644880 -0.540437\n",
       "1  0.943272  0.005222 -0.199872 -0.356879\n",
       "2 -0.107038 -2.905371 -1.804287 -0.557262\n",
       "3  1.112290 -0.728369  1.045917  0.147156\n",
       "4 -1.352444 -0.275613 -0.023800 -0.236167\n",
       "5  0.236901 -0.805217 -0.663229  0.094282\n",
       "6 -0.843511  1.909080 -0.573847  3.645029\n",
       "7  0.959130 -1.217752 -0.297055  0.811167\n",
       "8 -1.062825  0.238697 -0.101716  0.039121\n",
       "9 -1.056042  0.650876 -2.119277  2.736694"
      ]
     },
     "execution_count": 73,
     "metadata": {},
     "output_type": "execute_result"
    }
   ],
   "source": [
    "pd.concat(pieces)"
   ]
  },
  {
   "cell_type": "markdown",
   "metadata": {},
   "source": [
    "### 7.2. Join"
   ]
  },
  {
   "cell_type": "code",
   "execution_count": 74,
   "metadata": {
    "collapsed": true
   },
   "outputs": [],
   "source": [
    "left = pd.DataFrame({'key': ['foo', 'foo'], 'lval': [1, 2]})"
   ]
  },
  {
   "cell_type": "code",
   "execution_count": 75,
   "metadata": {
    "collapsed": true
   },
   "outputs": [],
   "source": [
    "right = pd.DataFrame({'key': ['foo', 'foo'], 'rval': [4, 5]})"
   ]
  },
  {
   "cell_type": "code",
   "execution_count": 76,
   "metadata": {
    "collapsed": false
   },
   "outputs": [
    {
     "data": {
      "text/html": [
       "<div>\n",
       "<table border=\"1\" class=\"dataframe\">\n",
       "  <thead>\n",
       "    <tr style=\"text-align: right;\">\n",
       "      <th></th>\n",
       "      <th>key</th>\n",
       "      <th>lval</th>\n",
       "    </tr>\n",
       "  </thead>\n",
       "  <tbody>\n",
       "    <tr>\n",
       "      <th>0</th>\n",
       "      <td>foo</td>\n",
       "      <td>1</td>\n",
       "    </tr>\n",
       "    <tr>\n",
       "      <th>1</th>\n",
       "      <td>foo</td>\n",
       "      <td>2</td>\n",
       "    </tr>\n",
       "  </tbody>\n",
       "</table>\n",
       "</div>"
      ],
      "text/plain": [
       "   key  lval\n",
       "0  foo     1\n",
       "1  foo     2"
      ]
     },
     "execution_count": 76,
     "metadata": {},
     "output_type": "execute_result"
    }
   ],
   "source": [
    "left"
   ]
  },
  {
   "cell_type": "code",
   "execution_count": 77,
   "metadata": {
    "collapsed": false
   },
   "outputs": [
    {
     "data": {
      "text/html": [
       "<div>\n",
       "<table border=\"1\" class=\"dataframe\">\n",
       "  <thead>\n",
       "    <tr style=\"text-align: right;\">\n",
       "      <th></th>\n",
       "      <th>key</th>\n",
       "      <th>rval</th>\n",
       "    </tr>\n",
       "  </thead>\n",
       "  <tbody>\n",
       "    <tr>\n",
       "      <th>0</th>\n",
       "      <td>foo</td>\n",
       "      <td>4</td>\n",
       "    </tr>\n",
       "    <tr>\n",
       "      <th>1</th>\n",
       "      <td>foo</td>\n",
       "      <td>5</td>\n",
       "    </tr>\n",
       "  </tbody>\n",
       "</table>\n",
       "</div>"
      ],
      "text/plain": [
       "   key  rval\n",
       "0  foo     4\n",
       "1  foo     5"
      ]
     },
     "execution_count": 77,
     "metadata": {},
     "output_type": "execute_result"
    }
   ],
   "source": [
    "right"
   ]
  },
  {
   "cell_type": "code",
   "execution_count": 78,
   "metadata": {
    "collapsed": false
   },
   "outputs": [
    {
     "data": {
      "text/html": [
       "<div>\n",
       "<table border=\"1\" class=\"dataframe\">\n",
       "  <thead>\n",
       "    <tr style=\"text-align: right;\">\n",
       "      <th></th>\n",
       "      <th>key</th>\n",
       "      <th>lval</th>\n",
       "      <th>rval</th>\n",
       "    </tr>\n",
       "  </thead>\n",
       "  <tbody>\n",
       "    <tr>\n",
       "      <th>0</th>\n",
       "      <td>foo</td>\n",
       "      <td>1</td>\n",
       "      <td>4</td>\n",
       "    </tr>\n",
       "    <tr>\n",
       "      <th>1</th>\n",
       "      <td>foo</td>\n",
       "      <td>1</td>\n",
       "      <td>5</td>\n",
       "    </tr>\n",
       "    <tr>\n",
       "      <th>2</th>\n",
       "      <td>foo</td>\n",
       "      <td>2</td>\n",
       "      <td>4</td>\n",
       "    </tr>\n",
       "    <tr>\n",
       "      <th>3</th>\n",
       "      <td>foo</td>\n",
       "      <td>2</td>\n",
       "      <td>5</td>\n",
       "    </tr>\n",
       "  </tbody>\n",
       "</table>\n",
       "</div>"
      ],
      "text/plain": [
       "   key  lval  rval\n",
       "0  foo     1     4\n",
       "1  foo     1     5\n",
       "2  foo     2     4\n",
       "3  foo     2     5"
      ]
     },
     "execution_count": 78,
     "metadata": {},
     "output_type": "execute_result"
    }
   ],
   "source": [
    "pd.merge(left, right, on='key')"
   ]
  },
  {
   "cell_type": "markdown",
   "metadata": {},
   "source": [
    "### 7.3. Append"
   ]
  },
  {
   "cell_type": "code",
   "execution_count": 79,
   "metadata": {
    "collapsed": true
   },
   "outputs": [],
   "source": [
    "df = pd.DataFrame(np.random.randn(8, 4), columns=['A','B','C','D'])"
   ]
  },
  {
   "cell_type": "code",
   "execution_count": 80,
   "metadata": {
    "collapsed": false
   },
   "outputs": [
    {
     "data": {
      "text/html": [
       "<div>\n",
       "<table border=\"1\" class=\"dataframe\">\n",
       "  <thead>\n",
       "    <tr style=\"text-align: right;\">\n",
       "      <th></th>\n",
       "      <th>A</th>\n",
       "      <th>B</th>\n",
       "      <th>C</th>\n",
       "      <th>D</th>\n",
       "    </tr>\n",
       "  </thead>\n",
       "  <tbody>\n",
       "    <tr>\n",
       "      <th>0</th>\n",
       "      <td>-0.012149</td>\n",
       "      <td>-1.309775</td>\n",
       "      <td>-0.465893</td>\n",
       "      <td>-1.577982</td>\n",
       "    </tr>\n",
       "    <tr>\n",
       "      <th>1</th>\n",
       "      <td>-2.617999</td>\n",
       "      <td>-0.316197</td>\n",
       "      <td>0.210543</td>\n",
       "      <td>-0.979778</td>\n",
       "    </tr>\n",
       "    <tr>\n",
       "      <th>2</th>\n",
       "      <td>1.430661</td>\n",
       "      <td>0.774446</td>\n",
       "      <td>0.282089</td>\n",
       "      <td>1.505809</td>\n",
       "    </tr>\n",
       "    <tr>\n",
       "      <th>3</th>\n",
       "      <td>1.298529</td>\n",
       "      <td>-0.465468</td>\n",
       "      <td>-1.574010</td>\n",
       "      <td>1.033724</td>\n",
       "    </tr>\n",
       "    <tr>\n",
       "      <th>4</th>\n",
       "      <td>-1.327794</td>\n",
       "      <td>0.360100</td>\n",
       "      <td>0.739886</td>\n",
       "      <td>0.842199</td>\n",
       "    </tr>\n",
       "    <tr>\n",
       "      <th>5</th>\n",
       "      <td>-0.612624</td>\n",
       "      <td>-0.183870</td>\n",
       "      <td>1.246321</td>\n",
       "      <td>0.885407</td>\n",
       "    </tr>\n",
       "    <tr>\n",
       "      <th>6</th>\n",
       "      <td>-0.869818</td>\n",
       "      <td>0.946419</td>\n",
       "      <td>0.794089</td>\n",
       "      <td>0.473578</td>\n",
       "    </tr>\n",
       "    <tr>\n",
       "      <th>7</th>\n",
       "      <td>1.011289</td>\n",
       "      <td>-0.716186</td>\n",
       "      <td>-0.199092</td>\n",
       "      <td>-0.104925</td>\n",
       "    </tr>\n",
       "  </tbody>\n",
       "</table>\n",
       "</div>"
      ],
      "text/plain": [
       "          A         B         C         D\n",
       "0 -0.012149 -1.309775 -0.465893 -1.577982\n",
       "1 -2.617999 -0.316197  0.210543 -0.979778\n",
       "2  1.430661  0.774446  0.282089  1.505809\n",
       "3  1.298529 -0.465468 -1.574010  1.033724\n",
       "4 -1.327794  0.360100  0.739886  0.842199\n",
       "5 -0.612624 -0.183870  1.246321  0.885407\n",
       "6 -0.869818  0.946419  0.794089  0.473578\n",
       "7  1.011289 -0.716186 -0.199092 -0.104925"
      ]
     },
     "execution_count": 80,
     "metadata": {},
     "output_type": "execute_result"
    }
   ],
   "source": [
    "df"
   ]
  },
  {
   "cell_type": "code",
   "execution_count": 81,
   "metadata": {
    "collapsed": true
   },
   "outputs": [],
   "source": [
    "s = df.iloc[3]"
   ]
  },
  {
   "cell_type": "code",
   "execution_count": 82,
   "metadata": {
    "collapsed": false
   },
   "outputs": [
    {
     "data": {
      "text/html": [
       "<div>\n",
       "<table border=\"1\" class=\"dataframe\">\n",
       "  <thead>\n",
       "    <tr style=\"text-align: right;\">\n",
       "      <th></th>\n",
       "      <th>A</th>\n",
       "      <th>B</th>\n",
       "      <th>C</th>\n",
       "      <th>D</th>\n",
       "    </tr>\n",
       "  </thead>\n",
       "  <tbody>\n",
       "    <tr>\n",
       "      <th>0</th>\n",
       "      <td>-0.012149</td>\n",
       "      <td>-1.309775</td>\n",
       "      <td>-0.465893</td>\n",
       "      <td>-1.577982</td>\n",
       "    </tr>\n",
       "    <tr>\n",
       "      <th>1</th>\n",
       "      <td>-2.617999</td>\n",
       "      <td>-0.316197</td>\n",
       "      <td>0.210543</td>\n",
       "      <td>-0.979778</td>\n",
       "    </tr>\n",
       "    <tr>\n",
       "      <th>2</th>\n",
       "      <td>1.430661</td>\n",
       "      <td>0.774446</td>\n",
       "      <td>0.282089</td>\n",
       "      <td>1.505809</td>\n",
       "    </tr>\n",
       "    <tr>\n",
       "      <th>3</th>\n",
       "      <td>1.298529</td>\n",
       "      <td>-0.465468</td>\n",
       "      <td>-1.574010</td>\n",
       "      <td>1.033724</td>\n",
       "    </tr>\n",
       "    <tr>\n",
       "      <th>4</th>\n",
       "      <td>-1.327794</td>\n",
       "      <td>0.360100</td>\n",
       "      <td>0.739886</td>\n",
       "      <td>0.842199</td>\n",
       "    </tr>\n",
       "    <tr>\n",
       "      <th>5</th>\n",
       "      <td>-0.612624</td>\n",
       "      <td>-0.183870</td>\n",
       "      <td>1.246321</td>\n",
       "      <td>0.885407</td>\n",
       "    </tr>\n",
       "    <tr>\n",
       "      <th>6</th>\n",
       "      <td>-0.869818</td>\n",
       "      <td>0.946419</td>\n",
       "      <td>0.794089</td>\n",
       "      <td>0.473578</td>\n",
       "    </tr>\n",
       "    <tr>\n",
       "      <th>7</th>\n",
       "      <td>1.011289</td>\n",
       "      <td>-0.716186</td>\n",
       "      <td>-0.199092</td>\n",
       "      <td>-0.104925</td>\n",
       "    </tr>\n",
       "    <tr>\n",
       "      <th>8</th>\n",
       "      <td>1.298529</td>\n",
       "      <td>-0.465468</td>\n",
       "      <td>-1.574010</td>\n",
       "      <td>1.033724</td>\n",
       "    </tr>\n",
       "  </tbody>\n",
       "</table>\n",
       "</div>"
      ],
      "text/plain": [
       "          A         B         C         D\n",
       "0 -0.012149 -1.309775 -0.465893 -1.577982\n",
       "1 -2.617999 -0.316197  0.210543 -0.979778\n",
       "2  1.430661  0.774446  0.282089  1.505809\n",
       "3  1.298529 -0.465468 -1.574010  1.033724\n",
       "4 -1.327794  0.360100  0.739886  0.842199\n",
       "5 -0.612624 -0.183870  1.246321  0.885407\n",
       "6 -0.869818  0.946419  0.794089  0.473578\n",
       "7  1.011289 -0.716186 -0.199092 -0.104925\n",
       "8  1.298529 -0.465468 -1.574010  1.033724"
      ]
     },
     "execution_count": 82,
     "metadata": {},
     "output_type": "execute_result"
    }
   ],
   "source": [
    "df.append(s, ignore_index=True)"
   ]
  },
  {
   "cell_type": "markdown",
   "metadata": {},
   "source": [
    "***\n",
    "## 8. Grouping"
   ]
  },
  {
   "cell_type": "code",
   "execution_count": 83,
   "metadata": {
    "collapsed": true
   },
   "outputs": [],
   "source": [
    "df = pd.DataFrame({'A' : ['foo', 'bar', 'foo', 'bar',\n",
    "                          'foo', 'bar', 'foo', 'foo'],\n",
    "                   'B' : ['one', 'one', 'two', 'three',\n",
    "                          'two', 'two', 'one', 'three'],\n",
    "                   'C' : np.random.randn(8),\n",
    "                   'D' : np.random.randn(8)})\n"
   ]
  },
  {
   "cell_type": "code",
   "execution_count": 84,
   "metadata": {
    "collapsed": false
   },
   "outputs": [
    {
     "data": {
      "text/html": [
       "<div>\n",
       "<table border=\"1\" class=\"dataframe\">\n",
       "  <thead>\n",
       "    <tr style=\"text-align: right;\">\n",
       "      <th></th>\n",
       "      <th>A</th>\n",
       "      <th>B</th>\n",
       "      <th>C</th>\n",
       "      <th>D</th>\n",
       "    </tr>\n",
       "  </thead>\n",
       "  <tbody>\n",
       "    <tr>\n",
       "      <th>0</th>\n",
       "      <td>foo</td>\n",
       "      <td>one</td>\n",
       "      <td>1.112297</td>\n",
       "      <td>-0.549004</td>\n",
       "    </tr>\n",
       "    <tr>\n",
       "      <th>1</th>\n",
       "      <td>bar</td>\n",
       "      <td>one</td>\n",
       "      <td>-1.962075</td>\n",
       "      <td>0.085636</td>\n",
       "    </tr>\n",
       "    <tr>\n",
       "      <th>2</th>\n",
       "      <td>foo</td>\n",
       "      <td>two</td>\n",
       "      <td>0.376817</td>\n",
       "      <td>1.589915</td>\n",
       "    </tr>\n",
       "    <tr>\n",
       "      <th>3</th>\n",
       "      <td>bar</td>\n",
       "      <td>three</td>\n",
       "      <td>-0.226140</td>\n",
       "      <td>-1.130122</td>\n",
       "    </tr>\n",
       "    <tr>\n",
       "      <th>4</th>\n",
       "      <td>foo</td>\n",
       "      <td>two</td>\n",
       "      <td>-1.743693</td>\n",
       "      <td>-0.786023</td>\n",
       "    </tr>\n",
       "    <tr>\n",
       "      <th>5</th>\n",
       "      <td>bar</td>\n",
       "      <td>two</td>\n",
       "      <td>0.070996</td>\n",
       "      <td>-0.711972</td>\n",
       "    </tr>\n",
       "    <tr>\n",
       "      <th>6</th>\n",
       "      <td>foo</td>\n",
       "      <td>one</td>\n",
       "      <td>0.402949</td>\n",
       "      <td>0.089007</td>\n",
       "    </tr>\n",
       "    <tr>\n",
       "      <th>7</th>\n",
       "      <td>foo</td>\n",
       "      <td>three</td>\n",
       "      <td>0.266253</td>\n",
       "      <td>0.933454</td>\n",
       "    </tr>\n",
       "  </tbody>\n",
       "</table>\n",
       "</div>"
      ],
      "text/plain": [
       "     A      B         C         D\n",
       "0  foo    one  1.112297 -0.549004\n",
       "1  bar    one -1.962075  0.085636\n",
       "2  foo    two  0.376817  1.589915\n",
       "3  bar  three -0.226140 -1.130122\n",
       "4  foo    two -1.743693 -0.786023\n",
       "5  bar    two  0.070996 -0.711972\n",
       "6  foo    one  0.402949  0.089007\n",
       "7  foo  three  0.266253  0.933454"
      ]
     },
     "execution_count": 84,
     "metadata": {},
     "output_type": "execute_result"
    }
   ],
   "source": [
    "df"
   ]
  },
  {
   "cell_type": "code",
   "execution_count": 85,
   "metadata": {
    "collapsed": false
   },
   "outputs": [
    {
     "data": {
      "text/html": [
       "<div>\n",
       "<table border=\"1\" class=\"dataframe\">\n",
       "  <thead>\n",
       "    <tr style=\"text-align: right;\">\n",
       "      <th></th>\n",
       "      <th>C</th>\n",
       "      <th>D</th>\n",
       "    </tr>\n",
       "    <tr>\n",
       "      <th>A</th>\n",
       "      <th></th>\n",
       "      <th></th>\n",
       "    </tr>\n",
       "  </thead>\n",
       "  <tbody>\n",
       "    <tr>\n",
       "      <th>bar</th>\n",
       "      <td>-2.117218</td>\n",
       "      <td>-1.756457</td>\n",
       "    </tr>\n",
       "    <tr>\n",
       "      <th>foo</th>\n",
       "      <td>0.414624</td>\n",
       "      <td>1.277349</td>\n",
       "    </tr>\n",
       "  </tbody>\n",
       "</table>\n",
       "</div>"
      ],
      "text/plain": [
       "            C         D\n",
       "A                      \n",
       "bar -2.117218 -1.756457\n",
       "foo  0.414624  1.277349"
      ]
     },
     "execution_count": 85,
     "metadata": {},
     "output_type": "execute_result"
    }
   ],
   "source": [
    "df.groupby('A').sum()"
   ]
  },
  {
   "cell_type": "code",
   "execution_count": 86,
   "metadata": {
    "collapsed": false
   },
   "outputs": [
    {
     "data": {
      "text/html": [
       "<div>\n",
       "<table border=\"1\" class=\"dataframe\">\n",
       "  <thead>\n",
       "    <tr style=\"text-align: right;\">\n",
       "      <th></th>\n",
       "      <th>C</th>\n",
       "      <th>D</th>\n",
       "    </tr>\n",
       "    <tr>\n",
       "      <th>B</th>\n",
       "      <th></th>\n",
       "      <th></th>\n",
       "    </tr>\n",
       "  </thead>\n",
       "  <tbody>\n",
       "    <tr>\n",
       "      <th>one</th>\n",
       "      <td>-0.446829</td>\n",
       "      <td>-0.374361</td>\n",
       "    </tr>\n",
       "    <tr>\n",
       "      <th>three</th>\n",
       "      <td>0.040114</td>\n",
       "      <td>-0.196667</td>\n",
       "    </tr>\n",
       "    <tr>\n",
       "      <th>two</th>\n",
       "      <td>-1.295879</td>\n",
       "      <td>0.091920</td>\n",
       "    </tr>\n",
       "  </tbody>\n",
       "</table>\n",
       "</div>"
      ],
      "text/plain": [
       "              C         D\n",
       "B                        \n",
       "one   -0.446829 -0.374361\n",
       "three  0.040114 -0.196667\n",
       "two   -1.295879  0.091920"
      ]
     },
     "execution_count": 86,
     "metadata": {},
     "output_type": "execute_result"
    }
   ],
   "source": [
    "df.groupby('B').sum()"
   ]
  },
  {
   "cell_type": "code",
   "execution_count": 87,
   "metadata": {
    "collapsed": false
   },
   "outputs": [
    {
     "data": {
      "text/html": [
       "<div>\n",
       "<table border=\"1\" class=\"dataframe\">\n",
       "  <thead>\n",
       "    <tr style=\"text-align: right;\">\n",
       "      <th></th>\n",
       "      <th></th>\n",
       "      <th>C</th>\n",
       "      <th>D</th>\n",
       "    </tr>\n",
       "    <tr>\n",
       "      <th>A</th>\n",
       "      <th>B</th>\n",
       "      <th></th>\n",
       "      <th></th>\n",
       "    </tr>\n",
       "  </thead>\n",
       "  <tbody>\n",
       "    <tr>\n",
       "      <th rowspan=\"3\" valign=\"top\">bar</th>\n",
       "      <th>one</th>\n",
       "      <td>-1.962075</td>\n",
       "      <td>0.085636</td>\n",
       "    </tr>\n",
       "    <tr>\n",
       "      <th>three</th>\n",
       "      <td>-0.226140</td>\n",
       "      <td>-1.130122</td>\n",
       "    </tr>\n",
       "    <tr>\n",
       "      <th>two</th>\n",
       "      <td>0.070996</td>\n",
       "      <td>-0.711972</td>\n",
       "    </tr>\n",
       "    <tr>\n",
       "      <th rowspan=\"3\" valign=\"top\">foo</th>\n",
       "      <th>one</th>\n",
       "      <td>1.515246</td>\n",
       "      <td>-0.459997</td>\n",
       "    </tr>\n",
       "    <tr>\n",
       "      <th>three</th>\n",
       "      <td>0.266253</td>\n",
       "      <td>0.933454</td>\n",
       "    </tr>\n",
       "    <tr>\n",
       "      <th>two</th>\n",
       "      <td>-1.366876</td>\n",
       "      <td>0.803892</td>\n",
       "    </tr>\n",
       "  </tbody>\n",
       "</table>\n",
       "</div>"
      ],
      "text/plain": [
       "                  C         D\n",
       "A   B                        \n",
       "bar one   -1.962075  0.085636\n",
       "    three -0.226140 -1.130122\n",
       "    two    0.070996 -0.711972\n",
       "foo one    1.515246 -0.459997\n",
       "    three  0.266253  0.933454\n",
       "    two   -1.366876  0.803892"
      ]
     },
     "execution_count": 87,
     "metadata": {},
     "output_type": "execute_result"
    }
   ],
   "source": [
    "df.groupby(['A','B']).sum()"
   ]
  },
  {
   "cell_type": "markdown",
   "metadata": {},
   "source": [
    "***\n",
    "## 9. Reshaping\n",
    "### 9.1. Stack"
   ]
  },
  {
   "cell_type": "code",
   "execution_count": 88,
   "metadata": {
    "collapsed": true
   },
   "outputs": [],
   "source": [
    "tuples = list(zip(*[['bar', 'bar', 'baz', 'baz',\n",
    "                     'foo', 'foo', 'qux', 'qux'],\n",
    "                    ['one', 'two', 'one', 'two',\n",
    "                     'one', 'two', 'one', 'two']]))"
   ]
  },
  {
   "cell_type": "code",
   "execution_count": 89,
   "metadata": {
    "collapsed": true
   },
   "outputs": [],
   "source": [
    "index = pd.MultiIndex.from_tuples(tuples, names=['first', 'second'])"
   ]
  },
  {
   "cell_type": "code",
   "execution_count": 90,
   "metadata": {
    "collapsed": true
   },
   "outputs": [],
   "source": [
    "df = pd.DataFrame(np.random.randn(8, 2), index=index, columns=['A', 'B'])"
   ]
  },
  {
   "cell_type": "code",
   "execution_count": 91,
   "metadata": {
    "collapsed": true
   },
   "outputs": [],
   "source": [
    "df2 = df[:4]"
   ]
  },
  {
   "cell_type": "code",
   "execution_count": 92,
   "metadata": {
    "collapsed": false
   },
   "outputs": [
    {
     "data": {
      "text/html": [
       "<div>\n",
       "<table border=\"1\" class=\"dataframe\">\n",
       "  <thead>\n",
       "    <tr style=\"text-align: right;\">\n",
       "      <th></th>\n",
       "      <th></th>\n",
       "      <th>A</th>\n",
       "      <th>B</th>\n",
       "    </tr>\n",
       "    <tr>\n",
       "      <th>first</th>\n",
       "      <th>second</th>\n",
       "      <th></th>\n",
       "      <th></th>\n",
       "    </tr>\n",
       "  </thead>\n",
       "  <tbody>\n",
       "    <tr>\n",
       "      <th rowspan=\"2\" valign=\"top\">bar</th>\n",
       "      <th>one</th>\n",
       "      <td>-0.916561</td>\n",
       "      <td>-1.312077</td>\n",
       "    </tr>\n",
       "    <tr>\n",
       "      <th>two</th>\n",
       "      <td>-0.538327</td>\n",
       "      <td>0.674643</td>\n",
       "    </tr>\n",
       "    <tr>\n",
       "      <th rowspan=\"2\" valign=\"top\">baz</th>\n",
       "      <th>one</th>\n",
       "      <td>-1.911638</td>\n",
       "      <td>-0.464778</td>\n",
       "    </tr>\n",
       "    <tr>\n",
       "      <th>two</th>\n",
       "      <td>-0.500005</td>\n",
       "      <td>0.150822</td>\n",
       "    </tr>\n",
       "  </tbody>\n",
       "</table>\n",
       "</div>"
      ],
      "text/plain": [
       "                     A         B\n",
       "first second                    \n",
       "bar   one    -0.916561 -1.312077\n",
       "      two    -0.538327  0.674643\n",
       "baz   one    -1.911638 -0.464778\n",
       "      two    -0.500005  0.150822"
      ]
     },
     "execution_count": 92,
     "metadata": {},
     "output_type": "execute_result"
    }
   ],
   "source": [
    "df2"
   ]
  },
  {
   "cell_type": "code",
   "execution_count": 93,
   "metadata": {
    "collapsed": false
   },
   "outputs": [
    {
     "data": {
      "text/html": [
       "<div>\n",
       "<table border=\"1\" class=\"dataframe\">\n",
       "  <thead>\n",
       "    <tr style=\"text-align: right;\">\n",
       "      <th></th>\n",
       "      <th></th>\n",
       "      <th>A</th>\n",
       "      <th>B</th>\n",
       "    </tr>\n",
       "    <tr>\n",
       "      <th>first</th>\n",
       "      <th>second</th>\n",
       "      <th></th>\n",
       "      <th></th>\n",
       "    </tr>\n",
       "  </thead>\n",
       "  <tbody>\n",
       "    <tr>\n",
       "      <th rowspan=\"2\" valign=\"top\">bar</th>\n",
       "      <th>one</th>\n",
       "      <td>-0.916561</td>\n",
       "      <td>-1.312077</td>\n",
       "    </tr>\n",
       "    <tr>\n",
       "      <th>two</th>\n",
       "      <td>-0.538327</td>\n",
       "      <td>0.674643</td>\n",
       "    </tr>\n",
       "    <tr>\n",
       "      <th rowspan=\"2\" valign=\"top\">baz</th>\n",
       "      <th>one</th>\n",
       "      <td>-1.911638</td>\n",
       "      <td>-0.464778</td>\n",
       "    </tr>\n",
       "    <tr>\n",
       "      <th>two</th>\n",
       "      <td>-0.500005</td>\n",
       "      <td>0.150822</td>\n",
       "    </tr>\n",
       "    <tr>\n",
       "      <th rowspan=\"2\" valign=\"top\">foo</th>\n",
       "      <th>one</th>\n",
       "      <td>0.106078</td>\n",
       "      <td>-0.330016</td>\n",
       "    </tr>\n",
       "    <tr>\n",
       "      <th>two</th>\n",
       "      <td>-0.322169</td>\n",
       "      <td>-0.546399</td>\n",
       "    </tr>\n",
       "    <tr>\n",
       "      <th rowspan=\"2\" valign=\"top\">qux</th>\n",
       "      <th>one</th>\n",
       "      <td>-1.464101</td>\n",
       "      <td>-0.499544</td>\n",
       "    </tr>\n",
       "    <tr>\n",
       "      <th>two</th>\n",
       "      <td>0.323280</td>\n",
       "      <td>0.454350</td>\n",
       "    </tr>\n",
       "  </tbody>\n",
       "</table>\n",
       "</div>"
      ],
      "text/plain": [
       "                     A         B\n",
       "first second                    \n",
       "bar   one    -0.916561 -1.312077\n",
       "      two    -0.538327  0.674643\n",
       "baz   one    -1.911638 -0.464778\n",
       "      two    -0.500005  0.150822\n",
       "foo   one     0.106078 -0.330016\n",
       "      two    -0.322169 -0.546399\n",
       "qux   one    -1.464101 -0.499544\n",
       "      two     0.323280  0.454350"
      ]
     },
     "execution_count": 93,
     "metadata": {},
     "output_type": "execute_result"
    }
   ],
   "source": [
    "df"
   ]
  },
  {
   "cell_type": "code",
   "execution_count": 94,
   "metadata": {
    "collapsed": true
   },
   "outputs": [],
   "source": [
    "stacked = df2.stack()"
   ]
  },
  {
   "cell_type": "code",
   "execution_count": 95,
   "metadata": {
    "collapsed": false
   },
   "outputs": [
    {
     "data": {
      "text/plain": [
       "first  second   \n",
       "bar    one     A   -0.916561\n",
       "               B   -1.312077\n",
       "       two     A   -0.538327\n",
       "               B    0.674643\n",
       "baz    one     A   -1.911638\n",
       "               B   -0.464778\n",
       "       two     A   -0.500005\n",
       "               B    0.150822\n",
       "dtype: float64"
      ]
     },
     "execution_count": 95,
     "metadata": {},
     "output_type": "execute_result"
    }
   ],
   "source": [
    "stacked"
   ]
  },
  {
   "cell_type": "code",
   "execution_count": 96,
   "metadata": {
    "collapsed": false
   },
   "outputs": [
    {
     "data": {
      "text/html": [
       "<div>\n",
       "<table border=\"1\" class=\"dataframe\">\n",
       "  <thead>\n",
       "    <tr style=\"text-align: right;\">\n",
       "      <th></th>\n",
       "      <th></th>\n",
       "      <th>A</th>\n",
       "      <th>B</th>\n",
       "    </tr>\n",
       "    <tr>\n",
       "      <th>first</th>\n",
       "      <th>second</th>\n",
       "      <th></th>\n",
       "      <th></th>\n",
       "    </tr>\n",
       "  </thead>\n",
       "  <tbody>\n",
       "    <tr>\n",
       "      <th rowspan=\"2\" valign=\"top\">bar</th>\n",
       "      <th>one</th>\n",
       "      <td>-0.916561</td>\n",
       "      <td>-1.312077</td>\n",
       "    </tr>\n",
       "    <tr>\n",
       "      <th>two</th>\n",
       "      <td>-0.538327</td>\n",
       "      <td>0.674643</td>\n",
       "    </tr>\n",
       "    <tr>\n",
       "      <th rowspan=\"2\" valign=\"top\">baz</th>\n",
       "      <th>one</th>\n",
       "      <td>-1.911638</td>\n",
       "      <td>-0.464778</td>\n",
       "    </tr>\n",
       "    <tr>\n",
       "      <th>two</th>\n",
       "      <td>-0.500005</td>\n",
       "      <td>0.150822</td>\n",
       "    </tr>\n",
       "  </tbody>\n",
       "</table>\n",
       "</div>"
      ],
      "text/plain": [
       "                     A         B\n",
       "first second                    \n",
       "bar   one    -0.916561 -1.312077\n",
       "      two    -0.538327  0.674643\n",
       "baz   one    -1.911638 -0.464778\n",
       "      two    -0.500005  0.150822"
      ]
     },
     "execution_count": 96,
     "metadata": {},
     "output_type": "execute_result"
    }
   ],
   "source": [
    "stacked.unstack()"
   ]
  },
  {
   "cell_type": "code",
   "execution_count": 97,
   "metadata": {
    "collapsed": false
   },
   "outputs": [
    {
     "data": {
      "text/html": [
       "<div>\n",
       "<table border=\"1\" class=\"dataframe\">\n",
       "  <thead>\n",
       "    <tr style=\"text-align: right;\">\n",
       "      <th></th>\n",
       "      <th>second</th>\n",
       "      <th>one</th>\n",
       "      <th>two</th>\n",
       "    </tr>\n",
       "    <tr>\n",
       "      <th>first</th>\n",
       "      <th></th>\n",
       "      <th></th>\n",
       "      <th></th>\n",
       "    </tr>\n",
       "  </thead>\n",
       "  <tbody>\n",
       "    <tr>\n",
       "      <th rowspan=\"2\" valign=\"top\">bar</th>\n",
       "      <th>A</th>\n",
       "      <td>-0.916561</td>\n",
       "      <td>-0.538327</td>\n",
       "    </tr>\n",
       "    <tr>\n",
       "      <th>B</th>\n",
       "      <td>-1.312077</td>\n",
       "      <td>0.674643</td>\n",
       "    </tr>\n",
       "    <tr>\n",
       "      <th rowspan=\"2\" valign=\"top\">baz</th>\n",
       "      <th>A</th>\n",
       "      <td>-1.911638</td>\n",
       "      <td>-0.500005</td>\n",
       "    </tr>\n",
       "    <tr>\n",
       "      <th>B</th>\n",
       "      <td>-0.464778</td>\n",
       "      <td>0.150822</td>\n",
       "    </tr>\n",
       "  </tbody>\n",
       "</table>\n",
       "</div>"
      ],
      "text/plain": [
       "second        one       two\n",
       "first                      \n",
       "bar   A -0.916561 -0.538327\n",
       "      B -1.312077  0.674643\n",
       "baz   A -1.911638 -0.500005\n",
       "      B -0.464778  0.150822"
      ]
     },
     "execution_count": 97,
     "metadata": {},
     "output_type": "execute_result"
    }
   ],
   "source": [
    "stacked.unstack(1)"
   ]
  },
  {
   "cell_type": "code",
   "execution_count": 98,
   "metadata": {
    "collapsed": false
   },
   "outputs": [
    {
     "data": {
      "text/html": [
       "<div>\n",
       "<table border=\"1\" class=\"dataframe\">\n",
       "  <thead>\n",
       "    <tr style=\"text-align: right;\">\n",
       "      <th></th>\n",
       "      <th>first</th>\n",
       "      <th>bar</th>\n",
       "      <th>baz</th>\n",
       "    </tr>\n",
       "    <tr>\n",
       "      <th>second</th>\n",
       "      <th></th>\n",
       "      <th></th>\n",
       "      <th></th>\n",
       "    </tr>\n",
       "  </thead>\n",
       "  <tbody>\n",
       "    <tr>\n",
       "      <th rowspan=\"2\" valign=\"top\">one</th>\n",
       "      <th>A</th>\n",
       "      <td>-0.916561</td>\n",
       "      <td>-1.911638</td>\n",
       "    </tr>\n",
       "    <tr>\n",
       "      <th>B</th>\n",
       "      <td>-1.312077</td>\n",
       "      <td>-0.464778</td>\n",
       "    </tr>\n",
       "    <tr>\n",
       "      <th rowspan=\"2\" valign=\"top\">two</th>\n",
       "      <th>A</th>\n",
       "      <td>-0.538327</td>\n",
       "      <td>-0.500005</td>\n",
       "    </tr>\n",
       "    <tr>\n",
       "      <th>B</th>\n",
       "      <td>0.674643</td>\n",
       "      <td>0.150822</td>\n",
       "    </tr>\n",
       "  </tbody>\n",
       "</table>\n",
       "</div>"
      ],
      "text/plain": [
       "first          bar       baz\n",
       "second                      \n",
       "one    A -0.916561 -1.911638\n",
       "       B -1.312077 -0.464778\n",
       "two    A -0.538327 -0.500005\n",
       "       B  0.674643  0.150822"
      ]
     },
     "execution_count": 98,
     "metadata": {},
     "output_type": "execute_result"
    }
   ],
   "source": [
    "stacked.unstack(0)"
   ]
  },
  {
   "cell_type": "markdown",
   "metadata": {},
   "source": [
    "### 9.2. Pivot Tables"
   ]
  },
  {
   "cell_type": "code",
   "execution_count": 99,
   "metadata": {
    "collapsed": true
   },
   "outputs": [],
   "source": [
    "df = pd.DataFrame({'A' : ['one', 'one', 'two', 'three'] * 3,\n",
    "                   'B' : ['A', 'B', 'C'] * 4,\n",
    "                   'C' : ['foo', 'foo', 'foo', 'bar', 'bar', 'bar'] * 2,\n",
    "                   'D' : np.random.randn(12),\n",
    "                   'E' : np.random.randn(12)})"
   ]
  },
  {
   "cell_type": "code",
   "execution_count": 100,
   "metadata": {
    "collapsed": false
   },
   "outputs": [
    {
     "data": {
      "text/html": [
       "<div>\n",
       "<table border=\"1\" class=\"dataframe\">\n",
       "  <thead>\n",
       "    <tr style=\"text-align: right;\">\n",
       "      <th></th>\n",
       "      <th>A</th>\n",
       "      <th>B</th>\n",
       "      <th>C</th>\n",
       "      <th>D</th>\n",
       "      <th>E</th>\n",
       "    </tr>\n",
       "  </thead>\n",
       "  <tbody>\n",
       "    <tr>\n",
       "      <th>0</th>\n",
       "      <td>one</td>\n",
       "      <td>A</td>\n",
       "      <td>foo</td>\n",
       "      <td>-0.156009</td>\n",
       "      <td>-0.979537</td>\n",
       "    </tr>\n",
       "    <tr>\n",
       "      <th>1</th>\n",
       "      <td>one</td>\n",
       "      <td>B</td>\n",
       "      <td>foo</td>\n",
       "      <td>0.570325</td>\n",
       "      <td>-1.168042</td>\n",
       "    </tr>\n",
       "    <tr>\n",
       "      <th>2</th>\n",
       "      <td>two</td>\n",
       "      <td>C</td>\n",
       "      <td>foo</td>\n",
       "      <td>-1.518572</td>\n",
       "      <td>-0.180981</td>\n",
       "    </tr>\n",
       "    <tr>\n",
       "      <th>3</th>\n",
       "      <td>three</td>\n",
       "      <td>A</td>\n",
       "      <td>bar</td>\n",
       "      <td>-0.171913</td>\n",
       "      <td>0.393269</td>\n",
       "    </tr>\n",
       "    <tr>\n",
       "      <th>4</th>\n",
       "      <td>one</td>\n",
       "      <td>B</td>\n",
       "      <td>bar</td>\n",
       "      <td>1.150080</td>\n",
       "      <td>1.385288</td>\n",
       "    </tr>\n",
       "    <tr>\n",
       "      <th>5</th>\n",
       "      <td>one</td>\n",
       "      <td>C</td>\n",
       "      <td>bar</td>\n",
       "      <td>-1.121749</td>\n",
       "      <td>-2.188435</td>\n",
       "    </tr>\n",
       "    <tr>\n",
       "      <th>6</th>\n",
       "      <td>two</td>\n",
       "      <td>A</td>\n",
       "      <td>foo</td>\n",
       "      <td>-0.079879</td>\n",
       "      <td>-1.171173</td>\n",
       "    </tr>\n",
       "    <tr>\n",
       "      <th>7</th>\n",
       "      <td>three</td>\n",
       "      <td>B</td>\n",
       "      <td>foo</td>\n",
       "      <td>-0.895665</td>\n",
       "      <td>-0.410524</td>\n",
       "    </tr>\n",
       "    <tr>\n",
       "      <th>8</th>\n",
       "      <td>one</td>\n",
       "      <td>C</td>\n",
       "      <td>foo</td>\n",
       "      <td>1.306544</td>\n",
       "      <td>-0.581575</td>\n",
       "    </tr>\n",
       "    <tr>\n",
       "      <th>9</th>\n",
       "      <td>one</td>\n",
       "      <td>A</td>\n",
       "      <td>bar</td>\n",
       "      <td>1.087511</td>\n",
       "      <td>1.346453</td>\n",
       "    </tr>\n",
       "    <tr>\n",
       "      <th>10</th>\n",
       "      <td>two</td>\n",
       "      <td>B</td>\n",
       "      <td>bar</td>\n",
       "      <td>-0.259594</td>\n",
       "      <td>-1.454364</td>\n",
       "    </tr>\n",
       "    <tr>\n",
       "      <th>11</th>\n",
       "      <td>three</td>\n",
       "      <td>C</td>\n",
       "      <td>bar</td>\n",
       "      <td>-0.685325</td>\n",
       "      <td>-0.445758</td>\n",
       "    </tr>\n",
       "  </tbody>\n",
       "</table>\n",
       "</div>"
      ],
      "text/plain": [
       "        A  B    C         D         E\n",
       "0     one  A  foo -0.156009 -0.979537\n",
       "1     one  B  foo  0.570325 -1.168042\n",
       "2     two  C  foo -1.518572 -0.180981\n",
       "3   three  A  bar -0.171913  0.393269\n",
       "4     one  B  bar  1.150080  1.385288\n",
       "5     one  C  bar -1.121749 -2.188435\n",
       "6     two  A  foo -0.079879 -1.171173\n",
       "7   three  B  foo -0.895665 -0.410524\n",
       "8     one  C  foo  1.306544 -0.581575\n",
       "9     one  A  bar  1.087511  1.346453\n",
       "10    two  B  bar -0.259594 -1.454364\n",
       "11  three  C  bar -0.685325 -0.445758"
      ]
     },
     "execution_count": 100,
     "metadata": {},
     "output_type": "execute_result"
    }
   ],
   "source": [
    "df"
   ]
  },
  {
   "cell_type": "code",
   "execution_count": 101,
   "metadata": {
    "collapsed": false
   },
   "outputs": [
    {
     "data": {
      "text/html": [
       "<div>\n",
       "<table border=\"1\" class=\"dataframe\">\n",
       "  <thead>\n",
       "    <tr style=\"text-align: right;\">\n",
       "      <th></th>\n",
       "      <th>C</th>\n",
       "      <th>bar</th>\n",
       "      <th>foo</th>\n",
       "    </tr>\n",
       "    <tr>\n",
       "      <th>A</th>\n",
       "      <th>B</th>\n",
       "      <th></th>\n",
       "      <th></th>\n",
       "    </tr>\n",
       "  </thead>\n",
       "  <tbody>\n",
       "    <tr>\n",
       "      <th rowspan=\"3\" valign=\"top\">one</th>\n",
       "      <th>A</th>\n",
       "      <td>1.087511</td>\n",
       "      <td>-0.156009</td>\n",
       "    </tr>\n",
       "    <tr>\n",
       "      <th>B</th>\n",
       "      <td>1.150080</td>\n",
       "      <td>0.570325</td>\n",
       "    </tr>\n",
       "    <tr>\n",
       "      <th>C</th>\n",
       "      <td>-1.121749</td>\n",
       "      <td>1.306544</td>\n",
       "    </tr>\n",
       "    <tr>\n",
       "      <th rowspan=\"3\" valign=\"top\">three</th>\n",
       "      <th>A</th>\n",
       "      <td>-0.171913</td>\n",
       "      <td>NaN</td>\n",
       "    </tr>\n",
       "    <tr>\n",
       "      <th>B</th>\n",
       "      <td>NaN</td>\n",
       "      <td>-0.895665</td>\n",
       "    </tr>\n",
       "    <tr>\n",
       "      <th>C</th>\n",
       "      <td>-0.685325</td>\n",
       "      <td>NaN</td>\n",
       "    </tr>\n",
       "    <tr>\n",
       "      <th rowspan=\"3\" valign=\"top\">two</th>\n",
       "      <th>A</th>\n",
       "      <td>NaN</td>\n",
       "      <td>-0.079879</td>\n",
       "    </tr>\n",
       "    <tr>\n",
       "      <th>B</th>\n",
       "      <td>-0.259594</td>\n",
       "      <td>NaN</td>\n",
       "    </tr>\n",
       "    <tr>\n",
       "      <th>C</th>\n",
       "      <td>NaN</td>\n",
       "      <td>-1.518572</td>\n",
       "    </tr>\n",
       "  </tbody>\n",
       "</table>\n",
       "</div>"
      ],
      "text/plain": [
       "C             bar       foo\n",
       "A     B                    \n",
       "one   A  1.087511 -0.156009\n",
       "      B  1.150080  0.570325\n",
       "      C -1.121749  1.306544\n",
       "three A -0.171913       NaN\n",
       "      B       NaN -0.895665\n",
       "      C -0.685325       NaN\n",
       "two   A       NaN -0.079879\n",
       "      B -0.259594       NaN\n",
       "      C       NaN -1.518572"
      ]
     },
     "execution_count": 101,
     "metadata": {},
     "output_type": "execute_result"
    }
   ],
   "source": [
    "pd.pivot_table(df, values='D', index=['A', 'B'], columns=['C'])"
   ]
  },
  {
   "cell_type": "markdown",
   "metadata": {},
   "source": [
    "***\n",
    "## 10. Time Series"
   ]
  },
  {
   "cell_type": "code",
   "execution_count": 102,
   "metadata": {
    "collapsed": true
   },
   "outputs": [],
   "source": [
    "rng = pd.date_range('1/1/2016', periods=100, freq='S')"
   ]
  },
  {
   "cell_type": "code",
   "execution_count": 103,
   "metadata": {
    "collapsed": true
   },
   "outputs": [],
   "source": [
    "ts = pd.Series(np.random.randint(0, 500, len(rng)), index=rng)"
   ]
  },
  {
   "cell_type": "code",
   "execution_count": 104,
   "metadata": {
    "collapsed": false
   },
   "outputs": [
    {
     "data": {
      "text/plain": [
       "2016-01-01    24927\n",
       "Freq: 5T, dtype: int32"
      ]
     },
     "execution_count": 104,
     "metadata": {},
     "output_type": "execute_result"
    }
   ],
   "source": [
    "ts.resample('5Min').sum()"
   ]
  },
  {
   "cell_type": "code",
   "execution_count": 105,
   "metadata": {
    "collapsed": true
   },
   "outputs": [],
   "source": [
    "rng = pd.date_range('3/6/2016 00:00', periods=5, freq='D')"
   ]
  },
  {
   "cell_type": "code",
   "execution_count": 106,
   "metadata": {
    "collapsed": true
   },
   "outputs": [],
   "source": [
    "ts = pd.Series(np.random.randn(len(rng)), rng)\n"
   ]
  },
  {
   "cell_type": "code",
   "execution_count": 107,
   "metadata": {
    "collapsed": false
   },
   "outputs": [
    {
     "data": {
      "text/plain": [
       "2016-03-06    0.439869\n",
       "2016-03-07   -0.527934\n",
       "2016-03-08   -2.151161\n",
       "2016-03-09    1.529558\n",
       "2016-03-10    0.019990\n",
       "Freq: D, dtype: float64"
      ]
     },
     "execution_count": 107,
     "metadata": {},
     "output_type": "execute_result"
    }
   ],
   "source": [
    "ts"
   ]
  },
  {
   "cell_type": "code",
   "execution_count": 108,
   "metadata": {
    "collapsed": true
   },
   "outputs": [],
   "source": [
    "ts_utc = ts.tz_localize('UTC')"
   ]
  },
  {
   "cell_type": "code",
   "execution_count": 109,
   "metadata": {
    "collapsed": false
   },
   "outputs": [
    {
     "data": {
      "text/plain": [
       "2016-03-06 00:00:00+00:00    0.439869\n",
       "2016-03-07 00:00:00+00:00   -0.527934\n",
       "2016-03-08 00:00:00+00:00   -2.151161\n",
       "2016-03-09 00:00:00+00:00    1.529558\n",
       "2016-03-10 00:00:00+00:00    0.019990\n",
       "Freq: D, dtype: float64"
      ]
     },
     "execution_count": 109,
     "metadata": {},
     "output_type": "execute_result"
    }
   ],
   "source": [
    "ts_utc"
   ]
  },
  {
   "cell_type": "code",
   "execution_count": 110,
   "metadata": {
    "collapsed": false
   },
   "outputs": [
    {
     "data": {
      "text/plain": [
       "2016-03-05 19:00:00-05:00    0.439869\n",
       "2016-03-06 19:00:00-05:00   -0.527934\n",
       "2016-03-07 19:00:00-05:00   -2.151161\n",
       "2016-03-08 19:00:00-05:00    1.529558\n",
       "2016-03-09 19:00:00-05:00    0.019990\n",
       "Freq: D, dtype: float64"
      ]
     },
     "execution_count": 110,
     "metadata": {},
     "output_type": "execute_result"
    }
   ],
   "source": [
    "ts_utc.tz_convert('US/Eastern')"
   ]
  },
  {
   "cell_type": "code",
   "execution_count": 111,
   "metadata": {
    "collapsed": true
   },
   "outputs": [],
   "source": [
    "rng = pd.date_range('1/1/2012', periods=5, freq='M')"
   ]
  },
  {
   "cell_type": "code",
   "execution_count": 112,
   "metadata": {
    "collapsed": true
   },
   "outputs": [],
   "source": [
    "ts = pd.Series(np.random.randn(len(rng)), index=rng)"
   ]
  },
  {
   "cell_type": "code",
   "execution_count": 113,
   "metadata": {
    "collapsed": false
   },
   "outputs": [
    {
     "data": {
      "text/plain": [
       "2012-01-31    2.171798\n",
       "2012-02-29    0.351568\n",
       "2012-03-31    1.117885\n",
       "2012-04-30   -1.035654\n",
       "2012-05-31    1.103586\n",
       "Freq: M, dtype: float64"
      ]
     },
     "execution_count": 113,
     "metadata": {},
     "output_type": "execute_result"
    }
   ],
   "source": [
    "ts"
   ]
  },
  {
   "cell_type": "code",
   "execution_count": 114,
   "metadata": {
    "collapsed": true
   },
   "outputs": [],
   "source": [
    "ps = ts.to_period()"
   ]
  },
  {
   "cell_type": "code",
   "execution_count": 115,
   "metadata": {
    "collapsed": false
   },
   "outputs": [
    {
     "data": {
      "text/plain": [
       "2012-01    2.171798\n",
       "2012-02    0.351568\n",
       "2012-03    1.117885\n",
       "2012-04   -1.035654\n",
       "2012-05    1.103586\n",
       "Freq: M, dtype: float64"
      ]
     },
     "execution_count": 115,
     "metadata": {},
     "output_type": "execute_result"
    }
   ],
   "source": [
    "ps"
   ]
  },
  {
   "cell_type": "code",
   "execution_count": 116,
   "metadata": {
    "collapsed": false
   },
   "outputs": [
    {
     "data": {
      "text/plain": [
       "2012-01-01    2.171798\n",
       "2012-02-01    0.351568\n",
       "2012-03-01    1.117885\n",
       "2012-04-01   -1.035654\n",
       "2012-05-01    1.103586\n",
       "Freq: MS, dtype: float64"
      ]
     },
     "execution_count": 116,
     "metadata": {},
     "output_type": "execute_result"
    }
   ],
   "source": [
    "ps.to_timestamp()"
   ]
  },
  {
   "cell_type": "code",
   "execution_count": 117,
   "metadata": {
    "collapsed": true
   },
   "outputs": [],
   "source": [
    "prng = pd.period_range('1990Q1', '2000Q4', freq='Q-NOV')"
   ]
  },
  {
   "cell_type": "code",
   "execution_count": 118,
   "metadata": {
    "collapsed": true
   },
   "outputs": [],
   "source": [
    "ts = pd.Series(np.random.randn(len(prng)), prng)\n"
   ]
  },
  {
   "cell_type": "code",
   "execution_count": 119,
   "metadata": {
    "collapsed": true
   },
   "outputs": [],
   "source": [
    "ts.index = (prng.asfreq('M', 'e') + 1).asfreq('H', 's') + 9"
   ]
  },
  {
   "cell_type": "code",
   "execution_count": 120,
   "metadata": {
    "collapsed": false
   },
   "outputs": [
    {
     "data": {
      "text/plain": [
       "1990-03-01 09:00    0.012566\n",
       "1990-06-01 09:00   -1.049444\n",
       "1990-09-01 09:00   -1.121198\n",
       "1990-12-01 09:00    1.413614\n",
       "1991-03-01 09:00    0.738577\n",
       "Freq: H, dtype: float64"
      ]
     },
     "execution_count": 120,
     "metadata": {},
     "output_type": "execute_result"
    }
   ],
   "source": [
    "ts.head()"
   ]
  },
  {
   "cell_type": "markdown",
   "metadata": {},
   "source": [
    "***\n",
    "## 11. Categoricals "
   ]
  },
  {
   "cell_type": "code",
   "execution_count": 121,
   "metadata": {
    "collapsed": true
   },
   "outputs": [],
   "source": [
    "df = pd.DataFrame({\"id\":[1,2,3,4,5,6], \"raw_grade\":['a', 'b', 'b', 'a', 'a', 'e']})"
   ]
  },
  {
   "cell_type": "code",
   "execution_count": 122,
   "metadata": {
    "collapsed": true
   },
   "outputs": [],
   "source": [
    "df[\"grade\"] = df[\"raw_grade\"].astype(\"category\")"
   ]
  },
  {
   "cell_type": "code",
   "execution_count": 123,
   "metadata": {
    "collapsed": false
   },
   "outputs": [
    {
     "data": {
      "text/plain": [
       "0    a\n",
       "1    b\n",
       "2    b\n",
       "3    a\n",
       "4    a\n",
       "5    e\n",
       "Name: grade, dtype: category\n",
       "Categories (3, object): [a, b, e]"
      ]
     },
     "execution_count": 123,
     "metadata": {},
     "output_type": "execute_result"
    }
   ],
   "source": [
    "df[\"grade\"]\n"
   ]
  },
  {
   "cell_type": "code",
   "execution_count": 124,
   "metadata": {
    "collapsed": true
   },
   "outputs": [],
   "source": [
    "df[\"grade\"].cat.categories = [\"very good\", \"good\", \"very bad\"]"
   ]
  },
  {
   "cell_type": "code",
   "execution_count": 125,
   "metadata": {
    "collapsed": true
   },
   "outputs": [],
   "source": [
    "df[\"grade\"] = df[\"grade\"].cat.set_categories([\"very bad\", \"bad\", \"medium\", \"good\", \"very good\"])"
   ]
  },
  {
   "cell_type": "code",
   "execution_count": 126,
   "metadata": {
    "collapsed": false
   },
   "outputs": [
    {
     "data": {
      "text/plain": [
       "0    very good\n",
       "1         good\n",
       "2         good\n",
       "3    very good\n",
       "4    very good\n",
       "5     very bad\n",
       "Name: grade, dtype: category\n",
       "Categories (5, object): [very bad, bad, medium, good, very good]"
      ]
     },
     "execution_count": 126,
     "metadata": {},
     "output_type": "execute_result"
    }
   ],
   "source": [
    "df[\"grade\"]"
   ]
  },
  {
   "cell_type": "code",
   "execution_count": 127,
   "metadata": {
    "collapsed": false
   },
   "outputs": [
    {
     "data": {
      "text/html": [
       "<div>\n",
       "<table border=\"1\" class=\"dataframe\">\n",
       "  <thead>\n",
       "    <tr style=\"text-align: right;\">\n",
       "      <th></th>\n",
       "      <th>id</th>\n",
       "      <th>raw_grade</th>\n",
       "      <th>grade</th>\n",
       "    </tr>\n",
       "  </thead>\n",
       "  <tbody>\n",
       "    <tr>\n",
       "      <th>5</th>\n",
       "      <td>6</td>\n",
       "      <td>e</td>\n",
       "      <td>very bad</td>\n",
       "    </tr>\n",
       "    <tr>\n",
       "      <th>1</th>\n",
       "      <td>2</td>\n",
       "      <td>b</td>\n",
       "      <td>good</td>\n",
       "    </tr>\n",
       "    <tr>\n",
       "      <th>2</th>\n",
       "      <td>3</td>\n",
       "      <td>b</td>\n",
       "      <td>good</td>\n",
       "    </tr>\n",
       "    <tr>\n",
       "      <th>0</th>\n",
       "      <td>1</td>\n",
       "      <td>a</td>\n",
       "      <td>very good</td>\n",
       "    </tr>\n",
       "    <tr>\n",
       "      <th>3</th>\n",
       "      <td>4</td>\n",
       "      <td>a</td>\n",
       "      <td>very good</td>\n",
       "    </tr>\n",
       "    <tr>\n",
       "      <th>4</th>\n",
       "      <td>5</td>\n",
       "      <td>a</td>\n",
       "      <td>very good</td>\n",
       "    </tr>\n",
       "  </tbody>\n",
       "</table>\n",
       "</div>"
      ],
      "text/plain": [
       "   id raw_grade      grade\n",
       "5   6         e   very bad\n",
       "1   2         b       good\n",
       "2   3         b       good\n",
       "0   1         a  very good\n",
       "3   4         a  very good\n",
       "4   5         a  very good"
      ]
     },
     "execution_count": 127,
     "metadata": {},
     "output_type": "execute_result"
    }
   ],
   "source": [
    "df.sort_values(by=\"grade\")"
   ]
  },
  {
   "cell_type": "code",
   "execution_count": 128,
   "metadata": {
    "collapsed": false
   },
   "outputs": [
    {
     "data": {
      "text/plain": [
       "grade\n",
       "very bad     1\n",
       "bad          0\n",
       "medium       0\n",
       "good         2\n",
       "very good    3\n",
       "dtype: int64"
      ]
     },
     "execution_count": 128,
     "metadata": {},
     "output_type": "execute_result"
    }
   ],
   "source": [
    "df.groupby(\"grade\").size()"
   ]
  },
  {
   "cell_type": "markdown",
   "metadata": {},
   "source": [
    "***\n",
    "## 12. Plotting"
   ]
  },
  {
   "cell_type": "code",
   "execution_count": 129,
   "metadata": {
    "collapsed": true
   },
   "outputs": [],
   "source": [
    "%matplotlib inline"
   ]
  },
  {
   "cell_type": "code",
   "execution_count": 130,
   "metadata": {
    "collapsed": true
   },
   "outputs": [],
   "source": [
    "ts = pd.Series(np.random.randn(1000), index=pd.date_range('1/1/2000', periods=1000))"
   ]
  },
  {
   "cell_type": "code",
   "execution_count": 131,
   "metadata": {
    "collapsed": true
   },
   "outputs": [],
   "source": [
    "ts = ts.cumsum()"
   ]
  },
  {
   "cell_type": "code",
   "execution_count": 132,
   "metadata": {
    "collapsed": false
   },
   "outputs": [
    {
     "data": {
      "text/plain": [
       "<matplotlib.axes._subplots.AxesSubplot at 0x93fbf98>"
      ]
     },
     "execution_count": 132,
     "metadata": {},
     "output_type": "execute_result"
    },
    {
     "data": {
      "image/png": "[encoded data removed]",
      "text/plain": [
       "<matplotlib.figure.Figure at 0x93df4a8>"
      ]
     },
     "metadata": {},
     "output_type": "display_data"
    }
   ],
   "source": [
    "ts.plot()"
   ]
  },
  {
   "cell_type": "code",
   "execution_count": 133,
   "metadata": {
    "collapsed": true
   },
   "outputs": [],
   "source": [
    "df = pd.DataFrame(np.random.randn(1000, 4), index=ts.index,\n",
    "                  columns=['A', 'B', 'C', 'D'])"
   ]
  },
  {
   "cell_type": "code",
   "execution_count": 134,
   "metadata": {
    "collapsed": true
   },
   "outputs": [],
   "source": [
    "df = df.cumsum()"
   ]
  },
  {
   "cell_type": "code",
   "execution_count": 135,
   "metadata": {
    "collapsed": false
   },
   "outputs": [
    {
     "data": {
      "text/plain": [
       "<matplotlib.legend.Legend at 0x925e320>"
      ]
     },
     "execution_count": 135,
     "metadata": {},
     "output_type": "execute_result"
    },
    {
     "data": {
      "text/plain": [
       "<matplotlib.figure.Figure at 0x95f8cc0>"
      ]
     },
     "metadata": {},
     "output_type": "display_data"
    },
    {
     "data": {
      "image/png": "[encoded data removed]",
      "text/plain": [
       "<matplotlib.figure.Figure at 0x9798240>"
      ]
     },
     "metadata": {},
     "output_type": "display_data"
    }
   ],
   "source": [
    "plt.figure(); df.plot(); plt.legend(loc='best')"
   ]
  },
  {
   "cell_type": "markdown",
   "metadata": {},
   "source": [
    "***\n",
    "## 13. Getting Data In/Out\n",
    "### 13.1 CSV"
   ]
  },
  {
   "cell_type": "code",
   "execution_count": 136,
   "metadata": {
    "collapsed": true
   },
   "outputs": [],
   "source": [
    "df.to_csv('foo.csv')"
   ]
  },
  {
   "cell_type": "code",
   "execution_count": 137,
   "metadata": {
    "collapsed": false
   },
   "outputs": [
    {
     "data": {
      "text/html": [
       "<div>\n",
       "<table border=\"1\" class=\"dataframe\">\n",
       "  <thead>\n",
       "    <tr style=\"text-align: right;\">\n",
       "      <th></th>\n",
       "      <th>Unnamed: 0</th>\n",
       "      <th>A</th>\n",
       "      <th>B</th>\n",
       "      <th>C</th>\n",
       "      <th>D</th>\n",
       "    </tr>\n",
       "  </thead>\n",
       "  <tbody>\n",
       "    <tr>\n",
       "      <th>0</th>\n",
       "      <td>2000-01-01</td>\n",
       "      <td>-1.473475</td>\n",
       "      <td>0.196133</td>\n",
       "      <td>0.143065</td>\n",
       "      <td>-0.584453</td>\n",
       "    </tr>\n",
       "    <tr>\n",
       "      <th>1</th>\n",
       "      <td>2000-01-02</td>\n",
       "      <td>-0.214906</td>\n",
       "      <td>0.659617</td>\n",
       "      <td>-1.009029</td>\n",
       "      <td>-0.639740</td>\n",
       "    </tr>\n",
       "    <tr>\n",
       "      <th>2</th>\n",
       "      <td>2000-01-03</td>\n",
       "      <td>0.733988</td>\n",
       "      <td>0.320773</td>\n",
       "      <td>0.532691</td>\n",
       "      <td>-1.310525</td>\n",
       "    </tr>\n",
       "    <tr>\n",
       "      <th>3</th>\n",
       "      <td>2000-01-04</td>\n",
       "      <td>0.565963</td>\n",
       "      <td>-0.400237</td>\n",
       "      <td>1.630124</td>\n",
       "      <td>-0.680890</td>\n",
       "    </tr>\n",
       "    <tr>\n",
       "      <th>4</th>\n",
       "      <td>2000-01-05</td>\n",
       "      <td>1.110939</td>\n",
       "      <td>-1.063032</td>\n",
       "      <td>1.394431</td>\n",
       "      <td>-1.717581</td>\n",
       "    </tr>\n",
       "    <tr>\n",
       "      <th>5</th>\n",
       "      <td>2000-01-06</td>\n",
       "      <td>-1.272468</td>\n",
       "      <td>-0.749343</td>\n",
       "      <td>1.010942</td>\n",
       "      <td>-1.964952</td>\n",
       "    </tr>\n",
       "    <tr>\n",
       "      <th>6</th>\n",
       "      <td>2000-01-07</td>\n",
       "      <td>-1.123399</td>\n",
       "      <td>-1.210307</td>\n",
       "      <td>2.254899</td>\n",
       "      <td>-1.188171</td>\n",
       "    </tr>\n",
       "    <tr>\n",
       "      <th>7</th>\n",
       "      <td>2000-01-08</td>\n",
       "      <td>-2.477062</td>\n",
       "      <td>-1.291856</td>\n",
       "      <td>3.305471</td>\n",
       "      <td>-0.811250</td>\n",
       "    </tr>\n",
       "    <tr>\n",
       "      <th>8</th>\n",
       "      <td>2000-01-09</td>\n",
       "      <td>-2.080919</td>\n",
       "      <td>-1.886200</td>\n",
       "      <td>3.261828</td>\n",
       "      <td>-0.548591</td>\n",
       "    </tr>\n",
       "    <tr>\n",
       "      <th>9</th>\n",
       "      <td>2000-01-10</td>\n",
       "      <td>-2.786142</td>\n",
       "      <td>-2.057736</td>\n",
       "      <td>1.951513</td>\n",
       "      <td>1.610442</td>\n",
       "    </tr>\n",
       "    <tr>\n",
       "      <th>10</th>\n",
       "      <td>2000-01-11</td>\n",
       "      <td>-2.621696</td>\n",
       "      <td>-2.216110</td>\n",
       "      <td>2.093296</td>\n",
       "      <td>0.177767</td>\n",
       "    </tr>\n",
       "    <tr>\n",
       "      <th>11</th>\n",
       "      <td>2000-01-12</td>\n",
       "      <td>-2.796659</td>\n",
       "      <td>-3.067442</td>\n",
       "      <td>1.363913</td>\n",
       "      <td>-0.966712</td>\n",
       "    </tr>\n",
       "    <tr>\n",
       "      <th>12</th>\n",
       "      <td>2000-01-13</td>\n",
       "      <td>-3.610234</td>\n",
       "      <td>-0.524380</td>\n",
       "      <td>0.988915</td>\n",
       "      <td>-1.529095</td>\n",
       "    </tr>\n",
       "    <tr>\n",
       "      <th>13</th>\n",
       "      <td>2000-01-14</td>\n",
       "      <td>-2.262818</td>\n",
       "      <td>0.805243</td>\n",
       "      <td>2.557940</td>\n",
       "      <td>-0.335517</td>\n",
       "    </tr>\n",
       "    <tr>\n",
       "      <th>14</th>\n",
       "      <td>2000-01-15</td>\n",
       "      <td>-3.558170</td>\n",
       "      <td>3.152149</td>\n",
       "      <td>1.725910</td>\n",
       "      <td>-1.360231</td>\n",
       "    </tr>\n",
       "    <tr>\n",
       "      <th>15</th>\n",
       "      <td>2000-01-16</td>\n",
       "      <td>-4.624622</td>\n",
       "      <td>3.445126</td>\n",
       "      <td>0.530029</td>\n",
       "      <td>-0.004102</td>\n",
       "    </tr>\n",
       "    <tr>\n",
       "      <th>16</th>\n",
       "      <td>2000-01-17</td>\n",
       "      <td>-5.334942</td>\n",
       "      <td>2.770311</td>\n",
       "      <td>0.841967</td>\n",
       "      <td>-0.398626</td>\n",
       "    </tr>\n",
       "    <tr>\n",
       "      <th>17</th>\n",
       "      <td>2000-01-18</td>\n",
       "      <td>-5.836690</td>\n",
       "      <td>1.581427</td>\n",
       "      <td>-1.866139</td>\n",
       "      <td>-1.202490</td>\n",
       "    </tr>\n",
       "    <tr>\n",
       "      <th>18</th>\n",
       "      <td>2000-01-19</td>\n",
       "      <td>-5.629595</td>\n",
       "      <td>0.497413</td>\n",
       "      <td>-2.713383</td>\n",
       "      <td>2.300726</td>\n",
       "    </tr>\n",
       "    <tr>\n",
       "      <th>19</th>\n",
       "      <td>2000-01-20</td>\n",
       "      <td>-6.480973</td>\n",
       "      <td>0.149345</td>\n",
       "      <td>-1.553628</td>\n",
       "      <td>2.740266</td>\n",
       "    </tr>\n",
       "    <tr>\n",
       "      <th>20</th>\n",
       "      <td>2000-01-21</td>\n",
       "      <td>-6.363423</td>\n",
       "      <td>0.906380</td>\n",
       "      <td>-1.163579</td>\n",
       "      <td>2.660592</td>\n",
       "    </tr>\n",
       "    <tr>\n",
       "      <th>21</th>\n",
       "      <td>2000-01-22</td>\n",
       "      <td>-5.972574</td>\n",
       "      <td>-0.301114</td>\n",
       "      <td>-1.332623</td>\n",
       "      <td>2.028134</td>\n",
       "    </tr>\n",
       "    <tr>\n",
       "      <th>22</th>\n",
       "      <td>2000-01-23</td>\n",
       "      <td>-5.315095</td>\n",
       "      <td>0.446013</td>\n",
       "      <td>-0.488460</td>\n",
       "      <td>1.348523</td>\n",
       "    </tr>\n",
       "    <tr>\n",
       "      <th>23</th>\n",
       "      <td>2000-01-24</td>\n",
       "      <td>-5.305250</td>\n",
       "      <td>-0.347696</td>\n",
       "      <td>0.437271</td>\n",
       "      <td>0.784291</td>\n",
       "    </tr>\n",
       "    <tr>\n",
       "      <th>24</th>\n",
       "      <td>2000-01-25</td>\n",
       "      <td>-4.642458</td>\n",
       "      <td>-1.068186</td>\n",
       "      <td>1.054349</td>\n",
       "      <td>0.397194</td>\n",
       "    </tr>\n",
       "    <tr>\n",
       "      <th>25</th>\n",
       "      <td>2000-01-26</td>\n",
       "      <td>-4.843980</td>\n",
       "      <td>-2.502995</td>\n",
       "      <td>1.370235</td>\n",
       "      <td>0.327136</td>\n",
       "    </tr>\n",
       "    <tr>\n",
       "      <th>26</th>\n",
       "      <td>2000-01-27</td>\n",
       "      <td>-6.925864</td>\n",
       "      <td>-3.558540</td>\n",
       "      <td>2.448862</td>\n",
       "      <td>0.550478</td>\n",
       "    </tr>\n",
       "    <tr>\n",
       "      <th>27</th>\n",
       "      <td>2000-01-28</td>\n",
       "      <td>-6.593263</td>\n",
       "      <td>-4.217489</td>\n",
       "      <td>1.360329</td>\n",
       "      <td>0.418684</td>\n",
       "    </tr>\n",
       "    <tr>\n",
       "      <th>28</th>\n",
       "      <td>2000-01-29</td>\n",
       "      <td>-6.293565</td>\n",
       "      <td>-4.387206</td>\n",
       "      <td>0.613741</td>\n",
       "      <td>0.878734</td>\n",
       "    </tr>\n",
       "    <tr>\n",
       "      <th>29</th>\n",
       "      <td>2000-01-30</td>\n",
       "      <td>-6.729435</td>\n",
       "      <td>-4.500842</td>\n",
       "      <td>-0.482206</td>\n",
       "      <td>1.007359</td>\n",
       "    </tr>\n",
       "    <tr>\n",
       "      <th>...</th>\n",
       "      <td>...</td>\n",
       "      <td>...</td>\n",
       "      <td>...</td>\n",
       "      <td>...</td>\n",
       "      <td>...</td>\n",
       "    </tr>\n",
       "    <tr>\n",
       "      <th>970</th>\n",
       "      <td>2002-08-28</td>\n",
       "      <td>-10.439823</td>\n",
       "      <td>16.754625</td>\n",
       "      <td>-64.811221</td>\n",
       "      <td>-5.859777</td>\n",
       "    </tr>\n",
       "    <tr>\n",
       "      <th>971</th>\n",
       "      <td>2002-08-29</td>\n",
       "      <td>-11.071587</td>\n",
       "      <td>16.744593</td>\n",
       "      <td>-64.067906</td>\n",
       "      <td>-5.607781</td>\n",
       "    </tr>\n",
       "    <tr>\n",
       "      <th>972</th>\n",
       "      <td>2002-08-30</td>\n",
       "      <td>-11.322407</td>\n",
       "      <td>17.505546</td>\n",
       "      <td>-63.147773</td>\n",
       "      <td>-6.459584</td>\n",
       "    </tr>\n",
       "    <tr>\n",
       "      <th>973</th>\n",
       "      <td>2002-08-31</td>\n",
       "      <td>-12.046716</td>\n",
       "      <td>17.983504</td>\n",
       "      <td>-65.816628</td>\n",
       "      <td>-5.768741</td>\n",
       "    </tr>\n",
       "    <tr>\n",
       "      <th>974</th>\n",
       "      <td>2002-09-01</td>\n",
       "      <td>-13.201385</td>\n",
       "      <td>18.520064</td>\n",
       "      <td>-65.587406</td>\n",
       "      <td>-6.016390</td>\n",
       "    </tr>\n",
       "    <tr>\n",
       "      <th>975</th>\n",
       "      <td>2002-09-02</td>\n",
       "      <td>-12.849304</td>\n",
       "      <td>19.314991</td>\n",
       "      <td>-66.627812</td>\n",
       "      <td>-5.821023</td>\n",
       "    </tr>\n",
       "    <tr>\n",
       "      <th>976</th>\n",
       "      <td>2002-09-03</td>\n",
       "      <td>-13.157384</td>\n",
       "      <td>18.804184</td>\n",
       "      <td>-66.596914</td>\n",
       "      <td>-6.785625</td>\n",
       "    </tr>\n",
       "    <tr>\n",
       "      <th>977</th>\n",
       "      <td>2002-09-04</td>\n",
       "      <td>-14.075356</td>\n",
       "      <td>19.303154</td>\n",
       "      <td>-66.960136</td>\n",
       "      <td>-6.087765</td>\n",
       "    </tr>\n",
       "    <tr>\n",
       "      <th>978</th>\n",
       "      <td>2002-09-05</td>\n",
       "      <td>-13.520638</td>\n",
       "      <td>19.623442</td>\n",
       "      <td>-68.066910</td>\n",
       "      <td>-6.551855</td>\n",
       "    </tr>\n",
       "    <tr>\n",
       "      <th>979</th>\n",
       "      <td>2002-09-06</td>\n",
       "      <td>-12.186194</td>\n",
       "      <td>20.283090</td>\n",
       "      <td>-70.288913</td>\n",
       "      <td>-7.193073</td>\n",
       "    </tr>\n",
       "    <tr>\n",
       "      <th>980</th>\n",
       "      <td>2002-09-07</td>\n",
       "      <td>-12.770973</td>\n",
       "      <td>19.510838</td>\n",
       "      <td>-70.290728</td>\n",
       "      <td>-4.523037</td>\n",
       "    </tr>\n",
       "    <tr>\n",
       "      <th>981</th>\n",
       "      <td>2002-09-08</td>\n",
       "      <td>-12.798807</td>\n",
       "      <td>19.384785</td>\n",
       "      <td>-70.375056</td>\n",
       "      <td>-5.072793</td>\n",
       "    </tr>\n",
       "    <tr>\n",
       "      <th>982</th>\n",
       "      <td>2002-09-09</td>\n",
       "      <td>-15.467220</td>\n",
       "      <td>18.510862</td>\n",
       "      <td>-70.093266</td>\n",
       "      <td>-4.591331</td>\n",
       "    </tr>\n",
       "    <tr>\n",
       "      <th>983</th>\n",
       "      <td>2002-09-10</td>\n",
       "      <td>-14.188457</td>\n",
       "      <td>19.921118</td>\n",
       "      <td>-70.293477</td>\n",
       "      <td>-3.189717</td>\n",
       "    </tr>\n",
       "    <tr>\n",
       "      <th>984</th>\n",
       "      <td>2002-09-11</td>\n",
       "      <td>-14.087328</td>\n",
       "      <td>19.173552</td>\n",
       "      <td>-72.133505</td>\n",
       "      <td>-3.068784</td>\n",
       "    </tr>\n",
       "    <tr>\n",
       "      <th>985</th>\n",
       "      <td>2002-09-12</td>\n",
       "      <td>-12.907834</td>\n",
       "      <td>19.708564</td>\n",
       "      <td>-73.478887</td>\n",
       "      <td>-2.386329</td>\n",
       "    </tr>\n",
       "    <tr>\n",
       "      <th>986</th>\n",
       "      <td>2002-09-13</td>\n",
       "      <td>-12.288445</td>\n",
       "      <td>18.909343</td>\n",
       "      <td>-71.261858</td>\n",
       "      <td>-2.119215</td>\n",
       "    </tr>\n",
       "    <tr>\n",
       "      <th>987</th>\n",
       "      <td>2002-09-14</td>\n",
       "      <td>-12.048457</td>\n",
       "      <td>18.791085</td>\n",
       "      <td>-70.570560</td>\n",
       "      <td>-2.131411</td>\n",
       "    </tr>\n",
       "    <tr>\n",
       "      <th>988</th>\n",
       "      <td>2002-09-15</td>\n",
       "      <td>-11.874959</td>\n",
       "      <td>19.927110</td>\n",
       "      <td>-69.788185</td>\n",
       "      <td>-2.800117</td>\n",
       "    </tr>\n",
       "    <tr>\n",
       "      <th>989</th>\n",
       "      <td>2002-09-16</td>\n",
       "      <td>-12.102687</td>\n",
       "      <td>17.096208</td>\n",
       "      <td>-69.461584</td>\n",
       "      <td>-4.649891</td>\n",
       "    </tr>\n",
       "    <tr>\n",
       "      <th>990</th>\n",
       "      <td>2002-09-17</td>\n",
       "      <td>-11.045322</td>\n",
       "      <td>16.653443</td>\n",
       "      <td>-68.439466</td>\n",
       "      <td>-5.782531</td>\n",
       "    </tr>\n",
       "    <tr>\n",
       "      <th>991</th>\n",
       "      <td>2002-09-18</td>\n",
       "      <td>-12.216693</td>\n",
       "      <td>17.005929</td>\n",
       "      <td>-68.079814</td>\n",
       "      <td>-6.401320</td>\n",
       "    </tr>\n",
       "    <tr>\n",
       "      <th>992</th>\n",
       "      <td>2002-09-19</td>\n",
       "      <td>-12.439080</td>\n",
       "      <td>17.031216</td>\n",
       "      <td>-68.417983</td>\n",
       "      <td>-6.772492</td>\n",
       "    </tr>\n",
       "    <tr>\n",
       "      <th>993</th>\n",
       "      <td>2002-09-20</td>\n",
       "      <td>-13.584222</td>\n",
       "      <td>17.136453</td>\n",
       "      <td>-68.957979</td>\n",
       "      <td>-7.160025</td>\n",
       "    </tr>\n",
       "    <tr>\n",
       "      <th>994</th>\n",
       "      <td>2002-09-21</td>\n",
       "      <td>-12.977107</td>\n",
       "      <td>16.223789</td>\n",
       "      <td>-68.849352</td>\n",
       "      <td>-6.699082</td>\n",
       "    </tr>\n",
       "    <tr>\n",
       "      <th>995</th>\n",
       "      <td>2002-09-22</td>\n",
       "      <td>-13.006524</td>\n",
       "      <td>16.358872</td>\n",
       "      <td>-68.390092</td>\n",
       "      <td>-7.557877</td>\n",
       "    </tr>\n",
       "    <tr>\n",
       "      <th>996</th>\n",
       "      <td>2002-09-23</td>\n",
       "      <td>-14.490439</td>\n",
       "      <td>17.076418</td>\n",
       "      <td>-69.113106</td>\n",
       "      <td>-7.854406</td>\n",
       "    </tr>\n",
       "    <tr>\n",
       "      <th>997</th>\n",
       "      <td>2002-09-24</td>\n",
       "      <td>-15.890070</td>\n",
       "      <td>17.814127</td>\n",
       "      <td>-69.902684</td>\n",
       "      <td>-8.769072</td>\n",
       "    </tr>\n",
       "    <tr>\n",
       "      <th>998</th>\n",
       "      <td>2002-09-25</td>\n",
       "      <td>-16.374141</td>\n",
       "      <td>18.155802</td>\n",
       "      <td>-69.533923</td>\n",
       "      <td>-7.565190</td>\n",
       "    </tr>\n",
       "    <tr>\n",
       "      <th>999</th>\n",
       "      <td>2002-09-26</td>\n",
       "      <td>-15.534502</td>\n",
       "      <td>17.928278</td>\n",
       "      <td>-68.071386</td>\n",
       "      <td>-9.089777</td>\n",
       "    </tr>\n",
       "  </tbody>\n",
       "</table>\n",
       "<p>1000 rows × 5 columns</p>\n",
       "</div>"
      ],
      "text/plain": [
       "     Unnamed: 0          A          B          C         D\n",
       "0    2000-01-01  -1.473475   0.196133   0.143065 -0.584453\n",
       "1    2000-01-02  -0.214906   0.659617  -1.009029 -0.639740\n",
       "2    2000-01-03   0.733988   0.320773   0.532691 -1.310525\n",
       "3    2000-01-04   0.565963  -0.400237   1.630124 -0.680890\n",
       "4    2000-01-05   1.110939  -1.063032   1.394431 -1.717581\n",
       "5    2000-01-06  -1.272468  -0.749343   1.010942 -1.964952\n",
       "6    2000-01-07  -1.123399  -1.210307   2.254899 -1.188171\n",
       "7    2000-01-08  -2.477062  -1.291856   3.305471 -0.811250\n",
       "8    2000-01-09  -2.080919  -1.886200   3.261828 -0.548591\n",
       "9    2000-01-10  -2.786142  -2.057736   1.951513  1.610442\n",
       "10   2000-01-11  -2.621696  -2.216110   2.093296  0.177767\n",
       "11   2000-01-12  -2.796659  -3.067442   1.363913 -0.966712\n",
       "12   2000-01-13  -3.610234  -0.524380   0.988915 -1.529095\n",
       "13   2000-01-14  -2.262818   0.805243   2.557940 -0.335517\n",
       "14   2000-01-15  -3.558170   3.152149   1.725910 -1.360231\n",
       "15   2000-01-16  -4.624622   3.445126   0.530029 -0.004102\n",
       "16   2000-01-17  -5.334942   2.770311   0.841967 -0.398626\n",
       "17   2000-01-18  -5.836690   1.581427  -1.866139 -1.202490\n",
       "18   2000-01-19  -5.629595   0.497413  -2.713383  2.300726\n",
       "19   2000-01-20  -6.480973   0.149345  -1.553628  2.740266\n",
       "20   2000-01-21  -6.363423   0.906380  -1.163579  2.660592\n",
       "21   2000-01-22  -5.972574  -0.301114  -1.332623  2.028134\n",
       "22   2000-01-23  -5.315095   0.446013  -0.488460  1.348523\n",
       "23   2000-01-24  -5.305250  -0.347696   0.437271  0.784291\n",
       "24   2000-01-25  -4.642458  -1.068186   1.054349  0.397194\n",
       "25   2000-01-26  -4.843980  -2.502995   1.370235  0.327136\n",
       "26   2000-01-27  -6.925864  -3.558540   2.448862  0.550478\n",
       "27   2000-01-28  -6.593263  -4.217489   1.360329  0.418684\n",
       "28   2000-01-29  -6.293565  -4.387206   0.613741  0.878734\n",
       "29   2000-01-30  -6.729435  -4.500842  -0.482206  1.007359\n",
       "..          ...        ...        ...        ...       ...\n",
       "970  2002-08-28 -10.439823  16.754625 -64.811221 -5.859777\n",
       "971  2002-08-29 -11.071587  16.744593 -64.067906 -5.607781\n",
       "972  2002-08-30 -11.322407  17.505546 -63.147773 -6.459584\n",
       "973  2002-08-31 -12.046716  17.983504 -65.816628 -5.768741\n",
       "974  2002-09-01 -13.201385  18.520064 -65.587406 -6.016390\n",
       "975  2002-09-02 -12.849304  19.314991 -66.627812 -5.821023\n",
       "976  2002-09-03 -13.157384  18.804184 -66.596914 -6.785625\n",
       "977  2002-09-04 -14.075356  19.303154 -66.960136 -6.087765\n",
       "978  2002-09-05 -13.520638  19.623442 -68.066910 -6.551855\n",
       "979  2002-09-06 -12.186194  20.283090 -70.288913 -7.193073\n",
       "980  2002-09-07 -12.770973  19.510838 -70.290728 -4.523037\n",
       "981  2002-09-08 -12.798807  19.384785 -70.375056 -5.072793\n",
       "982  2002-09-09 -15.467220  18.510862 -70.093266 -4.591331\n",
       "983  2002-09-10 -14.188457  19.921118 -70.293477 -3.189717\n",
       "984  2002-09-11 -14.087328  19.173552 -72.133505 -3.068784\n",
       "985  2002-09-12 -12.907834  19.708564 -73.478887 -2.386329\n",
       "986  2002-09-13 -12.288445  18.909343 -71.261858 -2.119215\n",
       "987  2002-09-14 -12.048457  18.791085 -70.570560 -2.131411\n",
       "988  2002-09-15 -11.874959  19.927110 -69.788185 -2.800117\n",
       "989  2002-09-16 -12.102687  17.096208 -69.461584 -4.649891\n",
       "990  2002-09-17 -11.045322  16.653443 -68.439466 -5.782531\n",
       "991  2002-09-18 -12.216693  17.005929 -68.079814 -6.401320\n",
       "992  2002-09-19 -12.439080  17.031216 -68.417983 -6.772492\n",
       "993  2002-09-20 -13.584222  17.136453 -68.957979 -7.160025\n",
       "994  2002-09-21 -12.977107  16.223789 -68.849352 -6.699082\n",
       "995  2002-09-22 -13.006524  16.358872 -68.390092 -7.557877\n",
       "996  2002-09-23 -14.490439  17.076418 -69.113106 -7.854406\n",
       "997  2002-09-24 -15.890070  17.814127 -69.902684 -8.769072\n",
       "998  2002-09-25 -16.374141  18.155802 -69.533923 -7.565190\n",
       "999  2002-09-26 -15.534502  17.928278 -68.071386 -9.089777\n",
       "\n",
       "[1000 rows x 5 columns]"
      ]
     },
     "execution_count": 137,
     "metadata": {},
     "output_type": "execute_result"
    }
   ],
   "source": [
    "pd.read_csv('foo.csv')"
   ]
  },
  {
   "cell_type": "markdown",
   "metadata": {},
   "source": [
    "### 13.2. HDF5"
   ]
  },
  {
   "cell_type": "code",
   "execution_count": 138,
   "metadata": {
    "collapsed": true
   },
   "outputs": [],
   "source": [
    "df.to_hdf('foo.h5','df')"
   ]
  },
  {
   "cell_type": "code",
   "execution_count": 139,
   "metadata": {
    "collapsed": false
   },
   "outputs": [
    {
     "data": {
      "text/html": [
       "<div>\n",
       "<table border=\"1\" class=\"dataframe\">\n",
       "  <thead>\n",
       "    <tr style=\"text-align: right;\">\n",
       "      <th></th>\n",
       "      <th>A</th>\n",
       "      <th>B</th>\n",
       "      <th>C</th>\n",
       "      <th>D</th>\n",
       "    </tr>\n",
       "  </thead>\n",
       "  <tbody>\n",
       "    <tr>\n",
       "      <th>2000-01-01</th>\n",
       "      <td>-1.473475</td>\n",
       "      <td>0.196133</td>\n",
       "      <td>0.143065</td>\n",
       "      <td>-0.584453</td>\n",
       "    </tr>\n",
       "    <tr>\n",
       "      <th>2000-01-02</th>\n",
       "      <td>-0.214906</td>\n",
       "      <td>0.659617</td>\n",
       "      <td>-1.009029</td>\n",
       "      <td>-0.639740</td>\n",
       "    </tr>\n",
       "    <tr>\n",
       "      <th>2000-01-03</th>\n",
       "      <td>0.733988</td>\n",
       "      <td>0.320773</td>\n",
       "      <td>0.532691</td>\n",
       "      <td>-1.310525</td>\n",
       "    </tr>\n",
       "    <tr>\n",
       "      <th>2000-01-04</th>\n",
       "      <td>0.565963</td>\n",
       "      <td>-0.400237</td>\n",
       "      <td>1.630124</td>\n",
       "      <td>-0.680890</td>\n",
       "    </tr>\n",
       "    <tr>\n",
       "      <th>2000-01-05</th>\n",
       "      <td>1.110939</td>\n",
       "      <td>-1.063032</td>\n",
       "      <td>1.394431</td>\n",
       "      <td>-1.717581</td>\n",
       "    </tr>\n",
       "    <tr>\n",
       "      <th>2000-01-06</th>\n",
       "      <td>-1.272468</td>\n",
       "      <td>-0.749343</td>\n",
       "      <td>1.010942</td>\n",
       "      <td>-1.964952</td>\n",
       "    </tr>\n",
       "    <tr>\n",
       "      <th>2000-01-07</th>\n",
       "      <td>-1.123399</td>\n",
       "      <td>-1.210307</td>\n",
       "      <td>2.254899</td>\n",
       "      <td>-1.188171</td>\n",
       "    </tr>\n",
       "    <tr>\n",
       "      <th>2000-01-08</th>\n",
       "      <td>-2.477062</td>\n",
       "      <td>-1.291856</td>\n",
       "      <td>3.305471</td>\n",
       "      <td>-0.811250</td>\n",
       "    </tr>\n",
       "    <tr>\n",
       "      <th>2000-01-09</th>\n",
       "      <td>-2.080919</td>\n",
       "      <td>-1.886200</td>\n",
       "      <td>3.261828</td>\n",
       "      <td>-0.548591</td>\n",
       "    </tr>\n",
       "    <tr>\n",
       "      <th>2000-01-10</th>\n",
       "      <td>-2.786142</td>\n",
       "      <td>-2.057736</td>\n",
       "      <td>1.951513</td>\n",
       "      <td>1.610442</td>\n",
       "    </tr>\n",
       "    <tr>\n",
       "      <th>2000-01-11</th>\n",
       "      <td>-2.621696</td>\n",
       "      <td>-2.216110</td>\n",
       "      <td>2.093296</td>\n",
       "      <td>0.177767</td>\n",
       "    </tr>\n",
       "    <tr>\n",
       "      <th>2000-01-12</th>\n",
       "      <td>-2.796659</td>\n",
       "      <td>-3.067442</td>\n",
       "      <td>1.363913</td>\n",
       "      <td>-0.966712</td>\n",
       "    </tr>\n",
       "    <tr>\n",
       "      <th>2000-01-13</th>\n",
       "      <td>-3.610234</td>\n",
       "      <td>-0.524380</td>\n",
       "      <td>0.988915</td>\n",
       "      <td>-1.529095</td>\n",
       "    </tr>\n",
       "    <tr>\n",
       "      <th>2000-01-14</th>\n",
       "      <td>-2.262818</td>\n",
       "      <td>0.805243</td>\n",
       "      <td>2.557940</td>\n",
       "      <td>-0.335517</td>\n",
       "    </tr>\n",
       "    <tr>\n",
       "      <th>2000-01-15</th>\n",
       "      <td>-3.558170</td>\n",
       "      <td>3.152149</td>\n",
       "      <td>1.725910</td>\n",
       "      <td>-1.360231</td>\n",
       "    </tr>\n",
       "    <tr>\n",
       "      <th>2000-01-16</th>\n",
       "      <td>-4.624622</td>\n",
       "      <td>3.445126</td>\n",
       "      <td>0.530029</td>\n",
       "      <td>-0.004102</td>\n",
       "    </tr>\n",
       "    <tr>\n",
       "      <th>2000-01-17</th>\n",
       "      <td>-5.334942</td>\n",
       "      <td>2.770311</td>\n",
       "      <td>0.841967</td>\n",
       "      <td>-0.398626</td>\n",
       "    </tr>\n",
       "    <tr>\n",
       "      <th>2000-01-18</th>\n",
       "      <td>-5.836690</td>\n",
       "      <td>1.581427</td>\n",
       "      <td>-1.866139</td>\n",
       "      <td>-1.202490</td>\n",
       "    </tr>\n",
       "    <tr>\n",
       "      <th>2000-01-19</th>\n",
       "      <td>-5.629595</td>\n",
       "      <td>0.497413</td>\n",
       "      <td>-2.713383</td>\n",
       "      <td>2.300726</td>\n",
       "    </tr>\n",
       "    <tr>\n",
       "      <th>2000-01-20</th>\n",
       "      <td>-6.480973</td>\n",
       "      <td>0.149345</td>\n",
       "      <td>-1.553628</td>\n",
       "      <td>2.740266</td>\n",
       "    </tr>\n",
       "    <tr>\n",
       "      <th>2000-01-21</th>\n",
       "      <td>-6.363423</td>\n",
       "      <td>0.906380</td>\n",
       "      <td>-1.163579</td>\n",
       "      <td>2.660592</td>\n",
       "    </tr>\n",
       "    <tr>\n",
       "      <th>2000-01-22</th>\n",
       "      <td>-5.972574</td>\n",
       "      <td>-0.301114</td>\n",
       "      <td>-1.332623</td>\n",
       "      <td>2.028134</td>\n",
       "    </tr>\n",
       "    <tr>\n",
       "      <th>2000-01-23</th>\n",
       "      <td>-5.315095</td>\n",
       "      <td>0.446013</td>\n",
       "      <td>-0.488460</td>\n",
       "      <td>1.348523</td>\n",
       "    </tr>\n",
       "    <tr>\n",
       "      <th>2000-01-24</th>\n",
       "      <td>-5.305250</td>\n",
       "      <td>-0.347696</td>\n",
       "      <td>0.437271</td>\n",
       "      <td>0.784291</td>\n",
       "    </tr>\n",
       "    <tr>\n",
       "      <th>2000-01-25</th>\n",
       "      <td>-4.642458</td>\n",
       "      <td>-1.068186</td>\n",
       "      <td>1.054349</td>\n",
       "      <td>0.397194</td>\n",
       "    </tr>\n",
       "    <tr>\n",
       "      <th>2000-01-26</th>\n",
       "      <td>-4.843980</td>\n",
       "      <td>-2.502995</td>\n",
       "      <td>1.370235</td>\n",
       "      <td>0.327136</td>\n",
       "    </tr>\n",
       "    <tr>\n",
       "      <th>2000-01-27</th>\n",
       "      <td>-6.925864</td>\n",
       "      <td>-3.558540</td>\n",
       "      <td>2.448862</td>\n",
       "      <td>0.550478</td>\n",
       "    </tr>\n",
       "    <tr>\n",
       "      <th>2000-01-28</th>\n",
       "      <td>-6.593263</td>\n",
       "      <td>-4.217489</td>\n",
       "      <td>1.360329</td>\n",
       "      <td>0.418684</td>\n",
       "    </tr>\n",
       "    <tr>\n",
       "      <th>2000-01-29</th>\n",
       "      <td>-6.293565</td>\n",
       "      <td>-4.387206</td>\n",
       "      <td>0.613741</td>\n",
       "      <td>0.878734</td>\n",
       "    </tr>\n",
       "    <tr>\n",
       "      <th>2000-01-30</th>\n",
       "      <td>-6.729435</td>\n",
       "      <td>-4.500842</td>\n",
       "      <td>-0.482206</td>\n",
       "      <td>1.007359</td>\n",
       "    </tr>\n",
       "    <tr>\n",
       "      <th>...</th>\n",
       "      <td>...</td>\n",
       "      <td>...</td>\n",
       "      <td>...</td>\n",
       "      <td>...</td>\n",
       "    </tr>\n",
       "    <tr>\n",
       "      <th>2002-08-28</th>\n",
       "      <td>-10.439823</td>\n",
       "      <td>16.754625</td>\n",
       "      <td>-64.811221</td>\n",
       "      <td>-5.859777</td>\n",
       "    </tr>\n",
       "    <tr>\n",
       "      <th>2002-08-29</th>\n",
       "      <td>-11.071587</td>\n",
       "      <td>16.744593</td>\n",
       "      <td>-64.067906</td>\n",
       "      <td>-5.607781</td>\n",
       "    </tr>\n",
       "    <tr>\n",
       "      <th>2002-08-30</th>\n",
       "      <td>-11.322407</td>\n",
       "      <td>17.505546</td>\n",
       "      <td>-63.147773</td>\n",
       "      <td>-6.459584</td>\n",
       "    </tr>\n",
       "    <tr>\n",
       "      <th>2002-08-31</th>\n",
       "      <td>-12.046716</td>\n",
       "      <td>17.983504</td>\n",
       "      <td>-65.816628</td>\n",
       "      <td>-5.768741</td>\n",
       "    </tr>\n",
       "    <tr>\n",
       "      <th>2002-09-01</th>\n",
       "      <td>-13.201385</td>\n",
       "      <td>18.520064</td>\n",
       "      <td>-65.587406</td>\n",
       "      <td>-6.016390</td>\n",
       "    </tr>\n",
       "    <tr>\n",
       "      <th>2002-09-02</th>\n",
       "      <td>-12.849304</td>\n",
       "      <td>19.314991</td>\n",
       "      <td>-66.627812</td>\n",
       "      <td>-5.821023</td>\n",
       "    </tr>\n",
       "    <tr>\n",
       "      <th>2002-09-03</th>\n",
       "      <td>-13.157384</td>\n",
       "      <td>18.804184</td>\n",
       "      <td>-66.596914</td>\n",
       "      <td>-6.785625</td>\n",
       "    </tr>\n",
       "    <tr>\n",
       "      <th>2002-09-04</th>\n",
       "      <td>-14.075356</td>\n",
       "      <td>19.303154</td>\n",
       "      <td>-66.960136</td>\n",
       "      <td>-6.087765</td>\n",
       "    </tr>\n",
       "    <tr>\n",
       "      <th>2002-09-05</th>\n",
       "      <td>-13.520638</td>\n",
       "      <td>19.623442</td>\n",
       "      <td>-68.066910</td>\n",
       "      <td>-6.551855</td>\n",
       "    </tr>\n",
       "    <tr>\n",
       "      <th>2002-09-06</th>\n",
       "      <td>-12.186194</td>\n",
       "      <td>20.283090</td>\n",
       "      <td>-70.288913</td>\n",
       "      <td>-7.193073</td>\n",
       "    </tr>\n",
       "    <tr>\n",
       "      <th>2002-09-07</th>\n",
       "      <td>-12.770973</td>\n",
       "      <td>19.510838</td>\n",
       "      <td>-70.290728</td>\n",
       "      <td>-4.523037</td>\n",
       "    </tr>\n",
       "    <tr>\n",
       "      <th>2002-09-08</th>\n",
       "      <td>-12.798807</td>\n",
       "      <td>19.384785</td>\n",
       "      <td>-70.375056</td>\n",
       "      <td>-5.072793</td>\n",
       "    </tr>\n",
       "    <tr>\n",
       "      <th>2002-09-09</th>\n",
       "      <td>-15.467220</td>\n",
       "      <td>18.510862</td>\n",
       "      <td>-70.093266</td>\n",
       "      <td>-4.591331</td>\n",
       "    </tr>\n",
       "    <tr>\n",
       "      <th>2002-09-10</th>\n",
       "      <td>-14.188457</td>\n",
       "      <td>19.921118</td>\n",
       "      <td>-70.293477</td>\n",
       "      <td>-3.189717</td>\n",
       "    </tr>\n",
       "    <tr>\n",
       "      <th>2002-09-11</th>\n",
       "      <td>-14.087328</td>\n",
       "      <td>19.173552</td>\n",
       "      <td>-72.133505</td>\n",
       "      <td>-3.068784</td>\n",
       "    </tr>\n",
       "    <tr>\n",
       "      <th>2002-09-12</th>\n",
       "      <td>-12.907834</td>\n",
       "      <td>19.708564</td>\n",
       "      <td>-73.478887</td>\n",
       "      <td>-2.386329</td>\n",
       "    </tr>\n",
       "    <tr>\n",
       "      <th>2002-09-13</th>\n",
       "      <td>-12.288445</td>\n",
       "      <td>18.909343</td>\n",
       "      <td>-71.261858</td>\n",
       "      <td>-2.119215</td>\n",
       "    </tr>\n",
       "    <tr>\n",
       "      <th>2002-09-14</th>\n",
       "      <td>-12.048457</td>\n",
       "      <td>18.791085</td>\n",
       "      <td>-70.570560</td>\n",
       "      <td>-2.131411</td>\n",
       "    </tr>\n",
       "    <tr>\n",
       "      <th>2002-09-15</th>\n",
       "      <td>-11.874959</td>\n",
       "      <td>19.927110</td>\n",
       "      <td>-69.788185</td>\n",
       "      <td>-2.800117</td>\n",
       "    </tr>\n",
       "    <tr>\n",
       "      <th>2002-09-16</th>\n",
       "      <td>-12.102687</td>\n",
       "      <td>17.096208</td>\n",
       "      <td>-69.461584</td>\n",
       "      <td>-4.649891</td>\n",
       "    </tr>\n",
       "    <tr>\n",
       "      <th>2002-09-17</th>\n",
       "      <td>-11.045322</td>\n",
       "      <td>16.653443</td>\n",
       "      <td>-68.439466</td>\n",
       "      <td>-5.782531</td>\n",
       "    </tr>\n",
       "    <tr>\n",
       "      <th>2002-09-18</th>\n",
       "      <td>-12.216693</td>\n",
       "      <td>17.005929</td>\n",
       "      <td>-68.079814</td>\n",
       "      <td>-6.401320</td>\n",
       "    </tr>\n",
       "    <tr>\n",
       "      <th>2002-09-19</th>\n",
       "      <td>-12.439080</td>\n",
       "      <td>17.031216</td>\n",
       "      <td>-68.417983</td>\n",
       "      <td>-6.772492</td>\n",
       "    </tr>\n",
       "    <tr>\n",
       "      <th>2002-09-20</th>\n",
       "      <td>-13.584222</td>\n",
       "      <td>17.136453</td>\n",
       "      <td>-68.957979</td>\n",
       "      <td>-7.160025</td>\n",
       "    </tr>\n",
       "    <tr>\n",
       "      <th>2002-09-21</th>\n",
       "      <td>-12.977107</td>\n",
       "      <td>16.223789</td>\n",
       "      <td>-68.849352</td>\n",
       "      <td>-6.699082</td>\n",
       "    </tr>\n",
       "    <tr>\n",
       "      <th>2002-09-22</th>\n",
       "      <td>-13.006524</td>\n",
       "      <td>16.358872</td>\n",
       "      <td>-68.390092</td>\n",
       "      <td>-7.557877</td>\n",
       "    </tr>\n",
       "    <tr>\n",
       "      <th>2002-09-23</th>\n",
       "      <td>-14.490439</td>\n",
       "      <td>17.076418</td>\n",
       "      <td>-69.113106</td>\n",
       "      <td>-7.854406</td>\n",
       "    </tr>\n",
       "    <tr>\n",
       "      <th>2002-09-24</th>\n",
       "      <td>-15.890070</td>\n",
       "      <td>17.814127</td>\n",
       "      <td>-69.902684</td>\n",
       "      <td>-8.769072</td>\n",
       "    </tr>\n",
       "    <tr>\n",
       "      <th>2002-09-25</th>\n",
       "      <td>-16.374141</td>\n",
       "      <td>18.155802</td>\n",
       "      <td>-69.533923</td>\n",
       "      <td>-7.565190</td>\n",
       "    </tr>\n",
       "    <tr>\n",
       "      <th>2002-09-26</th>\n",
       "      <td>-15.534502</td>\n",
       "      <td>17.928278</td>\n",
       "      <td>-68.071386</td>\n",
       "      <td>-9.089777</td>\n",
       "    </tr>\n",
       "  </tbody>\n",
       "</table>\n",
       "<p>1000 rows × 4 columns</p>\n",
       "</div>"
      ],
      "text/plain": [
       "                    A          B          C         D\n",
       "2000-01-01  -1.473475   0.196133   0.143065 -0.584453\n",
       "2000-01-02  -0.214906   0.659617  -1.009029 -0.639740\n",
       "2000-01-03   0.733988   0.320773   0.532691 -1.310525\n",
       "2000-01-04   0.565963  -0.400237   1.630124 -0.680890\n",
       "2000-01-05   1.110939  -1.063032   1.394431 -1.717581\n",
       "2000-01-06  -1.272468  -0.749343   1.010942 -1.964952\n",
       "2000-01-07  -1.123399  -1.210307   2.254899 -1.188171\n",
       "2000-01-08  -2.477062  -1.291856   3.305471 -0.811250\n",
       "2000-01-09  -2.080919  -1.886200   3.261828 -0.548591\n",
       "2000-01-10  -2.786142  -2.057736   1.951513  1.610442\n",
       "2000-01-11  -2.621696  -2.216110   2.093296  0.177767\n",
       "2000-01-12  -2.796659  -3.067442   1.363913 -0.966712\n",
       "2000-01-13  -3.610234  -0.524380   0.988915 -1.529095\n",
       "2000-01-14  -2.262818   0.805243   2.557940 -0.335517\n",
       "2000-01-15  -3.558170   3.152149   1.725910 -1.360231\n",
       "2000-01-16  -4.624622   3.445126   0.530029 -0.004102\n",
       "2000-01-17  -5.334942   2.770311   0.841967 -0.398626\n",
       "2000-01-18  -5.836690   1.581427  -1.866139 -1.202490\n",
       "2000-01-19  -5.629595   0.497413  -2.713383  2.300726\n",
       "2000-01-20  -6.480973   0.149345  -1.553628  2.740266\n",
       "2000-01-21  -6.363423   0.906380  -1.163579  2.660592\n",
       "2000-01-22  -5.972574  -0.301114  -1.332623  2.028134\n",
       "2000-01-23  -5.315095   0.446013  -0.488460  1.348523\n",
       "2000-01-24  -5.305250  -0.347696   0.437271  0.784291\n",
       "2000-01-25  -4.642458  -1.068186   1.054349  0.397194\n",
       "2000-01-26  -4.843980  -2.502995   1.370235  0.327136\n",
       "2000-01-27  -6.925864  -3.558540   2.448862  0.550478\n",
       "2000-01-28  -6.593263  -4.217489   1.360329  0.418684\n",
       "2000-01-29  -6.293565  -4.387206   0.613741  0.878734\n",
       "2000-01-30  -6.729435  -4.500842  -0.482206  1.007359\n",
       "...               ...        ...        ...       ...\n",
       "2002-08-28 -10.439823  16.754625 -64.811221 -5.859777\n",
       "2002-08-29 -11.071587  16.744593 -64.067906 -5.607781\n",
       "2002-08-30 -11.322407  17.505546 -63.147773 -6.459584\n",
       "2002-08-31 -12.046716  17.983504 -65.816628 -5.768741\n",
       "2002-09-01 -13.201385  18.520064 -65.587406 -6.016390\n",
       "2002-09-02 -12.849304  19.314991 -66.627812 -5.821023\n",
       "2002-09-03 -13.157384  18.804184 -66.596914 -6.785625\n",
       "2002-09-04 -14.075356  19.303154 -66.960136 -6.087765\n",
       "2002-09-05 -13.520638  19.623442 -68.066910 -6.551855\n",
       "2002-09-06 -12.186194  20.283090 -70.288913 -7.193073\n",
       "2002-09-07 -12.770973  19.510838 -70.290728 -4.523037\n",
       "2002-09-08 -12.798807  19.384785 -70.375056 -5.072793\n",
       "2002-09-09 -15.467220  18.510862 -70.093266 -4.591331\n",
       "2002-09-10 -14.188457  19.921118 -70.293477 -3.189717\n",
       "2002-09-11 -14.087328  19.173552 -72.133505 -3.068784\n",
       "2002-09-12 -12.907834  19.708564 -73.478887 -2.386329\n",
       "2002-09-13 -12.288445  18.909343 -71.261858 -2.119215\n",
       "2002-09-14 -12.048457  18.791085 -70.570560 -2.131411\n",
       "2002-09-15 -11.874959  19.927110 -69.788185 -2.800117\n",
       "2002-09-16 -12.102687  17.096208 -69.461584 -4.649891\n",
       "2002-09-17 -11.045322  16.653443 -68.439466 -5.782531\n",
       "2002-09-18 -12.216693  17.005929 -68.079814 -6.401320\n",
       "2002-09-19 -12.439080  17.031216 -68.417983 -6.772492\n",
       "2002-09-20 -13.584222  17.136453 -68.957979 -7.160025\n",
       "2002-09-21 -12.977107  16.223789 -68.849352 -6.699082\n",
       "2002-09-22 -13.006524  16.358872 -68.390092 -7.557877\n",
       "2002-09-23 -14.490439  17.076418 -69.113106 -7.854406\n",
       "2002-09-24 -15.890070  17.814127 -69.902684 -8.769072\n",
       "2002-09-25 -16.374141  18.155802 -69.533923 -7.565190\n",
       "2002-09-26 -15.534502  17.928278 -68.071386 -9.089777\n",
       "\n",
       "[1000 rows x 4 columns]"
      ]
     },
     "execution_count": 139,
     "metadata": {},
     "output_type": "execute_result"
    }
   ],
   "source": [
    "pd.read_hdf('foo.h5','df')"
   ]
  },
  {
   "cell_type": "markdown",
   "metadata": {},
   "source": [
    "### 13.3. Excel"
   ]
  },
  {
   "cell_type": "code",
   "execution_count": 140,
   "metadata": {
    "collapsed": true
   },
   "outputs": [],
   "source": [
    "df.to_excel('foo.xlsx', sheet_name='Sheet1')"
   ]
  },
  {
   "cell_type": "code",
   "execution_count": 141,
   "metadata": {
    "collapsed": false
   },
   "outputs": [
    {
     "data": {
      "text/html": [
       "<div>\n",
       "<table border=\"1\" class=\"dataframe\">\n",
       "  <thead>\n",
       "    <tr style=\"text-align: right;\">\n",
       "      <th></th>\n",
       "      <th>A</th>\n",
       "      <th>B</th>\n",
       "      <th>C</th>\n",
       "      <th>D</th>\n",
       "    </tr>\n",
       "  </thead>\n",
       "  <tbody>\n",
       "    <tr>\n",
       "      <th>2000-01-01</th>\n",
       "      <td>-1.473475</td>\n",
       "      <td>0.196133</td>\n",
       "      <td>0.143065</td>\n",
       "      <td>-0.584453</td>\n",
       "    </tr>\n",
       "    <tr>\n",
       "      <th>2000-01-02</th>\n",
       "      <td>-0.214906</td>\n",
       "      <td>0.659617</td>\n",
       "      <td>-1.009029</td>\n",
       "      <td>-0.639740</td>\n",
       "    </tr>\n",
       "    <tr>\n",
       "      <th>2000-01-03</th>\n",
       "      <td>0.733988</td>\n",
       "      <td>0.320773</td>\n",
       "      <td>0.532691</td>\n",
       "      <td>-1.310525</td>\n",
       "    </tr>\n",
       "    <tr>\n",
       "      <th>2000-01-04</th>\n",
       "      <td>0.565963</td>\n",
       "      <td>-0.400237</td>\n",
       "      <td>1.630124</td>\n",
       "      <td>-0.680890</td>\n",
       "    </tr>\n",
       "    <tr>\n",
       "      <th>2000-01-05</th>\n",
       "      <td>1.110939</td>\n",
       "      <td>-1.063032</td>\n",
       "      <td>1.394431</td>\n",
       "      <td>-1.717581</td>\n",
       "    </tr>\n",
       "    <tr>\n",
       "      <th>2000-01-06</th>\n",
       "      <td>-1.272468</td>\n",
       "      <td>-0.749343</td>\n",
       "      <td>1.010942</td>\n",
       "      <td>-1.964952</td>\n",
       "    </tr>\n",
       "    <tr>\n",
       "      <th>2000-01-07</th>\n",
       "      <td>-1.123399</td>\n",
       "      <td>-1.210307</td>\n",
       "      <td>2.254899</td>\n",
       "      <td>-1.188171</td>\n",
       "    </tr>\n",
       "    <tr>\n",
       "      <th>2000-01-08</th>\n",
       "      <td>-2.477062</td>\n",
       "      <td>-1.291856</td>\n",
       "      <td>3.305471</td>\n",
       "      <td>-0.811250</td>\n",
       "    </tr>\n",
       "    <tr>\n",
       "      <th>2000-01-09</th>\n",
       "      <td>-2.080919</td>\n",
       "      <td>-1.886200</td>\n",
       "      <td>3.261828</td>\n",
       "      <td>-0.548591</td>\n",
       "    </tr>\n",
       "    <tr>\n",
       "      <th>2000-01-10</th>\n",
       "      <td>-2.786142</td>\n",
       "      <td>-2.057736</td>\n",
       "      <td>1.951513</td>\n",
       "      <td>1.610442</td>\n",
       "    </tr>\n",
       "    <tr>\n",
       "      <th>2000-01-11</th>\n",
       "      <td>-2.621696</td>\n",
       "      <td>-2.216110</td>\n",
       "      <td>2.093296</td>\n",
       "      <td>0.177767</td>\n",
       "    </tr>\n",
       "    <tr>\n",
       "      <th>2000-01-12</th>\n",
       "      <td>-2.796659</td>\n",
       "      <td>-3.067442</td>\n",
       "      <td>1.363913</td>\n",
       "      <td>-0.966712</td>\n",
       "    </tr>\n",
       "    <tr>\n",
       "      <th>2000-01-13</th>\n",
       "      <td>-3.610234</td>\n",
       "      <td>-0.524380</td>\n",
       "      <td>0.988915</td>\n",
       "      <td>-1.529095</td>\n",
       "    </tr>\n",
       "    <tr>\n",
       "      <th>2000-01-14</th>\n",
       "      <td>-2.262818</td>\n",
       "      <td>0.805243</td>\n",
       "      <td>2.557940</td>\n",
       "      <td>-0.335517</td>\n",
       "    </tr>\n",
       "    <tr>\n",
       "      <th>2000-01-15</th>\n",
       "      <td>-3.558170</td>\n",
       "      <td>3.152149</td>\n",
       "      <td>1.725910</td>\n",
       "      <td>-1.360231</td>\n",
       "    </tr>\n",
       "    <tr>\n",
       "      <th>2000-01-16</th>\n",
       "      <td>-4.624622</td>\n",
       "      <td>3.445126</td>\n",
       "      <td>0.530029</td>\n",
       "      <td>-0.004102</td>\n",
       "    </tr>\n",
       "    <tr>\n",
       "      <th>2000-01-17</th>\n",
       "      <td>-5.334942</td>\n",
       "      <td>2.770311</td>\n",
       "      <td>0.841967</td>\n",
       "      <td>-0.398626</td>\n",
       "    </tr>\n",
       "    <tr>\n",
       "      <th>2000-01-18</th>\n",
       "      <td>-5.836690</td>\n",
       "      <td>1.581427</td>\n",
       "      <td>-1.866139</td>\n",
       "      <td>-1.202490</td>\n",
       "    </tr>\n",
       "    <tr>\n",
       "      <th>2000-01-19</th>\n",
       "      <td>-5.629595</td>\n",
       "      <td>0.497413</td>\n",
       "      <td>-2.713383</td>\n",
       "      <td>2.300726</td>\n",
       "    </tr>\n",
       "    <tr>\n",
       "      <th>2000-01-20</th>\n",
       "      <td>-6.480973</td>\n",
       "      <td>0.149345</td>\n",
       "      <td>-1.553628</td>\n",
       "      <td>2.740266</td>\n",
       "    </tr>\n",
       "    <tr>\n",
       "      <th>2000-01-21</th>\n",
       "      <td>-6.363423</td>\n",
       "      <td>0.906380</td>\n",
       "      <td>-1.163579</td>\n",
       "      <td>2.660592</td>\n",
       "    </tr>\n",
       "    <tr>\n",
       "      <th>2000-01-22</th>\n",
       "      <td>-5.972574</td>\n",
       "      <td>-0.301114</td>\n",
       "      <td>-1.332623</td>\n",
       "      <td>2.028134</td>\n",
       "    </tr>\n",
       "    <tr>\n",
       "      <th>2000-01-23</th>\n",
       "      <td>-5.315095</td>\n",
       "      <td>0.446013</td>\n",
       "      <td>-0.488460</td>\n",
       "      <td>1.348523</td>\n",
       "    </tr>\n",
       "    <tr>\n",
       "      <th>2000-01-24</th>\n",
       "      <td>-5.305250</td>\n",
       "      <td>-0.347696</td>\n",
       "      <td>0.437271</td>\n",
       "      <td>0.784291</td>\n",
       "    </tr>\n",
       "    <tr>\n",
       "      <th>2000-01-25</th>\n",
       "      <td>-4.642458</td>\n",
       "      <td>-1.068186</td>\n",
       "      <td>1.054349</td>\n",
       "      <td>0.397194</td>\n",
       "    </tr>\n",
       "    <tr>\n",
       "      <th>2000-01-26</th>\n",
       "      <td>-4.843980</td>\n",
       "      <td>-2.502995</td>\n",
       "      <td>1.370235</td>\n",
       "      <td>0.327136</td>\n",
       "    </tr>\n",
       "    <tr>\n",
       "      <th>2000-01-27</th>\n",
       "      <td>-6.925864</td>\n",
       "      <td>-3.558540</td>\n",
       "      <td>2.448862</td>\n",
       "      <td>0.550478</td>\n",
       "    </tr>\n",
       "    <tr>\n",
       "      <th>2000-01-28</th>\n",
       "      <td>-6.593263</td>\n",
       "      <td>-4.217489</td>\n",
       "      <td>1.360329</td>\n",
       "      <td>0.418684</td>\n",
       "    </tr>\n",
       "    <tr>\n",
       "      <th>2000-01-29</th>\n",
       "      <td>-6.293565</td>\n",
       "      <td>-4.387206</td>\n",
       "      <td>0.613741</td>\n",
       "      <td>0.878734</td>\n",
       "    </tr>\n",
       "    <tr>\n",
       "      <th>2000-01-30</th>\n",
       "      <td>-6.729435</td>\n",
       "      <td>-4.500842</td>\n",
       "      <td>-0.482206</td>\n",
       "      <td>1.007359</td>\n",
       "    </tr>\n",
       "    <tr>\n",
       "      <th>...</th>\n",
       "      <td>...</td>\n",
       "      <td>...</td>\n",
       "      <td>...</td>\n",
       "      <td>...</td>\n",
       "    </tr>\n",
       "    <tr>\n",
       "      <th>2002-08-28</th>\n",
       "      <td>-10.439823</td>\n",
       "      <td>16.754625</td>\n",
       "      <td>-64.811221</td>\n",
       "      <td>-5.859777</td>\n",
       "    </tr>\n",
       "    <tr>\n",
       "      <th>2002-08-29</th>\n",
       "      <td>-11.071587</td>\n",
       "      <td>16.744593</td>\n",
       "      <td>-64.067906</td>\n",
       "      <td>-5.607781</td>\n",
       "    </tr>\n",
       "    <tr>\n",
       "      <th>2002-08-30</th>\n",
       "      <td>-11.322407</td>\n",
       "      <td>17.505546</td>\n",
       "      <td>-63.147773</td>\n",
       "      <td>-6.459584</td>\n",
       "    </tr>\n",
       "    <tr>\n",
       "      <th>2002-08-31</th>\n",
       "      <td>-12.046716</td>\n",
       "      <td>17.983504</td>\n",
       "      <td>-65.816628</td>\n",
       "      <td>-5.768741</td>\n",
       "    </tr>\n",
       "    <tr>\n",
       "      <th>2002-09-01</th>\n",
       "      <td>-13.201385</td>\n",
       "      <td>18.520064</td>\n",
       "      <td>-65.587406</td>\n",
       "      <td>-6.016390</td>\n",
       "    </tr>\n",
       "    <tr>\n",
       "      <th>2002-09-02</th>\n",
       "      <td>-12.849304</td>\n",
       "      <td>19.314991</td>\n",
       "      <td>-66.627812</td>\n",
       "      <td>-5.821023</td>\n",
       "    </tr>\n",
       "    <tr>\n",
       "      <th>2002-09-03</th>\n",
       "      <td>-13.157384</td>\n",
       "      <td>18.804184</td>\n",
       "      <td>-66.596914</td>\n",
       "      <td>-6.785625</td>\n",
       "    </tr>\n",
       "    <tr>\n",
       "      <th>2002-09-04</th>\n",
       "      <td>-14.075356</td>\n",
       "      <td>19.303154</td>\n",
       "      <td>-66.960136</td>\n",
       "      <td>-6.087765</td>\n",
       "    </tr>\n",
       "    <tr>\n",
       "      <th>2002-09-05</th>\n",
       "      <td>-13.520638</td>\n",
       "      <td>19.623442</td>\n",
       "      <td>-68.066910</td>\n",
       "      <td>-6.551855</td>\n",
       "    </tr>\n",
       "    <tr>\n",
       "      <th>2002-09-06</th>\n",
       "      <td>-12.186194</td>\n",
       "      <td>20.283090</td>\n",
       "      <td>-70.288913</td>\n",
       "      <td>-7.193073</td>\n",
       "    </tr>\n",
       "    <tr>\n",
       "      <th>2002-09-07</th>\n",
       "      <td>-12.770973</td>\n",
       "      <td>19.510838</td>\n",
       "      <td>-70.290728</td>\n",
       "      <td>-4.523037</td>\n",
       "    </tr>\n",
       "    <tr>\n",
       "      <th>2002-09-08</th>\n",
       "      <td>-12.798807</td>\n",
       "      <td>19.384785</td>\n",
       "      <td>-70.375056</td>\n",
       "      <td>-5.072793</td>\n",
       "    </tr>\n",
       "    <tr>\n",
       "      <th>2002-09-09</th>\n",
       "      <td>-15.467220</td>\n",
       "      <td>18.510862</td>\n",
       "      <td>-70.093266</td>\n",
       "      <td>-4.591331</td>\n",
       "    </tr>\n",
       "    <tr>\n",
       "      <th>2002-09-10</th>\n",
       "      <td>-14.188457</td>\n",
       "      <td>19.921118</td>\n",
       "      <td>-70.293477</td>\n",
       "      <td>-3.189717</td>\n",
       "    </tr>\n",
       "    <tr>\n",
       "      <th>2002-09-11</th>\n",
       "      <td>-14.087328</td>\n",
       "      <td>19.173552</td>\n",
       "      <td>-72.133505</td>\n",
       "      <td>-3.068784</td>\n",
       "    </tr>\n",
       "    <tr>\n",
       "      <th>2002-09-12</th>\n",
       "      <td>-12.907834</td>\n",
       "      <td>19.708564</td>\n",
       "      <td>-73.478887</td>\n",
       "      <td>-2.386329</td>\n",
       "    </tr>\n",
       "    <tr>\n",
       "      <th>2002-09-13</th>\n",
       "      <td>-12.288445</td>\n",
       "      <td>18.909343</td>\n",
       "      <td>-71.261858</td>\n",
       "      <td>-2.119215</td>\n",
       "    </tr>\n",
       "    <tr>\n",
       "      <th>2002-09-14</th>\n",
       "      <td>-12.048457</td>\n",
       "      <td>18.791085</td>\n",
       "      <td>-70.570560</td>\n",
       "      <td>-2.131411</td>\n",
       "    </tr>\n",
       "    <tr>\n",
       "      <th>2002-09-15</th>\n",
       "      <td>-11.874959</td>\n",
       "      <td>19.927110</td>\n",
       "      <td>-69.788185</td>\n",
       "      <td>-2.800117</td>\n",
       "    </tr>\n",
       "    <tr>\n",
       "      <th>2002-09-16</th>\n",
       "      <td>-12.102687</td>\n",
       "      <td>17.096208</td>\n",
       "      <td>-69.461584</td>\n",
       "      <td>-4.649891</td>\n",
       "    </tr>\n",
       "    <tr>\n",
       "      <th>2002-09-17</th>\n",
       "      <td>-11.045322</td>\n",
       "      <td>16.653443</td>\n",
       "      <td>-68.439466</td>\n",
       "      <td>-5.782531</td>\n",
       "    </tr>\n",
       "    <tr>\n",
       "      <th>2002-09-18</th>\n",
       "      <td>-12.216693</td>\n",
       "      <td>17.005929</td>\n",
       "      <td>-68.079814</td>\n",
       "      <td>-6.401320</td>\n",
       "    </tr>\n",
       "    <tr>\n",
       "      <th>2002-09-19</th>\n",
       "      <td>-12.439080</td>\n",
       "      <td>17.031216</td>\n",
       "      <td>-68.417983</td>\n",
       "      <td>-6.772492</td>\n",
       "    </tr>\n",
       "    <tr>\n",
       "      <th>2002-09-20</th>\n",
       "      <td>-13.584222</td>\n",
       "      <td>17.136453</td>\n",
       "      <td>-68.957979</td>\n",
       "      <td>-7.160025</td>\n",
       "    </tr>\n",
       "    <tr>\n",
       "      <th>2002-09-21</th>\n",
       "      <td>-12.977107</td>\n",
       "      <td>16.223789</td>\n",
       "      <td>-68.849352</td>\n",
       "      <td>-6.699082</td>\n",
       "    </tr>\n",
       "    <tr>\n",
       "      <th>2002-09-22</th>\n",
       "      <td>-13.006524</td>\n",
       "      <td>16.358872</td>\n",
       "      <td>-68.390092</td>\n",
       "      <td>-7.557877</td>\n",
       "    </tr>\n",
       "    <tr>\n",
       "      <th>2002-09-23</th>\n",
       "      <td>-14.490439</td>\n",
       "      <td>17.076418</td>\n",
       "      <td>-69.113106</td>\n",
       "      <td>-7.854406</td>\n",
       "    </tr>\n",
       "    <tr>\n",
       "      <th>2002-09-24</th>\n",
       "      <td>-15.890070</td>\n",
       "      <td>17.814127</td>\n",
       "      <td>-69.902684</td>\n",
       "      <td>-8.769072</td>\n",
       "    </tr>\n",
       "    <tr>\n",
       "      <th>2002-09-25</th>\n",
       "      <td>-16.374141</td>\n",
       "      <td>18.155802</td>\n",
       "      <td>-69.533923</td>\n",
       "      <td>-7.565190</td>\n",
       "    </tr>\n",
       "    <tr>\n",
       "      <th>2002-09-26</th>\n",
       "      <td>-15.534502</td>\n",
       "      <td>17.928278</td>\n",
       "      <td>-68.071386</td>\n",
       "      <td>-9.089777</td>\n",
       "    </tr>\n",
       "  </tbody>\n",
       "</table>\n",
       "<p>1000 rows × 4 columns</p>\n",
       "</div>"
      ],
      "text/plain": [
       "                    A          B          C         D\n",
       "2000-01-01  -1.473475   0.196133   0.143065 -0.584453\n",
       "2000-01-02  -0.214906   0.659617  -1.009029 -0.639740\n",
       "2000-01-03   0.733988   0.320773   0.532691 -1.310525\n",
       "2000-01-04   0.565963  -0.400237   1.630124 -0.680890\n",
       "2000-01-05   1.110939  -1.063032   1.394431 -1.717581\n",
       "2000-01-06  -1.272468  -0.749343   1.010942 -1.964952\n",
       "2000-01-07  -1.123399  -1.210307   2.254899 -1.188171\n",
       "2000-01-08  -2.477062  -1.291856   3.305471 -0.811250\n",
       "2000-01-09  -2.080919  -1.886200   3.261828 -0.548591\n",
       "2000-01-10  -2.786142  -2.057736   1.951513  1.610442\n",
       "2000-01-11  -2.621696  -2.216110   2.093296  0.177767\n",
       "2000-01-12  -2.796659  -3.067442   1.363913 -0.966712\n",
       "2000-01-13  -3.610234  -0.524380   0.988915 -1.529095\n",
       "2000-01-14  -2.262818   0.805243   2.557940 -0.335517\n",
       "2000-01-15  -3.558170   3.152149   1.725910 -1.360231\n",
       "2000-01-16  -4.624622   3.445126   0.530029 -0.004102\n",
       "2000-01-17  -5.334942   2.770311   0.841967 -0.398626\n",
       "2000-01-18  -5.836690   1.581427  -1.866139 -1.202490\n",
       "2000-01-19  -5.629595   0.497413  -2.713383  2.300726\n",
       "2000-01-20  -6.480973   0.149345  -1.553628  2.740266\n",
       "2000-01-21  -6.363423   0.906380  -1.163579  2.660592\n",
       "2000-01-22  -5.972574  -0.301114  -1.332623  2.028134\n",
       "2000-01-23  -5.315095   0.446013  -0.488460  1.348523\n",
       "2000-01-24  -5.305250  -0.347696   0.437271  0.784291\n",
       "2000-01-25  -4.642458  -1.068186   1.054349  0.397194\n",
       "2000-01-26  -4.843980  -2.502995   1.370235  0.327136\n",
       "2000-01-27  -6.925864  -3.558540   2.448862  0.550478\n",
       "2000-01-28  -6.593263  -4.217489   1.360329  0.418684\n",
       "2000-01-29  -6.293565  -4.387206   0.613741  0.878734\n",
       "2000-01-30  -6.729435  -4.500842  -0.482206  1.007359\n",
       "...               ...        ...        ...       ...\n",
       "2002-08-28 -10.439823  16.754625 -64.811221 -5.859777\n",
       "2002-08-29 -11.071587  16.744593 -64.067906 -5.607781\n",
       "2002-08-30 -11.322407  17.505546 -63.147773 -6.459584\n",
       "2002-08-31 -12.046716  17.983504 -65.816628 -5.768741\n",
       "2002-09-01 -13.201385  18.520064 -65.587406 -6.016390\n",
       "2002-09-02 -12.849304  19.314991 -66.627812 -5.821023\n",
       "2002-09-03 -13.157384  18.804184 -66.596914 -6.785625\n",
       "2002-09-04 -14.075356  19.303154 -66.960136 -6.087765\n",
       "2002-09-05 -13.520638  19.623442 -68.066910 -6.551855\n",
       "2002-09-06 -12.186194  20.283090 -70.288913 -7.193073\n",
       "2002-09-07 -12.770973  19.510838 -70.290728 -4.523037\n",
       "2002-09-08 -12.798807  19.384785 -70.375056 -5.072793\n",
       "2002-09-09 -15.467220  18.510862 -70.093266 -4.591331\n",
       "2002-09-10 -14.188457  19.921118 -70.293477 -3.189717\n",
       "2002-09-11 -14.087328  19.173552 -72.133505 -3.068784\n",
       "2002-09-12 -12.907834  19.708564 -73.478887 -2.386329\n",
       "2002-09-13 -12.288445  18.909343 -71.261858 -2.119215\n",
       "2002-09-14 -12.048457  18.791085 -70.570560 -2.131411\n",
       "2002-09-15 -11.874959  19.927110 -69.788185 -2.800117\n",
       "2002-09-16 -12.102687  17.096208 -69.461584 -4.649891\n",
       "2002-09-17 -11.045322  16.653443 -68.439466 -5.782531\n",
       "2002-09-18 -12.216693  17.005929 -68.079814 -6.401320\n",
       "2002-09-19 -12.439080  17.031216 -68.417983 -6.772492\n",
       "2002-09-20 -13.584222  17.136453 -68.957979 -7.160025\n",
       "2002-09-21 -12.977107  16.223789 -68.849352 -6.699082\n",
       "2002-09-22 -13.006524  16.358872 -68.390092 -7.557877\n",
       "2002-09-23 -14.490439  17.076418 -69.113106 -7.854406\n",
       "2002-09-24 -15.890070  17.814127 -69.902684 -8.769072\n",
       "2002-09-25 -16.374141  18.155802 -69.533923 -7.565190\n",
       "2002-09-26 -15.534502  17.928278 -68.071386 -9.089777\n",
       "\n",
       "[1000 rows x 4 columns]"
      ]
     },
     "execution_count": 141,
     "metadata": {},
     "output_type": "execute_result"
    }
   ],
   "source": [
    "pd.read_excel('foo.xlsx', 'Sheet1', index_col=None, na_values=['NA'])"
   ]
  },
  {
   "cell_type": "markdown",
   "metadata": {},
   "source": [
    "## 14. Gotchas"
   ]
  },
  {
   "cell_type": "code",
   "execution_count": null,
   "metadata": {
    "collapsed": true
   },
   "outputs": [],
   "source": []
  }
 ],
 "metadata": {
  "anaconda-cloud": {},
  "kernelspec": {
   "display_name": "Python [Root]",
   "language": "python",
   "name": "Python [Root]"
  },
  "language_info": {
   "codemirror_mode": {
    "name": "ipython",
    "version": 2
   },
   "file_extension": ".py",
   "mimetype": "text/x-python",
   "name": "python",
   "nbconvert_exporter": "python",
   "pygments_lexer": "ipython2",
   "version": "2.7.12"
  }
 },
 "nbformat": 4,
 "nbformat_minor": 0
}
