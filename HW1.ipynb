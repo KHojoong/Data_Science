{
 "cells": [
  {
   "cell_type": "markdown",
   "metadata": {},
   "source": [
    "# 1주차 과제\n",
    "***\n",
    "\n",
    "## 1. import"
   ]
  },
  {
   "cell_type": "code",
   "execution_count": 1,
   "metadata": {
    "collapsed": true
   },
   "outputs": [],
   "source": [
    "import pandas as pd"
   ]
  },
  {
   "cell_type": "code",
   "execution_count": 2,
   "metadata": {
    "collapsed": true
   },
   "outputs": [],
   "source": [
    "import numpy as np"
   ]
  },
  {
   "cell_type": "code",
   "execution_count": 3,
   "metadata": {
    "collapsed": true
   },
   "outputs": [],
   "source": [
    "import matplotlib.pyplot as plt"
   ]
  },
  {
   "cell_type": "markdown",
   "metadata": {},
   "source": [
    "***\n",
    "## 2. Object Creation"
   ]
  },
  {
   "cell_type": "code",
   "execution_count": 4,
   "metadata": {
    "collapsed": true
   },
   "outputs": [],
   "source": [
    "s = pd.Series([1,3,5,np.nan,6,8])"
   ]
  },
  {
   "cell_type": "code",
   "execution_count": 5,
   "metadata": {
    "collapsed": false
   },
   "outputs": [
    {
     "data": {
      "text/plain": [
       "0    1.0\n",
       "1    3.0\n",
       "2    5.0\n",
       "3    NaN\n",
       "4    6.0\n",
       "5    8.0\n",
       "dtype: float64"
      ]
     },
     "execution_count": 5,
     "metadata": {},
     "output_type": "execute_result"
    }
   ],
   "source": [
    "s"
   ]
  },
  {
   "cell_type": "code",
   "execution_count": 6,
   "metadata": {
    "collapsed": true
   },
   "outputs": [],
   "source": [
    "dates = pd.date_range('20160101', periods=6)"
   ]
  },
  {
   "cell_type": "code",
   "execution_count": 7,
   "metadata": {
    "collapsed": false
   },
   "outputs": [
    {
     "data": {
      "text/plain": [
       "DatetimeIndex(['2016-01-01', '2016-01-02', '2016-01-03', '2016-01-04',\n",
       "               '2016-01-05', '2016-01-06'],\n",
       "              dtype='datetime64[ns]', freq='D')"
      ]
     },
     "execution_count": 7,
     "metadata": {},
     "output_type": "execute_result"
    }
   ],
   "source": [
    "dates"
   ]
  },
  {
   "cell_type": "code",
   "execution_count": 8,
   "metadata": {
    "collapsed": true
   },
   "outputs": [],
   "source": [
    "df = pd.DataFrame(np.random.randn(6,4), index=dates, columns=list('ABCD'))"
   ]
  },
  {
   "cell_type": "code",
   "execution_count": 9,
   "metadata": {
    "collapsed": false
   },
   "outputs": [
    {
     "data": {
      "text/html": [
       "<div>\n",
       "<table border=\"1\" class=\"dataframe\">\n",
       "  <thead>\n",
       "    <tr style=\"text-align: right;\">\n",
       "      <th></th>\n",
       "      <th>A</th>\n",
       "      <th>B</th>\n",
       "      <th>C</th>\n",
       "      <th>D</th>\n",
       "    </tr>\n",
       "  </thead>\n",
       "  <tbody>\n",
       "    <tr>\n",
       "      <th>2016-01-01</th>\n",
       "      <td>-1.641956</td>\n",
       "      <td>-1.455573</td>\n",
       "      <td>0.945352</td>\n",
       "      <td>0.626296</td>\n",
       "    </tr>\n",
       "    <tr>\n",
       "      <th>2016-01-02</th>\n",
       "      <td>0.126995</td>\n",
       "      <td>-0.451967</td>\n",
       "      <td>1.511266</td>\n",
       "      <td>-1.047744</td>\n",
       "    </tr>\n",
       "    <tr>\n",
       "      <th>2016-01-03</th>\n",
       "      <td>1.362217</td>\n",
       "      <td>0.860654</td>\n",
       "      <td>0.699688</td>\n",
       "      <td>-1.637677</td>\n",
       "    </tr>\n",
       "    <tr>\n",
       "      <th>2016-01-04</th>\n",
       "      <td>-0.384247</td>\n",
       "      <td>-0.505842</td>\n",
       "      <td>0.884604</td>\n",
       "      <td>-0.659697</td>\n",
       "    </tr>\n",
       "    <tr>\n",
       "      <th>2016-01-05</th>\n",
       "      <td>0.695931</td>\n",
       "      <td>-0.001172</td>\n",
       "      <td>-0.504081</td>\n",
       "      <td>1.135768</td>\n",
       "    </tr>\n",
       "    <tr>\n",
       "      <th>2016-01-06</th>\n",
       "      <td>-0.588888</td>\n",
       "      <td>0.170884</td>\n",
       "      <td>0.283529</td>\n",
       "      <td>-0.046629</td>\n",
       "    </tr>\n",
       "  </tbody>\n",
       "</table>\n",
       "</div>"
      ],
      "text/plain": [
       "                   A         B         C         D\n",
       "2016-01-01 -1.641956 -1.455573  0.945352  0.626296\n",
       "2016-01-02  0.126995 -0.451967  1.511266 -1.047744\n",
       "2016-01-03  1.362217  0.860654  0.699688 -1.637677\n",
       "2016-01-04 -0.384247 -0.505842  0.884604 -0.659697\n",
       "2016-01-05  0.695931 -0.001172 -0.504081  1.135768\n",
       "2016-01-06 -0.588888  0.170884  0.283529 -0.046629"
      ]
     },
     "execution_count": 9,
     "metadata": {},
     "output_type": "execute_result"
    }
   ],
   "source": [
    "df"
   ]
  },
  {
   "cell_type": "code",
   "execution_count": 10,
   "metadata": {
    "collapsed": true
   },
   "outputs": [],
   "source": [
    "df2 = pd.DataFrame({ 'A' : 1.,\n",
    "                    'B' : pd.Timestamp('20160102'),\n",
    "                    'C' : pd.Series(1,index=list(range(4)),dtype='float32'),\n",
    "                    'D' : np.array([3] * 4,dtype='int32'),\n",
    "                    'E' : pd.Categorical([\"test\",\"train\",\"test\",\"train\"]),\n",
    "                    'F' : 'foo' })"
   ]
  },
  {
   "cell_type": "code",
   "execution_count": 11,
   "metadata": {
    "collapsed": false
   },
   "outputs": [
    {
     "data": {
      "text/html": [
       "<div>\n",
       "<table border=\"1\" class=\"dataframe\">\n",
       "  <thead>\n",
       "    <tr style=\"text-align: right;\">\n",
       "      <th></th>\n",
       "      <th>A</th>\n",
       "      <th>B</th>\n",
       "      <th>C</th>\n",
       "      <th>D</th>\n",
       "      <th>E</th>\n",
       "      <th>F</th>\n",
       "    </tr>\n",
       "  </thead>\n",
       "  <tbody>\n",
       "    <tr>\n",
       "      <th>0</th>\n",
       "      <td>1.0</td>\n",
       "      <td>2016-01-02</td>\n",
       "      <td>1.0</td>\n",
       "      <td>3</td>\n",
       "      <td>test</td>\n",
       "      <td>foo</td>\n",
       "    </tr>\n",
       "    <tr>\n",
       "      <th>1</th>\n",
       "      <td>1.0</td>\n",
       "      <td>2016-01-02</td>\n",
       "      <td>1.0</td>\n",
       "      <td>3</td>\n",
       "      <td>train</td>\n",
       "      <td>foo</td>\n",
       "    </tr>\n",
       "    <tr>\n",
       "      <th>2</th>\n",
       "      <td>1.0</td>\n",
       "      <td>2016-01-02</td>\n",
       "      <td>1.0</td>\n",
       "      <td>3</td>\n",
       "      <td>test</td>\n",
       "      <td>foo</td>\n",
       "    </tr>\n",
       "    <tr>\n",
       "      <th>3</th>\n",
       "      <td>1.0</td>\n",
       "      <td>2016-01-02</td>\n",
       "      <td>1.0</td>\n",
       "      <td>3</td>\n",
       "      <td>train</td>\n",
       "      <td>foo</td>\n",
       "    </tr>\n",
       "  </tbody>\n",
       "</table>\n",
       "</div>"
      ],
      "text/plain": [
       "     A          B    C  D      E    F\n",
       "0  1.0 2016-01-02  1.0  3   test  foo\n",
       "1  1.0 2016-01-02  1.0  3  train  foo\n",
       "2  1.0 2016-01-02  1.0  3   test  foo\n",
       "3  1.0 2016-01-02  1.0  3  train  foo"
      ]
     },
     "execution_count": 11,
     "metadata": {},
     "output_type": "execute_result"
    }
   ],
   "source": [
    "df2"
   ]
  },
  {
   "cell_type": "code",
   "execution_count": 12,
   "metadata": {
    "collapsed": false
   },
   "outputs": [
    {
     "data": {
      "text/plain": [
       "A           float64\n",
       "B    datetime64[ns]\n",
       "C           float32\n",
       "D             int32\n",
       "E          category\n",
       "F            object\n",
       "dtype: object"
      ]
     },
     "execution_count": 12,
     "metadata": {},
     "output_type": "execute_result"
    }
   ],
   "source": [
    "df2.dtypes"
   ]
  },
  {
   "cell_type": "markdown",
   "metadata": {},
   "source": [
    "***\n",
    "## 3. Viewing Data"
   ]
  },
  {
   "cell_type": "code",
   "execution_count": 13,
   "metadata": {
    "collapsed": false
   },
   "outputs": [
    {
     "data": {
      "text/html": [
       "<div>\n",
       "<table border=\"1\" class=\"dataframe\">\n",
       "  <thead>\n",
       "    <tr style=\"text-align: right;\">\n",
       "      <th></th>\n",
       "      <th>A</th>\n",
       "      <th>B</th>\n",
       "      <th>C</th>\n",
       "      <th>D</th>\n",
       "    </tr>\n",
       "  </thead>\n",
       "  <tbody>\n",
       "    <tr>\n",
       "      <th>2016-01-01</th>\n",
       "      <td>-1.641956</td>\n",
       "      <td>-1.455573</td>\n",
       "      <td>0.945352</td>\n",
       "      <td>0.626296</td>\n",
       "    </tr>\n",
       "    <tr>\n",
       "      <th>2016-01-02</th>\n",
       "      <td>0.126995</td>\n",
       "      <td>-0.451967</td>\n",
       "      <td>1.511266</td>\n",
       "      <td>-1.047744</td>\n",
       "    </tr>\n",
       "    <tr>\n",
       "      <th>2016-01-03</th>\n",
       "      <td>1.362217</td>\n",
       "      <td>0.860654</td>\n",
       "      <td>0.699688</td>\n",
       "      <td>-1.637677</td>\n",
       "    </tr>\n",
       "    <tr>\n",
       "      <th>2016-01-04</th>\n",
       "      <td>-0.384247</td>\n",
       "      <td>-0.505842</td>\n",
       "      <td>0.884604</td>\n",
       "      <td>-0.659697</td>\n",
       "    </tr>\n",
       "    <tr>\n",
       "      <th>2016-01-05</th>\n",
       "      <td>0.695931</td>\n",
       "      <td>-0.001172</td>\n",
       "      <td>-0.504081</td>\n",
       "      <td>1.135768</td>\n",
       "    </tr>\n",
       "  </tbody>\n",
       "</table>\n",
       "</div>"
      ],
      "text/plain": [
       "                   A         B         C         D\n",
       "2016-01-01 -1.641956 -1.455573  0.945352  0.626296\n",
       "2016-01-02  0.126995 -0.451967  1.511266 -1.047744\n",
       "2016-01-03  1.362217  0.860654  0.699688 -1.637677\n",
       "2016-01-04 -0.384247 -0.505842  0.884604 -0.659697\n",
       "2016-01-05  0.695931 -0.001172 -0.504081  1.135768"
      ]
     },
     "execution_count": 13,
     "metadata": {},
     "output_type": "execute_result"
    }
   ],
   "source": [
    "df.head()"
   ]
  },
  {
   "cell_type": "code",
   "execution_count": 14,
   "metadata": {
    "collapsed": false
   },
   "outputs": [
    {
     "data": {
      "text/html": [
       "<div>\n",
       "<table border=\"1\" class=\"dataframe\">\n",
       "  <thead>\n",
       "    <tr style=\"text-align: right;\">\n",
       "      <th></th>\n",
       "      <th>A</th>\n",
       "      <th>B</th>\n",
       "      <th>C</th>\n",
       "      <th>D</th>\n",
       "    </tr>\n",
       "  </thead>\n",
       "  <tbody>\n",
       "    <tr>\n",
       "      <th>2016-01-04</th>\n",
       "      <td>-0.384247</td>\n",
       "      <td>-0.505842</td>\n",
       "      <td>0.884604</td>\n",
       "      <td>-0.659697</td>\n",
       "    </tr>\n",
       "    <tr>\n",
       "      <th>2016-01-05</th>\n",
       "      <td>0.695931</td>\n",
       "      <td>-0.001172</td>\n",
       "      <td>-0.504081</td>\n",
       "      <td>1.135768</td>\n",
       "    </tr>\n",
       "    <tr>\n",
       "      <th>2016-01-06</th>\n",
       "      <td>-0.588888</td>\n",
       "      <td>0.170884</td>\n",
       "      <td>0.283529</td>\n",
       "      <td>-0.046629</td>\n",
       "    </tr>\n",
       "  </tbody>\n",
       "</table>\n",
       "</div>"
      ],
      "text/plain": [
       "                   A         B         C         D\n",
       "2016-01-04 -0.384247 -0.505842  0.884604 -0.659697\n",
       "2016-01-05  0.695931 -0.001172 -0.504081  1.135768\n",
       "2016-01-06 -0.588888  0.170884  0.283529 -0.046629"
      ]
     },
     "execution_count": 14,
     "metadata": {},
     "output_type": "execute_result"
    }
   ],
   "source": [
    "df.tail(3)"
   ]
  },
  {
   "cell_type": "code",
   "execution_count": 15,
   "metadata": {
    "collapsed": false
   },
   "outputs": [
    {
     "data": {
      "text/plain": [
       "DatetimeIndex(['2016-01-01', '2016-01-02', '2016-01-03', '2016-01-04',\n",
       "               '2016-01-05', '2016-01-06'],\n",
       "              dtype='datetime64[ns]', freq='D')"
      ]
     },
     "execution_count": 15,
     "metadata": {},
     "output_type": "execute_result"
    }
   ],
   "source": [
    "df.index"
   ]
  },
  {
   "cell_type": "code",
   "execution_count": 16,
   "metadata": {
    "collapsed": false
   },
   "outputs": [
    {
     "data": {
      "text/plain": [
       "Index([u'A', u'B', u'C', u'D'], dtype='object')"
      ]
     },
     "execution_count": 16,
     "metadata": {},
     "output_type": "execute_result"
    }
   ],
   "source": [
    "df.columns"
   ]
  },
  {
   "cell_type": "code",
   "execution_count": 17,
   "metadata": {
    "collapsed": false
   },
   "outputs": [
    {
     "data": {
      "text/plain": [
       "array([[ -1.64195619e+00,  -1.45557260e+00,   9.45351557e-01,\n",
       "          6.26296172e-01],\n",
       "       [  1.26995323e-01,  -4.51966774e-01,   1.51126600e+00,\n",
       "         -1.04774383e+00],\n",
       "       [  1.36221713e+00,   8.60653827e-01,   6.99687991e-01,\n",
       "         -1.63767675e+00],\n",
       "       [ -3.84246834e-01,  -5.05841631e-01,   8.84603906e-01,\n",
       "         -6.59696826e-01],\n",
       "       [  6.95931158e-01,  -1.17166032e-03,  -5.04080573e-01,\n",
       "          1.13576829e+00],\n",
       "       [ -5.88887660e-01,   1.70883892e-01,   2.83528881e-01,\n",
       "         -4.66290487e-02]])"
      ]
     },
     "execution_count": 17,
     "metadata": {},
     "output_type": "execute_result"
    }
   ],
   "source": [
    "df.values"
   ]
  },
  {
   "cell_type": "code",
   "execution_count": 18,
   "metadata": {
    "collapsed": false
   },
   "outputs": [
    {
     "data": {
      "text/html": [
       "<div>\n",
       "<table border=\"1\" class=\"dataframe\">\n",
       "  <thead>\n",
       "    <tr style=\"text-align: right;\">\n",
       "      <th></th>\n",
       "      <th>A</th>\n",
       "      <th>B</th>\n",
       "      <th>C</th>\n",
       "      <th>D</th>\n",
       "    </tr>\n",
       "  </thead>\n",
       "  <tbody>\n",
       "    <tr>\n",
       "      <th>count</th>\n",
       "      <td>6.000000</td>\n",
       "      <td>6.000000</td>\n",
       "      <td>6.000000</td>\n",
       "      <td>6.000000</td>\n",
       "    </tr>\n",
       "    <tr>\n",
       "      <th>mean</th>\n",
       "      <td>-0.071658</td>\n",
       "      <td>-0.230502</td>\n",
       "      <td>0.636726</td>\n",
       "      <td>-0.271614</td>\n",
       "    </tr>\n",
       "    <tr>\n",
       "      <th>std</th>\n",
       "      <td>1.050307</td>\n",
       "      <td>0.778458</td>\n",
       "      <td>0.685808</td>\n",
       "      <td>1.044672</td>\n",
       "    </tr>\n",
       "    <tr>\n",
       "      <th>min</th>\n",
       "      <td>-1.641956</td>\n",
       "      <td>-1.455573</td>\n",
       "      <td>-0.504081</td>\n",
       "      <td>-1.637677</td>\n",
       "    </tr>\n",
       "    <tr>\n",
       "      <th>25%</th>\n",
       "      <td>-0.537727</td>\n",
       "      <td>-0.492373</td>\n",
       "      <td>0.387569</td>\n",
       "      <td>-0.950732</td>\n",
       "    </tr>\n",
       "    <tr>\n",
       "      <th>50%</th>\n",
       "      <td>-0.128626</td>\n",
       "      <td>-0.226569</td>\n",
       "      <td>0.792146</td>\n",
       "      <td>-0.353163</td>\n",
       "    </tr>\n",
       "    <tr>\n",
       "      <th>75%</th>\n",
       "      <td>0.553697</td>\n",
       "      <td>0.127870</td>\n",
       "      <td>0.930165</td>\n",
       "      <td>0.458065</td>\n",
       "    </tr>\n",
       "    <tr>\n",
       "      <th>max</th>\n",
       "      <td>1.362217</td>\n",
       "      <td>0.860654</td>\n",
       "      <td>1.511266</td>\n",
       "      <td>1.135768</td>\n",
       "    </tr>\n",
       "  </tbody>\n",
       "</table>\n",
       "</div>"
      ],
      "text/plain": [
       "              A         B         C         D\n",
       "count  6.000000  6.000000  6.000000  6.000000\n",
       "mean  -0.071658 -0.230502  0.636726 -0.271614\n",
       "std    1.050307  0.778458  0.685808  1.044672\n",
       "min   -1.641956 -1.455573 -0.504081 -1.637677\n",
       "25%   -0.537727 -0.492373  0.387569 -0.950732\n",
       "50%   -0.128626 -0.226569  0.792146 -0.353163\n",
       "75%    0.553697  0.127870  0.930165  0.458065\n",
       "max    1.362217  0.860654  1.511266  1.135768"
      ]
     },
     "execution_count": 18,
     "metadata": {},
     "output_type": "execute_result"
    }
   ],
   "source": [
    "df.describe()"
   ]
  },
  {
   "cell_type": "code",
   "execution_count": 19,
   "metadata": {
    "collapsed": false
   },
   "outputs": [
    {
     "data": {
      "text/html": [
       "<div>\n",
       "<table border=\"1\" class=\"dataframe\">\n",
       "  <thead>\n",
       "    <tr style=\"text-align: right;\">\n",
       "      <th></th>\n",
       "      <th>2016-01-01 00:00:00</th>\n",
       "      <th>2016-01-02 00:00:00</th>\n",
       "      <th>2016-01-03 00:00:00</th>\n",
       "      <th>2016-01-04 00:00:00</th>\n",
       "      <th>2016-01-05 00:00:00</th>\n",
       "      <th>2016-01-06 00:00:00</th>\n",
       "    </tr>\n",
       "  </thead>\n",
       "  <tbody>\n",
       "    <tr>\n",
       "      <th>A</th>\n",
       "      <td>-1.641956</td>\n",
       "      <td>0.126995</td>\n",
       "      <td>1.362217</td>\n",
       "      <td>-0.384247</td>\n",
       "      <td>0.695931</td>\n",
       "      <td>-0.588888</td>\n",
       "    </tr>\n",
       "    <tr>\n",
       "      <th>B</th>\n",
       "      <td>-1.455573</td>\n",
       "      <td>-0.451967</td>\n",
       "      <td>0.860654</td>\n",
       "      <td>-0.505842</td>\n",
       "      <td>-0.001172</td>\n",
       "      <td>0.170884</td>\n",
       "    </tr>\n",
       "    <tr>\n",
       "      <th>C</th>\n",
       "      <td>0.945352</td>\n",
       "      <td>1.511266</td>\n",
       "      <td>0.699688</td>\n",
       "      <td>0.884604</td>\n",
       "      <td>-0.504081</td>\n",
       "      <td>0.283529</td>\n",
       "    </tr>\n",
       "    <tr>\n",
       "      <th>D</th>\n",
       "      <td>0.626296</td>\n",
       "      <td>-1.047744</td>\n",
       "      <td>-1.637677</td>\n",
       "      <td>-0.659697</td>\n",
       "      <td>1.135768</td>\n",
       "      <td>-0.046629</td>\n",
       "    </tr>\n",
       "  </tbody>\n",
       "</table>\n",
       "</div>"
      ],
      "text/plain": [
       "   2016-01-01  2016-01-02  2016-01-03  2016-01-04  2016-01-05  2016-01-06\n",
       "A   -1.641956    0.126995    1.362217   -0.384247    0.695931   -0.588888\n",
       "B   -1.455573   -0.451967    0.860654   -0.505842   -0.001172    0.170884\n",
       "C    0.945352    1.511266    0.699688    0.884604   -0.504081    0.283529\n",
       "D    0.626296   -1.047744   -1.637677   -0.659697    1.135768   -0.046629"
      ]
     },
     "execution_count": 19,
     "metadata": {},
     "output_type": "execute_result"
    }
   ],
   "source": [
    "df.T"
   ]
  },
  {
   "cell_type": "code",
   "execution_count": 20,
   "metadata": {
    "collapsed": false
   },
   "outputs": [
    {
     "data": {
      "text/html": [
       "<div>\n",
       "<table border=\"1\" class=\"dataframe\">\n",
       "  <thead>\n",
       "    <tr style=\"text-align: right;\">\n",
       "      <th></th>\n",
       "      <th>D</th>\n",
       "      <th>C</th>\n",
       "      <th>B</th>\n",
       "      <th>A</th>\n",
       "    </tr>\n",
       "  </thead>\n",
       "  <tbody>\n",
       "    <tr>\n",
       "      <th>2016-01-01</th>\n",
       "      <td>0.626296</td>\n",
       "      <td>0.945352</td>\n",
       "      <td>-1.455573</td>\n",
       "      <td>-1.641956</td>\n",
       "    </tr>\n",
       "    <tr>\n",
       "      <th>2016-01-02</th>\n",
       "      <td>-1.047744</td>\n",
       "      <td>1.511266</td>\n",
       "      <td>-0.451967</td>\n",
       "      <td>0.126995</td>\n",
       "    </tr>\n",
       "    <tr>\n",
       "      <th>2016-01-03</th>\n",
       "      <td>-1.637677</td>\n",
       "      <td>0.699688</td>\n",
       "      <td>0.860654</td>\n",
       "      <td>1.362217</td>\n",
       "    </tr>\n",
       "    <tr>\n",
       "      <th>2016-01-04</th>\n",
       "      <td>-0.659697</td>\n",
       "      <td>0.884604</td>\n",
       "      <td>-0.505842</td>\n",
       "      <td>-0.384247</td>\n",
       "    </tr>\n",
       "    <tr>\n",
       "      <th>2016-01-05</th>\n",
       "      <td>1.135768</td>\n",
       "      <td>-0.504081</td>\n",
       "      <td>-0.001172</td>\n",
       "      <td>0.695931</td>\n",
       "    </tr>\n",
       "    <tr>\n",
       "      <th>2016-01-06</th>\n",
       "      <td>-0.046629</td>\n",
       "      <td>0.283529</td>\n",
       "      <td>0.170884</td>\n",
       "      <td>-0.588888</td>\n",
       "    </tr>\n",
       "  </tbody>\n",
       "</table>\n",
       "</div>"
      ],
      "text/plain": [
       "                   D         C         B         A\n",
       "2016-01-01  0.626296  0.945352 -1.455573 -1.641956\n",
       "2016-01-02 -1.047744  1.511266 -0.451967  0.126995\n",
       "2016-01-03 -1.637677  0.699688  0.860654  1.362217\n",
       "2016-01-04 -0.659697  0.884604 -0.505842 -0.384247\n",
       "2016-01-05  1.135768 -0.504081 -0.001172  0.695931\n",
       "2016-01-06 -0.046629  0.283529  0.170884 -0.588888"
      ]
     },
     "execution_count": 20,
     "metadata": {},
     "output_type": "execute_result"
    }
   ],
   "source": [
    "df.sort_index(axis=1, ascending=False)"
   ]
  },
  {
   "cell_type": "code",
   "execution_count": 21,
   "metadata": {
    "collapsed": false
   },
   "outputs": [
    {
     "data": {
      "text/html": [
       "<div>\n",
       "<table border=\"1\" class=\"dataframe\">\n",
       "  <thead>\n",
       "    <tr style=\"text-align: right;\">\n",
       "      <th></th>\n",
       "      <th>A</th>\n",
       "      <th>B</th>\n",
       "      <th>C</th>\n",
       "      <th>D</th>\n",
       "    </tr>\n",
       "  </thead>\n",
       "  <tbody>\n",
       "    <tr>\n",
       "      <th>2016-01-01</th>\n",
       "      <td>-1.641956</td>\n",
       "      <td>-1.455573</td>\n",
       "      <td>0.945352</td>\n",
       "      <td>0.626296</td>\n",
       "    </tr>\n",
       "    <tr>\n",
       "      <th>2016-01-04</th>\n",
       "      <td>-0.384247</td>\n",
       "      <td>-0.505842</td>\n",
       "      <td>0.884604</td>\n",
       "      <td>-0.659697</td>\n",
       "    </tr>\n",
       "    <tr>\n",
       "      <th>2016-01-02</th>\n",
       "      <td>0.126995</td>\n",
       "      <td>-0.451967</td>\n",
       "      <td>1.511266</td>\n",
       "      <td>-1.047744</td>\n",
       "    </tr>\n",
       "    <tr>\n",
       "      <th>2016-01-05</th>\n",
       "      <td>0.695931</td>\n",
       "      <td>-0.001172</td>\n",
       "      <td>-0.504081</td>\n",
       "      <td>1.135768</td>\n",
       "    </tr>\n",
       "    <tr>\n",
       "      <th>2016-01-06</th>\n",
       "      <td>-0.588888</td>\n",
       "      <td>0.170884</td>\n",
       "      <td>0.283529</td>\n",
       "      <td>-0.046629</td>\n",
       "    </tr>\n",
       "    <tr>\n",
       "      <th>2016-01-03</th>\n",
       "      <td>1.362217</td>\n",
       "      <td>0.860654</td>\n",
       "      <td>0.699688</td>\n",
       "      <td>-1.637677</td>\n",
       "    </tr>\n",
       "  </tbody>\n",
       "</table>\n",
       "</div>"
      ],
      "text/plain": [
       "                   A         B         C         D\n",
       "2016-01-01 -1.641956 -1.455573  0.945352  0.626296\n",
       "2016-01-04 -0.384247 -0.505842  0.884604 -0.659697\n",
       "2016-01-02  0.126995 -0.451967  1.511266 -1.047744\n",
       "2016-01-05  0.695931 -0.001172 -0.504081  1.135768\n",
       "2016-01-06 -0.588888  0.170884  0.283529 -0.046629\n",
       "2016-01-03  1.362217  0.860654  0.699688 -1.637677"
      ]
     },
     "execution_count": 21,
     "metadata": {},
     "output_type": "execute_result"
    }
   ],
   "source": [
    "df.sort_values(by='B')"
   ]
  },
  {
   "cell_type": "markdown",
   "metadata": {},
   "source": [
    "***\n",
    "## 4. Selection\n",
    "### 4.1. Getting"
   ]
  },
  {
   "cell_type": "code",
   "execution_count": 22,
   "metadata": {
    "collapsed": false
   },
   "outputs": [
    {
     "data": {
      "text/plain": [
       "2016-01-01   -1.641956\n",
       "2016-01-02    0.126995\n",
       "2016-01-03    1.362217\n",
       "2016-01-04   -0.384247\n",
       "2016-01-05    0.695931\n",
       "2016-01-06   -0.588888\n",
       "Freq: D, Name: A, dtype: float64"
      ]
     },
     "execution_count": 22,
     "metadata": {},
     "output_type": "execute_result"
    }
   ],
   "source": [
    "df['A']"
   ]
  },
  {
   "cell_type": "code",
   "execution_count": 23,
   "metadata": {
    "collapsed": false
   },
   "outputs": [
    {
     "data": {
      "text/html": [
       "<div>\n",
       "<table border=\"1\" class=\"dataframe\">\n",
       "  <thead>\n",
       "    <tr style=\"text-align: right;\">\n",
       "      <th></th>\n",
       "      <th>A</th>\n",
       "      <th>B</th>\n",
       "      <th>C</th>\n",
       "      <th>D</th>\n",
       "    </tr>\n",
       "  </thead>\n",
       "  <tbody>\n",
       "    <tr>\n",
       "      <th>2016-01-01</th>\n",
       "      <td>-1.641956</td>\n",
       "      <td>-1.455573</td>\n",
       "      <td>0.945352</td>\n",
       "      <td>0.626296</td>\n",
       "    </tr>\n",
       "    <tr>\n",
       "      <th>2016-01-02</th>\n",
       "      <td>0.126995</td>\n",
       "      <td>-0.451967</td>\n",
       "      <td>1.511266</td>\n",
       "      <td>-1.047744</td>\n",
       "    </tr>\n",
       "    <tr>\n",
       "      <th>2016-01-03</th>\n",
       "      <td>1.362217</td>\n",
       "      <td>0.860654</td>\n",
       "      <td>0.699688</td>\n",
       "      <td>-1.637677</td>\n",
       "    </tr>\n",
       "  </tbody>\n",
       "</table>\n",
       "</div>"
      ],
      "text/plain": [
       "                   A         B         C         D\n",
       "2016-01-01 -1.641956 -1.455573  0.945352  0.626296\n",
       "2016-01-02  0.126995 -0.451967  1.511266 -1.047744\n",
       "2016-01-03  1.362217  0.860654  0.699688 -1.637677"
      ]
     },
     "execution_count": 23,
     "metadata": {},
     "output_type": "execute_result"
    }
   ],
   "source": [
    "df[0:3]"
   ]
  },
  {
   "cell_type": "code",
   "execution_count": 24,
   "metadata": {
    "collapsed": false
   },
   "outputs": [
    {
     "data": {
      "text/html": [
       "<div>\n",
       "<table border=\"1\" class=\"dataframe\">\n",
       "  <thead>\n",
       "    <tr style=\"text-align: right;\">\n",
       "      <th></th>\n",
       "      <th>A</th>\n",
       "      <th>B</th>\n",
       "      <th>C</th>\n",
       "      <th>D</th>\n",
       "    </tr>\n",
       "  </thead>\n",
       "  <tbody>\n",
       "    <tr>\n",
       "      <th>2016-01-02</th>\n",
       "      <td>0.126995</td>\n",
       "      <td>-0.451967</td>\n",
       "      <td>1.511266</td>\n",
       "      <td>-1.047744</td>\n",
       "    </tr>\n",
       "    <tr>\n",
       "      <th>2016-01-03</th>\n",
       "      <td>1.362217</td>\n",
       "      <td>0.860654</td>\n",
       "      <td>0.699688</td>\n",
       "      <td>-1.637677</td>\n",
       "    </tr>\n",
       "    <tr>\n",
       "      <th>2016-01-04</th>\n",
       "      <td>-0.384247</td>\n",
       "      <td>-0.505842</td>\n",
       "      <td>0.884604</td>\n",
       "      <td>-0.659697</td>\n",
       "    </tr>\n",
       "  </tbody>\n",
       "</table>\n",
       "</div>"
      ],
      "text/plain": [
       "                   A         B         C         D\n",
       "2016-01-02  0.126995 -0.451967  1.511266 -1.047744\n",
       "2016-01-03  1.362217  0.860654  0.699688 -1.637677\n",
       "2016-01-04 -0.384247 -0.505842  0.884604 -0.659697"
      ]
     },
     "execution_count": 24,
     "metadata": {},
     "output_type": "execute_result"
    }
   ],
   "source": [
    "df['20160102':'20160104']"
   ]
  },
  {
   "cell_type": "markdown",
   "metadata": {},
   "source": [
    "### 4.2. Selection by Label"
   ]
  },
  {
   "cell_type": "code",
   "execution_count": 25,
   "metadata": {
    "collapsed": false
   },
   "outputs": [
    {
     "data": {
      "text/plain": [
       "A   -1.641956\n",
       "B   -1.455573\n",
       "C    0.945352\n",
       "D    0.626296\n",
       "Name: 2016-01-01 00:00:00, dtype: float64"
      ]
     },
     "execution_count": 25,
     "metadata": {},
     "output_type": "execute_result"
    }
   ],
   "source": [
    "df.loc[dates[0]]"
   ]
  },
  {
   "cell_type": "code",
   "execution_count": 26,
   "metadata": {
    "collapsed": false
   },
   "outputs": [
    {
     "data": {
      "text/html": [
       "<div>\n",
       "<table border=\"1\" class=\"dataframe\">\n",
       "  <thead>\n",
       "    <tr style=\"text-align: right;\">\n",
       "      <th></th>\n",
       "      <th>A</th>\n",
       "      <th>B</th>\n",
       "    </tr>\n",
       "  </thead>\n",
       "  <tbody>\n",
       "    <tr>\n",
       "      <th>2016-01-01</th>\n",
       "      <td>-1.641956</td>\n",
       "      <td>-1.455573</td>\n",
       "    </tr>\n",
       "    <tr>\n",
       "      <th>2016-01-02</th>\n",
       "      <td>0.126995</td>\n",
       "      <td>-0.451967</td>\n",
       "    </tr>\n",
       "    <tr>\n",
       "      <th>2016-01-03</th>\n",
       "      <td>1.362217</td>\n",
       "      <td>0.860654</td>\n",
       "    </tr>\n",
       "    <tr>\n",
       "      <th>2016-01-04</th>\n",
       "      <td>-0.384247</td>\n",
       "      <td>-0.505842</td>\n",
       "    </tr>\n",
       "    <tr>\n",
       "      <th>2016-01-05</th>\n",
       "      <td>0.695931</td>\n",
       "      <td>-0.001172</td>\n",
       "    </tr>\n",
       "    <tr>\n",
       "      <th>2016-01-06</th>\n",
       "      <td>-0.588888</td>\n",
       "      <td>0.170884</td>\n",
       "    </tr>\n",
       "  </tbody>\n",
       "</table>\n",
       "</div>"
      ],
      "text/plain": [
       "                   A         B\n",
       "2016-01-01 -1.641956 -1.455573\n",
       "2016-01-02  0.126995 -0.451967\n",
       "2016-01-03  1.362217  0.860654\n",
       "2016-01-04 -0.384247 -0.505842\n",
       "2016-01-05  0.695931 -0.001172\n",
       "2016-01-06 -0.588888  0.170884"
      ]
     },
     "execution_count": 26,
     "metadata": {},
     "output_type": "execute_result"
    }
   ],
   "source": [
    "df.loc[:,['A','B']]"
   ]
  },
  {
   "cell_type": "code",
   "execution_count": 27,
   "metadata": {
    "collapsed": false
   },
   "outputs": [
    {
     "data": {
      "text/html": [
       "<div>\n",
       "<table border=\"1\" class=\"dataframe\">\n",
       "  <thead>\n",
       "    <tr style=\"text-align: right;\">\n",
       "      <th></th>\n",
       "      <th>A</th>\n",
       "      <th>B</th>\n",
       "    </tr>\n",
       "  </thead>\n",
       "  <tbody>\n",
       "    <tr>\n",
       "      <th>2016-01-02</th>\n",
       "      <td>0.126995</td>\n",
       "      <td>-0.451967</td>\n",
       "    </tr>\n",
       "    <tr>\n",
       "      <th>2016-01-03</th>\n",
       "      <td>1.362217</td>\n",
       "      <td>0.860654</td>\n",
       "    </tr>\n",
       "    <tr>\n",
       "      <th>2016-01-04</th>\n",
       "      <td>-0.384247</td>\n",
       "      <td>-0.505842</td>\n",
       "    </tr>\n",
       "  </tbody>\n",
       "</table>\n",
       "</div>"
      ],
      "text/plain": [
       "                   A         B\n",
       "2016-01-02  0.126995 -0.451967\n",
       "2016-01-03  1.362217  0.860654\n",
       "2016-01-04 -0.384247 -0.505842"
      ]
     },
     "execution_count": 27,
     "metadata": {},
     "output_type": "execute_result"
    }
   ],
   "source": [
    "df.loc['20160102':'20160104', ['A','B']]"
   ]
  },
  {
   "cell_type": "code",
   "execution_count": 28,
   "metadata": {
    "collapsed": false
   },
   "outputs": [
    {
     "data": {
      "text/plain": [
       "A    0.126995\n",
       "B   -0.451967\n",
       "Name: 2016-01-02 00:00:00, dtype: float64"
      ]
     },
     "execution_count": 28,
     "metadata": {},
     "output_type": "execute_result"
    }
   ],
   "source": [
    "df.loc['20160102',['A','B']]"
   ]
  },
  {
   "cell_type": "code",
   "execution_count": 29,
   "metadata": {
    "collapsed": false
   },
   "outputs": [
    {
     "data": {
      "text/plain": [
       "-1.641956190030313"
      ]
     },
     "execution_count": 29,
     "metadata": {},
     "output_type": "execute_result"
    }
   ],
   "source": [
    "df.loc[dates[0],'A']"
   ]
  },
  {
   "cell_type": "code",
   "execution_count": 30,
   "metadata": {
    "collapsed": false
   },
   "outputs": [
    {
     "data": {
      "text/plain": [
       "-1.641956190030313"
      ]
     },
     "execution_count": 30,
     "metadata": {},
     "output_type": "execute_result"
    }
   ],
   "source": [
    "df.at[dates[0],'A']"
   ]
  },
  {
   "cell_type": "markdown",
   "metadata": {},
   "source": [
    "### 4.3. Selection by Position"
   ]
  },
  {
   "cell_type": "code",
   "execution_count": 31,
   "metadata": {
    "collapsed": false
   },
   "outputs": [
    {
     "data": {
      "text/plain": [
       "A   -0.384247\n",
       "B   -0.505842\n",
       "C    0.884604\n",
       "D   -0.659697\n",
       "Name: 2016-01-04 00:00:00, dtype: float64"
      ]
     },
     "execution_count": 31,
     "metadata": {},
     "output_type": "execute_result"
    }
   ],
   "source": [
    "df.iloc[3]"
   ]
  },
  {
   "cell_type": "code",
   "execution_count": 32,
   "metadata": {
    "collapsed": false
   },
   "outputs": [
    {
     "data": {
      "text/html": [
       "<div>\n",
       "<table border=\"1\" class=\"dataframe\">\n",
       "  <thead>\n",
       "    <tr style=\"text-align: right;\">\n",
       "      <th></th>\n",
       "      <th>A</th>\n",
       "      <th>B</th>\n",
       "    </tr>\n",
       "  </thead>\n",
       "  <tbody>\n",
       "    <tr>\n",
       "      <th>2016-01-04</th>\n",
       "      <td>-0.384247</td>\n",
       "      <td>-0.505842</td>\n",
       "    </tr>\n",
       "    <tr>\n",
       "      <th>2016-01-05</th>\n",
       "      <td>0.695931</td>\n",
       "      <td>-0.001172</td>\n",
       "    </tr>\n",
       "  </tbody>\n",
       "</table>\n",
       "</div>"
      ],
      "text/plain": [
       "                   A         B\n",
       "2016-01-04 -0.384247 -0.505842\n",
       "2016-01-05  0.695931 -0.001172"
      ]
     },
     "execution_count": 32,
     "metadata": {},
     "output_type": "execute_result"
    }
   ],
   "source": [
    "df.iloc[3:5,0:2]"
   ]
  },
  {
   "cell_type": "code",
   "execution_count": 33,
   "metadata": {
    "collapsed": false
   },
   "outputs": [
    {
     "data": {
      "text/html": [
       "<div>\n",
       "<table border=\"1\" class=\"dataframe\">\n",
       "  <thead>\n",
       "    <tr style=\"text-align: right;\">\n",
       "      <th></th>\n",
       "      <th>A</th>\n",
       "      <th>C</th>\n",
       "    </tr>\n",
       "  </thead>\n",
       "  <tbody>\n",
       "    <tr>\n",
       "      <th>2016-01-02</th>\n",
       "      <td>0.126995</td>\n",
       "      <td>1.511266</td>\n",
       "    </tr>\n",
       "    <tr>\n",
       "      <th>2016-01-03</th>\n",
       "      <td>1.362217</td>\n",
       "      <td>0.699688</td>\n",
       "    </tr>\n",
       "    <tr>\n",
       "      <th>2016-01-05</th>\n",
       "      <td>0.695931</td>\n",
       "      <td>-0.504081</td>\n",
       "    </tr>\n",
       "  </tbody>\n",
       "</table>\n",
       "</div>"
      ],
      "text/plain": [
       "                   A         C\n",
       "2016-01-02  0.126995  1.511266\n",
       "2016-01-03  1.362217  0.699688\n",
       "2016-01-05  0.695931 -0.504081"
      ]
     },
     "execution_count": 33,
     "metadata": {},
     "output_type": "execute_result"
    }
   ],
   "source": [
    "df.iloc[[1,2,4],[0,2]]\n"
   ]
  },
  {
   "cell_type": "code",
   "execution_count": 34,
   "metadata": {
    "collapsed": false
   },
   "outputs": [
    {
     "data": {
      "text/html": [
       "<div>\n",
       "<table border=\"1\" class=\"dataframe\">\n",
       "  <thead>\n",
       "    <tr style=\"text-align: right;\">\n",
       "      <th></th>\n",
       "      <th>A</th>\n",
       "      <th>B</th>\n",
       "      <th>C</th>\n",
       "      <th>D</th>\n",
       "    </tr>\n",
       "  </thead>\n",
       "  <tbody>\n",
       "    <tr>\n",
       "      <th>2016-01-02</th>\n",
       "      <td>0.126995</td>\n",
       "      <td>-0.451967</td>\n",
       "      <td>1.511266</td>\n",
       "      <td>-1.047744</td>\n",
       "    </tr>\n",
       "    <tr>\n",
       "      <th>2016-01-03</th>\n",
       "      <td>1.362217</td>\n",
       "      <td>0.860654</td>\n",
       "      <td>0.699688</td>\n",
       "      <td>-1.637677</td>\n",
       "    </tr>\n",
       "  </tbody>\n",
       "</table>\n",
       "</div>"
      ],
      "text/plain": [
       "                   A         B         C         D\n",
       "2016-01-02  0.126995 -0.451967  1.511266 -1.047744\n",
       "2016-01-03  1.362217  0.860654  0.699688 -1.637677"
      ]
     },
     "execution_count": 34,
     "metadata": {},
     "output_type": "execute_result"
    }
   ],
   "source": [
    "df.iloc[1:3,:]"
   ]
  },
  {
   "cell_type": "code",
   "execution_count": 35,
   "metadata": {
    "collapsed": false
   },
   "outputs": [
    {
     "data": {
      "text/html": [
       "<div>\n",
       "<table border=\"1\" class=\"dataframe\">\n",
       "  <thead>\n",
       "    <tr style=\"text-align: right;\">\n",
       "      <th></th>\n",
       "      <th>B</th>\n",
       "      <th>C</th>\n",
       "    </tr>\n",
       "  </thead>\n",
       "  <tbody>\n",
       "    <tr>\n",
       "      <th>2016-01-01</th>\n",
       "      <td>-1.455573</td>\n",
       "      <td>0.945352</td>\n",
       "    </tr>\n",
       "    <tr>\n",
       "      <th>2016-01-02</th>\n",
       "      <td>-0.451967</td>\n",
       "      <td>1.511266</td>\n",
       "    </tr>\n",
       "    <tr>\n",
       "      <th>2016-01-03</th>\n",
       "      <td>0.860654</td>\n",
       "      <td>0.699688</td>\n",
       "    </tr>\n",
       "    <tr>\n",
       "      <th>2016-01-04</th>\n",
       "      <td>-0.505842</td>\n",
       "      <td>0.884604</td>\n",
       "    </tr>\n",
       "    <tr>\n",
       "      <th>2016-01-05</th>\n",
       "      <td>-0.001172</td>\n",
       "      <td>-0.504081</td>\n",
       "    </tr>\n",
       "    <tr>\n",
       "      <th>2016-01-06</th>\n",
       "      <td>0.170884</td>\n",
       "      <td>0.283529</td>\n",
       "    </tr>\n",
       "  </tbody>\n",
       "</table>\n",
       "</div>"
      ],
      "text/plain": [
       "                   B         C\n",
       "2016-01-01 -1.455573  0.945352\n",
       "2016-01-02 -0.451967  1.511266\n",
       "2016-01-03  0.860654  0.699688\n",
       "2016-01-04 -0.505842  0.884604\n",
       "2016-01-05 -0.001172 -0.504081\n",
       "2016-01-06  0.170884  0.283529"
      ]
     },
     "execution_count": 35,
     "metadata": {},
     "output_type": "execute_result"
    }
   ],
   "source": [
    "df.iloc[:,1:3]"
   ]
  },
  {
   "cell_type": "code",
   "execution_count": 36,
   "metadata": {
    "collapsed": false
   },
   "outputs": [
    {
     "data": {
      "text/plain": [
       "-0.45196677433249949"
      ]
     },
     "execution_count": 36,
     "metadata": {},
     "output_type": "execute_result"
    }
   ],
   "source": [
    "df.iloc[1,1]"
   ]
  },
  {
   "cell_type": "code",
   "execution_count": 37,
   "metadata": {
    "collapsed": false
   },
   "outputs": [
    {
     "data": {
      "text/plain": [
       "-0.45196677433249949"
      ]
     },
     "execution_count": 37,
     "metadata": {},
     "output_type": "execute_result"
    }
   ],
   "source": [
    "df.iat[1,1]"
   ]
  },
  {
   "cell_type": "markdown",
   "metadata": {},
   "source": [
    "### 4.4. Boolean Indexing"
   ]
  },
  {
   "cell_type": "code",
   "execution_count": 38,
   "metadata": {
    "collapsed": false
   },
   "outputs": [
    {
     "data": {
      "text/html": [
       "<div>\n",
       "<table border=\"1\" class=\"dataframe\">\n",
       "  <thead>\n",
       "    <tr style=\"text-align: right;\">\n",
       "      <th></th>\n",
       "      <th>A</th>\n",
       "      <th>B</th>\n",
       "      <th>C</th>\n",
       "      <th>D</th>\n",
       "    </tr>\n",
       "  </thead>\n",
       "  <tbody>\n",
       "    <tr>\n",
       "      <th>2016-01-02</th>\n",
       "      <td>0.126995</td>\n",
       "      <td>-0.451967</td>\n",
       "      <td>1.511266</td>\n",
       "      <td>-1.047744</td>\n",
       "    </tr>\n",
       "    <tr>\n",
       "      <th>2016-01-03</th>\n",
       "      <td>1.362217</td>\n",
       "      <td>0.860654</td>\n",
       "      <td>0.699688</td>\n",
       "      <td>-1.637677</td>\n",
       "    </tr>\n",
       "    <tr>\n",
       "      <th>2016-01-05</th>\n",
       "      <td>0.695931</td>\n",
       "      <td>-0.001172</td>\n",
       "      <td>-0.504081</td>\n",
       "      <td>1.135768</td>\n",
       "    </tr>\n",
       "  </tbody>\n",
       "</table>\n",
       "</div>"
      ],
      "text/plain": [
       "                   A         B         C         D\n",
       "2016-01-02  0.126995 -0.451967  1.511266 -1.047744\n",
       "2016-01-03  1.362217  0.860654  0.699688 -1.637677\n",
       "2016-01-05  0.695931 -0.001172 -0.504081  1.135768"
      ]
     },
     "execution_count": 38,
     "metadata": {},
     "output_type": "execute_result"
    }
   ],
   "source": [
    "df[df.A > 0]"
   ]
  },
  {
   "cell_type": "code",
   "execution_count": 39,
   "metadata": {
    "collapsed": false
   },
   "outputs": [
    {
     "data": {
      "text/html": [
       "<div>\n",
       "<table border=\"1\" class=\"dataframe\">\n",
       "  <thead>\n",
       "    <tr style=\"text-align: right;\">\n",
       "      <th></th>\n",
       "      <th>A</th>\n",
       "      <th>B</th>\n",
       "      <th>C</th>\n",
       "      <th>D</th>\n",
       "    </tr>\n",
       "  </thead>\n",
       "  <tbody>\n",
       "    <tr>\n",
       "      <th>2016-01-01</th>\n",
       "      <td>NaN</td>\n",
       "      <td>NaN</td>\n",
       "      <td>0.945352</td>\n",
       "      <td>0.626296</td>\n",
       "    </tr>\n",
       "    <tr>\n",
       "      <th>2016-01-02</th>\n",
       "      <td>0.126995</td>\n",
       "      <td>NaN</td>\n",
       "      <td>1.511266</td>\n",
       "      <td>NaN</td>\n",
       "    </tr>\n",
       "    <tr>\n",
       "      <th>2016-01-03</th>\n",
       "      <td>1.362217</td>\n",
       "      <td>0.860654</td>\n",
       "      <td>0.699688</td>\n",
       "      <td>NaN</td>\n",
       "    </tr>\n",
       "    <tr>\n",
       "      <th>2016-01-04</th>\n",
       "      <td>NaN</td>\n",
       "      <td>NaN</td>\n",
       "      <td>0.884604</td>\n",
       "      <td>NaN</td>\n",
       "    </tr>\n",
       "    <tr>\n",
       "      <th>2016-01-05</th>\n",
       "      <td>0.695931</td>\n",
       "      <td>NaN</td>\n",
       "      <td>NaN</td>\n",
       "      <td>1.135768</td>\n",
       "    </tr>\n",
       "    <tr>\n",
       "      <th>2016-01-06</th>\n",
       "      <td>NaN</td>\n",
       "      <td>0.170884</td>\n",
       "      <td>0.283529</td>\n",
       "      <td>NaN</td>\n",
       "    </tr>\n",
       "  </tbody>\n",
       "</table>\n",
       "</div>"
      ],
      "text/plain": [
       "                   A         B         C         D\n",
       "2016-01-01       NaN       NaN  0.945352  0.626296\n",
       "2016-01-02  0.126995       NaN  1.511266       NaN\n",
       "2016-01-03  1.362217  0.860654  0.699688       NaN\n",
       "2016-01-04       NaN       NaN  0.884604       NaN\n",
       "2016-01-05  0.695931       NaN       NaN  1.135768\n",
       "2016-01-06       NaN  0.170884  0.283529       NaN"
      ]
     },
     "execution_count": 39,
     "metadata": {},
     "output_type": "execute_result"
    }
   ],
   "source": [
    "df[df > 0]"
   ]
  },
  {
   "cell_type": "code",
   "execution_count": 40,
   "metadata": {
    "collapsed": true
   },
   "outputs": [],
   "source": [
    "df2 = df.copy()"
   ]
  },
  {
   "cell_type": "code",
   "execution_count": 41,
   "metadata": {
    "collapsed": true
   },
   "outputs": [],
   "source": [
    "df2['E'] = ['one', 'one','two','three','four','three']"
   ]
  },
  {
   "cell_type": "code",
   "execution_count": 42,
   "metadata": {
    "collapsed": false
   },
   "outputs": [
    {
     "data": {
      "text/html": [
       "<div>\n",
       "<table border=\"1\" class=\"dataframe\">\n",
       "  <thead>\n",
       "    <tr style=\"text-align: right;\">\n",
       "      <th></th>\n",
       "      <th>A</th>\n",
       "      <th>B</th>\n",
       "      <th>C</th>\n",
       "      <th>D</th>\n",
       "      <th>E</th>\n",
       "    </tr>\n",
       "  </thead>\n",
       "  <tbody>\n",
       "    <tr>\n",
       "      <th>2016-01-01</th>\n",
       "      <td>-1.641956</td>\n",
       "      <td>-1.455573</td>\n",
       "      <td>0.945352</td>\n",
       "      <td>0.626296</td>\n",
       "      <td>one</td>\n",
       "    </tr>\n",
       "    <tr>\n",
       "      <th>2016-01-02</th>\n",
       "      <td>0.126995</td>\n",
       "      <td>-0.451967</td>\n",
       "      <td>1.511266</td>\n",
       "      <td>-1.047744</td>\n",
       "      <td>one</td>\n",
       "    </tr>\n",
       "    <tr>\n",
       "      <th>2016-01-03</th>\n",
       "      <td>1.362217</td>\n",
       "      <td>0.860654</td>\n",
       "      <td>0.699688</td>\n",
       "      <td>-1.637677</td>\n",
       "      <td>two</td>\n",
       "    </tr>\n",
       "    <tr>\n",
       "      <th>2016-01-04</th>\n",
       "      <td>-0.384247</td>\n",
       "      <td>-0.505842</td>\n",
       "      <td>0.884604</td>\n",
       "      <td>-0.659697</td>\n",
       "      <td>three</td>\n",
       "    </tr>\n",
       "    <tr>\n",
       "      <th>2016-01-05</th>\n",
       "      <td>0.695931</td>\n",
       "      <td>-0.001172</td>\n",
       "      <td>-0.504081</td>\n",
       "      <td>1.135768</td>\n",
       "      <td>four</td>\n",
       "    </tr>\n",
       "    <tr>\n",
       "      <th>2016-01-06</th>\n",
       "      <td>-0.588888</td>\n",
       "      <td>0.170884</td>\n",
       "      <td>0.283529</td>\n",
       "      <td>-0.046629</td>\n",
       "      <td>three</td>\n",
       "    </tr>\n",
       "  </tbody>\n",
       "</table>\n",
       "</div>"
      ],
      "text/plain": [
       "                   A         B         C         D      E\n",
       "2016-01-01 -1.641956 -1.455573  0.945352  0.626296    one\n",
       "2016-01-02  0.126995 -0.451967  1.511266 -1.047744    one\n",
       "2016-01-03  1.362217  0.860654  0.699688 -1.637677    two\n",
       "2016-01-04 -0.384247 -0.505842  0.884604 -0.659697  three\n",
       "2016-01-05  0.695931 -0.001172 -0.504081  1.135768   four\n",
       "2016-01-06 -0.588888  0.170884  0.283529 -0.046629  three"
      ]
     },
     "execution_count": 42,
     "metadata": {},
     "output_type": "execute_result"
    }
   ],
   "source": [
    "df2"
   ]
  },
  {
   "cell_type": "code",
   "execution_count": 43,
   "metadata": {
    "collapsed": false
   },
   "outputs": [
    {
     "data": {
      "text/html": [
       "<div>\n",
       "<table border=\"1\" class=\"dataframe\">\n",
       "  <thead>\n",
       "    <tr style=\"text-align: right;\">\n",
       "      <th></th>\n",
       "      <th>A</th>\n",
       "      <th>B</th>\n",
       "      <th>C</th>\n",
       "      <th>D</th>\n",
       "      <th>E</th>\n",
       "    </tr>\n",
       "  </thead>\n",
       "  <tbody>\n",
       "    <tr>\n",
       "      <th>2016-01-03</th>\n",
       "      <td>1.362217</td>\n",
       "      <td>0.860654</td>\n",
       "      <td>0.699688</td>\n",
       "      <td>-1.637677</td>\n",
       "      <td>two</td>\n",
       "    </tr>\n",
       "    <tr>\n",
       "      <th>2016-01-05</th>\n",
       "      <td>0.695931</td>\n",
       "      <td>-0.001172</td>\n",
       "      <td>-0.504081</td>\n",
       "      <td>1.135768</td>\n",
       "      <td>four</td>\n",
       "    </tr>\n",
       "  </tbody>\n",
       "</table>\n",
       "</div>"
      ],
      "text/plain": [
       "                   A         B         C         D     E\n",
       "2016-01-03  1.362217  0.860654  0.699688 -1.637677   two\n",
       "2016-01-05  0.695931 -0.001172 -0.504081  1.135768  four"
      ]
     },
     "execution_count": 43,
     "metadata": {},
     "output_type": "execute_result"
    }
   ],
   "source": [
    "df2[df2['E'].isin(['two','four'])]"
   ]
  },
  {
   "cell_type": "markdown",
   "metadata": {},
   "source": [
    "### 4.4. Setting"
   ]
  },
  {
   "cell_type": "code",
   "execution_count": 44,
   "metadata": {
    "collapsed": true
   },
   "outputs": [],
   "source": [
    "s1 = pd.Series([1,2,3,4,5,6], index = pd.date_range('20160102', periods=6))"
   ]
  },
  {
   "cell_type": "code",
   "execution_count": 45,
   "metadata": {
    "collapsed": false
   },
   "outputs": [
    {
     "data": {
      "text/plain": [
       "2016-01-02    1\n",
       "2016-01-03    2\n",
       "2016-01-04    3\n",
       "2016-01-05    4\n",
       "2016-01-06    5\n",
       "2016-01-07    6\n",
       "Freq: D, dtype: int64"
      ]
     },
     "execution_count": 45,
     "metadata": {},
     "output_type": "execute_result"
    }
   ],
   "source": [
    "s1"
   ]
  },
  {
   "cell_type": "code",
   "execution_count": 46,
   "metadata": {
    "collapsed": true
   },
   "outputs": [],
   "source": [
    "df['F'] = s1"
   ]
  },
  {
   "cell_type": "code",
   "execution_count": 47,
   "metadata": {
    "collapsed": true
   },
   "outputs": [],
   "source": [
    "df.at[dates[0],'A'] = 0"
   ]
  },
  {
   "cell_type": "code",
   "execution_count": 48,
   "metadata": {
    "collapsed": true
   },
   "outputs": [],
   "source": [
    "df.iat[0,1] = 0"
   ]
  },
  {
   "cell_type": "code",
   "execution_count": 49,
   "metadata": {
    "collapsed": true
   },
   "outputs": [],
   "source": [
    "df.loc[:,'D'] = np.array([5] * len(df))"
   ]
  },
  {
   "cell_type": "code",
   "execution_count": 50,
   "metadata": {
    "collapsed": false
   },
   "outputs": [
    {
     "data": {
      "text/html": [
       "<div>\n",
       "<table border=\"1\" class=\"dataframe\">\n",
       "  <thead>\n",
       "    <tr style=\"text-align: right;\">\n",
       "      <th></th>\n",
       "      <th>A</th>\n",
       "      <th>B</th>\n",
       "      <th>C</th>\n",
       "      <th>D</th>\n",
       "      <th>F</th>\n",
       "    </tr>\n",
       "  </thead>\n",
       "  <tbody>\n",
       "    <tr>\n",
       "      <th>2016-01-01</th>\n",
       "      <td>0.000000</td>\n",
       "      <td>0.000000</td>\n",
       "      <td>0.945352</td>\n",
       "      <td>5</td>\n",
       "      <td>NaN</td>\n",
       "    </tr>\n",
       "    <tr>\n",
       "      <th>2016-01-02</th>\n",
       "      <td>0.126995</td>\n",
       "      <td>-0.451967</td>\n",
       "      <td>1.511266</td>\n",
       "      <td>5</td>\n",
       "      <td>1.0</td>\n",
       "    </tr>\n",
       "    <tr>\n",
       "      <th>2016-01-03</th>\n",
       "      <td>1.362217</td>\n",
       "      <td>0.860654</td>\n",
       "      <td>0.699688</td>\n",
       "      <td>5</td>\n",
       "      <td>2.0</td>\n",
       "    </tr>\n",
       "    <tr>\n",
       "      <th>2016-01-04</th>\n",
       "      <td>-0.384247</td>\n",
       "      <td>-0.505842</td>\n",
       "      <td>0.884604</td>\n",
       "      <td>5</td>\n",
       "      <td>3.0</td>\n",
       "    </tr>\n",
       "    <tr>\n",
       "      <th>2016-01-05</th>\n",
       "      <td>0.695931</td>\n",
       "      <td>-0.001172</td>\n",
       "      <td>-0.504081</td>\n",
       "      <td>5</td>\n",
       "      <td>4.0</td>\n",
       "    </tr>\n",
       "    <tr>\n",
       "      <th>2016-01-06</th>\n",
       "      <td>-0.588888</td>\n",
       "      <td>0.170884</td>\n",
       "      <td>0.283529</td>\n",
       "      <td>5</td>\n",
       "      <td>5.0</td>\n",
       "    </tr>\n",
       "  </tbody>\n",
       "</table>\n",
       "</div>"
      ],
      "text/plain": [
       "                   A         B         C  D    F\n",
       "2016-01-01  0.000000  0.000000  0.945352  5  NaN\n",
       "2016-01-02  0.126995 -0.451967  1.511266  5  1.0\n",
       "2016-01-03  1.362217  0.860654  0.699688  5  2.0\n",
       "2016-01-04 -0.384247 -0.505842  0.884604  5  3.0\n",
       "2016-01-05  0.695931 -0.001172 -0.504081  5  4.0\n",
       "2016-01-06 -0.588888  0.170884  0.283529  5  5.0"
      ]
     },
     "execution_count": 50,
     "metadata": {},
     "output_type": "execute_result"
    }
   ],
   "source": [
    "df"
   ]
  },
  {
   "cell_type": "code",
   "execution_count": 51,
   "metadata": {
    "collapsed": false,
    "scrolled": true
   },
   "outputs": [
    {
     "data": {
      "text/html": [
       "<div>\n",
       "<table border=\"1\" class=\"dataframe\">\n",
       "  <thead>\n",
       "    <tr style=\"text-align: right;\">\n",
       "      <th></th>\n",
       "      <th>A</th>\n",
       "      <th>B</th>\n",
       "      <th>C</th>\n",
       "      <th>D</th>\n",
       "      <th>F</th>\n",
       "    </tr>\n",
       "  </thead>\n",
       "  <tbody>\n",
       "    <tr>\n",
       "      <th>2016-01-01</th>\n",
       "      <td>0.000000</td>\n",
       "      <td>0.000000</td>\n",
       "      <td>-0.945352</td>\n",
       "      <td>-5</td>\n",
       "      <td>NaN</td>\n",
       "    </tr>\n",
       "    <tr>\n",
       "      <th>2016-01-02</th>\n",
       "      <td>-0.126995</td>\n",
       "      <td>-0.451967</td>\n",
       "      <td>-1.511266</td>\n",
       "      <td>-5</td>\n",
       "      <td>-1.0</td>\n",
       "    </tr>\n",
       "    <tr>\n",
       "      <th>2016-01-03</th>\n",
       "      <td>-1.362217</td>\n",
       "      <td>-0.860654</td>\n",
       "      <td>-0.699688</td>\n",
       "      <td>-5</td>\n",
       "      <td>-2.0</td>\n",
       "    </tr>\n",
       "    <tr>\n",
       "      <th>2016-01-04</th>\n",
       "      <td>-0.384247</td>\n",
       "      <td>-0.505842</td>\n",
       "      <td>-0.884604</td>\n",
       "      <td>-5</td>\n",
       "      <td>-3.0</td>\n",
       "    </tr>\n",
       "    <tr>\n",
       "      <th>2016-01-05</th>\n",
       "      <td>-0.695931</td>\n",
       "      <td>-0.001172</td>\n",
       "      <td>-0.504081</td>\n",
       "      <td>-5</td>\n",
       "      <td>-4.0</td>\n",
       "    </tr>\n",
       "    <tr>\n",
       "      <th>2016-01-06</th>\n",
       "      <td>-0.588888</td>\n",
       "      <td>-0.170884</td>\n",
       "      <td>-0.283529</td>\n",
       "      <td>-5</td>\n",
       "      <td>-5.0</td>\n",
       "    </tr>\n",
       "  </tbody>\n",
       "</table>\n",
       "</div>"
      ],
      "text/plain": [
       "                   A         B         C  D    F\n",
       "2016-01-01  0.000000  0.000000 -0.945352 -5  NaN\n",
       "2016-01-02 -0.126995 -0.451967 -1.511266 -5 -1.0\n",
       "2016-01-03 -1.362217 -0.860654 -0.699688 -5 -2.0\n",
       "2016-01-04 -0.384247 -0.505842 -0.884604 -5 -3.0\n",
       "2016-01-05 -0.695931 -0.001172 -0.504081 -5 -4.0\n",
       "2016-01-06 -0.588888 -0.170884 -0.283529 -5 -5.0"
      ]
     },
     "execution_count": 51,
     "metadata": {},
     "output_type": "execute_result"
    }
   ],
   "source": [
    "df2 = df.copy()\n",
    "df2[df2 > 0] = -df2\n",
    "df2"
   ]
  },
  {
   "cell_type": "markdown",
   "metadata": {},
   "source": [
    "***\n",
    "## 5. Missing Data"
   ]
  },
  {
   "cell_type": "code",
   "execution_count": 52,
   "metadata": {
    "collapsed": true
   },
   "outputs": [],
   "source": [
    "df1 = df.reindex(index=dates[0:4], columns=list(df.columns) + ['E'])"
   ]
  },
  {
   "cell_type": "code",
   "execution_count": 53,
   "metadata": {
    "collapsed": true
   },
   "outputs": [],
   "source": [
    "df1.loc[dates[0]:dates[1],'E'] = 1"
   ]
  },
  {
   "cell_type": "code",
   "execution_count": 54,
   "metadata": {
    "collapsed": false
   },
   "outputs": [
    {
     "data": {
      "text/html": [
       "<div>\n",
       "<table border=\"1\" class=\"dataframe\">\n",
       "  <thead>\n",
       "    <tr style=\"text-align: right;\">\n",
       "      <th></th>\n",
       "      <th>A</th>\n",
       "      <th>B</th>\n",
       "      <th>C</th>\n",
       "      <th>D</th>\n",
       "      <th>F</th>\n",
       "      <th>E</th>\n",
       "    </tr>\n",
       "  </thead>\n",
       "  <tbody>\n",
       "    <tr>\n",
       "      <th>2016-01-01</th>\n",
       "      <td>0.000000</td>\n",
       "      <td>0.000000</td>\n",
       "      <td>0.945352</td>\n",
       "      <td>5</td>\n",
       "      <td>NaN</td>\n",
       "      <td>1.0</td>\n",
       "    </tr>\n",
       "    <tr>\n",
       "      <th>2016-01-02</th>\n",
       "      <td>0.126995</td>\n",
       "      <td>-0.451967</td>\n",
       "      <td>1.511266</td>\n",
       "      <td>5</td>\n",
       "      <td>1.0</td>\n",
       "      <td>1.0</td>\n",
       "    </tr>\n",
       "    <tr>\n",
       "      <th>2016-01-03</th>\n",
       "      <td>1.362217</td>\n",
       "      <td>0.860654</td>\n",
       "      <td>0.699688</td>\n",
       "      <td>5</td>\n",
       "      <td>2.0</td>\n",
       "      <td>NaN</td>\n",
       "    </tr>\n",
       "    <tr>\n",
       "      <th>2016-01-04</th>\n",
       "      <td>-0.384247</td>\n",
       "      <td>-0.505842</td>\n",
       "      <td>0.884604</td>\n",
       "      <td>5</td>\n",
       "      <td>3.0</td>\n",
       "      <td>NaN</td>\n",
       "    </tr>\n",
       "  </tbody>\n",
       "</table>\n",
       "</div>"
      ],
      "text/plain": [
       "                   A         B         C  D    F    E\n",
       "2016-01-01  0.000000  0.000000  0.945352  5  NaN  1.0\n",
       "2016-01-02  0.126995 -0.451967  1.511266  5  1.0  1.0\n",
       "2016-01-03  1.362217  0.860654  0.699688  5  2.0  NaN\n",
       "2016-01-04 -0.384247 -0.505842  0.884604  5  3.0  NaN"
      ]
     },
     "execution_count": 54,
     "metadata": {},
     "output_type": "execute_result"
    }
   ],
   "source": [
    "df1"
   ]
  },
  {
   "cell_type": "code",
   "execution_count": 55,
   "metadata": {
    "collapsed": false
   },
   "outputs": [
    {
     "data": {
      "text/html": [
       "<div>\n",
       "<table border=\"1\" class=\"dataframe\">\n",
       "  <thead>\n",
       "    <tr style=\"text-align: right;\">\n",
       "      <th></th>\n",
       "      <th>A</th>\n",
       "      <th>B</th>\n",
       "      <th>C</th>\n",
       "      <th>D</th>\n",
       "      <th>F</th>\n",
       "      <th>E</th>\n",
       "    </tr>\n",
       "  </thead>\n",
       "  <tbody>\n",
       "    <tr>\n",
       "      <th>2016-01-02</th>\n",
       "      <td>0.126995</td>\n",
       "      <td>-0.451967</td>\n",
       "      <td>1.511266</td>\n",
       "      <td>5</td>\n",
       "      <td>1.0</td>\n",
       "      <td>1.0</td>\n",
       "    </tr>\n",
       "  </tbody>\n",
       "</table>\n",
       "</div>"
      ],
      "text/plain": [
       "                   A         B         C  D    F    E\n",
       "2016-01-02  0.126995 -0.451967  1.511266  5  1.0  1.0"
      ]
     },
     "execution_count": 55,
     "metadata": {},
     "output_type": "execute_result"
    }
   ],
   "source": [
    "df1.dropna(how='any')"
   ]
  },
  {
   "cell_type": "code",
   "execution_count": 56,
   "metadata": {
    "collapsed": false
   },
   "outputs": [
    {
     "data": {
      "text/html": [
       "<div>\n",
       "<table border=\"1\" class=\"dataframe\">\n",
       "  <thead>\n",
       "    <tr style=\"text-align: right;\">\n",
       "      <th></th>\n",
       "      <th>A</th>\n",
       "      <th>B</th>\n",
       "      <th>C</th>\n",
       "      <th>D</th>\n",
       "      <th>F</th>\n",
       "      <th>E</th>\n",
       "    </tr>\n",
       "  </thead>\n",
       "  <tbody>\n",
       "    <tr>\n",
       "      <th>2016-01-01</th>\n",
       "      <td>0.000000</td>\n",
       "      <td>0.000000</td>\n",
       "      <td>0.945352</td>\n",
       "      <td>5</td>\n",
       "      <td>5.0</td>\n",
       "      <td>1.0</td>\n",
       "    </tr>\n",
       "    <tr>\n",
       "      <th>2016-01-02</th>\n",
       "      <td>0.126995</td>\n",
       "      <td>-0.451967</td>\n",
       "      <td>1.511266</td>\n",
       "      <td>5</td>\n",
       "      <td>1.0</td>\n",
       "      <td>1.0</td>\n",
       "    </tr>\n",
       "    <tr>\n",
       "      <th>2016-01-03</th>\n",
       "      <td>1.362217</td>\n",
       "      <td>0.860654</td>\n",
       "      <td>0.699688</td>\n",
       "      <td>5</td>\n",
       "      <td>2.0</td>\n",
       "      <td>5.0</td>\n",
       "    </tr>\n",
       "    <tr>\n",
       "      <th>2016-01-04</th>\n",
       "      <td>-0.384247</td>\n",
       "      <td>-0.505842</td>\n",
       "      <td>0.884604</td>\n",
       "      <td>5</td>\n",
       "      <td>3.0</td>\n",
       "      <td>5.0</td>\n",
       "    </tr>\n",
       "  </tbody>\n",
       "</table>\n",
       "</div>"
      ],
      "text/plain": [
       "                   A         B         C  D    F    E\n",
       "2016-01-01  0.000000  0.000000  0.945352  5  5.0  1.0\n",
       "2016-01-02  0.126995 -0.451967  1.511266  5  1.0  1.0\n",
       "2016-01-03  1.362217  0.860654  0.699688  5  2.0  5.0\n",
       "2016-01-04 -0.384247 -0.505842  0.884604  5  3.0  5.0"
      ]
     },
     "execution_count": 56,
     "metadata": {},
     "output_type": "execute_result"
    }
   ],
   "source": [
    "df1.fillna(value=5)"
   ]
  },
  {
   "cell_type": "code",
   "execution_count": 57,
   "metadata": {
    "collapsed": false
   },
   "outputs": [
    {
     "data": {
      "text/html": [
       "<div>\n",
       "<table border=\"1\" class=\"dataframe\">\n",
       "  <thead>\n",
       "    <tr style=\"text-align: right;\">\n",
       "      <th></th>\n",
       "      <th>A</th>\n",
       "      <th>B</th>\n",
       "      <th>C</th>\n",
       "      <th>D</th>\n",
       "      <th>F</th>\n",
       "      <th>E</th>\n",
       "    </tr>\n",
       "  </thead>\n",
       "  <tbody>\n",
       "    <tr>\n",
       "      <th>2016-01-01</th>\n",
       "      <td>False</td>\n",
       "      <td>False</td>\n",
       "      <td>False</td>\n",
       "      <td>False</td>\n",
       "      <td>True</td>\n",
       "      <td>False</td>\n",
       "    </tr>\n",
       "    <tr>\n",
       "      <th>2016-01-02</th>\n",
       "      <td>False</td>\n",
       "      <td>False</td>\n",
       "      <td>False</td>\n",
       "      <td>False</td>\n",
       "      <td>False</td>\n",
       "      <td>False</td>\n",
       "    </tr>\n",
       "    <tr>\n",
       "      <th>2016-01-03</th>\n",
       "      <td>False</td>\n",
       "      <td>False</td>\n",
       "      <td>False</td>\n",
       "      <td>False</td>\n",
       "      <td>False</td>\n",
       "      <td>True</td>\n",
       "    </tr>\n",
       "    <tr>\n",
       "      <th>2016-01-04</th>\n",
       "      <td>False</td>\n",
       "      <td>False</td>\n",
       "      <td>False</td>\n",
       "      <td>False</td>\n",
       "      <td>False</td>\n",
       "      <td>True</td>\n",
       "    </tr>\n",
       "  </tbody>\n",
       "</table>\n",
       "</div>"
      ],
      "text/plain": [
       "                A      B      C      D      F      E\n",
       "2016-01-01  False  False  False  False   True  False\n",
       "2016-01-02  False  False  False  False  False  False\n",
       "2016-01-03  False  False  False  False  False   True\n",
       "2016-01-04  False  False  False  False  False   True"
      ]
     },
     "execution_count": 57,
     "metadata": {},
     "output_type": "execute_result"
    }
   ],
   "source": [
    "pd.isnull(df1)"
   ]
  },
  {
   "cell_type": "markdown",
   "metadata": {},
   "source": [
    "***\n",
    "## 6. Operations\n",
    "### 6.1. Stats"
   ]
  },
  {
   "cell_type": "code",
   "execution_count": 58,
   "metadata": {
    "collapsed": false
   },
   "outputs": [
    {
     "data": {
      "text/plain": [
       "A    0.202002\n",
       "B    0.012093\n",
       "C    0.636726\n",
       "D    5.000000\n",
       "F    3.000000\n",
       "dtype: float64"
      ]
     },
     "execution_count": 58,
     "metadata": {},
     "output_type": "execute_result"
    }
   ],
   "source": [
    "df.mean()"
   ]
  },
  {
   "cell_type": "code",
   "execution_count": 59,
   "metadata": {
    "collapsed": false
   },
   "outputs": [
    {
     "data": {
      "text/plain": [
       "2016-01-01    1.486338\n",
       "2016-01-02    1.437259\n",
       "2016-01-03    1.984512\n",
       "2016-01-04    1.598903\n",
       "2016-01-05    1.838136\n",
       "2016-01-06    1.973105\n",
       "Freq: D, dtype: float64"
      ]
     },
     "execution_count": 59,
     "metadata": {},
     "output_type": "execute_result"
    }
   ],
   "source": [
    "df.mean(1)"
   ]
  },
  {
   "cell_type": "code",
   "execution_count": 60,
   "metadata": {
    "collapsed": true
   },
   "outputs": [],
   "source": [
    "s = pd.Series([1,3,5,np.nan,6,8], index=dates).shift(2)"
   ]
  },
  {
   "cell_type": "code",
   "execution_count": 61,
   "metadata": {
    "collapsed": false
   },
   "outputs": [
    {
     "data": {
      "text/plain": [
       "2016-01-01    NaN\n",
       "2016-01-02    NaN\n",
       "2016-01-03    1.0\n",
       "2016-01-04    3.0\n",
       "2016-01-05    5.0\n",
       "2016-01-06    NaN\n",
       "Freq: D, dtype: float64"
      ]
     },
     "execution_count": 61,
     "metadata": {},
     "output_type": "execute_result"
    }
   ],
   "source": [
    "s"
   ]
  },
  {
   "cell_type": "code",
   "execution_count": 62,
   "metadata": {
    "collapsed": false
   },
   "outputs": [
    {
     "data": {
      "text/html": [
       "<div>\n",
       "<table border=\"1\" class=\"dataframe\">\n",
       "  <thead>\n",
       "    <tr style=\"text-align: right;\">\n",
       "      <th></th>\n",
       "      <th>A</th>\n",
       "      <th>B</th>\n",
       "      <th>C</th>\n",
       "      <th>D</th>\n",
       "      <th>F</th>\n",
       "    </tr>\n",
       "  </thead>\n",
       "  <tbody>\n",
       "    <tr>\n",
       "      <th>2016-01-01</th>\n",
       "      <td>NaN</td>\n",
       "      <td>NaN</td>\n",
       "      <td>NaN</td>\n",
       "      <td>NaN</td>\n",
       "      <td>NaN</td>\n",
       "    </tr>\n",
       "    <tr>\n",
       "      <th>2016-01-02</th>\n",
       "      <td>NaN</td>\n",
       "      <td>NaN</td>\n",
       "      <td>NaN</td>\n",
       "      <td>NaN</td>\n",
       "      <td>NaN</td>\n",
       "    </tr>\n",
       "    <tr>\n",
       "      <th>2016-01-03</th>\n",
       "      <td>0.362217</td>\n",
       "      <td>-0.139346</td>\n",
       "      <td>-0.300312</td>\n",
       "      <td>4.0</td>\n",
       "      <td>1.0</td>\n",
       "    </tr>\n",
       "    <tr>\n",
       "      <th>2016-01-04</th>\n",
       "      <td>-3.384247</td>\n",
       "      <td>-3.505842</td>\n",
       "      <td>-2.115396</td>\n",
       "      <td>2.0</td>\n",
       "      <td>0.0</td>\n",
       "    </tr>\n",
       "    <tr>\n",
       "      <th>2016-01-05</th>\n",
       "      <td>-4.304069</td>\n",
       "      <td>-5.001172</td>\n",
       "      <td>-5.504081</td>\n",
       "      <td>0.0</td>\n",
       "      <td>-1.0</td>\n",
       "    </tr>\n",
       "    <tr>\n",
       "      <th>2016-01-06</th>\n",
       "      <td>NaN</td>\n",
       "      <td>NaN</td>\n",
       "      <td>NaN</td>\n",
       "      <td>NaN</td>\n",
       "      <td>NaN</td>\n",
       "    </tr>\n",
       "  </tbody>\n",
       "</table>\n",
       "</div>"
      ],
      "text/plain": [
       "                   A         B         C    D    F\n",
       "2016-01-01       NaN       NaN       NaN  NaN  NaN\n",
       "2016-01-02       NaN       NaN       NaN  NaN  NaN\n",
       "2016-01-03  0.362217 -0.139346 -0.300312  4.0  1.0\n",
       "2016-01-04 -3.384247 -3.505842 -2.115396  2.0  0.0\n",
       "2016-01-05 -4.304069 -5.001172 -5.504081  0.0 -1.0\n",
       "2016-01-06       NaN       NaN       NaN  NaN  NaN"
      ]
     },
     "execution_count": 62,
     "metadata": {},
     "output_type": "execute_result"
    }
   ],
   "source": [
    "df.sub(s, axis='index')"
   ]
  },
  {
   "cell_type": "markdown",
   "metadata": {},
   "source": [
    "### 6.2. Apply"
   ]
  },
  {
   "cell_type": "code",
   "execution_count": 63,
   "metadata": {
    "collapsed": false
   },
   "outputs": [
    {
     "data": {
      "text/html": [
       "<div>\n",
       "<table border=\"1\" class=\"dataframe\">\n",
       "  <thead>\n",
       "    <tr style=\"text-align: right;\">\n",
       "      <th></th>\n",
       "      <th>A</th>\n",
       "      <th>B</th>\n",
       "      <th>C</th>\n",
       "      <th>D</th>\n",
       "      <th>F</th>\n",
       "    </tr>\n",
       "  </thead>\n",
       "  <tbody>\n",
       "    <tr>\n",
       "      <th>2016-01-01</th>\n",
       "      <td>0.000000</td>\n",
       "      <td>0.000000</td>\n",
       "      <td>0.945352</td>\n",
       "      <td>5</td>\n",
       "      <td>NaN</td>\n",
       "    </tr>\n",
       "    <tr>\n",
       "      <th>2016-01-02</th>\n",
       "      <td>0.126995</td>\n",
       "      <td>-0.451967</td>\n",
       "      <td>2.456618</td>\n",
       "      <td>10</td>\n",
       "      <td>1.0</td>\n",
       "    </tr>\n",
       "    <tr>\n",
       "      <th>2016-01-03</th>\n",
       "      <td>1.489212</td>\n",
       "      <td>0.408687</td>\n",
       "      <td>3.156306</td>\n",
       "      <td>15</td>\n",
       "      <td>3.0</td>\n",
       "    </tr>\n",
       "    <tr>\n",
       "      <th>2016-01-04</th>\n",
       "      <td>1.104966</td>\n",
       "      <td>-0.097155</td>\n",
       "      <td>4.040909</td>\n",
       "      <td>20</td>\n",
       "      <td>6.0</td>\n",
       "    </tr>\n",
       "    <tr>\n",
       "      <th>2016-01-05</th>\n",
       "      <td>1.800897</td>\n",
       "      <td>-0.098326</td>\n",
       "      <td>3.536829</td>\n",
       "      <td>25</td>\n",
       "      <td>10.0</td>\n",
       "    </tr>\n",
       "    <tr>\n",
       "      <th>2016-01-06</th>\n",
       "      <td>1.212009</td>\n",
       "      <td>0.072558</td>\n",
       "      <td>3.820358</td>\n",
       "      <td>30</td>\n",
       "      <td>15.0</td>\n",
       "    </tr>\n",
       "  </tbody>\n",
       "</table>\n",
       "</div>"
      ],
      "text/plain": [
       "                   A         B         C   D     F\n",
       "2016-01-01  0.000000  0.000000  0.945352   5   NaN\n",
       "2016-01-02  0.126995 -0.451967  2.456618  10   1.0\n",
       "2016-01-03  1.489212  0.408687  3.156306  15   3.0\n",
       "2016-01-04  1.104966 -0.097155  4.040909  20   6.0\n",
       "2016-01-05  1.800897 -0.098326  3.536829  25  10.0\n",
       "2016-01-06  1.212009  0.072558  3.820358  30  15.0"
      ]
     },
     "execution_count": 63,
     "metadata": {},
     "output_type": "execute_result"
    }
   ],
   "source": [
    "df.apply(np.cumsum)"
   ]
  },
  {
   "cell_type": "code",
   "execution_count": 64,
   "metadata": {
    "collapsed": false
   },
   "outputs": [
    {
     "data": {
      "text/plain": [
       "A    1.951105\n",
       "B    1.366495\n",
       "C    2.015347\n",
       "D    0.000000\n",
       "F    4.000000\n",
       "dtype: float64"
      ]
     },
     "execution_count": 64,
     "metadata": {},
     "output_type": "execute_result"
    }
   ],
   "source": [
    "df.apply(lambda x: x.max() - x.min())"
   ]
  },
  {
   "cell_type": "markdown",
   "metadata": {},
   "source": [
    "### 6.3. Histogramming"
   ]
  },
  {
   "cell_type": "code",
   "execution_count": 65,
   "metadata": {
    "collapsed": true
   },
   "outputs": [],
   "source": [
    "s = pd.Series(np.random.randint(0, 7, size=10))"
   ]
  },
  {
   "cell_type": "code",
   "execution_count": 66,
   "metadata": {
    "collapsed": false
   },
   "outputs": [
    {
     "data": {
      "text/plain": [
       "0    5\n",
       "1    1\n",
       "2    6\n",
       "3    0\n",
       "4    1\n",
       "5    5\n",
       "6    1\n",
       "7    6\n",
       "8    2\n",
       "9    1\n",
       "dtype: int32"
      ]
     },
     "execution_count": 66,
     "metadata": {},
     "output_type": "execute_result"
    }
   ],
   "source": [
    "s"
   ]
  },
  {
   "cell_type": "code",
   "execution_count": 67,
   "metadata": {
    "collapsed": false
   },
   "outputs": [
    {
     "data": {
      "text/plain": [
       "1    4\n",
       "6    2\n",
       "5    2\n",
       "2    1\n",
       "0    1\n",
       "dtype: int64"
      ]
     },
     "execution_count": 67,
     "metadata": {},
     "output_type": "execute_result"
    }
   ],
   "source": [
    "s.value_counts()"
   ]
  },
  {
   "cell_type": "markdown",
   "metadata": {},
   "source": [
    "### 6.4. String Methods"
   ]
  },
  {
   "cell_type": "code",
   "execution_count": 68,
   "metadata": {
    "collapsed": true
   },
   "outputs": [],
   "source": [
    "s = pd.Series(['A', 'B', 'C', 'Aaba', 'Baca', np.nan, 'CABA', 'dog', 'cat'])"
   ]
  },
  {
   "cell_type": "code",
   "execution_count": 69,
   "metadata": {
    "collapsed": false
   },
   "outputs": [
    {
     "data": {
      "text/plain": [
       "0       a\n",
       "1       b\n",
       "2       c\n",
       "3    aaba\n",
       "4    baca\n",
       "5     NaN\n",
       "6    caba\n",
       "7     dog\n",
       "8     cat\n",
       "dtype: object"
      ]
     },
     "execution_count": 69,
     "metadata": {},
     "output_type": "execute_result"
    }
   ],
   "source": [
    "s.str.lower()"
   ]
  },
  {
   "cell_type": "markdown",
   "metadata": {},
   "source": [
    "***\n",
    "## 7. Merge\n",
    "### 7.1. Concat"
   ]
  },
  {
   "cell_type": "code",
   "execution_count": 70,
   "metadata": {
    "collapsed": true
   },
   "outputs": [],
   "source": [
    "df = pd.DataFrame(np.random.randn(10, 4))"
   ]
  },
  {
   "cell_type": "code",
   "execution_count": 71,
   "metadata": {
    "collapsed": false
   },
   "outputs": [
    {
     "data": {
      "text/html": [
       "<div>\n",
       "<table border=\"1\" class=\"dataframe\">\n",
       "  <thead>\n",
       "    <tr style=\"text-align: right;\">\n",
       "      <th></th>\n",
       "      <th>0</th>\n",
       "      <th>1</th>\n",
       "      <th>2</th>\n",
       "      <th>3</th>\n",
       "    </tr>\n",
       "  </thead>\n",
       "  <tbody>\n",
       "    <tr>\n",
       "      <th>0</th>\n",
       "      <td>1.915661</td>\n",
       "      <td>0.662797</td>\n",
       "      <td>-0.022505</td>\n",
       "      <td>-0.209040</td>\n",
       "    </tr>\n",
       "    <tr>\n",
       "      <th>1</th>\n",
       "      <td>-0.533124</td>\n",
       "      <td>-0.226046</td>\n",
       "      <td>0.395514</td>\n",
       "      <td>-1.488927</td>\n",
       "    </tr>\n",
       "    <tr>\n",
       "      <th>2</th>\n",
       "      <td>-2.519722</td>\n",
       "      <td>-0.424590</td>\n",
       "      <td>0.262131</td>\n",
       "      <td>-1.041388</td>\n",
       "    </tr>\n",
       "    <tr>\n",
       "      <th>3</th>\n",
       "      <td>0.651212</td>\n",
       "      <td>1.234838</td>\n",
       "      <td>0.546325</td>\n",
       "      <td>-0.448120</td>\n",
       "    </tr>\n",
       "    <tr>\n",
       "      <th>4</th>\n",
       "      <td>-1.369258</td>\n",
       "      <td>-1.567361</td>\n",
       "      <td>-0.586721</td>\n",
       "      <td>-0.660242</td>\n",
       "    </tr>\n",
       "    <tr>\n",
       "      <th>5</th>\n",
       "      <td>2.090418</td>\n",
       "      <td>-0.127088</td>\n",
       "      <td>1.457744</td>\n",
       "      <td>-0.029709</td>\n",
       "    </tr>\n",
       "    <tr>\n",
       "      <th>6</th>\n",
       "      <td>-0.206720</td>\n",
       "      <td>0.570071</td>\n",
       "      <td>-1.567166</td>\n",
       "      <td>0.257055</td>\n",
       "    </tr>\n",
       "    <tr>\n",
       "      <th>7</th>\n",
       "      <td>1.495670</td>\n",
       "      <td>-0.988153</td>\n",
       "      <td>0.862946</td>\n",
       "      <td>-0.823938</td>\n",
       "    </tr>\n",
       "    <tr>\n",
       "      <th>8</th>\n",
       "      <td>0.223567</td>\n",
       "      <td>-0.231277</td>\n",
       "      <td>-1.067062</td>\n",
       "      <td>1.009513</td>\n",
       "    </tr>\n",
       "    <tr>\n",
       "      <th>9</th>\n",
       "      <td>1.457577</td>\n",
       "      <td>-0.448860</td>\n",
       "      <td>-0.431748</td>\n",
       "      <td>-0.092172</td>\n",
       "    </tr>\n",
       "  </tbody>\n",
       "</table>\n",
       "</div>"
      ],
      "text/plain": [
       "          0         1         2         3\n",
       "0  1.915661  0.662797 -0.022505 -0.209040\n",
       "1 -0.533124 -0.226046  0.395514 -1.488927\n",
       "2 -2.519722 -0.424590  0.262131 -1.041388\n",
       "3  0.651212  1.234838  0.546325 -0.448120\n",
       "4 -1.369258 -1.567361 -0.586721 -0.660242\n",
       "5  2.090418 -0.127088  1.457744 -0.029709\n",
       "6 -0.206720  0.570071 -1.567166  0.257055\n",
       "7  1.495670 -0.988153  0.862946 -0.823938\n",
       "8  0.223567 -0.231277 -1.067062  1.009513\n",
       "9  1.457577 -0.448860 -0.431748 -0.092172"
      ]
     },
     "execution_count": 71,
     "metadata": {},
     "output_type": "execute_result"
    }
   ],
   "source": [
    "df"
   ]
  },
  {
   "cell_type": "code",
   "execution_count": 72,
   "metadata": {
    "collapsed": true
   },
   "outputs": [],
   "source": [
    "pieces = [df[:3], df[3:7], df[7:]]"
   ]
  },
  {
   "cell_type": "code",
   "execution_count": 73,
   "metadata": {
    "collapsed": false
   },
   "outputs": [
    {
     "data": {
      "text/html": [
       "<div>\n",
       "<table border=\"1\" class=\"dataframe\">\n",
       "  <thead>\n",
       "    <tr style=\"text-align: right;\">\n",
       "      <th></th>\n",
       "      <th>0</th>\n",
       "      <th>1</th>\n",
       "      <th>2</th>\n",
       "      <th>3</th>\n",
       "    </tr>\n",
       "  </thead>\n",
       "  <tbody>\n",
       "    <tr>\n",
       "      <th>0</th>\n",
       "      <td>1.915661</td>\n",
       "      <td>0.662797</td>\n",
       "      <td>-0.022505</td>\n",
       "      <td>-0.209040</td>\n",
       "    </tr>\n",
       "    <tr>\n",
       "      <th>1</th>\n",
       "      <td>-0.533124</td>\n",
       "      <td>-0.226046</td>\n",
       "      <td>0.395514</td>\n",
       "      <td>-1.488927</td>\n",
       "    </tr>\n",
       "    <tr>\n",
       "      <th>2</th>\n",
       "      <td>-2.519722</td>\n",
       "      <td>-0.424590</td>\n",
       "      <td>0.262131</td>\n",
       "      <td>-1.041388</td>\n",
       "    </tr>\n",
       "    <tr>\n",
       "      <th>3</th>\n",
       "      <td>0.651212</td>\n",
       "      <td>1.234838</td>\n",
       "      <td>0.546325</td>\n",
       "      <td>-0.448120</td>\n",
       "    </tr>\n",
       "    <tr>\n",
       "      <th>4</th>\n",
       "      <td>-1.369258</td>\n",
       "      <td>-1.567361</td>\n",
       "      <td>-0.586721</td>\n",
       "      <td>-0.660242</td>\n",
       "    </tr>\n",
       "    <tr>\n",
       "      <th>5</th>\n",
       "      <td>2.090418</td>\n",
       "      <td>-0.127088</td>\n",
       "      <td>1.457744</td>\n",
       "      <td>-0.029709</td>\n",
       "    </tr>\n",
       "    <tr>\n",
       "      <th>6</th>\n",
       "      <td>-0.206720</td>\n",
       "      <td>0.570071</td>\n",
       "      <td>-1.567166</td>\n",
       "      <td>0.257055</td>\n",
       "    </tr>\n",
       "    <tr>\n",
       "      <th>7</th>\n",
       "      <td>1.495670</td>\n",
       "      <td>-0.988153</td>\n",
       "      <td>0.862946</td>\n",
       "      <td>-0.823938</td>\n",
       "    </tr>\n",
       "    <tr>\n",
       "      <th>8</th>\n",
       "      <td>0.223567</td>\n",
       "      <td>-0.231277</td>\n",
       "      <td>-1.067062</td>\n",
       "      <td>1.009513</td>\n",
       "    </tr>\n",
       "    <tr>\n",
       "      <th>9</th>\n",
       "      <td>1.457577</td>\n",
       "      <td>-0.448860</td>\n",
       "      <td>-0.431748</td>\n",
       "      <td>-0.092172</td>\n",
       "    </tr>\n",
       "  </tbody>\n",
       "</table>\n",
       "</div>"
      ],
      "text/plain": [
       "          0         1         2         3\n",
       "0  1.915661  0.662797 -0.022505 -0.209040\n",
       "1 -0.533124 -0.226046  0.395514 -1.488927\n",
       "2 -2.519722 -0.424590  0.262131 -1.041388\n",
       "3  0.651212  1.234838  0.546325 -0.448120\n",
       "4 -1.369258 -1.567361 -0.586721 -0.660242\n",
       "5  2.090418 -0.127088  1.457744 -0.029709\n",
       "6 -0.206720  0.570071 -1.567166  0.257055\n",
       "7  1.495670 -0.988153  0.862946 -0.823938\n",
       "8  0.223567 -0.231277 -1.067062  1.009513\n",
       "9  1.457577 -0.448860 -0.431748 -0.092172"
      ]
     },
     "execution_count": 73,
     "metadata": {},
     "output_type": "execute_result"
    }
   ],
   "source": [
    "pd.concat(pieces)"
   ]
  },
  {
   "cell_type": "markdown",
   "metadata": {},
   "source": [
    "### 7.2. Join"
   ]
  },
  {
   "cell_type": "code",
   "execution_count": 74,
   "metadata": {
    "collapsed": true
   },
   "outputs": [],
   "source": [
    "left = pd.DataFrame({'key': ['foo', 'foo'], 'lval': [1, 2]})"
   ]
  },
  {
   "cell_type": "code",
   "execution_count": 75,
   "metadata": {
    "collapsed": true
   },
   "outputs": [],
   "source": [
    "right = pd.DataFrame({'key': ['foo', 'foo'], 'rval': [4, 5]})"
   ]
  },
  {
   "cell_type": "code",
   "execution_count": 76,
   "metadata": {
    "collapsed": false
   },
   "outputs": [
    {
     "data": {
      "text/html": [
       "<div>\n",
       "<table border=\"1\" class=\"dataframe\">\n",
       "  <thead>\n",
       "    <tr style=\"text-align: right;\">\n",
       "      <th></th>\n",
       "      <th>key</th>\n",
       "      <th>lval</th>\n",
       "    </tr>\n",
       "  </thead>\n",
       "  <tbody>\n",
       "    <tr>\n",
       "      <th>0</th>\n",
       "      <td>foo</td>\n",
       "      <td>1</td>\n",
       "    </tr>\n",
       "    <tr>\n",
       "      <th>1</th>\n",
       "      <td>foo</td>\n",
       "      <td>2</td>\n",
       "    </tr>\n",
       "  </tbody>\n",
       "</table>\n",
       "</div>"
      ],
      "text/plain": [
       "   key  lval\n",
       "0  foo     1\n",
       "1  foo     2"
      ]
     },
     "execution_count": 76,
     "metadata": {},
     "output_type": "execute_result"
    }
   ],
   "source": [
    "left"
   ]
  },
  {
   "cell_type": "code",
   "execution_count": 77,
   "metadata": {
    "collapsed": false
   },
   "outputs": [
    {
     "data": {
      "text/html": [
       "<div>\n",
       "<table border=\"1\" class=\"dataframe\">\n",
       "  <thead>\n",
       "    <tr style=\"text-align: right;\">\n",
       "      <th></th>\n",
       "      <th>key</th>\n",
       "      <th>rval</th>\n",
       "    </tr>\n",
       "  </thead>\n",
       "  <tbody>\n",
       "    <tr>\n",
       "      <th>0</th>\n",
       "      <td>foo</td>\n",
       "      <td>4</td>\n",
       "    </tr>\n",
       "    <tr>\n",
       "      <th>1</th>\n",
       "      <td>foo</td>\n",
       "      <td>5</td>\n",
       "    </tr>\n",
       "  </tbody>\n",
       "</table>\n",
       "</div>"
      ],
      "text/plain": [
       "   key  rval\n",
       "0  foo     4\n",
       "1  foo     5"
      ]
     },
     "execution_count": 77,
     "metadata": {},
     "output_type": "execute_result"
    }
   ],
   "source": [
    "right"
   ]
  },
  {
   "cell_type": "code",
   "execution_count": 78,
   "metadata": {
    "collapsed": false
   },
   "outputs": [
    {
     "data": {
      "text/html": [
       "<div>\n",
       "<table border=\"1\" class=\"dataframe\">\n",
       "  <thead>\n",
       "    <tr style=\"text-align: right;\">\n",
       "      <th></th>\n",
       "      <th>key</th>\n",
       "      <th>lval</th>\n",
       "      <th>rval</th>\n",
       "    </tr>\n",
       "  </thead>\n",
       "  <tbody>\n",
       "    <tr>\n",
       "      <th>0</th>\n",
       "      <td>foo</td>\n",
       "      <td>1</td>\n",
       "      <td>4</td>\n",
       "    </tr>\n",
       "    <tr>\n",
       "      <th>1</th>\n",
       "      <td>foo</td>\n",
       "      <td>1</td>\n",
       "      <td>5</td>\n",
       "    </tr>\n",
       "    <tr>\n",
       "      <th>2</th>\n",
       "      <td>foo</td>\n",
       "      <td>2</td>\n",
       "      <td>4</td>\n",
       "    </tr>\n",
       "    <tr>\n",
       "      <th>3</th>\n",
       "      <td>foo</td>\n",
       "      <td>2</td>\n",
       "      <td>5</td>\n",
       "    </tr>\n",
       "  </tbody>\n",
       "</table>\n",
       "</div>"
      ],
      "text/plain": [
       "   key  lval  rval\n",
       "0  foo     1     4\n",
       "1  foo     1     5\n",
       "2  foo     2     4\n",
       "3  foo     2     5"
      ]
     },
     "execution_count": 78,
     "metadata": {},
     "output_type": "execute_result"
    }
   ],
   "source": [
    "pd.merge(left, right, on='key')"
   ]
  },
  {
   "cell_type": "markdown",
   "metadata": {},
   "source": [
    "### 7.3. Append"
   ]
  },
  {
   "cell_type": "code",
   "execution_count": 79,
   "metadata": {
    "collapsed": true
   },
   "outputs": [],
   "source": [
    "df = pd.DataFrame(np.random.randn(8, 4), columns=['A','B','C','D'])"
   ]
  },
  {
   "cell_type": "code",
   "execution_count": 80,
   "metadata": {
    "collapsed": false
   },
   "outputs": [
    {
     "data": {
      "text/html": [
       "<div>\n",
       "<table border=\"1\" class=\"dataframe\">\n",
       "  <thead>\n",
       "    <tr style=\"text-align: right;\">\n",
       "      <th></th>\n",
       "      <th>A</th>\n",
       "      <th>B</th>\n",
       "      <th>C</th>\n",
       "      <th>D</th>\n",
       "    </tr>\n",
       "  </thead>\n",
       "  <tbody>\n",
       "    <tr>\n",
       "      <th>0</th>\n",
       "      <td>1.727477</td>\n",
       "      <td>0.066883</td>\n",
       "      <td>-0.696099</td>\n",
       "      <td>-1.485602</td>\n",
       "    </tr>\n",
       "    <tr>\n",
       "      <th>1</th>\n",
       "      <td>-1.003048</td>\n",
       "      <td>-0.200407</td>\n",
       "      <td>-0.944097</td>\n",
       "      <td>1.381719</td>\n",
       "    </tr>\n",
       "    <tr>\n",
       "      <th>2</th>\n",
       "      <td>0.146639</td>\n",
       "      <td>0.779898</td>\n",
       "      <td>0.659328</td>\n",
       "      <td>-0.531865</td>\n",
       "    </tr>\n",
       "    <tr>\n",
       "      <th>3</th>\n",
       "      <td>0.172726</td>\n",
       "      <td>-0.337858</td>\n",
       "      <td>-0.498641</td>\n",
       "      <td>-2.189160</td>\n",
       "    </tr>\n",
       "    <tr>\n",
       "      <th>4</th>\n",
       "      <td>-1.467343</td>\n",
       "      <td>1.532661</td>\n",
       "      <td>1.142539</td>\n",
       "      <td>-0.547583</td>\n",
       "    </tr>\n",
       "    <tr>\n",
       "      <th>5</th>\n",
       "      <td>-0.371629</td>\n",
       "      <td>-1.116054</td>\n",
       "      <td>0.408502</td>\n",
       "      <td>0.205991</td>\n",
       "    </tr>\n",
       "    <tr>\n",
       "      <th>6</th>\n",
       "      <td>-0.946235</td>\n",
       "      <td>0.007228</td>\n",
       "      <td>-0.037399</td>\n",
       "      <td>-0.061811</td>\n",
       "    </tr>\n",
       "    <tr>\n",
       "      <th>7</th>\n",
       "      <td>1.733652</td>\n",
       "      <td>-1.993718</td>\n",
       "      <td>-0.436550</td>\n",
       "      <td>0.436164</td>\n",
       "    </tr>\n",
       "  </tbody>\n",
       "</table>\n",
       "</div>"
      ],
      "text/plain": [
       "          A         B         C         D\n",
       "0  1.727477  0.066883 -0.696099 -1.485602\n",
       "1 -1.003048 -0.200407 -0.944097  1.381719\n",
       "2  0.146639  0.779898  0.659328 -0.531865\n",
       "3  0.172726 -0.337858 -0.498641 -2.189160\n",
       "4 -1.467343  1.532661  1.142539 -0.547583\n",
       "5 -0.371629 -1.116054  0.408502  0.205991\n",
       "6 -0.946235  0.007228 -0.037399 -0.061811\n",
       "7  1.733652 -1.993718 -0.436550  0.436164"
      ]
     },
     "execution_count": 80,
     "metadata": {},
     "output_type": "execute_result"
    }
   ],
   "source": [
    "df"
   ]
  },
  {
   "cell_type": "code",
   "execution_count": 81,
   "metadata": {
    "collapsed": true
   },
   "outputs": [],
   "source": [
    "s = df.iloc[3]"
   ]
  },
  {
   "cell_type": "code",
   "execution_count": 82,
   "metadata": {
    "collapsed": false
   },
   "outputs": [
    {
     "data": {
      "text/html": [
       "<div>\n",
       "<table border=\"1\" class=\"dataframe\">\n",
       "  <thead>\n",
       "    <tr style=\"text-align: right;\">\n",
       "      <th></th>\n",
       "      <th>A</th>\n",
       "      <th>B</th>\n",
       "      <th>C</th>\n",
       "      <th>D</th>\n",
       "    </tr>\n",
       "  </thead>\n",
       "  <tbody>\n",
       "    <tr>\n",
       "      <th>0</th>\n",
       "      <td>1.727477</td>\n",
       "      <td>0.066883</td>\n",
       "      <td>-0.696099</td>\n",
       "      <td>-1.485602</td>\n",
       "    </tr>\n",
       "    <tr>\n",
       "      <th>1</th>\n",
       "      <td>-1.003048</td>\n",
       "      <td>-0.200407</td>\n",
       "      <td>-0.944097</td>\n",
       "      <td>1.381719</td>\n",
       "    </tr>\n",
       "    <tr>\n",
       "      <th>2</th>\n",
       "      <td>0.146639</td>\n",
       "      <td>0.779898</td>\n",
       "      <td>0.659328</td>\n",
       "      <td>-0.531865</td>\n",
       "    </tr>\n",
       "    <tr>\n",
       "      <th>3</th>\n",
       "      <td>0.172726</td>\n",
       "      <td>-0.337858</td>\n",
       "      <td>-0.498641</td>\n",
       "      <td>-2.189160</td>\n",
       "    </tr>\n",
       "    <tr>\n",
       "      <th>4</th>\n",
       "      <td>-1.467343</td>\n",
       "      <td>1.532661</td>\n",
       "      <td>1.142539</td>\n",
       "      <td>-0.547583</td>\n",
       "    </tr>\n",
       "    <tr>\n",
       "      <th>5</th>\n",
       "      <td>-0.371629</td>\n",
       "      <td>-1.116054</td>\n",
       "      <td>0.408502</td>\n",
       "      <td>0.205991</td>\n",
       "    </tr>\n",
       "    <tr>\n",
       "      <th>6</th>\n",
       "      <td>-0.946235</td>\n",
       "      <td>0.007228</td>\n",
       "      <td>-0.037399</td>\n",
       "      <td>-0.061811</td>\n",
       "    </tr>\n",
       "    <tr>\n",
       "      <th>7</th>\n",
       "      <td>1.733652</td>\n",
       "      <td>-1.993718</td>\n",
       "      <td>-0.436550</td>\n",
       "      <td>0.436164</td>\n",
       "    </tr>\n",
       "    <tr>\n",
       "      <th>8</th>\n",
       "      <td>0.172726</td>\n",
       "      <td>-0.337858</td>\n",
       "      <td>-0.498641</td>\n",
       "      <td>-2.189160</td>\n",
       "    </tr>\n",
       "  </tbody>\n",
       "</table>\n",
       "</div>"
      ],
      "text/plain": [
       "          A         B         C         D\n",
       "0  1.727477  0.066883 -0.696099 -1.485602\n",
       "1 -1.003048 -0.200407 -0.944097  1.381719\n",
       "2  0.146639  0.779898  0.659328 -0.531865\n",
       "3  0.172726 -0.337858 -0.498641 -2.189160\n",
       "4 -1.467343  1.532661  1.142539 -0.547583\n",
       "5 -0.371629 -1.116054  0.408502  0.205991\n",
       "6 -0.946235  0.007228 -0.037399 -0.061811\n",
       "7  1.733652 -1.993718 -0.436550  0.436164\n",
       "8  0.172726 -0.337858 -0.498641 -2.189160"
      ]
     },
     "execution_count": 82,
     "metadata": {},
     "output_type": "execute_result"
    }
   ],
   "source": [
    "df.append(s, ignore_index=True)"
   ]
  },
  {
   "cell_type": "markdown",
   "metadata": {},
   "source": [
    "***\n",
    "## 8. Grouping"
   ]
  },
  {
   "cell_type": "code",
   "execution_count": 83,
   "metadata": {
    "collapsed": true
   },
   "outputs": [],
   "source": [
    "df = pd.DataFrame({'A' : ['foo', 'bar', 'foo', 'bar',\n",
    "                          'foo', 'bar', 'foo', 'foo'],\n",
    "                   'B' : ['one', 'one', 'two', 'three',\n",
    "                          'two', 'two', 'one', 'three'],\n",
    "                   'C' : np.random.randn(8),\n",
    "                   'D' : np.random.randn(8)})\n"
   ]
  },
  {
   "cell_type": "code",
   "execution_count": 84,
   "metadata": {
    "collapsed": false
   },
   "outputs": [
    {
     "data": {
      "text/html": [
       "<div>\n",
       "<table border=\"1\" class=\"dataframe\">\n",
       "  <thead>\n",
       "    <tr style=\"text-align: right;\">\n",
       "      <th></th>\n",
       "      <th>A</th>\n",
       "      <th>B</th>\n",
       "      <th>C</th>\n",
       "      <th>D</th>\n",
       "    </tr>\n",
       "  </thead>\n",
       "  <tbody>\n",
       "    <tr>\n",
       "      <th>0</th>\n",
       "      <td>foo</td>\n",
       "      <td>one</td>\n",
       "      <td>1.214288</td>\n",
       "      <td>-0.268228</td>\n",
       "    </tr>\n",
       "    <tr>\n",
       "      <th>1</th>\n",
       "      <td>bar</td>\n",
       "      <td>one</td>\n",
       "      <td>-0.438063</td>\n",
       "      <td>-0.081586</td>\n",
       "    </tr>\n",
       "    <tr>\n",
       "      <th>2</th>\n",
       "      <td>foo</td>\n",
       "      <td>two</td>\n",
       "      <td>1.177321</td>\n",
       "      <td>-0.805485</td>\n",
       "    </tr>\n",
       "    <tr>\n",
       "      <th>3</th>\n",
       "      <td>bar</td>\n",
       "      <td>three</td>\n",
       "      <td>-1.571453</td>\n",
       "      <td>0.891670</td>\n",
       "    </tr>\n",
       "    <tr>\n",
       "      <th>4</th>\n",
       "      <td>foo</td>\n",
       "      <td>two</td>\n",
       "      <td>-0.678910</td>\n",
       "      <td>-0.044060</td>\n",
       "    </tr>\n",
       "    <tr>\n",
       "      <th>5</th>\n",
       "      <td>bar</td>\n",
       "      <td>two</td>\n",
       "      <td>0.576193</td>\n",
       "      <td>-1.029916</td>\n",
       "    </tr>\n",
       "    <tr>\n",
       "      <th>6</th>\n",
       "      <td>foo</td>\n",
       "      <td>one</td>\n",
       "      <td>0.448006</td>\n",
       "      <td>-1.450173</td>\n",
       "    </tr>\n",
       "    <tr>\n",
       "      <th>7</th>\n",
       "      <td>foo</td>\n",
       "      <td>three</td>\n",
       "      <td>-1.176531</td>\n",
       "      <td>-1.744546</td>\n",
       "    </tr>\n",
       "  </tbody>\n",
       "</table>\n",
       "</div>"
      ],
      "text/plain": [
       "     A      B         C         D\n",
       "0  foo    one  1.214288 -0.268228\n",
       "1  bar    one -0.438063 -0.081586\n",
       "2  foo    two  1.177321 -0.805485\n",
       "3  bar  three -1.571453  0.891670\n",
       "4  foo    two -0.678910 -0.044060\n",
       "5  bar    two  0.576193 -1.029916\n",
       "6  foo    one  0.448006 -1.450173\n",
       "7  foo  three -1.176531 -1.744546"
      ]
     },
     "execution_count": 84,
     "metadata": {},
     "output_type": "execute_result"
    }
   ],
   "source": [
    "df"
   ]
  },
  {
   "cell_type": "code",
   "execution_count": 85,
   "metadata": {
    "collapsed": false
   },
   "outputs": [
    {
     "data": {
      "text/html": [
       "<div>\n",
       "<table border=\"1\" class=\"dataframe\">\n",
       "  <thead>\n",
       "    <tr style=\"text-align: right;\">\n",
       "      <th></th>\n",
       "      <th>C</th>\n",
       "      <th>D</th>\n",
       "    </tr>\n",
       "    <tr>\n",
       "      <th>A</th>\n",
       "      <th></th>\n",
       "      <th></th>\n",
       "    </tr>\n",
       "  </thead>\n",
       "  <tbody>\n",
       "    <tr>\n",
       "      <th>bar</th>\n",
       "      <td>-1.433323</td>\n",
       "      <td>-0.219832</td>\n",
       "    </tr>\n",
       "    <tr>\n",
       "      <th>foo</th>\n",
       "      <td>0.984174</td>\n",
       "      <td>-4.312493</td>\n",
       "    </tr>\n",
       "  </tbody>\n",
       "</table>\n",
       "</div>"
      ],
      "text/plain": [
       "            C         D\n",
       "A                      \n",
       "bar -1.433323 -0.219832\n",
       "foo  0.984174 -4.312493"
      ]
     },
     "execution_count": 85,
     "metadata": {},
     "output_type": "execute_result"
    }
   ],
   "source": [
    "df.groupby('A').sum()"
   ]
  },
  {
   "cell_type": "code",
   "execution_count": 86,
   "metadata": {
    "collapsed": false
   },
   "outputs": [
    {
     "data": {
      "text/html": [
       "<div>\n",
       "<table border=\"1\" class=\"dataframe\">\n",
       "  <thead>\n",
       "    <tr style=\"text-align: right;\">\n",
       "      <th></th>\n",
       "      <th>C</th>\n",
       "      <th>D</th>\n",
       "    </tr>\n",
       "    <tr>\n",
       "      <th>B</th>\n",
       "      <th></th>\n",
       "      <th></th>\n",
       "    </tr>\n",
       "  </thead>\n",
       "  <tbody>\n",
       "    <tr>\n",
       "      <th>one</th>\n",
       "      <td>1.224231</td>\n",
       "      <td>-1.799988</td>\n",
       "    </tr>\n",
       "    <tr>\n",
       "      <th>three</th>\n",
       "      <td>-2.747984</td>\n",
       "      <td>-0.852876</td>\n",
       "    </tr>\n",
       "    <tr>\n",
       "      <th>two</th>\n",
       "      <td>1.074604</td>\n",
       "      <td>-1.879461</td>\n",
       "    </tr>\n",
       "  </tbody>\n",
       "</table>\n",
       "</div>"
      ],
      "text/plain": [
       "              C         D\n",
       "B                        \n",
       "one    1.224231 -1.799988\n",
       "three -2.747984 -0.852876\n",
       "two    1.074604 -1.879461"
      ]
     },
     "execution_count": 86,
     "metadata": {},
     "output_type": "execute_result"
    }
   ],
   "source": [
    "df.groupby('B').sum()"
   ]
  },
  {
   "cell_type": "code",
   "execution_count": 87,
   "metadata": {
    "collapsed": false
   },
   "outputs": [
    {
     "data": {
      "text/html": [
       "<div>\n",
       "<table border=\"1\" class=\"dataframe\">\n",
       "  <thead>\n",
       "    <tr style=\"text-align: right;\">\n",
       "      <th></th>\n",
       "      <th></th>\n",
       "      <th>C</th>\n",
       "      <th>D</th>\n",
       "    </tr>\n",
       "    <tr>\n",
       "      <th>A</th>\n",
       "      <th>B</th>\n",
       "      <th></th>\n",
       "      <th></th>\n",
       "    </tr>\n",
       "  </thead>\n",
       "  <tbody>\n",
       "    <tr>\n",
       "      <th rowspan=\"3\" valign=\"top\">bar</th>\n",
       "      <th>one</th>\n",
       "      <td>-0.438063</td>\n",
       "      <td>-0.081586</td>\n",
       "    </tr>\n",
       "    <tr>\n",
       "      <th>three</th>\n",
       "      <td>-1.571453</td>\n",
       "      <td>0.891670</td>\n",
       "    </tr>\n",
       "    <tr>\n",
       "      <th>two</th>\n",
       "      <td>0.576193</td>\n",
       "      <td>-1.029916</td>\n",
       "    </tr>\n",
       "    <tr>\n",
       "      <th rowspan=\"3\" valign=\"top\">foo</th>\n",
       "      <th>one</th>\n",
       "      <td>1.662294</td>\n",
       "      <td>-1.718401</td>\n",
       "    </tr>\n",
       "    <tr>\n",
       "      <th>three</th>\n",
       "      <td>-1.176531</td>\n",
       "      <td>-1.744546</td>\n",
       "    </tr>\n",
       "    <tr>\n",
       "      <th>two</th>\n",
       "      <td>0.498411</td>\n",
       "      <td>-0.849545</td>\n",
       "    </tr>\n",
       "  </tbody>\n",
       "</table>\n",
       "</div>"
      ],
      "text/plain": [
       "                  C         D\n",
       "A   B                        \n",
       "bar one   -0.438063 -0.081586\n",
       "    three -1.571453  0.891670\n",
       "    two    0.576193 -1.029916\n",
       "foo one    1.662294 -1.718401\n",
       "    three -1.176531 -1.744546\n",
       "    two    0.498411 -0.849545"
      ]
     },
     "execution_count": 87,
     "metadata": {},
     "output_type": "execute_result"
    }
   ],
   "source": [
    "df.groupby(['A','B']).sum()"
   ]
  },
  {
   "cell_type": "markdown",
   "metadata": {},
   "source": [
    "***\n",
    "## 9. Reshaping\n",
    "### 9.1. Stack"
   ]
  },
  {
   "cell_type": "code",
   "execution_count": 88,
   "metadata": {
    "collapsed": true
   },
   "outputs": [],
   "source": [
    "tuples = list(zip(*[['bar', 'bar', 'baz', 'baz',\n",
    "                     'foo', 'foo', 'qux', 'qux'],\n",
    "                    ['one', 'two', 'one', 'two',\n",
    "                     'one', 'two', 'one', 'two']]))"
   ]
  },
  {
   "cell_type": "code",
   "execution_count": 89,
   "metadata": {
    "collapsed": true
   },
   "outputs": [],
   "source": [
    "index = pd.MultiIndex.from_tuples(tuples, names=['first', 'second'])"
   ]
  },
  {
   "cell_type": "code",
   "execution_count": 90,
   "metadata": {
    "collapsed": true
   },
   "outputs": [],
   "source": [
    "df = pd.DataFrame(np.random.randn(8, 2), index=index, columns=['A', 'B'])"
   ]
  },
  {
   "cell_type": "code",
   "execution_count": 91,
   "metadata": {
    "collapsed": true
   },
   "outputs": [],
   "source": [
    "df2 = df[:4]"
   ]
  },
  {
   "cell_type": "code",
   "execution_count": 92,
   "metadata": {
    "collapsed": false
   },
   "outputs": [
    {
     "data": {
      "text/html": [
       "<div>\n",
       "<table border=\"1\" class=\"dataframe\">\n",
       "  <thead>\n",
       "    <tr style=\"text-align: right;\">\n",
       "      <th></th>\n",
       "      <th></th>\n",
       "      <th>A</th>\n",
       "      <th>B</th>\n",
       "    </tr>\n",
       "    <tr>\n",
       "      <th>first</th>\n",
       "      <th>second</th>\n",
       "      <th></th>\n",
       "      <th></th>\n",
       "    </tr>\n",
       "  </thead>\n",
       "  <tbody>\n",
       "    <tr>\n",
       "      <th rowspan=\"2\" valign=\"top\">bar</th>\n",
       "      <th>one</th>\n",
       "      <td>0.716730</td>\n",
       "      <td>0.364036</td>\n",
       "    </tr>\n",
       "    <tr>\n",
       "      <th>two</th>\n",
       "      <td>0.484977</td>\n",
       "      <td>-0.186793</td>\n",
       "    </tr>\n",
       "    <tr>\n",
       "      <th rowspan=\"2\" valign=\"top\">baz</th>\n",
       "      <th>one</th>\n",
       "      <td>1.283117</td>\n",
       "      <td>1.727374</td>\n",
       "    </tr>\n",
       "    <tr>\n",
       "      <th>two</th>\n",
       "      <td>1.222130</td>\n",
       "      <td>-1.128322</td>\n",
       "    </tr>\n",
       "  </tbody>\n",
       "</table>\n",
       "</div>"
      ],
      "text/plain": [
       "                     A         B\n",
       "first second                    \n",
       "bar   one     0.716730  0.364036\n",
       "      two     0.484977 -0.186793\n",
       "baz   one     1.283117  1.727374\n",
       "      two     1.222130 -1.128322"
      ]
     },
     "execution_count": 92,
     "metadata": {},
     "output_type": "execute_result"
    }
   ],
   "source": [
    "df2"
   ]
  },
  {
   "cell_type": "code",
   "execution_count": 93,
   "metadata": {
    "collapsed": false
   },
   "outputs": [
    {
     "data": {
      "text/html": [
       "<div>\n",
       "<table border=\"1\" class=\"dataframe\">\n",
       "  <thead>\n",
       "    <tr style=\"text-align: right;\">\n",
       "      <th></th>\n",
       "      <th></th>\n",
       "      <th>A</th>\n",
       "      <th>B</th>\n",
       "    </tr>\n",
       "    <tr>\n",
       "      <th>first</th>\n",
       "      <th>second</th>\n",
       "      <th></th>\n",
       "      <th></th>\n",
       "    </tr>\n",
       "  </thead>\n",
       "  <tbody>\n",
       "    <tr>\n",
       "      <th rowspan=\"2\" valign=\"top\">bar</th>\n",
       "      <th>one</th>\n",
       "      <td>0.716730</td>\n",
       "      <td>0.364036</td>\n",
       "    </tr>\n",
       "    <tr>\n",
       "      <th>two</th>\n",
       "      <td>0.484977</td>\n",
       "      <td>-0.186793</td>\n",
       "    </tr>\n",
       "    <tr>\n",
       "      <th rowspan=\"2\" valign=\"top\">baz</th>\n",
       "      <th>one</th>\n",
       "      <td>1.283117</td>\n",
       "      <td>1.727374</td>\n",
       "    </tr>\n",
       "    <tr>\n",
       "      <th>two</th>\n",
       "      <td>1.222130</td>\n",
       "      <td>-1.128322</td>\n",
       "    </tr>\n",
       "    <tr>\n",
       "      <th rowspan=\"2\" valign=\"top\">foo</th>\n",
       "      <th>one</th>\n",
       "      <td>-0.867046</td>\n",
       "      <td>-1.697761</td>\n",
       "    </tr>\n",
       "    <tr>\n",
       "      <th>two</th>\n",
       "      <td>-2.204756</td>\n",
       "      <td>-1.554598</td>\n",
       "    </tr>\n",
       "    <tr>\n",
       "      <th rowspan=\"2\" valign=\"top\">qux</th>\n",
       "      <th>one</th>\n",
       "      <td>-1.767204</td>\n",
       "      <td>0.279498</td>\n",
       "    </tr>\n",
       "    <tr>\n",
       "      <th>two</th>\n",
       "      <td>-1.030141</td>\n",
       "      <td>-0.077216</td>\n",
       "    </tr>\n",
       "  </tbody>\n",
       "</table>\n",
       "</div>"
      ],
      "text/plain": [
       "                     A         B\n",
       "first second                    \n",
       "bar   one     0.716730  0.364036\n",
       "      two     0.484977 -0.186793\n",
       "baz   one     1.283117  1.727374\n",
       "      two     1.222130 -1.128322\n",
       "foo   one    -0.867046 -1.697761\n",
       "      two    -2.204756 -1.554598\n",
       "qux   one    -1.767204  0.279498\n",
       "      two    -1.030141 -0.077216"
      ]
     },
     "execution_count": 93,
     "metadata": {},
     "output_type": "execute_result"
    }
   ],
   "source": [
    "df"
   ]
  },
  {
   "cell_type": "code",
   "execution_count": 94,
   "metadata": {
    "collapsed": true
   },
   "outputs": [],
   "source": [
    "stacked = df2.stack()"
   ]
  },
  {
   "cell_type": "code",
   "execution_count": 95,
   "metadata": {
    "collapsed": false
   },
   "outputs": [
    {
     "data": {
      "text/plain": [
       "first  second   \n",
       "bar    one     A    0.716730\n",
       "               B    0.364036\n",
       "       two     A    0.484977\n",
       "               B   -0.186793\n",
       "baz    one     A    1.283117\n",
       "               B    1.727374\n",
       "       two     A    1.222130\n",
       "               B   -1.128322\n",
       "dtype: float64"
      ]
     },
     "execution_count": 95,
     "metadata": {},
     "output_type": "execute_result"
    }
   ],
   "source": [
    "stacked"
   ]
  },
  {
   "cell_type": "code",
   "execution_count": 96,
   "metadata": {
    "collapsed": false
   },
   "outputs": [
    {
     "data": {
      "text/html": [
       "<div>\n",
       "<table border=\"1\" class=\"dataframe\">\n",
       "  <thead>\n",
       "    <tr style=\"text-align: right;\">\n",
       "      <th></th>\n",
       "      <th></th>\n",
       "      <th>A</th>\n",
       "      <th>B</th>\n",
       "    </tr>\n",
       "    <tr>\n",
       "      <th>first</th>\n",
       "      <th>second</th>\n",
       "      <th></th>\n",
       "      <th></th>\n",
       "    </tr>\n",
       "  </thead>\n",
       "  <tbody>\n",
       "    <tr>\n",
       "      <th rowspan=\"2\" valign=\"top\">bar</th>\n",
       "      <th>one</th>\n",
       "      <td>0.716730</td>\n",
       "      <td>0.364036</td>\n",
       "    </tr>\n",
       "    <tr>\n",
       "      <th>two</th>\n",
       "      <td>0.484977</td>\n",
       "      <td>-0.186793</td>\n",
       "    </tr>\n",
       "    <tr>\n",
       "      <th rowspan=\"2\" valign=\"top\">baz</th>\n",
       "      <th>one</th>\n",
       "      <td>1.283117</td>\n",
       "      <td>1.727374</td>\n",
       "    </tr>\n",
       "    <tr>\n",
       "      <th>two</th>\n",
       "      <td>1.222130</td>\n",
       "      <td>-1.128322</td>\n",
       "    </tr>\n",
       "  </tbody>\n",
       "</table>\n",
       "</div>"
      ],
      "text/plain": [
       "                     A         B\n",
       "first second                    \n",
       "bar   one     0.716730  0.364036\n",
       "      two     0.484977 -0.186793\n",
       "baz   one     1.283117  1.727374\n",
       "      two     1.222130 -1.128322"
      ]
     },
     "execution_count": 96,
     "metadata": {},
     "output_type": "execute_result"
    }
   ],
   "source": [
    "stacked.unstack()"
   ]
  },
  {
   "cell_type": "code",
   "execution_count": 97,
   "metadata": {
    "collapsed": false
   },
   "outputs": [
    {
     "data": {
      "text/html": [
       "<div>\n",
       "<table border=\"1\" class=\"dataframe\">\n",
       "  <thead>\n",
       "    <tr style=\"text-align: right;\">\n",
       "      <th></th>\n",
       "      <th>second</th>\n",
       "      <th>one</th>\n",
       "      <th>two</th>\n",
       "    </tr>\n",
       "    <tr>\n",
       "      <th>first</th>\n",
       "      <th></th>\n",
       "      <th></th>\n",
       "      <th></th>\n",
       "    </tr>\n",
       "  </thead>\n",
       "  <tbody>\n",
       "    <tr>\n",
       "      <th rowspan=\"2\" valign=\"top\">bar</th>\n",
       "      <th>A</th>\n",
       "      <td>0.716730</td>\n",
       "      <td>0.484977</td>\n",
       "    </tr>\n",
       "    <tr>\n",
       "      <th>B</th>\n",
       "      <td>0.364036</td>\n",
       "      <td>-0.186793</td>\n",
       "    </tr>\n",
       "    <tr>\n",
       "      <th rowspan=\"2\" valign=\"top\">baz</th>\n",
       "      <th>A</th>\n",
       "      <td>1.283117</td>\n",
       "      <td>1.222130</td>\n",
       "    </tr>\n",
       "    <tr>\n",
       "      <th>B</th>\n",
       "      <td>1.727374</td>\n",
       "      <td>-1.128322</td>\n",
       "    </tr>\n",
       "  </tbody>\n",
       "</table>\n",
       "</div>"
      ],
      "text/plain": [
       "second        one       two\n",
       "first                      \n",
       "bar   A  0.716730  0.484977\n",
       "      B  0.364036 -0.186793\n",
       "baz   A  1.283117  1.222130\n",
       "      B  1.727374 -1.128322"
      ]
     },
     "execution_count": 97,
     "metadata": {},
     "output_type": "execute_result"
    }
   ],
   "source": [
    "stacked.unstack(1)"
   ]
  },
  {
   "cell_type": "code",
   "execution_count": 98,
   "metadata": {
    "collapsed": false
   },
   "outputs": [
    {
     "data": {
      "text/html": [
       "<div>\n",
       "<table border=\"1\" class=\"dataframe\">\n",
       "  <thead>\n",
       "    <tr style=\"text-align: right;\">\n",
       "      <th></th>\n",
       "      <th>first</th>\n",
       "      <th>bar</th>\n",
       "      <th>baz</th>\n",
       "    </tr>\n",
       "    <tr>\n",
       "      <th>second</th>\n",
       "      <th></th>\n",
       "      <th></th>\n",
       "      <th></th>\n",
       "    </tr>\n",
       "  </thead>\n",
       "  <tbody>\n",
       "    <tr>\n",
       "      <th rowspan=\"2\" valign=\"top\">one</th>\n",
       "      <th>A</th>\n",
       "      <td>0.716730</td>\n",
       "      <td>1.283117</td>\n",
       "    </tr>\n",
       "    <tr>\n",
       "      <th>B</th>\n",
       "      <td>0.364036</td>\n",
       "      <td>1.727374</td>\n",
       "    </tr>\n",
       "    <tr>\n",
       "      <th rowspan=\"2\" valign=\"top\">two</th>\n",
       "      <th>A</th>\n",
       "      <td>0.484977</td>\n",
       "      <td>1.222130</td>\n",
       "    </tr>\n",
       "    <tr>\n",
       "      <th>B</th>\n",
       "      <td>-0.186793</td>\n",
       "      <td>-1.128322</td>\n",
       "    </tr>\n",
       "  </tbody>\n",
       "</table>\n",
       "</div>"
      ],
      "text/plain": [
       "first          bar       baz\n",
       "second                      \n",
       "one    A  0.716730  1.283117\n",
       "       B  0.364036  1.727374\n",
       "two    A  0.484977  1.222130\n",
       "       B -0.186793 -1.128322"
      ]
     },
     "execution_count": 98,
     "metadata": {},
     "output_type": "execute_result"
    }
   ],
   "source": [
    "stacked.unstack(0)"
   ]
  },
  {
   "cell_type": "markdown",
   "metadata": {},
   "source": [
    "### 9.2. Pivot Tables"
   ]
  },
  {
   "cell_type": "code",
   "execution_count": 99,
   "metadata": {
    "collapsed": true
   },
   "outputs": [],
   "source": [
    "df = pd.DataFrame({'A' : ['one', 'one', 'two', 'three'] * 3,\n",
    "                   'B' : ['A', 'B', 'C'] * 4,\n",
    "                   'C' : ['foo', 'foo', 'foo', 'bar', 'bar', 'bar'] * 2,\n",
    "                   'D' : np.random.randn(12),\n",
    "                   'E' : np.random.randn(12)})"
   ]
  },
  {
   "cell_type": "code",
   "execution_count": 100,
   "metadata": {
    "collapsed": false
   },
   "outputs": [
    {
     "data": {
      "text/html": [
       "<div>\n",
       "<table border=\"1\" class=\"dataframe\">\n",
       "  <thead>\n",
       "    <tr style=\"text-align: right;\">\n",
       "      <th></th>\n",
       "      <th>A</th>\n",
       "      <th>B</th>\n",
       "      <th>C</th>\n",
       "      <th>D</th>\n",
       "      <th>E</th>\n",
       "    </tr>\n",
       "  </thead>\n",
       "  <tbody>\n",
       "    <tr>\n",
       "      <th>0</th>\n",
       "      <td>one</td>\n",
       "      <td>A</td>\n",
       "      <td>foo</td>\n",
       "      <td>1.167583</td>\n",
       "      <td>1.309494</td>\n",
       "    </tr>\n",
       "    <tr>\n",
       "      <th>1</th>\n",
       "      <td>one</td>\n",
       "      <td>B</td>\n",
       "      <td>foo</td>\n",
       "      <td>0.317695</td>\n",
       "      <td>-1.336632</td>\n",
       "    </tr>\n",
       "    <tr>\n",
       "      <th>2</th>\n",
       "      <td>two</td>\n",
       "      <td>C</td>\n",
       "      <td>foo</td>\n",
       "      <td>1.139077</td>\n",
       "      <td>0.351261</td>\n",
       "    </tr>\n",
       "    <tr>\n",
       "      <th>3</th>\n",
       "      <td>three</td>\n",
       "      <td>A</td>\n",
       "      <td>bar</td>\n",
       "      <td>1.994701</td>\n",
       "      <td>-1.864981</td>\n",
       "    </tr>\n",
       "    <tr>\n",
       "      <th>4</th>\n",
       "      <td>one</td>\n",
       "      <td>B</td>\n",
       "      <td>bar</td>\n",
       "      <td>0.296718</td>\n",
       "      <td>-0.458584</td>\n",
       "    </tr>\n",
       "    <tr>\n",
       "      <th>5</th>\n",
       "      <td>one</td>\n",
       "      <td>C</td>\n",
       "      <td>bar</td>\n",
       "      <td>1.448120</td>\n",
       "      <td>0.859557</td>\n",
       "    </tr>\n",
       "    <tr>\n",
       "      <th>6</th>\n",
       "      <td>two</td>\n",
       "      <td>A</td>\n",
       "      <td>foo</td>\n",
       "      <td>-1.207540</td>\n",
       "      <td>0.088813</td>\n",
       "    </tr>\n",
       "    <tr>\n",
       "      <th>7</th>\n",
       "      <td>three</td>\n",
       "      <td>B</td>\n",
       "      <td>foo</td>\n",
       "      <td>-0.421625</td>\n",
       "      <td>0.819919</td>\n",
       "    </tr>\n",
       "    <tr>\n",
       "      <th>8</th>\n",
       "      <td>one</td>\n",
       "      <td>C</td>\n",
       "      <td>foo</td>\n",
       "      <td>-0.658555</td>\n",
       "      <td>-0.249916</td>\n",
       "    </tr>\n",
       "    <tr>\n",
       "      <th>9</th>\n",
       "      <td>one</td>\n",
       "      <td>A</td>\n",
       "      <td>bar</td>\n",
       "      <td>-0.395781</td>\n",
       "      <td>-1.869787</td>\n",
       "    </tr>\n",
       "    <tr>\n",
       "      <th>10</th>\n",
       "      <td>two</td>\n",
       "      <td>B</td>\n",
       "      <td>bar</td>\n",
       "      <td>-1.243312</td>\n",
       "      <td>-0.285364</td>\n",
       "    </tr>\n",
       "    <tr>\n",
       "      <th>11</th>\n",
       "      <td>three</td>\n",
       "      <td>C</td>\n",
       "      <td>bar</td>\n",
       "      <td>-0.811439</td>\n",
       "      <td>-0.267300</td>\n",
       "    </tr>\n",
       "  </tbody>\n",
       "</table>\n",
       "</div>"
      ],
      "text/plain": [
       "        A  B    C         D         E\n",
       "0     one  A  foo  1.167583  1.309494\n",
       "1     one  B  foo  0.317695 -1.336632\n",
       "2     two  C  foo  1.139077  0.351261\n",
       "3   three  A  bar  1.994701 -1.864981\n",
       "4     one  B  bar  0.296718 -0.458584\n",
       "5     one  C  bar  1.448120  0.859557\n",
       "6     two  A  foo -1.207540  0.088813\n",
       "7   three  B  foo -0.421625  0.819919\n",
       "8     one  C  foo -0.658555 -0.249916\n",
       "9     one  A  bar -0.395781 -1.869787\n",
       "10    two  B  bar -1.243312 -0.285364\n",
       "11  three  C  bar -0.811439 -0.267300"
      ]
     },
     "execution_count": 100,
     "metadata": {},
     "output_type": "execute_result"
    }
   ],
   "source": [
    "df"
   ]
  },
  {
   "cell_type": "code",
   "execution_count": 101,
   "metadata": {
    "collapsed": false
   },
   "outputs": [
    {
     "data": {
      "text/html": [
       "<div>\n",
       "<table border=\"1\" class=\"dataframe\">\n",
       "  <thead>\n",
       "    <tr style=\"text-align: right;\">\n",
       "      <th></th>\n",
       "      <th>C</th>\n",
       "      <th>bar</th>\n",
       "      <th>foo</th>\n",
       "    </tr>\n",
       "    <tr>\n",
       "      <th>A</th>\n",
       "      <th>B</th>\n",
       "      <th></th>\n",
       "      <th></th>\n",
       "    </tr>\n",
       "  </thead>\n",
       "  <tbody>\n",
       "    <tr>\n",
       "      <th rowspan=\"3\" valign=\"top\">one</th>\n",
       "      <th>A</th>\n",
       "      <td>-0.395781</td>\n",
       "      <td>1.167583</td>\n",
       "    </tr>\n",
       "    <tr>\n",
       "      <th>B</th>\n",
       "      <td>0.296718</td>\n",
       "      <td>0.317695</td>\n",
       "    </tr>\n",
       "    <tr>\n",
       "      <th>C</th>\n",
       "      <td>1.448120</td>\n",
       "      <td>-0.658555</td>\n",
       "    </tr>\n",
       "    <tr>\n",
       "      <th rowspan=\"3\" valign=\"top\">three</th>\n",
       "      <th>A</th>\n",
       "      <td>1.994701</td>\n",
       "      <td>NaN</td>\n",
       "    </tr>\n",
       "    <tr>\n",
       "      <th>B</th>\n",
       "      <td>NaN</td>\n",
       "      <td>-0.421625</td>\n",
       "    </tr>\n",
       "    <tr>\n",
       "      <th>C</th>\n",
       "      <td>-0.811439</td>\n",
       "      <td>NaN</td>\n",
       "    </tr>\n",
       "    <tr>\n",
       "      <th rowspan=\"3\" valign=\"top\">two</th>\n",
       "      <th>A</th>\n",
       "      <td>NaN</td>\n",
       "      <td>-1.207540</td>\n",
       "    </tr>\n",
       "    <tr>\n",
       "      <th>B</th>\n",
       "      <td>-1.243312</td>\n",
       "      <td>NaN</td>\n",
       "    </tr>\n",
       "    <tr>\n",
       "      <th>C</th>\n",
       "      <td>NaN</td>\n",
       "      <td>1.139077</td>\n",
       "    </tr>\n",
       "  </tbody>\n",
       "</table>\n",
       "</div>"
      ],
      "text/plain": [
       "C             bar       foo\n",
       "A     B                    \n",
       "one   A -0.395781  1.167583\n",
       "      B  0.296718  0.317695\n",
       "      C  1.448120 -0.658555\n",
       "three A  1.994701       NaN\n",
       "      B       NaN -0.421625\n",
       "      C -0.811439       NaN\n",
       "two   A       NaN -1.207540\n",
       "      B -1.243312       NaN\n",
       "      C       NaN  1.139077"
      ]
     },
     "execution_count": 101,
     "metadata": {},
     "output_type": "execute_result"
    }
   ],
   "source": [
    "pd.pivot_table(df, values='D', index=['A', 'B'], columns=['C'])"
   ]
  },
  {
   "cell_type": "markdown",
   "metadata": {},
   "source": [
    "***\n",
    "## 10. Time Series"
   ]
  },
  {
   "cell_type": "code",
   "execution_count": 102,
   "metadata": {
    "collapsed": true
   },
   "outputs": [],
   "source": [
    "rng = pd.date_range('1/1/2016', periods=100, freq='S')"
   ]
  },
  {
   "cell_type": "code",
   "execution_count": 103,
   "metadata": {
    "collapsed": true
   },
   "outputs": [],
   "source": [
    "ts = pd.Series(np.random.randint(0, 500, len(rng)), index=rng)"
   ]
  },
  {
   "cell_type": "code",
   "execution_count": 104,
   "metadata": {
    "collapsed": false
   },
   "outputs": [
    {
     "data": {
      "text/plain": [
       "2016-01-01    25715\n",
       "Freq: 5T, dtype: int32"
      ]
     },
     "execution_count": 104,
     "metadata": {},
     "output_type": "execute_result"
    }
   ],
   "source": [
    "ts.resample('5Min').sum()"
   ]
  },
  {
   "cell_type": "code",
   "execution_count": 105,
   "metadata": {
    "collapsed": true
   },
   "outputs": [],
   "source": [
    "rng = pd.date_range('3/6/2016 00:00', periods=5, freq='D')"
   ]
  },
  {
   "cell_type": "code",
   "execution_count": 106,
   "metadata": {
    "collapsed": true
   },
   "outputs": [],
   "source": [
    "ts = pd.Series(np.random.randn(len(rng)), rng)\n"
   ]
  },
  {
   "cell_type": "code",
   "execution_count": 107,
   "metadata": {
    "collapsed": false
   },
   "outputs": [
    {
     "data": {
      "text/plain": [
       "2016-03-06   -1.694904\n",
       "2016-03-07   -1.220373\n",
       "2016-03-08   -0.126570\n",
       "2016-03-09    0.170400\n",
       "2016-03-10   -1.827301\n",
       "Freq: D, dtype: float64"
      ]
     },
     "execution_count": 107,
     "metadata": {},
     "output_type": "execute_result"
    }
   ],
   "source": [
    "ts"
   ]
  },
  {
   "cell_type": "code",
   "execution_count": 108,
   "metadata": {
    "collapsed": true
   },
   "outputs": [],
   "source": [
    "ts_utc = ts.tz_localize('UTC')"
   ]
  },
  {
   "cell_type": "code",
   "execution_count": 109,
   "metadata": {
    "collapsed": false
   },
   "outputs": [
    {
     "data": {
      "text/plain": [
       "2016-03-06 00:00:00+00:00   -1.694904\n",
       "2016-03-07 00:00:00+00:00   -1.220373\n",
       "2016-03-08 00:00:00+00:00   -0.126570\n",
       "2016-03-09 00:00:00+00:00    0.170400\n",
       "2016-03-10 00:00:00+00:00   -1.827301\n",
       "Freq: D, dtype: float64"
      ]
     },
     "execution_count": 109,
     "metadata": {},
     "output_type": "execute_result"
    }
   ],
   "source": [
    "ts_utc"
   ]
  },
  {
   "cell_type": "code",
   "execution_count": 110,
   "metadata": {
    "collapsed": false
   },
   "outputs": [
    {
     "data": {
      "text/plain": [
       "2016-03-05 19:00:00-05:00   -1.694904\n",
       "2016-03-06 19:00:00-05:00   -1.220373\n",
       "2016-03-07 19:00:00-05:00   -0.126570\n",
       "2016-03-08 19:00:00-05:00    0.170400\n",
       "2016-03-09 19:00:00-05:00   -1.827301\n",
       "Freq: D, dtype: float64"
      ]
     },
     "execution_count": 110,
     "metadata": {},
     "output_type": "execute_result"
    }
   ],
   "source": [
    "ts_utc.tz_convert('US/Eastern')"
   ]
  },
  {
   "cell_type": "code",
   "execution_count": 111,
   "metadata": {
    "collapsed": true
   },
   "outputs": [],
   "source": [
    "rng = pd.date_range('1/1/2012', periods=5, freq='M')"
   ]
  },
  {
   "cell_type": "code",
   "execution_count": 112,
   "metadata": {
    "collapsed": true
   },
   "outputs": [],
   "source": [
    "ts = pd.Series(np.random.randn(len(rng)), index=rng)"
   ]
  },
  {
   "cell_type": "code",
   "execution_count": 113,
   "metadata": {
    "collapsed": false
   },
   "outputs": [
    {
     "data": {
      "text/plain": [
       "2012-01-31   -1.797378\n",
       "2012-02-29   -0.207642\n",
       "2012-03-31    0.271894\n",
       "2012-04-30    0.950621\n",
       "2012-05-31    0.065558\n",
       "Freq: M, dtype: float64"
      ]
     },
     "execution_count": 113,
     "metadata": {},
     "output_type": "execute_result"
    }
   ],
   "source": [
    "ts"
   ]
  },
  {
   "cell_type": "code",
   "execution_count": 114,
   "metadata": {
    "collapsed": true
   },
   "outputs": [],
   "source": [
    "ps = ts.to_period()"
   ]
  },
  {
   "cell_type": "code",
   "execution_count": 115,
   "metadata": {
    "collapsed": false
   },
   "outputs": [
    {
     "data": {
      "text/plain": [
       "2012-01   -1.797378\n",
       "2012-02   -0.207642\n",
       "2012-03    0.271894\n",
       "2012-04    0.950621\n",
       "2012-05    0.065558\n",
       "Freq: M, dtype: float64"
      ]
     },
     "execution_count": 115,
     "metadata": {},
     "output_type": "execute_result"
    }
   ],
   "source": [
    "ps"
   ]
  },
  {
   "cell_type": "code",
   "execution_count": 116,
   "metadata": {
    "collapsed": false
   },
   "outputs": [
    {
     "data": {
      "text/plain": [
       "2012-01-01   -1.797378\n",
       "2012-02-01   -0.207642\n",
       "2012-03-01    0.271894\n",
       "2012-04-01    0.950621\n",
       "2012-05-01    0.065558\n",
       "Freq: MS, dtype: float64"
      ]
     },
     "execution_count": 116,
     "metadata": {},
     "output_type": "execute_result"
    }
   ],
   "source": [
    "ps.to_timestamp()"
   ]
  },
  {
   "cell_type": "code",
   "execution_count": 117,
   "metadata": {
    "collapsed": true
   },
   "outputs": [],
   "source": [
    "prng = pd.period_range('1990Q1', '2000Q4', freq='Q-NOV')"
   ]
  },
  {
   "cell_type": "code",
   "execution_count": 118,
   "metadata": {
    "collapsed": true
   },
   "outputs": [],
   "source": [
    "ts = pd.Series(np.random.randn(len(prng)), prng)\n"
   ]
  },
  {
   "cell_type": "code",
   "execution_count": 119,
   "metadata": {
    "collapsed": true
   },
   "outputs": [],
   "source": [
    "ts.index = (prng.asfreq('M', 'e') + 1).asfreq('H', 's') + 9"
   ]
  },
  {
   "cell_type": "code",
   "execution_count": 120,
   "metadata": {
    "collapsed": false
   },
   "outputs": [
    {
     "data": {
      "text/plain": [
       "1990-03-01 09:00   -0.719348\n",
       "1990-06-01 09:00   -2.034123\n",
       "1990-09-01 09:00    1.182466\n",
       "1990-12-01 09:00    1.947055\n",
       "1991-03-01 09:00    0.972960\n",
       "Freq: H, dtype: float64"
      ]
     },
     "execution_count": 120,
     "metadata": {},
     "output_type": "execute_result"
    }
   ],
   "source": [
    "ts.head()"
   ]
  },
  {
   "cell_type": "markdown",
   "metadata": {},
   "source": [
    "***\n",
    "## 11. Categoricals "
   ]
  },
  {
   "cell_type": "code",
   "execution_count": 121,
   "metadata": {
    "collapsed": true
   },
   "outputs": [],
   "source": [
    "df = pd.DataFrame({\"id\":[1,2,3,4,5,6], \"raw_grade\":['a', 'b', 'b', 'a', 'a', 'e']})"
   ]
  },
  {
   "cell_type": "code",
   "execution_count": 122,
   "metadata": {
    "collapsed": true
   },
   "outputs": [],
   "source": [
    "df[\"grade\"] = df[\"raw_grade\"].astype(\"category\")"
   ]
  },
  {
   "cell_type": "code",
   "execution_count": 123,
   "metadata": {
    "collapsed": false
   },
   "outputs": [
    {
     "data": {
      "text/plain": [
       "0    a\n",
       "1    b\n",
       "2    b\n",
       "3    a\n",
       "4    a\n",
       "5    e\n",
       "Name: grade, dtype: category\n",
       "Categories (3, object): [a, b, e]"
      ]
     },
     "execution_count": 123,
     "metadata": {},
     "output_type": "execute_result"
    }
   ],
   "source": [
    "df[\"grade\"]\n"
   ]
  },
  {
   "cell_type": "code",
   "execution_count": 124,
   "metadata": {
    "collapsed": true
   },
   "outputs": [],
   "source": [
    "df[\"grade\"].cat.categories = [\"very good\", \"good\", \"very bad\"]"
   ]
  },
  {
   "cell_type": "code",
   "execution_count": 125,
   "metadata": {
    "collapsed": true
   },
   "outputs": [],
   "source": [
    "df[\"grade\"] = df[\"grade\"].cat.set_categories([\"very bad\", \"bad\", \"medium\", \"good\", \"very good\"])"
   ]
  },
  {
   "cell_type": "code",
   "execution_count": 126,
   "metadata": {
    "collapsed": false
   },
   "outputs": [
    {
     "data": {
      "text/plain": [
       "0    very good\n",
       "1         good\n",
       "2         good\n",
       "3    very good\n",
       "4    very good\n",
       "5     very bad\n",
       "Name: grade, dtype: category\n",
       "Categories (5, object): [very bad, bad, medium, good, very good]"
      ]
     },
     "execution_count": 126,
     "metadata": {},
     "output_type": "execute_result"
    }
   ],
   "source": [
    "df[\"grade\"]"
   ]
  },
  {
   "cell_type": "code",
   "execution_count": 127,
   "metadata": {
    "collapsed": false
   },
   "outputs": [
    {
     "data": {
      "text/html": [
       "<div>\n",
       "<table border=\"1\" class=\"dataframe\">\n",
       "  <thead>\n",
       "    <tr style=\"text-align: right;\">\n",
       "      <th></th>\n",
       "      <th>id</th>\n",
       "      <th>raw_grade</th>\n",
       "      <th>grade</th>\n",
       "    </tr>\n",
       "  </thead>\n",
       "  <tbody>\n",
       "    <tr>\n",
       "      <th>5</th>\n",
       "      <td>6</td>\n",
       "      <td>e</td>\n",
       "      <td>very bad</td>\n",
       "    </tr>\n",
       "    <tr>\n",
       "      <th>1</th>\n",
       "      <td>2</td>\n",
       "      <td>b</td>\n",
       "      <td>good</td>\n",
       "    </tr>\n",
       "    <tr>\n",
       "      <th>2</th>\n",
       "      <td>3</td>\n",
       "      <td>b</td>\n",
       "      <td>good</td>\n",
       "    </tr>\n",
       "    <tr>\n",
       "      <th>0</th>\n",
       "      <td>1</td>\n",
       "      <td>a</td>\n",
       "      <td>very good</td>\n",
       "    </tr>\n",
       "    <tr>\n",
       "      <th>3</th>\n",
       "      <td>4</td>\n",
       "      <td>a</td>\n",
       "      <td>very good</td>\n",
       "    </tr>\n",
       "    <tr>\n",
       "      <th>4</th>\n",
       "      <td>5</td>\n",
       "      <td>a</td>\n",
       "      <td>very good</td>\n",
       "    </tr>\n",
       "  </tbody>\n",
       "</table>\n",
       "</div>"
      ],
      "text/plain": [
       "   id raw_grade      grade\n",
       "5   6         e   very bad\n",
       "1   2         b       good\n",
       "2   3         b       good\n",
       "0   1         a  very good\n",
       "3   4         a  very good\n",
       "4   5         a  very good"
      ]
     },
     "execution_count": 127,
     "metadata": {},
     "output_type": "execute_result"
    }
   ],
   "source": [
    "df.sort_values(by=\"grade\")"
   ]
  },
  {
   "cell_type": "code",
   "execution_count": 128,
   "metadata": {
    "collapsed": false
   },
   "outputs": [
    {
     "data": {
      "text/plain": [
       "grade\n",
       "very bad     1\n",
       "bad          0\n",
       "medium       0\n",
       "good         2\n",
       "very good    3\n",
       "dtype: int64"
      ]
     },
     "execution_count": 128,
     "metadata": {},
     "output_type": "execute_result"
    }
   ],
   "source": [
    "df.groupby(\"grade\").size()"
   ]
  },
  {
   "cell_type": "markdown",
   "metadata": {},
   "source": [
    "***\n",
    "## 12. Plotting"
   ]
  },
  {
   "cell_type": "code",
   "execution_count": 129,
   "metadata": {
    "collapsed": true
   },
   "outputs": [],
   "source": [
    "%matplotlib inline"
   ]
  },
  {
   "cell_type": "code",
   "execution_count": 130,
   "metadata": {
    "collapsed": true
   },
   "outputs": [],
   "source": [
    "ts = pd.Series(np.random.randn(1000), index=pd.date_range('1/1/2000', periods=1000))"
   ]
  },
  {
   "cell_type": "code",
   "execution_count": 131,
   "metadata": {
    "collapsed": true
   },
   "outputs": [],
   "source": [
    "ts = ts.cumsum()"
   ]
  },
  {
   "cell_type": "code",
   "execution_count": 132,
   "metadata": {
    "collapsed": false
   },
   "outputs": [
    {
     "data": {
      "text/plain": [
       "<matplotlib.axes._subplots.AxesSubplot at 0xa05a588>"
      ]
     },
     "execution_count": 132,
     "metadata": {},
     "output_type": "execute_result"
    },
    {
     "data": {
      "image/png": "[encoded data removed]",
      "text/plain": [
       "<matplotlib.figure.Figure at 0xa033e80>"
      ]
     },
     "metadata": {},
     "output_type": "display_data"
    }
   ],
   "source": [
    "ts.plot()"
   ]
  },
  {
   "cell_type": "code",
   "execution_count": 133,
   "metadata": {
    "collapsed": true
   },
   "outputs": [],
   "source": [
    "df = pd.DataFrame(np.random.randn(1000, 4), index=ts.index,\n",
    "                  columns=['A', 'B', 'C', 'D'])"
   ]
  },
  {
   "cell_type": "code",
   "execution_count": 134,
   "metadata": {
    "collapsed": true
   },
   "outputs": [],
   "source": [
    "df = df.cumsum()"
   ]
  },
  {
   "cell_type": "code",
   "execution_count": 135,
   "metadata": {
    "collapsed": false
   },
   "outputs": [
    {
     "data": {
      "text/plain": [
       "<matplotlib.legend.Legend at 0xa47d128>"
      ]
     },
     "execution_count": 135,
     "metadata": {},
     "output_type": "execute_result"
    },
    {
     "data": {
      "text/plain": [
       "<matplotlib.figure.Figure at 0xa25cf28>"
      ]
     },
     "metadata": {},
     "output_type": "display_data"
    },
    {
     "data": {
      "image/png": "[encoded data removed]",
      "text/plain": [
       "<matplotlib.figure.Figure at 0xa277a20>"
      ]
     },
     "metadata": {},
     "output_type": "display_data"
    }
   ],
   "source": [
    "plt.figure(); df.plot(); plt.legend(loc='best')"
   ]
  },
  {
   "cell_type": "markdown",
   "metadata": {},
   "source": [
    "***\n",
    "## 13. Getting Data In/Out\n",
    "### 13.1 CSV"
   ]
  },
  {
   "cell_type": "code",
   "execution_count": 136,
   "metadata": {
    "collapsed": true
   },
   "outputs": [],
   "source": [
    "df.to_csv('foo.csv')"
   ]
  },
  {
   "cell_type": "code",
   "execution_count": 137,
   "metadata": {
    "collapsed": false
   },
   "outputs": [
    {
     "data": {
      "text/html": [
       "<div>\n",
       "<table border=\"1\" class=\"dataframe\">\n",
       "  <thead>\n",
       "    <tr style=\"text-align: right;\">\n",
       "      <th></th>\n",
       "      <th>Unnamed: 0</th>\n",
       "      <th>A</th>\n",
       "      <th>B</th>\n",
       "      <th>C</th>\n",
       "      <th>D</th>\n",
       "    </tr>\n",
       "  </thead>\n",
       "  <tbody>\n",
       "    <tr>\n",
       "      <th>0</th>\n",
       "      <td>2000-01-01</td>\n",
       "      <td>-0.481145</td>\n",
       "      <td>-1.254966</td>\n",
       "      <td>1.655471</td>\n",
       "      <td>0.396352</td>\n",
       "    </tr>\n",
       "    <tr>\n",
       "      <th>1</th>\n",
       "      <td>2000-01-02</td>\n",
       "      <td>-0.274419</td>\n",
       "      <td>-1.741205</td>\n",
       "      <td>1.917441</td>\n",
       "      <td>-0.231297</td>\n",
       "    </tr>\n",
       "    <tr>\n",
       "      <th>2</th>\n",
       "      <td>2000-01-03</td>\n",
       "      <td>-1.047722</td>\n",
       "      <td>-0.621208</td>\n",
       "      <td>1.893727</td>\n",
       "      <td>-0.451471</td>\n",
       "    </tr>\n",
       "    <tr>\n",
       "      <th>3</th>\n",
       "      <td>2000-01-04</td>\n",
       "      <td>-0.779490</td>\n",
       "      <td>0.567213</td>\n",
       "      <td>1.693032</td>\n",
       "      <td>-0.917439</td>\n",
       "    </tr>\n",
       "    <tr>\n",
       "      <th>4</th>\n",
       "      <td>2000-01-05</td>\n",
       "      <td>-1.426814</td>\n",
       "      <td>-0.579532</td>\n",
       "      <td>3.281925</td>\n",
       "      <td>-1.081792</td>\n",
       "    </tr>\n",
       "    <tr>\n",
       "      <th>5</th>\n",
       "      <td>2000-01-06</td>\n",
       "      <td>-1.659749</td>\n",
       "      <td>-0.650014</td>\n",
       "      <td>1.290689</td>\n",
       "      <td>-1.267807</td>\n",
       "    </tr>\n",
       "    <tr>\n",
       "      <th>6</th>\n",
       "      <td>2000-01-07</td>\n",
       "      <td>-2.562125</td>\n",
       "      <td>-1.834452</td>\n",
       "      <td>1.812578</td>\n",
       "      <td>0.406422</td>\n",
       "    </tr>\n",
       "    <tr>\n",
       "      <th>7</th>\n",
       "      <td>2000-01-08</td>\n",
       "      <td>-1.134207</td>\n",
       "      <td>-2.515973</td>\n",
       "      <td>2.168579</td>\n",
       "      <td>1.674675</td>\n",
       "    </tr>\n",
       "    <tr>\n",
       "      <th>8</th>\n",
       "      <td>2000-01-09</td>\n",
       "      <td>-1.443832</td>\n",
       "      <td>-3.924154</td>\n",
       "      <td>2.416081</td>\n",
       "      <td>2.221967</td>\n",
       "    </tr>\n",
       "    <tr>\n",
       "      <th>9</th>\n",
       "      <td>2000-01-10</td>\n",
       "      <td>-0.990812</td>\n",
       "      <td>-4.504692</td>\n",
       "      <td>3.298455</td>\n",
       "      <td>2.785920</td>\n",
       "    </tr>\n",
       "    <tr>\n",
       "      <th>10</th>\n",
       "      <td>2000-01-11</td>\n",
       "      <td>-1.067805</td>\n",
       "      <td>-6.117934</td>\n",
       "      <td>4.234384</td>\n",
       "      <td>2.066399</td>\n",
       "    </tr>\n",
       "    <tr>\n",
       "      <th>11</th>\n",
       "      <td>2000-01-12</td>\n",
       "      <td>-1.350890</td>\n",
       "      <td>-5.433727</td>\n",
       "      <td>5.140663</td>\n",
       "      <td>2.513274</td>\n",
       "    </tr>\n",
       "    <tr>\n",
       "      <th>12</th>\n",
       "      <td>2000-01-13</td>\n",
       "      <td>-2.542996</td>\n",
       "      <td>-6.791919</td>\n",
       "      <td>6.264934</td>\n",
       "      <td>3.024485</td>\n",
       "    </tr>\n",
       "    <tr>\n",
       "      <th>13</th>\n",
       "      <td>2000-01-14</td>\n",
       "      <td>-3.591527</td>\n",
       "      <td>-5.532273</td>\n",
       "      <td>6.180613</td>\n",
       "      <td>3.130578</td>\n",
       "    </tr>\n",
       "    <tr>\n",
       "      <th>14</th>\n",
       "      <td>2000-01-15</td>\n",
       "      <td>-3.193803</td>\n",
       "      <td>-5.742823</td>\n",
       "      <td>6.047407</td>\n",
       "      <td>2.689179</td>\n",
       "    </tr>\n",
       "    <tr>\n",
       "      <th>15</th>\n",
       "      <td>2000-01-16</td>\n",
       "      <td>-2.688179</td>\n",
       "      <td>-5.834716</td>\n",
       "      <td>6.969753</td>\n",
       "      <td>4.247628</td>\n",
       "    </tr>\n",
       "    <tr>\n",
       "      <th>16</th>\n",
       "      <td>2000-01-17</td>\n",
       "      <td>-1.530983</td>\n",
       "      <td>-5.803570</td>\n",
       "      <td>7.856895</td>\n",
       "      <td>4.683952</td>\n",
       "    </tr>\n",
       "    <tr>\n",
       "      <th>17</th>\n",
       "      <td>2000-01-18</td>\n",
       "      <td>-2.361584</td>\n",
       "      <td>-3.936841</td>\n",
       "      <td>6.158213</td>\n",
       "      <td>3.424326</td>\n",
       "    </tr>\n",
       "    <tr>\n",
       "      <th>18</th>\n",
       "      <td>2000-01-19</td>\n",
       "      <td>-1.351763</td>\n",
       "      <td>-5.353017</td>\n",
       "      <td>6.075380</td>\n",
       "      <td>3.194787</td>\n",
       "    </tr>\n",
       "    <tr>\n",
       "      <th>19</th>\n",
       "      <td>2000-01-20</td>\n",
       "      <td>-1.390061</td>\n",
       "      <td>-4.971827</td>\n",
       "      <td>6.247840</td>\n",
       "      <td>2.588380</td>\n",
       "    </tr>\n",
       "    <tr>\n",
       "      <th>20</th>\n",
       "      <td>2000-01-21</td>\n",
       "      <td>-0.373518</td>\n",
       "      <td>-6.165808</td>\n",
       "      <td>6.338360</td>\n",
       "      <td>3.025539</td>\n",
       "    </tr>\n",
       "    <tr>\n",
       "      <th>21</th>\n",
       "      <td>2000-01-22</td>\n",
       "      <td>0.356494</td>\n",
       "      <td>-5.537318</td>\n",
       "      <td>6.724062</td>\n",
       "      <td>4.821032</td>\n",
       "    </tr>\n",
       "    <tr>\n",
       "      <th>22</th>\n",
       "      <td>2000-01-23</td>\n",
       "      <td>0.537231</td>\n",
       "      <td>-5.270548</td>\n",
       "      <td>8.649807</td>\n",
       "      <td>4.205278</td>\n",
       "    </tr>\n",
       "    <tr>\n",
       "      <th>23</th>\n",
       "      <td>2000-01-24</td>\n",
       "      <td>1.379953</td>\n",
       "      <td>-4.771988</td>\n",
       "      <td>7.146579</td>\n",
       "      <td>2.207775</td>\n",
       "    </tr>\n",
       "    <tr>\n",
       "      <th>24</th>\n",
       "      <td>2000-01-25</td>\n",
       "      <td>1.937751</td>\n",
       "      <td>-5.680048</td>\n",
       "      <td>7.114407</td>\n",
       "      <td>1.561776</td>\n",
       "    </tr>\n",
       "    <tr>\n",
       "      <th>25</th>\n",
       "      <td>2000-01-26</td>\n",
       "      <td>0.736351</td>\n",
       "      <td>-5.125572</td>\n",
       "      <td>8.693629</td>\n",
       "      <td>1.354493</td>\n",
       "    </tr>\n",
       "    <tr>\n",
       "      <th>26</th>\n",
       "      <td>2000-01-27</td>\n",
       "      <td>-0.114038</td>\n",
       "      <td>-5.963922</td>\n",
       "      <td>11.520522</td>\n",
       "      <td>0.925529</td>\n",
       "    </tr>\n",
       "    <tr>\n",
       "      <th>27</th>\n",
       "      <td>2000-01-28</td>\n",
       "      <td>-0.007138</td>\n",
       "      <td>-4.974331</td>\n",
       "      <td>11.085017</td>\n",
       "      <td>-0.440763</td>\n",
       "    </tr>\n",
       "    <tr>\n",
       "      <th>28</th>\n",
       "      <td>2000-01-29</td>\n",
       "      <td>-0.074987</td>\n",
       "      <td>-5.380674</td>\n",
       "      <td>10.295914</td>\n",
       "      <td>0.980039</td>\n",
       "    </tr>\n",
       "    <tr>\n",
       "      <th>29</th>\n",
       "      <td>2000-01-30</td>\n",
       "      <td>-1.471970</td>\n",
       "      <td>-4.640457</td>\n",
       "      <td>10.522210</td>\n",
       "      <td>1.730103</td>\n",
       "    </tr>\n",
       "    <tr>\n",
       "      <th>...</th>\n",
       "      <td>...</td>\n",
       "      <td>...</td>\n",
       "      <td>...</td>\n",
       "      <td>...</td>\n",
       "      <td>...</td>\n",
       "    </tr>\n",
       "    <tr>\n",
       "      <th>970</th>\n",
       "      <td>2002-08-28</td>\n",
       "      <td>-0.631068</td>\n",
       "      <td>20.459378</td>\n",
       "      <td>23.091759</td>\n",
       "      <td>-13.452481</td>\n",
       "    </tr>\n",
       "    <tr>\n",
       "      <th>971</th>\n",
       "      <td>2002-08-29</td>\n",
       "      <td>-0.746697</td>\n",
       "      <td>21.586504</td>\n",
       "      <td>22.734441</td>\n",
       "      <td>-13.357648</td>\n",
       "    </tr>\n",
       "    <tr>\n",
       "      <th>972</th>\n",
       "      <td>2002-08-30</td>\n",
       "      <td>-2.380314</td>\n",
       "      <td>20.467591</td>\n",
       "      <td>21.971396</td>\n",
       "      <td>-11.880534</td>\n",
       "    </tr>\n",
       "    <tr>\n",
       "      <th>973</th>\n",
       "      <td>2002-08-31</td>\n",
       "      <td>-1.732284</td>\n",
       "      <td>20.094068</td>\n",
       "      <td>22.474841</td>\n",
       "      <td>-12.941293</td>\n",
       "    </tr>\n",
       "    <tr>\n",
       "      <th>974</th>\n",
       "      <td>2002-09-01</td>\n",
       "      <td>-1.187223</td>\n",
       "      <td>20.204931</td>\n",
       "      <td>22.170088</td>\n",
       "      <td>-11.845185</td>\n",
       "    </tr>\n",
       "    <tr>\n",
       "      <th>975</th>\n",
       "      <td>2002-09-02</td>\n",
       "      <td>-1.220274</td>\n",
       "      <td>19.596693</td>\n",
       "      <td>22.657904</td>\n",
       "      <td>-13.205734</td>\n",
       "    </tr>\n",
       "    <tr>\n",
       "      <th>976</th>\n",
       "      <td>2002-09-03</td>\n",
       "      <td>-1.663430</td>\n",
       "      <td>18.990729</td>\n",
       "      <td>22.841573</td>\n",
       "      <td>-14.748862</td>\n",
       "    </tr>\n",
       "    <tr>\n",
       "      <th>977</th>\n",
       "      <td>2002-09-04</td>\n",
       "      <td>-2.003049</td>\n",
       "      <td>17.684110</td>\n",
       "      <td>21.616892</td>\n",
       "      <td>-14.985100</td>\n",
       "    </tr>\n",
       "    <tr>\n",
       "      <th>978</th>\n",
       "      <td>2002-09-05</td>\n",
       "      <td>-2.555064</td>\n",
       "      <td>19.252109</td>\n",
       "      <td>19.624723</td>\n",
       "      <td>-14.967937</td>\n",
       "    </tr>\n",
       "    <tr>\n",
       "      <th>979</th>\n",
       "      <td>2002-09-06</td>\n",
       "      <td>-0.834984</td>\n",
       "      <td>18.446932</td>\n",
       "      <td>20.903443</td>\n",
       "      <td>-15.006243</td>\n",
       "    </tr>\n",
       "    <tr>\n",
       "      <th>980</th>\n",
       "      <td>2002-09-07</td>\n",
       "      <td>-1.305276</td>\n",
       "      <td>18.174580</td>\n",
       "      <td>20.967335</td>\n",
       "      <td>-13.854511</td>\n",
       "    </tr>\n",
       "    <tr>\n",
       "      <th>981</th>\n",
       "      <td>2002-09-08</td>\n",
       "      <td>-0.236311</td>\n",
       "      <td>20.560124</td>\n",
       "      <td>20.406783</td>\n",
       "      <td>-14.929859</td>\n",
       "    </tr>\n",
       "    <tr>\n",
       "      <th>982</th>\n",
       "      <td>2002-09-09</td>\n",
       "      <td>0.217760</td>\n",
       "      <td>20.768745</td>\n",
       "      <td>21.113997</td>\n",
       "      <td>-15.437938</td>\n",
       "    </tr>\n",
       "    <tr>\n",
       "      <th>983</th>\n",
       "      <td>2002-09-10</td>\n",
       "      <td>0.263810</td>\n",
       "      <td>20.909682</td>\n",
       "      <td>21.628608</td>\n",
       "      <td>-14.836996</td>\n",
       "    </tr>\n",
       "    <tr>\n",
       "      <th>984</th>\n",
       "      <td>2002-09-11</td>\n",
       "      <td>-0.045086</td>\n",
       "      <td>20.733011</td>\n",
       "      <td>20.450785</td>\n",
       "      <td>-13.731032</td>\n",
       "    </tr>\n",
       "    <tr>\n",
       "      <th>985</th>\n",
       "      <td>2002-09-12</td>\n",
       "      <td>0.386088</td>\n",
       "      <td>22.525928</td>\n",
       "      <td>20.659537</td>\n",
       "      <td>-14.906732</td>\n",
       "    </tr>\n",
       "    <tr>\n",
       "      <th>986</th>\n",
       "      <td>2002-09-13</td>\n",
       "      <td>-1.472604</td>\n",
       "      <td>21.008362</td>\n",
       "      <td>19.909036</td>\n",
       "      <td>-15.873654</td>\n",
       "    </tr>\n",
       "    <tr>\n",
       "      <th>987</th>\n",
       "      <td>2002-09-14</td>\n",
       "      <td>-3.200483</td>\n",
       "      <td>20.586458</td>\n",
       "      <td>19.706054</td>\n",
       "      <td>-15.866829</td>\n",
       "    </tr>\n",
       "    <tr>\n",
       "      <th>988</th>\n",
       "      <td>2002-09-15</td>\n",
       "      <td>-1.154824</td>\n",
       "      <td>19.965278</td>\n",
       "      <td>19.266756</td>\n",
       "      <td>-16.282554</td>\n",
       "    </tr>\n",
       "    <tr>\n",
       "      <th>989</th>\n",
       "      <td>2002-09-16</td>\n",
       "      <td>1.182741</td>\n",
       "      <td>21.571619</td>\n",
       "      <td>18.953888</td>\n",
       "      <td>-16.809469</td>\n",
       "    </tr>\n",
       "    <tr>\n",
       "      <th>990</th>\n",
       "      <td>2002-09-17</td>\n",
       "      <td>2.214323</td>\n",
       "      <td>22.662537</td>\n",
       "      <td>18.751963</td>\n",
       "      <td>-16.373800</td>\n",
       "    </tr>\n",
       "    <tr>\n",
       "      <th>991</th>\n",
       "      <td>2002-09-18</td>\n",
       "      <td>2.376420</td>\n",
       "      <td>21.942537</td>\n",
       "      <td>19.768248</td>\n",
       "      <td>-16.623726</td>\n",
       "    </tr>\n",
       "    <tr>\n",
       "      <th>992</th>\n",
       "      <td>2002-09-19</td>\n",
       "      <td>2.196843</td>\n",
       "      <td>20.323581</td>\n",
       "      <td>17.751022</td>\n",
       "      <td>-17.172414</td>\n",
       "    </tr>\n",
       "    <tr>\n",
       "      <th>993</th>\n",
       "      <td>2002-09-20</td>\n",
       "      <td>0.939158</td>\n",
       "      <td>21.594622</td>\n",
       "      <td>16.396506</td>\n",
       "      <td>-15.909992</td>\n",
       "    </tr>\n",
       "    <tr>\n",
       "      <th>994</th>\n",
       "      <td>2002-09-21</td>\n",
       "      <td>1.130765</td>\n",
       "      <td>22.613222</td>\n",
       "      <td>17.067081</td>\n",
       "      <td>-16.173637</td>\n",
       "    </tr>\n",
       "    <tr>\n",
       "      <th>995</th>\n",
       "      <td>2002-09-22</td>\n",
       "      <td>0.960134</td>\n",
       "      <td>21.925778</td>\n",
       "      <td>16.836802</td>\n",
       "      <td>-15.832970</td>\n",
       "    </tr>\n",
       "    <tr>\n",
       "      <th>996</th>\n",
       "      <td>2002-09-23</td>\n",
       "      <td>2.598841</td>\n",
       "      <td>22.101945</td>\n",
       "      <td>15.914834</td>\n",
       "      <td>-15.953552</td>\n",
       "    </tr>\n",
       "    <tr>\n",
       "      <th>997</th>\n",
       "      <td>2002-09-24</td>\n",
       "      <td>2.068033</td>\n",
       "      <td>22.289543</td>\n",
       "      <td>17.041860</td>\n",
       "      <td>-15.669797</td>\n",
       "    </tr>\n",
       "    <tr>\n",
       "      <th>998</th>\n",
       "      <td>2002-09-25</td>\n",
       "      <td>2.207855</td>\n",
       "      <td>21.136925</td>\n",
       "      <td>18.641203</td>\n",
       "      <td>-15.688566</td>\n",
       "    </tr>\n",
       "    <tr>\n",
       "      <th>999</th>\n",
       "      <td>2002-09-26</td>\n",
       "      <td>1.055891</td>\n",
       "      <td>21.254911</td>\n",
       "      <td>18.633157</td>\n",
       "      <td>-15.472133</td>\n",
       "    </tr>\n",
       "  </tbody>\n",
       "</table>\n",
       "<p>1000 rows × 5 columns</p>\n",
       "</div>"
      ],
      "text/plain": [
       "     Unnamed: 0         A          B          C          D\n",
       "0    2000-01-01 -0.481145  -1.254966   1.655471   0.396352\n",
       "1    2000-01-02 -0.274419  -1.741205   1.917441  -0.231297\n",
       "2    2000-01-03 -1.047722  -0.621208   1.893727  -0.451471\n",
       "3    2000-01-04 -0.779490   0.567213   1.693032  -0.917439\n",
       "4    2000-01-05 -1.426814  -0.579532   3.281925  -1.081792\n",
       "5    2000-01-06 -1.659749  -0.650014   1.290689  -1.267807\n",
       "6    2000-01-07 -2.562125  -1.834452   1.812578   0.406422\n",
       "7    2000-01-08 -1.134207  -2.515973   2.168579   1.674675\n",
       "8    2000-01-09 -1.443832  -3.924154   2.416081   2.221967\n",
       "9    2000-01-10 -0.990812  -4.504692   3.298455   2.785920\n",
       "10   2000-01-11 -1.067805  -6.117934   4.234384   2.066399\n",
       "11   2000-01-12 -1.350890  -5.433727   5.140663   2.513274\n",
       "12   2000-01-13 -2.542996  -6.791919   6.264934   3.024485\n",
       "13   2000-01-14 -3.591527  -5.532273   6.180613   3.130578\n",
       "14   2000-01-15 -3.193803  -5.742823   6.047407   2.689179\n",
       "15   2000-01-16 -2.688179  -5.834716   6.969753   4.247628\n",
       "16   2000-01-17 -1.530983  -5.803570   7.856895   4.683952\n",
       "17   2000-01-18 -2.361584  -3.936841   6.158213   3.424326\n",
       "18   2000-01-19 -1.351763  -5.353017   6.075380   3.194787\n",
       "19   2000-01-20 -1.390061  -4.971827   6.247840   2.588380\n",
       "20   2000-01-21 -0.373518  -6.165808   6.338360   3.025539\n",
       "21   2000-01-22  0.356494  -5.537318   6.724062   4.821032\n",
       "22   2000-01-23  0.537231  -5.270548   8.649807   4.205278\n",
       "23   2000-01-24  1.379953  -4.771988   7.146579   2.207775\n",
       "24   2000-01-25  1.937751  -5.680048   7.114407   1.561776\n",
       "25   2000-01-26  0.736351  -5.125572   8.693629   1.354493\n",
       "26   2000-01-27 -0.114038  -5.963922  11.520522   0.925529\n",
       "27   2000-01-28 -0.007138  -4.974331  11.085017  -0.440763\n",
       "28   2000-01-29 -0.074987  -5.380674  10.295914   0.980039\n",
       "29   2000-01-30 -1.471970  -4.640457  10.522210   1.730103\n",
       "..          ...       ...        ...        ...        ...\n",
       "970  2002-08-28 -0.631068  20.459378  23.091759 -13.452481\n",
       "971  2002-08-29 -0.746697  21.586504  22.734441 -13.357648\n",
       "972  2002-08-30 -2.380314  20.467591  21.971396 -11.880534\n",
       "973  2002-08-31 -1.732284  20.094068  22.474841 -12.941293\n",
       "974  2002-09-01 -1.187223  20.204931  22.170088 -11.845185\n",
       "975  2002-09-02 -1.220274  19.596693  22.657904 -13.205734\n",
       "976  2002-09-03 -1.663430  18.990729  22.841573 -14.748862\n",
       "977  2002-09-04 -2.003049  17.684110  21.616892 -14.985100\n",
       "978  2002-09-05 -2.555064  19.252109  19.624723 -14.967937\n",
       "979  2002-09-06 -0.834984  18.446932  20.903443 -15.006243\n",
       "980  2002-09-07 -1.305276  18.174580  20.967335 -13.854511\n",
       "981  2002-09-08 -0.236311  20.560124  20.406783 -14.929859\n",
       "982  2002-09-09  0.217760  20.768745  21.113997 -15.437938\n",
       "983  2002-09-10  0.263810  20.909682  21.628608 -14.836996\n",
       "984  2002-09-11 -0.045086  20.733011  20.450785 -13.731032\n",
       "985  2002-09-12  0.386088  22.525928  20.659537 -14.906732\n",
       "986  2002-09-13 -1.472604  21.008362  19.909036 -15.873654\n",
       "987  2002-09-14 -3.200483  20.586458  19.706054 -15.866829\n",
       "988  2002-09-15 -1.154824  19.965278  19.266756 -16.282554\n",
       "989  2002-09-16  1.182741  21.571619  18.953888 -16.809469\n",
       "990  2002-09-17  2.214323  22.662537  18.751963 -16.373800\n",
       "991  2002-09-18  2.376420  21.942537  19.768248 -16.623726\n",
       "992  2002-09-19  2.196843  20.323581  17.751022 -17.172414\n",
       "993  2002-09-20  0.939158  21.594622  16.396506 -15.909992\n",
       "994  2002-09-21  1.130765  22.613222  17.067081 -16.173637\n",
       "995  2002-09-22  0.960134  21.925778  16.836802 -15.832970\n",
       "996  2002-09-23  2.598841  22.101945  15.914834 -15.953552\n",
       "997  2002-09-24  2.068033  22.289543  17.041860 -15.669797\n",
       "998  2002-09-25  2.207855  21.136925  18.641203 -15.688566\n",
       "999  2002-09-26  1.055891  21.254911  18.633157 -15.472133\n",
       "\n",
       "[1000 rows x 5 columns]"
      ]
     },
     "execution_count": 137,
     "metadata": {},
     "output_type": "execute_result"
    }
   ],
   "source": [
    "pd.read_csv('foo.csv')"
   ]
  },
  {
   "cell_type": "markdown",
   "metadata": {},
   "source": [
    "### 13.2. HDF5"
   ]
  },
  {
   "cell_type": "code",
   "execution_count": 138,
   "metadata": {
    "collapsed": true
   },
   "outputs": [],
   "source": [
    "df.to_hdf('foo.h5','df')"
   ]
  },
  {
   "cell_type": "code",
   "execution_count": 139,
   "metadata": {
    "collapsed": false
   },
   "outputs": [
    {
     "data": {
      "text/html": [
       "<div>\n",
       "<table border=\"1\" class=\"dataframe\">\n",
       "  <thead>\n",
       "    <tr style=\"text-align: right;\">\n",
       "      <th></th>\n",
       "      <th>A</th>\n",
       "      <th>B</th>\n",
       "      <th>C</th>\n",
       "      <th>D</th>\n",
       "    </tr>\n",
       "  </thead>\n",
       "  <tbody>\n",
       "    <tr>\n",
       "      <th>2000-01-01</th>\n",
       "      <td>-0.481145</td>\n",
       "      <td>-1.254966</td>\n",
       "      <td>1.655471</td>\n",
       "      <td>0.396352</td>\n",
       "    </tr>\n",
       "    <tr>\n",
       "      <th>2000-01-02</th>\n",
       "      <td>-0.274419</td>\n",
       "      <td>-1.741205</td>\n",
       "      <td>1.917441</td>\n",
       "      <td>-0.231297</td>\n",
       "    </tr>\n",
       "    <tr>\n",
       "      <th>2000-01-03</th>\n",
       "      <td>-1.047722</td>\n",
       "      <td>-0.621208</td>\n",
       "      <td>1.893727</td>\n",
       "      <td>-0.451471</td>\n",
       "    </tr>\n",
       "    <tr>\n",
       "      <th>2000-01-04</th>\n",
       "      <td>-0.779490</td>\n",
       "      <td>0.567213</td>\n",
       "      <td>1.693032</td>\n",
       "      <td>-0.917439</td>\n",
       "    </tr>\n",
       "    <tr>\n",
       "      <th>2000-01-05</th>\n",
       "      <td>-1.426814</td>\n",
       "      <td>-0.579532</td>\n",
       "      <td>3.281925</td>\n",
       "      <td>-1.081792</td>\n",
       "    </tr>\n",
       "    <tr>\n",
       "      <th>2000-01-06</th>\n",
       "      <td>-1.659749</td>\n",
       "      <td>-0.650014</td>\n",
       "      <td>1.290689</td>\n",
       "      <td>-1.267807</td>\n",
       "    </tr>\n",
       "    <tr>\n",
       "      <th>2000-01-07</th>\n",
       "      <td>-2.562125</td>\n",
       "      <td>-1.834452</td>\n",
       "      <td>1.812578</td>\n",
       "      <td>0.406422</td>\n",
       "    </tr>\n",
       "    <tr>\n",
       "      <th>2000-01-08</th>\n",
       "      <td>-1.134207</td>\n",
       "      <td>-2.515973</td>\n",
       "      <td>2.168579</td>\n",
       "      <td>1.674675</td>\n",
       "    </tr>\n",
       "    <tr>\n",
       "      <th>2000-01-09</th>\n",
       "      <td>-1.443832</td>\n",
       "      <td>-3.924154</td>\n",
       "      <td>2.416081</td>\n",
       "      <td>2.221967</td>\n",
       "    </tr>\n",
       "    <tr>\n",
       "      <th>2000-01-10</th>\n",
       "      <td>-0.990812</td>\n",
       "      <td>-4.504692</td>\n",
       "      <td>3.298455</td>\n",
       "      <td>2.785920</td>\n",
       "    </tr>\n",
       "    <tr>\n",
       "      <th>2000-01-11</th>\n",
       "      <td>-1.067805</td>\n",
       "      <td>-6.117934</td>\n",
       "      <td>4.234384</td>\n",
       "      <td>2.066399</td>\n",
       "    </tr>\n",
       "    <tr>\n",
       "      <th>2000-01-12</th>\n",
       "      <td>-1.350890</td>\n",
       "      <td>-5.433727</td>\n",
       "      <td>5.140663</td>\n",
       "      <td>2.513274</td>\n",
       "    </tr>\n",
       "    <tr>\n",
       "      <th>2000-01-13</th>\n",
       "      <td>-2.542996</td>\n",
       "      <td>-6.791919</td>\n",
       "      <td>6.264934</td>\n",
       "      <td>3.024485</td>\n",
       "    </tr>\n",
       "    <tr>\n",
       "      <th>2000-01-14</th>\n",
       "      <td>-3.591527</td>\n",
       "      <td>-5.532273</td>\n",
       "      <td>6.180613</td>\n",
       "      <td>3.130578</td>\n",
       "    </tr>\n",
       "    <tr>\n",
       "      <th>2000-01-15</th>\n",
       "      <td>-3.193803</td>\n",
       "      <td>-5.742823</td>\n",
       "      <td>6.047407</td>\n",
       "      <td>2.689179</td>\n",
       "    </tr>\n",
       "    <tr>\n",
       "      <th>2000-01-16</th>\n",
       "      <td>-2.688179</td>\n",
       "      <td>-5.834716</td>\n",
       "      <td>6.969753</td>\n",
       "      <td>4.247628</td>\n",
       "    </tr>\n",
       "    <tr>\n",
       "      <th>2000-01-17</th>\n",
       "      <td>-1.530983</td>\n",
       "      <td>-5.803570</td>\n",
       "      <td>7.856895</td>\n",
       "      <td>4.683952</td>\n",
       "    </tr>\n",
       "    <tr>\n",
       "      <th>2000-01-18</th>\n",
       "      <td>-2.361584</td>\n",
       "      <td>-3.936841</td>\n",
       "      <td>6.158213</td>\n",
       "      <td>3.424326</td>\n",
       "    </tr>\n",
       "    <tr>\n",
       "      <th>2000-01-19</th>\n",
       "      <td>-1.351763</td>\n",
       "      <td>-5.353017</td>\n",
       "      <td>6.075380</td>\n",
       "      <td>3.194787</td>\n",
       "    </tr>\n",
       "    <tr>\n",
       "      <th>2000-01-20</th>\n",
       "      <td>-1.390061</td>\n",
       "      <td>-4.971827</td>\n",
       "      <td>6.247840</td>\n",
       "      <td>2.588380</td>\n",
       "    </tr>\n",
       "    <tr>\n",
       "      <th>2000-01-21</th>\n",
       "      <td>-0.373518</td>\n",
       "      <td>-6.165808</td>\n",
       "      <td>6.338360</td>\n",
       "      <td>3.025539</td>\n",
       "    </tr>\n",
       "    <tr>\n",
       "      <th>2000-01-22</th>\n",
       "      <td>0.356494</td>\n",
       "      <td>-5.537318</td>\n",
       "      <td>6.724062</td>\n",
       "      <td>4.821032</td>\n",
       "    </tr>\n",
       "    <tr>\n",
       "      <th>2000-01-23</th>\n",
       "      <td>0.537231</td>\n",
       "      <td>-5.270548</td>\n",
       "      <td>8.649807</td>\n",
       "      <td>4.205278</td>\n",
       "    </tr>\n",
       "    <tr>\n",
       "      <th>2000-01-24</th>\n",
       "      <td>1.379953</td>\n",
       "      <td>-4.771988</td>\n",
       "      <td>7.146579</td>\n",
       "      <td>2.207775</td>\n",
       "    </tr>\n",
       "    <tr>\n",
       "      <th>2000-01-25</th>\n",
       "      <td>1.937751</td>\n",
       "      <td>-5.680048</td>\n",
       "      <td>7.114407</td>\n",
       "      <td>1.561776</td>\n",
       "    </tr>\n",
       "    <tr>\n",
       "      <th>2000-01-26</th>\n",
       "      <td>0.736351</td>\n",
       "      <td>-5.125572</td>\n",
       "      <td>8.693629</td>\n",
       "      <td>1.354493</td>\n",
       "    </tr>\n",
       "    <tr>\n",
       "      <th>2000-01-27</th>\n",
       "      <td>-0.114038</td>\n",
       "      <td>-5.963922</td>\n",
       "      <td>11.520522</td>\n",
       "      <td>0.925529</td>\n",
       "    </tr>\n",
       "    <tr>\n",
       "      <th>2000-01-28</th>\n",
       "      <td>-0.007138</td>\n",
       "      <td>-4.974331</td>\n",
       "      <td>11.085017</td>\n",
       "      <td>-0.440763</td>\n",
       "    </tr>\n",
       "    <tr>\n",
       "      <th>2000-01-29</th>\n",
       "      <td>-0.074987</td>\n",
       "      <td>-5.380674</td>\n",
       "      <td>10.295914</td>\n",
       "      <td>0.980039</td>\n",
       "    </tr>\n",
       "    <tr>\n",
       "      <th>2000-01-30</th>\n",
       "      <td>-1.471970</td>\n",
       "      <td>-4.640457</td>\n",
       "      <td>10.522210</td>\n",
       "      <td>1.730103</td>\n",
       "    </tr>\n",
       "    <tr>\n",
       "      <th>...</th>\n",
       "      <td>...</td>\n",
       "      <td>...</td>\n",
       "      <td>...</td>\n",
       "      <td>...</td>\n",
       "    </tr>\n",
       "    <tr>\n",
       "      <th>2002-08-28</th>\n",
       "      <td>-0.631068</td>\n",
       "      <td>20.459378</td>\n",
       "      <td>23.091759</td>\n",
       "      <td>-13.452481</td>\n",
       "    </tr>\n",
       "    <tr>\n",
       "      <th>2002-08-29</th>\n",
       "      <td>-0.746697</td>\n",
       "      <td>21.586504</td>\n",
       "      <td>22.734441</td>\n",
       "      <td>-13.357648</td>\n",
       "    </tr>\n",
       "    <tr>\n",
       "      <th>2002-08-30</th>\n",
       "      <td>-2.380314</td>\n",
       "      <td>20.467591</td>\n",
       "      <td>21.971396</td>\n",
       "      <td>-11.880534</td>\n",
       "    </tr>\n",
       "    <tr>\n",
       "      <th>2002-08-31</th>\n",
       "      <td>-1.732284</td>\n",
       "      <td>20.094068</td>\n",
       "      <td>22.474841</td>\n",
       "      <td>-12.941293</td>\n",
       "    </tr>\n",
       "    <tr>\n",
       "      <th>2002-09-01</th>\n",
       "      <td>-1.187223</td>\n",
       "      <td>20.204931</td>\n",
       "      <td>22.170088</td>\n",
       "      <td>-11.845185</td>\n",
       "    </tr>\n",
       "    <tr>\n",
       "      <th>2002-09-02</th>\n",
       "      <td>-1.220274</td>\n",
       "      <td>19.596693</td>\n",
       "      <td>22.657904</td>\n",
       "      <td>-13.205734</td>\n",
       "    </tr>\n",
       "    <tr>\n",
       "      <th>2002-09-03</th>\n",
       "      <td>-1.663430</td>\n",
       "      <td>18.990729</td>\n",
       "      <td>22.841573</td>\n",
       "      <td>-14.748862</td>\n",
       "    </tr>\n",
       "    <tr>\n",
       "      <th>2002-09-04</th>\n",
       "      <td>-2.003049</td>\n",
       "      <td>17.684110</td>\n",
       "      <td>21.616892</td>\n",
       "      <td>-14.985100</td>\n",
       "    </tr>\n",
       "    <tr>\n",
       "      <th>2002-09-05</th>\n",
       "      <td>-2.555064</td>\n",
       "      <td>19.252109</td>\n",
       "      <td>19.624723</td>\n",
       "      <td>-14.967937</td>\n",
       "    </tr>\n",
       "    <tr>\n",
       "      <th>2002-09-06</th>\n",
       "      <td>-0.834984</td>\n",
       "      <td>18.446932</td>\n",
       "      <td>20.903443</td>\n",
       "      <td>-15.006243</td>\n",
       "    </tr>\n",
       "    <tr>\n",
       "      <th>2002-09-07</th>\n",
       "      <td>-1.305276</td>\n",
       "      <td>18.174580</td>\n",
       "      <td>20.967335</td>\n",
       "      <td>-13.854511</td>\n",
       "    </tr>\n",
       "    <tr>\n",
       "      <th>2002-09-08</th>\n",
       "      <td>-0.236311</td>\n",
       "      <td>20.560124</td>\n",
       "      <td>20.406783</td>\n",
       "      <td>-14.929859</td>\n",
       "    </tr>\n",
       "    <tr>\n",
       "      <th>2002-09-09</th>\n",
       "      <td>0.217760</td>\n",
       "      <td>20.768745</td>\n",
       "      <td>21.113997</td>\n",
       "      <td>-15.437938</td>\n",
       "    </tr>\n",
       "    <tr>\n",
       "      <th>2002-09-10</th>\n",
       "      <td>0.263810</td>\n",
       "      <td>20.909682</td>\n",
       "      <td>21.628608</td>\n",
       "      <td>-14.836996</td>\n",
       "    </tr>\n",
       "    <tr>\n",
       "      <th>2002-09-11</th>\n",
       "      <td>-0.045086</td>\n",
       "      <td>20.733011</td>\n",
       "      <td>20.450785</td>\n",
       "      <td>-13.731032</td>\n",
       "    </tr>\n",
       "    <tr>\n",
       "      <th>2002-09-12</th>\n",
       "      <td>0.386088</td>\n",
       "      <td>22.525928</td>\n",
       "      <td>20.659537</td>\n",
       "      <td>-14.906732</td>\n",
       "    </tr>\n",
       "    <tr>\n",
       "      <th>2002-09-13</th>\n",
       "      <td>-1.472604</td>\n",
       "      <td>21.008362</td>\n",
       "      <td>19.909036</td>\n",
       "      <td>-15.873654</td>\n",
       "    </tr>\n",
       "    <tr>\n",
       "      <th>2002-09-14</th>\n",
       "      <td>-3.200483</td>\n",
       "      <td>20.586458</td>\n",
       "      <td>19.706054</td>\n",
       "      <td>-15.866829</td>\n",
       "    </tr>\n",
       "    <tr>\n",
       "      <th>2002-09-15</th>\n",
       "      <td>-1.154824</td>\n",
       "      <td>19.965278</td>\n",
       "      <td>19.266756</td>\n",
       "      <td>-16.282554</td>\n",
       "    </tr>\n",
       "    <tr>\n",
       "      <th>2002-09-16</th>\n",
       "      <td>1.182741</td>\n",
       "      <td>21.571619</td>\n",
       "      <td>18.953888</td>\n",
       "      <td>-16.809469</td>\n",
       "    </tr>\n",
       "    <tr>\n",
       "      <th>2002-09-17</th>\n",
       "      <td>2.214323</td>\n",
       "      <td>22.662537</td>\n",
       "      <td>18.751963</td>\n",
       "      <td>-16.373800</td>\n",
       "    </tr>\n",
       "    <tr>\n",
       "      <th>2002-09-18</th>\n",
       "      <td>2.376420</td>\n",
       "      <td>21.942537</td>\n",
       "      <td>19.768248</td>\n",
       "      <td>-16.623726</td>\n",
       "    </tr>\n",
       "    <tr>\n",
       "      <th>2002-09-19</th>\n",
       "      <td>2.196843</td>\n",
       "      <td>20.323581</td>\n",
       "      <td>17.751022</td>\n",
       "      <td>-17.172414</td>\n",
       "    </tr>\n",
       "    <tr>\n",
       "      <th>2002-09-20</th>\n",
       "      <td>0.939158</td>\n",
       "      <td>21.594622</td>\n",
       "      <td>16.396506</td>\n",
       "      <td>-15.909992</td>\n",
       "    </tr>\n",
       "    <tr>\n",
       "      <th>2002-09-21</th>\n",
       "      <td>1.130765</td>\n",
       "      <td>22.613222</td>\n",
       "      <td>17.067081</td>\n",
       "      <td>-16.173637</td>\n",
       "    </tr>\n",
       "    <tr>\n",
       "      <th>2002-09-22</th>\n",
       "      <td>0.960134</td>\n",
       "      <td>21.925778</td>\n",
       "      <td>16.836802</td>\n",
       "      <td>-15.832970</td>\n",
       "    </tr>\n",
       "    <tr>\n",
       "      <th>2002-09-23</th>\n",
       "      <td>2.598841</td>\n",
       "      <td>22.101945</td>\n",
       "      <td>15.914834</td>\n",
       "      <td>-15.953552</td>\n",
       "    </tr>\n",
       "    <tr>\n",
       "      <th>2002-09-24</th>\n",
       "      <td>2.068033</td>\n",
       "      <td>22.289543</td>\n",
       "      <td>17.041860</td>\n",
       "      <td>-15.669797</td>\n",
       "    </tr>\n",
       "    <tr>\n",
       "      <th>2002-09-25</th>\n",
       "      <td>2.207855</td>\n",
       "      <td>21.136925</td>\n",
       "      <td>18.641203</td>\n",
       "      <td>-15.688566</td>\n",
       "    </tr>\n",
       "    <tr>\n",
       "      <th>2002-09-26</th>\n",
       "      <td>1.055891</td>\n",
       "      <td>21.254911</td>\n",
       "      <td>18.633157</td>\n",
       "      <td>-15.472133</td>\n",
       "    </tr>\n",
       "  </tbody>\n",
       "</table>\n",
       "<p>1000 rows × 4 columns</p>\n",
       "</div>"
      ],
      "text/plain": [
       "                   A          B          C          D\n",
       "2000-01-01 -0.481145  -1.254966   1.655471   0.396352\n",
       "2000-01-02 -0.274419  -1.741205   1.917441  -0.231297\n",
       "2000-01-03 -1.047722  -0.621208   1.893727  -0.451471\n",
       "2000-01-04 -0.779490   0.567213   1.693032  -0.917439\n",
       "2000-01-05 -1.426814  -0.579532   3.281925  -1.081792\n",
       "2000-01-06 -1.659749  -0.650014   1.290689  -1.267807\n",
       "2000-01-07 -2.562125  -1.834452   1.812578   0.406422\n",
       "2000-01-08 -1.134207  -2.515973   2.168579   1.674675\n",
       "2000-01-09 -1.443832  -3.924154   2.416081   2.221967\n",
       "2000-01-10 -0.990812  -4.504692   3.298455   2.785920\n",
       "2000-01-11 -1.067805  -6.117934   4.234384   2.066399\n",
       "2000-01-12 -1.350890  -5.433727   5.140663   2.513274\n",
       "2000-01-13 -2.542996  -6.791919   6.264934   3.024485\n",
       "2000-01-14 -3.591527  -5.532273   6.180613   3.130578\n",
       "2000-01-15 -3.193803  -5.742823   6.047407   2.689179\n",
       "2000-01-16 -2.688179  -5.834716   6.969753   4.247628\n",
       "2000-01-17 -1.530983  -5.803570   7.856895   4.683952\n",
       "2000-01-18 -2.361584  -3.936841   6.158213   3.424326\n",
       "2000-01-19 -1.351763  -5.353017   6.075380   3.194787\n",
       "2000-01-20 -1.390061  -4.971827   6.247840   2.588380\n",
       "2000-01-21 -0.373518  -6.165808   6.338360   3.025539\n",
       "2000-01-22  0.356494  -5.537318   6.724062   4.821032\n",
       "2000-01-23  0.537231  -5.270548   8.649807   4.205278\n",
       "2000-01-24  1.379953  -4.771988   7.146579   2.207775\n",
       "2000-01-25  1.937751  -5.680048   7.114407   1.561776\n",
       "2000-01-26  0.736351  -5.125572   8.693629   1.354493\n",
       "2000-01-27 -0.114038  -5.963922  11.520522   0.925529\n",
       "2000-01-28 -0.007138  -4.974331  11.085017  -0.440763\n",
       "2000-01-29 -0.074987  -5.380674  10.295914   0.980039\n",
       "2000-01-30 -1.471970  -4.640457  10.522210   1.730103\n",
       "...              ...        ...        ...        ...\n",
       "2002-08-28 -0.631068  20.459378  23.091759 -13.452481\n",
       "2002-08-29 -0.746697  21.586504  22.734441 -13.357648\n",
       "2002-08-30 -2.380314  20.467591  21.971396 -11.880534\n",
       "2002-08-31 -1.732284  20.094068  22.474841 -12.941293\n",
       "2002-09-01 -1.187223  20.204931  22.170088 -11.845185\n",
       "2002-09-02 -1.220274  19.596693  22.657904 -13.205734\n",
       "2002-09-03 -1.663430  18.990729  22.841573 -14.748862\n",
       "2002-09-04 -2.003049  17.684110  21.616892 -14.985100\n",
       "2002-09-05 -2.555064  19.252109  19.624723 -14.967937\n",
       "2002-09-06 -0.834984  18.446932  20.903443 -15.006243\n",
       "2002-09-07 -1.305276  18.174580  20.967335 -13.854511\n",
       "2002-09-08 -0.236311  20.560124  20.406783 -14.929859\n",
       "2002-09-09  0.217760  20.768745  21.113997 -15.437938\n",
       "2002-09-10  0.263810  20.909682  21.628608 -14.836996\n",
       "2002-09-11 -0.045086  20.733011  20.450785 -13.731032\n",
       "2002-09-12  0.386088  22.525928  20.659537 -14.906732\n",
       "2002-09-13 -1.472604  21.008362  19.909036 -15.873654\n",
       "2002-09-14 -3.200483  20.586458  19.706054 -15.866829\n",
       "2002-09-15 -1.154824  19.965278  19.266756 -16.282554\n",
       "2002-09-16  1.182741  21.571619  18.953888 -16.809469\n",
       "2002-09-17  2.214323  22.662537  18.751963 -16.373800\n",
       "2002-09-18  2.376420  21.942537  19.768248 -16.623726\n",
       "2002-09-19  2.196843  20.323581  17.751022 -17.172414\n",
       "2002-09-20  0.939158  21.594622  16.396506 -15.909992\n",
       "2002-09-21  1.130765  22.613222  17.067081 -16.173637\n",
       "2002-09-22  0.960134  21.925778  16.836802 -15.832970\n",
       "2002-09-23  2.598841  22.101945  15.914834 -15.953552\n",
       "2002-09-24  2.068033  22.289543  17.041860 -15.669797\n",
       "2002-09-25  2.207855  21.136925  18.641203 -15.688566\n",
       "2002-09-26  1.055891  21.254911  18.633157 -15.472133\n",
       "\n",
       "[1000 rows x 4 columns]"
      ]
     },
     "execution_count": 139,
     "metadata": {},
     "output_type": "execute_result"
    }
   ],
   "source": [
    "pd.read_hdf('foo.h5','df')"
   ]
  },
  {
   "cell_type": "markdown",
   "metadata": {},
   "source": [
    "### 13.3. Excel"
   ]
  },
  {
   "cell_type": "code",
   "execution_count": 140,
   "metadata": {
    "collapsed": true
   },
   "outputs": [],
   "source": [
    "df.to_excel('foo.xlsx', sheet_name='Sheet1')"
   ]
  },
  {
   "cell_type": "code",
   "execution_count": 141,
   "metadata": {
    "collapsed": false
   },
   "outputs": [
    {
     "data": {
      "text/html": [
       "<div>\n",
       "<table border=\"1\" class=\"dataframe\">\n",
       "  <thead>\n",
       "    <tr style=\"text-align: right;\">\n",
       "      <th></th>\n",
       "      <th>A</th>\n",
       "      <th>B</th>\n",
       "      <th>C</th>\n",
       "      <th>D</th>\n",
       "    </tr>\n",
       "  </thead>\n",
       "  <tbody>\n",
       "    <tr>\n",
       "      <th>2000-01-01</th>\n",
       "      <td>-0.481145</td>\n",
       "      <td>-1.254966</td>\n",
       "      <td>1.655471</td>\n",
       "      <td>0.396352</td>\n",
       "    </tr>\n",
       "    <tr>\n",
       "      <th>2000-01-02</th>\n",
       "      <td>-0.274419</td>\n",
       "      <td>-1.741205</td>\n",
       "      <td>1.917441</td>\n",
       "      <td>-0.231297</td>\n",
       "    </tr>\n",
       "    <tr>\n",
       "      <th>2000-01-03</th>\n",
       "      <td>-1.047722</td>\n",
       "      <td>-0.621208</td>\n",
       "      <td>1.893727</td>\n",
       "      <td>-0.451471</td>\n",
       "    </tr>\n",
       "    <tr>\n",
       "      <th>2000-01-04</th>\n",
       "      <td>-0.779490</td>\n",
       "      <td>0.567213</td>\n",
       "      <td>1.693032</td>\n",
       "      <td>-0.917439</td>\n",
       "    </tr>\n",
       "    <tr>\n",
       "      <th>2000-01-05</th>\n",
       "      <td>-1.426814</td>\n",
       "      <td>-0.579532</td>\n",
       "      <td>3.281925</td>\n",
       "      <td>-1.081792</td>\n",
       "    </tr>\n",
       "    <tr>\n",
       "      <th>2000-01-06</th>\n",
       "      <td>-1.659749</td>\n",
       "      <td>-0.650014</td>\n",
       "      <td>1.290689</td>\n",
       "      <td>-1.267807</td>\n",
       "    </tr>\n",
       "    <tr>\n",
       "      <th>2000-01-07</th>\n",
       "      <td>-2.562125</td>\n",
       "      <td>-1.834452</td>\n",
       "      <td>1.812578</td>\n",
       "      <td>0.406422</td>\n",
       "    </tr>\n",
       "    <tr>\n",
       "      <th>2000-01-08</th>\n",
       "      <td>-1.134207</td>\n",
       "      <td>-2.515973</td>\n",
       "      <td>2.168579</td>\n",
       "      <td>1.674675</td>\n",
       "    </tr>\n",
       "    <tr>\n",
       "      <th>2000-01-09</th>\n",
       "      <td>-1.443832</td>\n",
       "      <td>-3.924154</td>\n",
       "      <td>2.416081</td>\n",
       "      <td>2.221967</td>\n",
       "    </tr>\n",
       "    <tr>\n",
       "      <th>2000-01-10</th>\n",
       "      <td>-0.990812</td>\n",
       "      <td>-4.504692</td>\n",
       "      <td>3.298455</td>\n",
       "      <td>2.785920</td>\n",
       "    </tr>\n",
       "    <tr>\n",
       "      <th>2000-01-11</th>\n",
       "      <td>-1.067805</td>\n",
       "      <td>-6.117934</td>\n",
       "      <td>4.234384</td>\n",
       "      <td>2.066399</td>\n",
       "    </tr>\n",
       "    <tr>\n",
       "      <th>2000-01-12</th>\n",
       "      <td>-1.350890</td>\n",
       "      <td>-5.433727</td>\n",
       "      <td>5.140663</td>\n",
       "      <td>2.513274</td>\n",
       "    </tr>\n",
       "    <tr>\n",
       "      <th>2000-01-13</th>\n",
       "      <td>-2.542996</td>\n",
       "      <td>-6.791919</td>\n",
       "      <td>6.264934</td>\n",
       "      <td>3.024485</td>\n",
       "    </tr>\n",
       "    <tr>\n",
       "      <th>2000-01-14</th>\n",
       "      <td>-3.591527</td>\n",
       "      <td>-5.532273</td>\n",
       "      <td>6.180613</td>\n",
       "      <td>3.130578</td>\n",
       "    </tr>\n",
       "    <tr>\n",
       "      <th>2000-01-15</th>\n",
       "      <td>-3.193803</td>\n",
       "      <td>-5.742823</td>\n",
       "      <td>6.047407</td>\n",
       "      <td>2.689179</td>\n",
       "    </tr>\n",
       "    <tr>\n",
       "      <th>2000-01-16</th>\n",
       "      <td>-2.688179</td>\n",
       "      <td>-5.834716</td>\n",
       "      <td>6.969753</td>\n",
       "      <td>4.247628</td>\n",
       "    </tr>\n",
       "    <tr>\n",
       "      <th>2000-01-17</th>\n",
       "      <td>-1.530983</td>\n",
       "      <td>-5.803570</td>\n",
       "      <td>7.856895</td>\n",
       "      <td>4.683952</td>\n",
       "    </tr>\n",
       "    <tr>\n",
       "      <th>2000-01-18</th>\n",
       "      <td>-2.361584</td>\n",
       "      <td>-3.936841</td>\n",
       "      <td>6.158213</td>\n",
       "      <td>3.424326</td>\n",
       "    </tr>\n",
       "    <tr>\n",
       "      <th>2000-01-19</th>\n",
       "      <td>-1.351763</td>\n",
       "      <td>-5.353017</td>\n",
       "      <td>6.075380</td>\n",
       "      <td>3.194787</td>\n",
       "    </tr>\n",
       "    <tr>\n",
       "      <th>2000-01-20</th>\n",
       "      <td>-1.390061</td>\n",
       "      <td>-4.971827</td>\n",
       "      <td>6.247840</td>\n",
       "      <td>2.588380</td>\n",
       "    </tr>\n",
       "    <tr>\n",
       "      <th>2000-01-21</th>\n",
       "      <td>-0.373518</td>\n",
       "      <td>-6.165808</td>\n",
       "      <td>6.338360</td>\n",
       "      <td>3.025539</td>\n",
       "    </tr>\n",
       "    <tr>\n",
       "      <th>2000-01-22</th>\n",
       "      <td>0.356494</td>\n",
       "      <td>-5.537318</td>\n",
       "      <td>6.724062</td>\n",
       "      <td>4.821032</td>\n",
       "    </tr>\n",
       "    <tr>\n",
       "      <th>2000-01-23</th>\n",
       "      <td>0.537231</td>\n",
       "      <td>-5.270548</td>\n",
       "      <td>8.649807</td>\n",
       "      <td>4.205278</td>\n",
       "    </tr>\n",
       "    <tr>\n",
       "      <th>2000-01-24</th>\n",
       "      <td>1.379953</td>\n",
       "      <td>-4.771988</td>\n",
       "      <td>7.146579</td>\n",
       "      <td>2.207775</td>\n",
       "    </tr>\n",
       "    <tr>\n",
       "      <th>2000-01-25</th>\n",
       "      <td>1.937751</td>\n",
       "      <td>-5.680048</td>\n",
       "      <td>7.114407</td>\n",
       "      <td>1.561776</td>\n",
       "    </tr>\n",
       "    <tr>\n",
       "      <th>2000-01-26</th>\n",
       "      <td>0.736351</td>\n",
       "      <td>-5.125572</td>\n",
       "      <td>8.693629</td>\n",
       "      <td>1.354493</td>\n",
       "    </tr>\n",
       "    <tr>\n",
       "      <th>2000-01-27</th>\n",
       "      <td>-0.114038</td>\n",
       "      <td>-5.963922</td>\n",
       "      <td>11.520522</td>\n",
       "      <td>0.925529</td>\n",
       "    </tr>\n",
       "    <tr>\n",
       "      <th>2000-01-28</th>\n",
       "      <td>-0.007138</td>\n",
       "      <td>-4.974331</td>\n",
       "      <td>11.085017</td>\n",
       "      <td>-0.440763</td>\n",
       "    </tr>\n",
       "    <tr>\n",
       "      <th>2000-01-29</th>\n",
       "      <td>-0.074987</td>\n",
       "      <td>-5.380674</td>\n",
       "      <td>10.295914</td>\n",
       "      <td>0.980039</td>\n",
       "    </tr>\n",
       "    <tr>\n",
       "      <th>2000-01-30</th>\n",
       "      <td>-1.471970</td>\n",
       "      <td>-4.640457</td>\n",
       "      <td>10.522210</td>\n",
       "      <td>1.730103</td>\n",
       "    </tr>\n",
       "    <tr>\n",
       "      <th>...</th>\n",
       "      <td>...</td>\n",
       "      <td>...</td>\n",
       "      <td>...</td>\n",
       "      <td>...</td>\n",
       "    </tr>\n",
       "    <tr>\n",
       "      <th>2002-08-28</th>\n",
       "      <td>-0.631068</td>\n",
       "      <td>20.459378</td>\n",
       "      <td>23.091759</td>\n",
       "      <td>-13.452481</td>\n",
       "    </tr>\n",
       "    <tr>\n",
       "      <th>2002-08-29</th>\n",
       "      <td>-0.746697</td>\n",
       "      <td>21.586504</td>\n",
       "      <td>22.734441</td>\n",
       "      <td>-13.357648</td>\n",
       "    </tr>\n",
       "    <tr>\n",
       "      <th>2002-08-30</th>\n",
       "      <td>-2.380314</td>\n",
       "      <td>20.467591</td>\n",
       "      <td>21.971396</td>\n",
       "      <td>-11.880534</td>\n",
       "    </tr>\n",
       "    <tr>\n",
       "      <th>2002-08-31</th>\n",
       "      <td>-1.732284</td>\n",
       "      <td>20.094068</td>\n",
       "      <td>22.474841</td>\n",
       "      <td>-12.941293</td>\n",
       "    </tr>\n",
       "    <tr>\n",
       "      <th>2002-09-01</th>\n",
       "      <td>-1.187223</td>\n",
       "      <td>20.204931</td>\n",
       "      <td>22.170088</td>\n",
       "      <td>-11.845185</td>\n",
       "    </tr>\n",
       "    <tr>\n",
       "      <th>2002-09-02</th>\n",
       "      <td>-1.220274</td>\n",
       "      <td>19.596693</td>\n",
       "      <td>22.657904</td>\n",
       "      <td>-13.205734</td>\n",
       "    </tr>\n",
       "    <tr>\n",
       "      <th>2002-09-03</th>\n",
       "      <td>-1.663430</td>\n",
       "      <td>18.990729</td>\n",
       "      <td>22.841573</td>\n",
       "      <td>-14.748862</td>\n",
       "    </tr>\n",
       "    <tr>\n",
       "      <th>2002-09-04</th>\n",
       "      <td>-2.003049</td>\n",
       "      <td>17.684110</td>\n",
       "      <td>21.616892</td>\n",
       "      <td>-14.985100</td>\n",
       "    </tr>\n",
       "    <tr>\n",
       "      <th>2002-09-05</th>\n",
       "      <td>-2.555064</td>\n",
       "      <td>19.252109</td>\n",
       "      <td>19.624723</td>\n",
       "      <td>-14.967937</td>\n",
       "    </tr>\n",
       "    <tr>\n",
       "      <th>2002-09-06</th>\n",
       "      <td>-0.834984</td>\n",
       "      <td>18.446932</td>\n",
       "      <td>20.903443</td>\n",
       "      <td>-15.006243</td>\n",
       "    </tr>\n",
       "    <tr>\n",
       "      <th>2002-09-07</th>\n",
       "      <td>-1.305276</td>\n",
       "      <td>18.174580</td>\n",
       "      <td>20.967335</td>\n",
       "      <td>-13.854511</td>\n",
       "    </tr>\n",
       "    <tr>\n",
       "      <th>2002-09-08</th>\n",
       "      <td>-0.236311</td>\n",
       "      <td>20.560124</td>\n",
       "      <td>20.406783</td>\n",
       "      <td>-14.929859</td>\n",
       "    </tr>\n",
       "    <tr>\n",
       "      <th>2002-09-09</th>\n",
       "      <td>0.217760</td>\n",
       "      <td>20.768745</td>\n",
       "      <td>21.113997</td>\n",
       "      <td>-15.437938</td>\n",
       "    </tr>\n",
       "    <tr>\n",
       "      <th>2002-09-10</th>\n",
       "      <td>0.263810</td>\n",
       "      <td>20.909682</td>\n",
       "      <td>21.628608</td>\n",
       "      <td>-14.836996</td>\n",
       "    </tr>\n",
       "    <tr>\n",
       "      <th>2002-09-11</th>\n",
       "      <td>-0.045086</td>\n",
       "      <td>20.733011</td>\n",
       "      <td>20.450785</td>\n",
       "      <td>-13.731032</td>\n",
       "    </tr>\n",
       "    <tr>\n",
       "      <th>2002-09-12</th>\n",
       "      <td>0.386088</td>\n",
       "      <td>22.525928</td>\n",
       "      <td>20.659537</td>\n",
       "      <td>-14.906732</td>\n",
       "    </tr>\n",
       "    <tr>\n",
       "      <th>2002-09-13</th>\n",
       "      <td>-1.472604</td>\n",
       "      <td>21.008362</td>\n",
       "      <td>19.909036</td>\n",
       "      <td>-15.873654</td>\n",
       "    </tr>\n",
       "    <tr>\n",
       "      <th>2002-09-14</th>\n",
       "      <td>-3.200483</td>\n",
       "      <td>20.586458</td>\n",
       "      <td>19.706054</td>\n",
       "      <td>-15.866829</td>\n",
       "    </tr>\n",
       "    <tr>\n",
       "      <th>2002-09-15</th>\n",
       "      <td>-1.154824</td>\n",
       "      <td>19.965278</td>\n",
       "      <td>19.266756</td>\n",
       "      <td>-16.282554</td>\n",
       "    </tr>\n",
       "    <tr>\n",
       "      <th>2002-09-16</th>\n",
       "      <td>1.182741</td>\n",
       "      <td>21.571619</td>\n",
       "      <td>18.953888</td>\n",
       "      <td>-16.809469</td>\n",
       "    </tr>\n",
       "    <tr>\n",
       "      <th>2002-09-17</th>\n",
       "      <td>2.214323</td>\n",
       "      <td>22.662537</td>\n",
       "      <td>18.751963</td>\n",
       "      <td>-16.373800</td>\n",
       "    </tr>\n",
       "    <tr>\n",
       "      <th>2002-09-18</th>\n",
       "      <td>2.376420</td>\n",
       "      <td>21.942537</td>\n",
       "      <td>19.768248</td>\n",
       "      <td>-16.623726</td>\n",
       "    </tr>\n",
       "    <tr>\n",
       "      <th>2002-09-19</th>\n",
       "      <td>2.196843</td>\n",
       "      <td>20.323581</td>\n",
       "      <td>17.751022</td>\n",
       "      <td>-17.172414</td>\n",
       "    </tr>\n",
       "    <tr>\n",
       "      <th>2002-09-20</th>\n",
       "      <td>0.939158</td>\n",
       "      <td>21.594622</td>\n",
       "      <td>16.396506</td>\n",
       "      <td>-15.909992</td>\n",
       "    </tr>\n",
       "    <tr>\n",
       "      <th>2002-09-21</th>\n",
       "      <td>1.130765</td>\n",
       "      <td>22.613222</td>\n",
       "      <td>17.067081</td>\n",
       "      <td>-16.173637</td>\n",
       "    </tr>\n",
       "    <tr>\n",
       "      <th>2002-09-22</th>\n",
       "      <td>0.960134</td>\n",
       "      <td>21.925778</td>\n",
       "      <td>16.836802</td>\n",
       "      <td>-15.832970</td>\n",
       "    </tr>\n",
       "    <tr>\n",
       "      <th>2002-09-23</th>\n",
       "      <td>2.598841</td>\n",
       "      <td>22.101945</td>\n",
       "      <td>15.914834</td>\n",
       "      <td>-15.953552</td>\n",
       "    </tr>\n",
       "    <tr>\n",
       "      <th>2002-09-24</th>\n",
       "      <td>2.068033</td>\n",
       "      <td>22.289543</td>\n",
       "      <td>17.041860</td>\n",
       "      <td>-15.669797</td>\n",
       "    </tr>\n",
       "    <tr>\n",
       "      <th>2002-09-25</th>\n",
       "      <td>2.207855</td>\n",
       "      <td>21.136925</td>\n",
       "      <td>18.641203</td>\n",
       "      <td>-15.688566</td>\n",
       "    </tr>\n",
       "    <tr>\n",
       "      <th>2002-09-26</th>\n",
       "      <td>1.055891</td>\n",
       "      <td>21.254911</td>\n",
       "      <td>18.633157</td>\n",
       "      <td>-15.472133</td>\n",
       "    </tr>\n",
       "  </tbody>\n",
       "</table>\n",
       "<p>1000 rows × 4 columns</p>\n",
       "</div>"
      ],
      "text/plain": [
       "                   A          B          C          D\n",
       "2000-01-01 -0.481145  -1.254966   1.655471   0.396352\n",
       "2000-01-02 -0.274419  -1.741205   1.917441  -0.231297\n",
       "2000-01-03 -1.047722  -0.621208   1.893727  -0.451471\n",
       "2000-01-04 -0.779490   0.567213   1.693032  -0.917439\n",
       "2000-01-05 -1.426814  -0.579532   3.281925  -1.081792\n",
       "2000-01-06 -1.659749  -0.650014   1.290689  -1.267807\n",
       "2000-01-07 -2.562125  -1.834452   1.812578   0.406422\n",
       "2000-01-08 -1.134207  -2.515973   2.168579   1.674675\n",
       "2000-01-09 -1.443832  -3.924154   2.416081   2.221967\n",
       "2000-01-10 -0.990812  -4.504692   3.298455   2.785920\n",
       "2000-01-11 -1.067805  -6.117934   4.234384   2.066399\n",
       "2000-01-12 -1.350890  -5.433727   5.140663   2.513274\n",
       "2000-01-13 -2.542996  -6.791919   6.264934   3.024485\n",
       "2000-01-14 -3.591527  -5.532273   6.180613   3.130578\n",
       "2000-01-15 -3.193803  -5.742823   6.047407   2.689179\n",
       "2000-01-16 -2.688179  -5.834716   6.969753   4.247628\n",
       "2000-01-17 -1.530983  -5.803570   7.856895   4.683952\n",
       "2000-01-18 -2.361584  -3.936841   6.158213   3.424326\n",
       "2000-01-19 -1.351763  -5.353017   6.075380   3.194787\n",
       "2000-01-20 -1.390061  -4.971827   6.247840   2.588380\n",
       "2000-01-21 -0.373518  -6.165808   6.338360   3.025539\n",
       "2000-01-22  0.356494  -5.537318   6.724062   4.821032\n",
       "2000-01-23  0.537231  -5.270548   8.649807   4.205278\n",
       "2000-01-24  1.379953  -4.771988   7.146579   2.207775\n",
       "2000-01-25  1.937751  -5.680048   7.114407   1.561776\n",
       "2000-01-26  0.736351  -5.125572   8.693629   1.354493\n",
       "2000-01-27 -0.114038  -5.963922  11.520522   0.925529\n",
       "2000-01-28 -0.007138  -4.974331  11.085017  -0.440763\n",
       "2000-01-29 -0.074987  -5.380674  10.295914   0.980039\n",
       "2000-01-30 -1.471970  -4.640457  10.522210   1.730103\n",
       "...              ...        ...        ...        ...\n",
       "2002-08-28 -0.631068  20.459378  23.091759 -13.452481\n",
       "2002-08-29 -0.746697  21.586504  22.734441 -13.357648\n",
       "2002-08-30 -2.380314  20.467591  21.971396 -11.880534\n",
       "2002-08-31 -1.732284  20.094068  22.474841 -12.941293\n",
       "2002-09-01 -1.187223  20.204931  22.170088 -11.845185\n",
       "2002-09-02 -1.220274  19.596693  22.657904 -13.205734\n",
       "2002-09-03 -1.663430  18.990729  22.841573 -14.748862\n",
       "2002-09-04 -2.003049  17.684110  21.616892 -14.985100\n",
       "2002-09-05 -2.555064  19.252109  19.624723 -14.967937\n",
       "2002-09-06 -0.834984  18.446932  20.903443 -15.006243\n",
       "2002-09-07 -1.305276  18.174580  20.967335 -13.854511\n",
       "2002-09-08 -0.236311  20.560124  20.406783 -14.929859\n",
       "2002-09-09  0.217760  20.768745  21.113997 -15.437938\n",
       "2002-09-10  0.263810  20.909682  21.628608 -14.836996\n",
       "2002-09-11 -0.045086  20.733011  20.450785 -13.731032\n",
       "2002-09-12  0.386088  22.525928  20.659537 -14.906732\n",
       "2002-09-13 -1.472604  21.008362  19.909036 -15.873654\n",
       "2002-09-14 -3.200483  20.586458  19.706054 -15.866829\n",
       "2002-09-15 -1.154824  19.965278  19.266756 -16.282554\n",
       "2002-09-16  1.182741  21.571619  18.953888 -16.809469\n",
       "2002-09-17  2.214323  22.662537  18.751963 -16.373800\n",
       "2002-09-18  2.376420  21.942537  19.768248 -16.623726\n",
       "2002-09-19  2.196843  20.323581  17.751022 -17.172414\n",
       "2002-09-20  0.939158  21.594622  16.396506 -15.909992\n",
       "2002-09-21  1.130765  22.613222  17.067081 -16.173637\n",
       "2002-09-22  0.960134  21.925778  16.836802 -15.832970\n",
       "2002-09-23  2.598841  22.101945  15.914834 -15.953552\n",
       "2002-09-24  2.068033  22.289543  17.041860 -15.669797\n",
       "2002-09-25  2.207855  21.136925  18.641203 -15.688566\n",
       "2002-09-26  1.055891  21.254911  18.633157 -15.472133\n",
       "\n",
       "[1000 rows x 4 columns]"
      ]
     },
     "execution_count": 141,
     "metadata": {},
     "output_type": "execute_result"
    }
   ],
   "source": [
    "pd.read_excel('foo.xlsx', 'Sheet1', index_col=None, na_values=['NA'])"
   ]
  },
  {
   "cell_type": "markdown",
   "metadata": {},
   "source": [
    "## 14. Gotchas"
   ]
  },
  {
   "cell_type": "code",
   "execution_count": null,
   "metadata": {
    "collapsed": true
   },
   "outputs": [],
   "source": []
  }
 ],
 "metadata": {
  "anaconda-cloud": {},
  "kernelspec": {
   "display_name": "Python [conda root]",
   "language": "python",
   "name": "conda-root-py"
  },
  "language_info": {
   "codemirror_mode": {
    "name": "ipython",
    "version": 2
   },
   "file_extension": ".py",
   "mimetype": "text/x-python",
   "name": "python",
   "nbconvert_exporter": "python",
   "pygments_lexer": "ipython2",
   "version": "2.7.12"
  }
 },
 "nbformat": 4,
 "nbformat_minor": 0
}
