{
 "cells": [
  {
   "cell_type": "markdown",
   "metadata": {},
   "source": [
    "# 1주차 과제\n",
    "***\n",
    "\n",
    "## 1. import"
   ]
  },
  {
   "cell_type": "code",
   "execution_count": 1,
   "metadata": {
    "collapsed": true
   },
   "outputs": [],
   "source": [
    "import pandas as pd"
   ]
  },
  {
   "cell_type": "code",
   "execution_count": 2,
   "metadata": {
    "collapsed": true
   },
   "outputs": [],
   "source": [
    "import numpy as np"
   ]
  },
  {
   "cell_type": "code",
   "execution_count": 3,
   "metadata": {
    "collapsed": true
   },
   "outputs": [],
   "source": [
    "import matplotlib.pyplot as plt"
   ]
  },
  {
   "cell_type": "markdown",
   "metadata": {},
   "source": [
    "***\n",
    "## 2. Object Creation"
   ]
  },
  {
   "cell_type": "code",
   "execution_count": 4,
   "metadata": {
    "collapsed": true
   },
   "outputs": [],
   "source": [
    "s = pd.Series([1,3,5,np.nan,6,8])"
   ]
  },
  {
   "cell_type": "code",
   "execution_count": 5,
   "metadata": {
    "collapsed": false
   },
   "outputs": [
    {
     "data": {
      "text/plain": [
       "0    1.0\n",
       "1    3.0\n",
       "2    5.0\n",
       "3    NaN\n",
       "4    6.0\n",
       "5    8.0\n",
       "dtype: float64"
      ]
     },
     "execution_count": 5,
     "metadata": {},
     "output_type": "execute_result"
    }
   ],
   "source": [
    "s"
   ]
  },
  {
   "cell_type": "code",
   "execution_count": 6,
   "metadata": {
    "collapsed": true
   },
   "outputs": [],
   "source": [
    "dates = pd.date_range('20160101', periods=6)"
   ]
  },
  {
   "cell_type": "code",
   "execution_count": 7,
   "metadata": {
    "collapsed": false
   },
   "outputs": [
    {
     "data": {
      "text/plain": [
       "DatetimeIndex(['2016-01-01', '2016-01-02', '2016-01-03', '2016-01-04',\n",
       "               '2016-01-05', '2016-01-06'],\n",
       "              dtype='datetime64[ns]', freq='D')"
      ]
     },
     "execution_count": 7,
     "metadata": {},
     "output_type": "execute_result"
    }
   ],
   "source": [
    "dates"
   ]
  },
  {
   "cell_type": "code",
   "execution_count": 8,
   "metadata": {
    "collapsed": true
   },
   "outputs": [],
   "source": [
    "df = pd.DataFrame(np.random.randn(6,4), index=dates, columns=list('ABCD'))"
   ]
  },
  {
   "cell_type": "code",
   "execution_count": 9,
   "metadata": {
    "collapsed": false
   },
   "outputs": [
    {
     "data": {
      "text/html": [
       "<div>\n",
       "<table border=\"1\" class=\"dataframe\">\n",
       "  <thead>\n",
       "    <tr style=\"text-align: right;\">\n",
       "      <th></th>\n",
       "      <th>A</th>\n",
       "      <th>B</th>\n",
       "      <th>C</th>\n",
       "      <th>D</th>\n",
       "    </tr>\n",
       "  </thead>\n",
       "  <tbody>\n",
       "    <tr>\n",
       "      <th>2016-01-01</th>\n",
       "      <td>0.473781</td>\n",
       "      <td>-1.010233</td>\n",
       "      <td>-1.613558</td>\n",
       "      <td>0.861746</td>\n",
       "    </tr>\n",
       "    <tr>\n",
       "      <th>2016-01-02</th>\n",
       "      <td>-0.862746</td>\n",
       "      <td>-0.805507</td>\n",
       "      <td>1.244406</td>\n",
       "      <td>-1.167155</td>\n",
       "    </tr>\n",
       "    <tr>\n",
       "      <th>2016-01-03</th>\n",
       "      <td>1.135880</td>\n",
       "      <td>0.033600</td>\n",
       "      <td>0.791142</td>\n",
       "      <td>-0.367876</td>\n",
       "    </tr>\n",
       "    <tr>\n",
       "      <th>2016-01-04</th>\n",
       "      <td>0.915352</td>\n",
       "      <td>1.463294</td>\n",
       "      <td>0.795379</td>\n",
       "      <td>-1.050365</td>\n",
       "    </tr>\n",
       "    <tr>\n",
       "      <th>2016-01-05</th>\n",
       "      <td>-0.430019</td>\n",
       "      <td>-0.111974</td>\n",
       "      <td>-1.386735</td>\n",
       "      <td>0.188353</td>\n",
       "    </tr>\n",
       "    <tr>\n",
       "      <th>2016-01-06</th>\n",
       "      <td>0.894483</td>\n",
       "      <td>-0.399806</td>\n",
       "      <td>0.033455</td>\n",
       "      <td>-1.815952</td>\n",
       "    </tr>\n",
       "  </tbody>\n",
       "</table>\n",
       "</div>"
      ],
      "text/plain": [
       "                   A         B         C         D\n",
       "2016-01-01  0.473781 -1.010233 -1.613558  0.861746\n",
       "2016-01-02 -0.862746 -0.805507  1.244406 -1.167155\n",
       "2016-01-03  1.135880  0.033600  0.791142 -0.367876\n",
       "2016-01-04  0.915352  1.463294  0.795379 -1.050365\n",
       "2016-01-05 -0.430019 -0.111974 -1.386735  0.188353\n",
       "2016-01-06  0.894483 -0.399806  0.033455 -1.815952"
      ]
     },
     "execution_count": 9,
     "metadata": {},
     "output_type": "execute_result"
    }
   ],
   "source": [
    "df"
   ]
  },
  {
   "cell_type": "code",
   "execution_count": 12,
   "metadata": {
    "collapsed": true
   },
   "outputs": [],
   "source": [
    "df2 = pd.DataFrame({ 'A' : 1.,\n",
    "                    'B' : pd.Timestamp('20160102'),\n",
    "                    'C' : pd.Series(1,index=list(range(4)),dtype='float32'),\n",
    "                    'D' : np.array([3] * 4,dtype='int32'),\n",
    "                    'E' : pd.Categorical([\"test\",\"train\",\"test\",\"train\"]),\n",
    "                    'F' : 'foo' })"
   ]
  },
  {
   "cell_type": "code",
   "execution_count": 13,
   "metadata": {
    "collapsed": false
   },
   "outputs": [
    {
     "data": {
      "text/html": [
       "<div>\n",
       "<table border=\"1\" class=\"dataframe\">\n",
       "  <thead>\n",
       "    <tr style=\"text-align: right;\">\n",
       "      <th></th>\n",
       "      <th>A</th>\n",
       "      <th>B</th>\n",
       "      <th>C</th>\n",
       "      <th>D</th>\n",
       "      <th>E</th>\n",
       "      <th>F</th>\n",
       "    </tr>\n",
       "  </thead>\n",
       "  <tbody>\n",
       "    <tr>\n",
       "      <th>0</th>\n",
       "      <td>1.0</td>\n",
       "      <td>2016-01-02</td>\n",
       "      <td>1.0</td>\n",
       "      <td>3</td>\n",
       "      <td>test</td>\n",
       "      <td>foo</td>\n",
       "    </tr>\n",
       "    <tr>\n",
       "      <th>1</th>\n",
       "      <td>1.0</td>\n",
       "      <td>2016-01-02</td>\n",
       "      <td>1.0</td>\n",
       "      <td>3</td>\n",
       "      <td>train</td>\n",
       "      <td>foo</td>\n",
       "    </tr>\n",
       "    <tr>\n",
       "      <th>2</th>\n",
       "      <td>1.0</td>\n",
       "      <td>2016-01-02</td>\n",
       "      <td>1.0</td>\n",
       "      <td>3</td>\n",
       "      <td>test</td>\n",
       "      <td>foo</td>\n",
       "    </tr>\n",
       "    <tr>\n",
       "      <th>3</th>\n",
       "      <td>1.0</td>\n",
       "      <td>2016-01-02</td>\n",
       "      <td>1.0</td>\n",
       "      <td>3</td>\n",
       "      <td>train</td>\n",
       "      <td>foo</td>\n",
       "    </tr>\n",
       "  </tbody>\n",
       "</table>\n",
       "</div>"
      ],
      "text/plain": [
       "     A          B    C  D      E    F\n",
       "0  1.0 2016-01-02  1.0  3   test  foo\n",
       "1  1.0 2016-01-02  1.0  3  train  foo\n",
       "2  1.0 2016-01-02  1.0  3   test  foo\n",
       "3  1.0 2016-01-02  1.0  3  train  foo"
      ]
     },
     "execution_count": 13,
     "metadata": {},
     "output_type": "execute_result"
    }
   ],
   "source": [
    "df2"
   ]
  },
  {
   "cell_type": "code",
   "execution_count": 14,
   "metadata": {
    "collapsed": false
   },
   "outputs": [
    {
     "data": {
      "text/plain": [
       "A           float64\n",
       "B    datetime64[ns]\n",
       "C           float32\n",
       "D             int32\n",
       "E          category\n",
       "F            object\n",
       "dtype: object"
      ]
     },
     "execution_count": 14,
     "metadata": {},
     "output_type": "execute_result"
    }
   ],
   "source": [
    "df2.dtypes"
   ]
  },
  {
   "cell_type": "markdown",
   "metadata": {},
   "source": [
    "***\n",
    "## 3. Viewing Data"
   ]
  },
  {
   "cell_type": "code",
   "execution_count": 16,
   "metadata": {
    "collapsed": false
   },
   "outputs": [
    {
     "data": {
      "text/html": [
       "<div>\n",
       "<table border=\"1\" class=\"dataframe\">\n",
       "  <thead>\n",
       "    <tr style=\"text-align: right;\">\n",
       "      <th></th>\n",
       "      <th>A</th>\n",
       "      <th>B</th>\n",
       "      <th>C</th>\n",
       "      <th>D</th>\n",
       "    </tr>\n",
       "  </thead>\n",
       "  <tbody>\n",
       "    <tr>\n",
       "      <th>2016-01-01</th>\n",
       "      <td>0.473781</td>\n",
       "      <td>-1.010233</td>\n",
       "      <td>-1.613558</td>\n",
       "      <td>0.861746</td>\n",
       "    </tr>\n",
       "    <tr>\n",
       "      <th>2016-01-02</th>\n",
       "      <td>-0.862746</td>\n",
       "      <td>-0.805507</td>\n",
       "      <td>1.244406</td>\n",
       "      <td>-1.167155</td>\n",
       "    </tr>\n",
       "    <tr>\n",
       "      <th>2016-01-03</th>\n",
       "      <td>1.135880</td>\n",
       "      <td>0.033600</td>\n",
       "      <td>0.791142</td>\n",
       "      <td>-0.367876</td>\n",
       "    </tr>\n",
       "    <tr>\n",
       "      <th>2016-01-04</th>\n",
       "      <td>0.915352</td>\n",
       "      <td>1.463294</td>\n",
       "      <td>0.795379</td>\n",
       "      <td>-1.050365</td>\n",
       "    </tr>\n",
       "    <tr>\n",
       "      <th>2016-01-05</th>\n",
       "      <td>-0.430019</td>\n",
       "      <td>-0.111974</td>\n",
       "      <td>-1.386735</td>\n",
       "      <td>0.188353</td>\n",
       "    </tr>\n",
       "  </tbody>\n",
       "</table>\n",
       "</div>"
      ],
      "text/plain": [
       "                   A         B         C         D\n",
       "2016-01-01  0.473781 -1.010233 -1.613558  0.861746\n",
       "2016-01-02 -0.862746 -0.805507  1.244406 -1.167155\n",
       "2016-01-03  1.135880  0.033600  0.791142 -0.367876\n",
       "2016-01-04  0.915352  1.463294  0.795379 -1.050365\n",
       "2016-01-05 -0.430019 -0.111974 -1.386735  0.188353"
      ]
     },
     "execution_count": 16,
     "metadata": {},
     "output_type": "execute_result"
    }
   ],
   "source": [
    "df.head()"
   ]
  },
  {
   "cell_type": "code",
   "execution_count": 19,
   "metadata": {
    "collapsed": false
   },
   "outputs": [
    {
     "data": {
      "text/html": [
       "<div>\n",
       "<table border=\"1\" class=\"dataframe\">\n",
       "  <thead>\n",
       "    <tr style=\"text-align: right;\">\n",
       "      <th></th>\n",
       "      <th>A</th>\n",
       "      <th>B</th>\n",
       "      <th>C</th>\n",
       "      <th>D</th>\n",
       "    </tr>\n",
       "  </thead>\n",
       "  <tbody>\n",
       "    <tr>\n",
       "      <th>2016-01-04</th>\n",
       "      <td>0.915352</td>\n",
       "      <td>1.463294</td>\n",
       "      <td>0.795379</td>\n",
       "      <td>-1.050365</td>\n",
       "    </tr>\n",
       "    <tr>\n",
       "      <th>2016-01-05</th>\n",
       "      <td>-0.430019</td>\n",
       "      <td>-0.111974</td>\n",
       "      <td>-1.386735</td>\n",
       "      <td>0.188353</td>\n",
       "    </tr>\n",
       "    <tr>\n",
       "      <th>2016-01-06</th>\n",
       "      <td>0.894483</td>\n",
       "      <td>-0.399806</td>\n",
       "      <td>0.033455</td>\n",
       "      <td>-1.815952</td>\n",
       "    </tr>\n",
       "  </tbody>\n",
       "</table>\n",
       "</div>"
      ],
      "text/plain": [
       "                   A         B         C         D\n",
       "2016-01-04  0.915352  1.463294  0.795379 -1.050365\n",
       "2016-01-05 -0.430019 -0.111974 -1.386735  0.188353\n",
       "2016-01-06  0.894483 -0.399806  0.033455 -1.815952"
      ]
     },
     "execution_count": 19,
     "metadata": {},
     "output_type": "execute_result"
    }
   ],
   "source": [
    "df.tail(3)"
   ]
  },
  {
   "cell_type": "code",
   "execution_count": 20,
   "metadata": {
    "collapsed": false
   },
   "outputs": [
    {
     "data": {
      "text/plain": [
       "DatetimeIndex(['2016-01-01', '2016-01-02', '2016-01-03', '2016-01-04',\n",
       "               '2016-01-05', '2016-01-06'],\n",
       "              dtype='datetime64[ns]', freq='D')"
      ]
     },
     "execution_count": 20,
     "metadata": {},
     "output_type": "execute_result"
    }
   ],
   "source": [
    "df.index"
   ]
  },
  {
   "cell_type": "code",
   "execution_count": 21,
   "metadata": {
    "collapsed": false
   },
   "outputs": [
    {
     "data": {
      "text/plain": [
       "Index([u'A', u'B', u'C', u'D'], dtype='object')"
      ]
     },
     "execution_count": 21,
     "metadata": {},
     "output_type": "execute_result"
    }
   ],
   "source": [
    "df.columns"
   ]
  },
  {
   "cell_type": "code",
   "execution_count": 22,
   "metadata": {
    "collapsed": false
   },
   "outputs": [
    {
     "data": {
      "text/plain": [
       "array([[ 0.47378111, -1.01023331, -1.61355829,  0.86174647],\n",
       "       [-0.86274581, -0.80550745,  1.24440583, -1.16715474],\n",
       "       [ 1.13588008,  0.0335995 ,  0.79114223, -0.36787644],\n",
       "       [ 0.91535247,  1.4632942 ,  0.79537924, -1.05036511],\n",
       "       [-0.43001868, -0.11197368, -1.3867348 ,  0.18835337],\n",
       "       [ 0.89448285, -0.39980561,  0.03345472, -1.81595213]])"
      ]
     },
     "execution_count": 22,
     "metadata": {},
     "output_type": "execute_result"
    }
   ],
   "source": [
    "df.values"
   ]
  },
  {
   "cell_type": "code",
   "execution_count": 23,
   "metadata": {
    "collapsed": false
   },
   "outputs": [
    {
     "data": {
      "text/html": [
       "<div>\n",
       "<table border=\"1\" class=\"dataframe\">\n",
       "  <thead>\n",
       "    <tr style=\"text-align: right;\">\n",
       "      <th></th>\n",
       "      <th>A</th>\n",
       "      <th>B</th>\n",
       "      <th>C</th>\n",
       "      <th>D</th>\n",
       "    </tr>\n",
       "  </thead>\n",
       "  <tbody>\n",
       "    <tr>\n",
       "      <th>count</th>\n",
       "      <td>6.000000</td>\n",
       "      <td>6.000000</td>\n",
       "      <td>6.000000</td>\n",
       "      <td>6.000000</td>\n",
       "    </tr>\n",
       "    <tr>\n",
       "      <th>mean</th>\n",
       "      <td>0.354455</td>\n",
       "      <td>-0.138438</td>\n",
       "      <td>-0.022652</td>\n",
       "      <td>-0.558541</td>\n",
       "    </tr>\n",
       "    <tr>\n",
       "      <th>std</th>\n",
       "      <td>0.815853</td>\n",
       "      <td>0.879678</td>\n",
       "      <td>1.210927</td>\n",
       "      <td>0.980286</td>\n",
       "    </tr>\n",
       "    <tr>\n",
       "      <th>min</th>\n",
       "      <td>-0.862746</td>\n",
       "      <td>-1.010233</td>\n",
       "      <td>-1.613558</td>\n",
       "      <td>-1.815952</td>\n",
       "    </tr>\n",
       "    <tr>\n",
       "      <th>25%</th>\n",
       "      <td>-0.204069</td>\n",
       "      <td>-0.704082</td>\n",
       "      <td>-1.031687</td>\n",
       "      <td>-1.137957</td>\n",
       "    </tr>\n",
       "    <tr>\n",
       "      <th>50%</th>\n",
       "      <td>0.684132</td>\n",
       "      <td>-0.255890</td>\n",
       "      <td>0.412298</td>\n",
       "      <td>-0.709121</td>\n",
       "    </tr>\n",
       "    <tr>\n",
       "      <th>75%</th>\n",
       "      <td>0.910135</td>\n",
       "      <td>-0.002794</td>\n",
       "      <td>0.794320</td>\n",
       "      <td>0.049296</td>\n",
       "    </tr>\n",
       "    <tr>\n",
       "      <th>max</th>\n",
       "      <td>1.135880</td>\n",
       "      <td>1.463294</td>\n",
       "      <td>1.244406</td>\n",
       "      <td>0.861746</td>\n",
       "    </tr>\n",
       "  </tbody>\n",
       "</table>\n",
       "</div>"
      ],
      "text/plain": [
       "              A         B         C         D\n",
       "count  6.000000  6.000000  6.000000  6.000000\n",
       "mean   0.354455 -0.138438 -0.022652 -0.558541\n",
       "std    0.815853  0.879678  1.210927  0.980286\n",
       "min   -0.862746 -1.010233 -1.613558 -1.815952\n",
       "25%   -0.204069 -0.704082 -1.031687 -1.137957\n",
       "50%    0.684132 -0.255890  0.412298 -0.709121\n",
       "75%    0.910135 -0.002794  0.794320  0.049296\n",
       "max    1.135880  1.463294  1.244406  0.861746"
      ]
     },
     "execution_count": 23,
     "metadata": {},
     "output_type": "execute_result"
    }
   ],
   "source": [
    "df.describe()"
   ]
  },
  {
   "cell_type": "code",
   "execution_count": 24,
   "metadata": {
    "collapsed": false
   },
   "outputs": [
    {
     "data": {
      "text/html": [
       "<div>\n",
       "<table border=\"1\" class=\"dataframe\">\n",
       "  <thead>\n",
       "    <tr style=\"text-align: right;\">\n",
       "      <th></th>\n",
       "      <th>2016-01-01 00:00:00</th>\n",
       "      <th>2016-01-02 00:00:00</th>\n",
       "      <th>2016-01-03 00:00:00</th>\n",
       "      <th>2016-01-04 00:00:00</th>\n",
       "      <th>2016-01-05 00:00:00</th>\n",
       "      <th>2016-01-06 00:00:00</th>\n",
       "    </tr>\n",
       "  </thead>\n",
       "  <tbody>\n",
       "    <tr>\n",
       "      <th>A</th>\n",
       "      <td>0.473781</td>\n",
       "      <td>-0.862746</td>\n",
       "      <td>1.135880</td>\n",
       "      <td>0.915352</td>\n",
       "      <td>-0.430019</td>\n",
       "      <td>0.894483</td>\n",
       "    </tr>\n",
       "    <tr>\n",
       "      <th>B</th>\n",
       "      <td>-1.010233</td>\n",
       "      <td>-0.805507</td>\n",
       "      <td>0.033600</td>\n",
       "      <td>1.463294</td>\n",
       "      <td>-0.111974</td>\n",
       "      <td>-0.399806</td>\n",
       "    </tr>\n",
       "    <tr>\n",
       "      <th>C</th>\n",
       "      <td>-1.613558</td>\n",
       "      <td>1.244406</td>\n",
       "      <td>0.791142</td>\n",
       "      <td>0.795379</td>\n",
       "      <td>-1.386735</td>\n",
       "      <td>0.033455</td>\n",
       "    </tr>\n",
       "    <tr>\n",
       "      <th>D</th>\n",
       "      <td>0.861746</td>\n",
       "      <td>-1.167155</td>\n",
       "      <td>-0.367876</td>\n",
       "      <td>-1.050365</td>\n",
       "      <td>0.188353</td>\n",
       "      <td>-1.815952</td>\n",
       "    </tr>\n",
       "  </tbody>\n",
       "</table>\n",
       "</div>"
      ],
      "text/plain": [
       "   2016-01-01  2016-01-02  2016-01-03  2016-01-04  2016-01-05  2016-01-06\n",
       "A    0.473781   -0.862746    1.135880    0.915352   -0.430019    0.894483\n",
       "B   -1.010233   -0.805507    0.033600    1.463294   -0.111974   -0.399806\n",
       "C   -1.613558    1.244406    0.791142    0.795379   -1.386735    0.033455\n",
       "D    0.861746   -1.167155   -0.367876   -1.050365    0.188353   -1.815952"
      ]
     },
     "execution_count": 24,
     "metadata": {},
     "output_type": "execute_result"
    }
   ],
   "source": [
    "df.T"
   ]
  },
  {
   "cell_type": "code",
   "execution_count": 25,
   "metadata": {
    "collapsed": false
   },
   "outputs": [
    {
     "data": {
      "text/html": [
       "<div>\n",
       "<table border=\"1\" class=\"dataframe\">\n",
       "  <thead>\n",
       "    <tr style=\"text-align: right;\">\n",
       "      <th></th>\n",
       "      <th>D</th>\n",
       "      <th>C</th>\n",
       "      <th>B</th>\n",
       "      <th>A</th>\n",
       "    </tr>\n",
       "  </thead>\n",
       "  <tbody>\n",
       "    <tr>\n",
       "      <th>2016-01-01</th>\n",
       "      <td>0.861746</td>\n",
       "      <td>-1.613558</td>\n",
       "      <td>-1.010233</td>\n",
       "      <td>0.473781</td>\n",
       "    </tr>\n",
       "    <tr>\n",
       "      <th>2016-01-02</th>\n",
       "      <td>-1.167155</td>\n",
       "      <td>1.244406</td>\n",
       "      <td>-0.805507</td>\n",
       "      <td>-0.862746</td>\n",
       "    </tr>\n",
       "    <tr>\n",
       "      <th>2016-01-03</th>\n",
       "      <td>-0.367876</td>\n",
       "      <td>0.791142</td>\n",
       "      <td>0.033600</td>\n",
       "      <td>1.135880</td>\n",
       "    </tr>\n",
       "    <tr>\n",
       "      <th>2016-01-04</th>\n",
       "      <td>-1.050365</td>\n",
       "      <td>0.795379</td>\n",
       "      <td>1.463294</td>\n",
       "      <td>0.915352</td>\n",
       "    </tr>\n",
       "    <tr>\n",
       "      <th>2016-01-05</th>\n",
       "      <td>0.188353</td>\n",
       "      <td>-1.386735</td>\n",
       "      <td>-0.111974</td>\n",
       "      <td>-0.430019</td>\n",
       "    </tr>\n",
       "    <tr>\n",
       "      <th>2016-01-06</th>\n",
       "      <td>-1.815952</td>\n",
       "      <td>0.033455</td>\n",
       "      <td>-0.399806</td>\n",
       "      <td>0.894483</td>\n",
       "    </tr>\n",
       "  </tbody>\n",
       "</table>\n",
       "</div>"
      ],
      "text/plain": [
       "                   D         C         B         A\n",
       "2016-01-01  0.861746 -1.613558 -1.010233  0.473781\n",
       "2016-01-02 -1.167155  1.244406 -0.805507 -0.862746\n",
       "2016-01-03 -0.367876  0.791142  0.033600  1.135880\n",
       "2016-01-04 -1.050365  0.795379  1.463294  0.915352\n",
       "2016-01-05  0.188353 -1.386735 -0.111974 -0.430019\n",
       "2016-01-06 -1.815952  0.033455 -0.399806  0.894483"
      ]
     },
     "execution_count": 25,
     "metadata": {},
     "output_type": "execute_result"
    }
   ],
   "source": [
    "df.sort_index(axis=1, ascending=False)"
   ]
  },
  {
   "cell_type": "code",
   "execution_count": 26,
   "metadata": {
    "collapsed": false
   },
   "outputs": [
    {
     "data": {
      "text/html": [
       "<div>\n",
       "<table border=\"1\" class=\"dataframe\">\n",
       "  <thead>\n",
       "    <tr style=\"text-align: right;\">\n",
       "      <th></th>\n",
       "      <th>A</th>\n",
       "      <th>B</th>\n",
       "      <th>C</th>\n",
       "      <th>D</th>\n",
       "    </tr>\n",
       "  </thead>\n",
       "  <tbody>\n",
       "    <tr>\n",
       "      <th>2016-01-01</th>\n",
       "      <td>0.473781</td>\n",
       "      <td>-1.010233</td>\n",
       "      <td>-1.613558</td>\n",
       "      <td>0.861746</td>\n",
       "    </tr>\n",
       "    <tr>\n",
       "      <th>2016-01-02</th>\n",
       "      <td>-0.862746</td>\n",
       "      <td>-0.805507</td>\n",
       "      <td>1.244406</td>\n",
       "      <td>-1.167155</td>\n",
       "    </tr>\n",
       "    <tr>\n",
       "      <th>2016-01-06</th>\n",
       "      <td>0.894483</td>\n",
       "      <td>-0.399806</td>\n",
       "      <td>0.033455</td>\n",
       "      <td>-1.815952</td>\n",
       "    </tr>\n",
       "    <tr>\n",
       "      <th>2016-01-05</th>\n",
       "      <td>-0.430019</td>\n",
       "      <td>-0.111974</td>\n",
       "      <td>-1.386735</td>\n",
       "      <td>0.188353</td>\n",
       "    </tr>\n",
       "    <tr>\n",
       "      <th>2016-01-03</th>\n",
       "      <td>1.135880</td>\n",
       "      <td>0.033600</td>\n",
       "      <td>0.791142</td>\n",
       "      <td>-0.367876</td>\n",
       "    </tr>\n",
       "    <tr>\n",
       "      <th>2016-01-04</th>\n",
       "      <td>0.915352</td>\n",
       "      <td>1.463294</td>\n",
       "      <td>0.795379</td>\n",
       "      <td>-1.050365</td>\n",
       "    </tr>\n",
       "  </tbody>\n",
       "</table>\n",
       "</div>"
      ],
      "text/plain": [
       "                   A         B         C         D\n",
       "2016-01-01  0.473781 -1.010233 -1.613558  0.861746\n",
       "2016-01-02 -0.862746 -0.805507  1.244406 -1.167155\n",
       "2016-01-06  0.894483 -0.399806  0.033455 -1.815952\n",
       "2016-01-05 -0.430019 -0.111974 -1.386735  0.188353\n",
       "2016-01-03  1.135880  0.033600  0.791142 -0.367876\n",
       "2016-01-04  0.915352  1.463294  0.795379 -1.050365"
      ]
     },
     "execution_count": 26,
     "metadata": {},
     "output_type": "execute_result"
    }
   ],
   "source": [
    "df.sort_values(by='B')"
   ]
  },
  {
   "cell_type": "markdown",
   "metadata": {},
   "source": [
    "***\n",
    "## 4. Selection\n",
    "### 4.1. Getting"
   ]
  },
  {
   "cell_type": "code",
   "execution_count": 27,
   "metadata": {
    "collapsed": false
   },
   "outputs": [
    {
     "data": {
      "text/plain": [
       "2016-01-01    0.473781\n",
       "2016-01-02   -0.862746\n",
       "2016-01-03    1.135880\n",
       "2016-01-04    0.915352\n",
       "2016-01-05   -0.430019\n",
       "2016-01-06    0.894483\n",
       "Freq: D, Name: A, dtype: float64"
      ]
     },
     "execution_count": 27,
     "metadata": {},
     "output_type": "execute_result"
    }
   ],
   "source": [
    "df['A']"
   ]
  },
  {
   "cell_type": "code",
   "execution_count": 28,
   "metadata": {
    "collapsed": false
   },
   "outputs": [
    {
     "data": {
      "text/html": [
       "<div>\n",
       "<table border=\"1\" class=\"dataframe\">\n",
       "  <thead>\n",
       "    <tr style=\"text-align: right;\">\n",
       "      <th></th>\n",
       "      <th>A</th>\n",
       "      <th>B</th>\n",
       "      <th>C</th>\n",
       "      <th>D</th>\n",
       "    </tr>\n",
       "  </thead>\n",
       "  <tbody>\n",
       "    <tr>\n",
       "      <th>2016-01-01</th>\n",
       "      <td>0.473781</td>\n",
       "      <td>-1.010233</td>\n",
       "      <td>-1.613558</td>\n",
       "      <td>0.861746</td>\n",
       "    </tr>\n",
       "    <tr>\n",
       "      <th>2016-01-02</th>\n",
       "      <td>-0.862746</td>\n",
       "      <td>-0.805507</td>\n",
       "      <td>1.244406</td>\n",
       "      <td>-1.167155</td>\n",
       "    </tr>\n",
       "    <tr>\n",
       "      <th>2016-01-03</th>\n",
       "      <td>1.135880</td>\n",
       "      <td>0.033600</td>\n",
       "      <td>0.791142</td>\n",
       "      <td>-0.367876</td>\n",
       "    </tr>\n",
       "  </tbody>\n",
       "</table>\n",
       "</div>"
      ],
      "text/plain": [
       "                   A         B         C         D\n",
       "2016-01-01  0.473781 -1.010233 -1.613558  0.861746\n",
       "2016-01-02 -0.862746 -0.805507  1.244406 -1.167155\n",
       "2016-01-03  1.135880  0.033600  0.791142 -0.367876"
      ]
     },
     "execution_count": 28,
     "metadata": {},
     "output_type": "execute_result"
    }
   ],
   "source": [
    "df[0:3]"
   ]
  },
  {
   "cell_type": "code",
   "execution_count": 31,
   "metadata": {
    "collapsed": false
   },
   "outputs": [
    {
     "data": {
      "text/html": [
       "<div>\n",
       "<table border=\"1\" class=\"dataframe\">\n",
       "  <thead>\n",
       "    <tr style=\"text-align: right;\">\n",
       "      <th></th>\n",
       "      <th>A</th>\n",
       "      <th>B</th>\n",
       "      <th>C</th>\n",
       "      <th>D</th>\n",
       "    </tr>\n",
       "  </thead>\n",
       "  <tbody>\n",
       "    <tr>\n",
       "      <th>2016-01-02</th>\n",
       "      <td>-0.862746</td>\n",
       "      <td>-0.805507</td>\n",
       "      <td>1.244406</td>\n",
       "      <td>-1.167155</td>\n",
       "    </tr>\n",
       "    <tr>\n",
       "      <th>2016-01-03</th>\n",
       "      <td>1.135880</td>\n",
       "      <td>0.033600</td>\n",
       "      <td>0.791142</td>\n",
       "      <td>-0.367876</td>\n",
       "    </tr>\n",
       "    <tr>\n",
       "      <th>2016-01-04</th>\n",
       "      <td>0.915352</td>\n",
       "      <td>1.463294</td>\n",
       "      <td>0.795379</td>\n",
       "      <td>-1.050365</td>\n",
       "    </tr>\n",
       "  </tbody>\n",
       "</table>\n",
       "</div>"
      ],
      "text/plain": [
       "                   A         B         C         D\n",
       "2016-01-02 -0.862746 -0.805507  1.244406 -1.167155\n",
       "2016-01-03  1.135880  0.033600  0.791142 -0.367876\n",
       "2016-01-04  0.915352  1.463294  0.795379 -1.050365"
      ]
     },
     "execution_count": 31,
     "metadata": {},
     "output_type": "execute_result"
    }
   ],
   "source": [
    "df['20160102':'20160104']"
   ]
  },
  {
   "cell_type": "markdown",
   "metadata": {},
   "source": [
    "### 4.2. Selection by Label"
   ]
  },
  {
   "cell_type": "code",
   "execution_count": 32,
   "metadata": {
    "collapsed": false
   },
   "outputs": [
    {
     "data": {
      "text/plain": [
       "A    0.473781\n",
       "B   -1.010233\n",
       "C   -1.613558\n",
       "D    0.861746\n",
       "Name: 2016-01-01 00:00:00, dtype: float64"
      ]
     },
     "execution_count": 32,
     "metadata": {},
     "output_type": "execute_result"
    }
   ],
   "source": [
    "df.loc[dates[0]]"
   ]
  },
  {
   "cell_type": "code",
   "execution_count": 33,
   "metadata": {
    "collapsed": false
   },
   "outputs": [
    {
     "data": {
      "text/html": [
       "<div>\n",
       "<table border=\"1\" class=\"dataframe\">\n",
       "  <thead>\n",
       "    <tr style=\"text-align: right;\">\n",
       "      <th></th>\n",
       "      <th>A</th>\n",
       "      <th>B</th>\n",
       "    </tr>\n",
       "  </thead>\n",
       "  <tbody>\n",
       "    <tr>\n",
       "      <th>2016-01-01</th>\n",
       "      <td>0.473781</td>\n",
       "      <td>-1.010233</td>\n",
       "    </tr>\n",
       "    <tr>\n",
       "      <th>2016-01-02</th>\n",
       "      <td>-0.862746</td>\n",
       "      <td>-0.805507</td>\n",
       "    </tr>\n",
       "    <tr>\n",
       "      <th>2016-01-03</th>\n",
       "      <td>1.135880</td>\n",
       "      <td>0.033600</td>\n",
       "    </tr>\n",
       "    <tr>\n",
       "      <th>2016-01-04</th>\n",
       "      <td>0.915352</td>\n",
       "      <td>1.463294</td>\n",
       "    </tr>\n",
       "    <tr>\n",
       "      <th>2016-01-05</th>\n",
       "      <td>-0.430019</td>\n",
       "      <td>-0.111974</td>\n",
       "    </tr>\n",
       "    <tr>\n",
       "      <th>2016-01-06</th>\n",
       "      <td>0.894483</td>\n",
       "      <td>-0.399806</td>\n",
       "    </tr>\n",
       "  </tbody>\n",
       "</table>\n",
       "</div>"
      ],
      "text/plain": [
       "                   A         B\n",
       "2016-01-01  0.473781 -1.010233\n",
       "2016-01-02 -0.862746 -0.805507\n",
       "2016-01-03  1.135880  0.033600\n",
       "2016-01-04  0.915352  1.463294\n",
       "2016-01-05 -0.430019 -0.111974\n",
       "2016-01-06  0.894483 -0.399806"
      ]
     },
     "execution_count": 33,
     "metadata": {},
     "output_type": "execute_result"
    }
   ],
   "source": [
    "df.loc[:,['A','B']]"
   ]
  },
  {
   "cell_type": "code",
   "execution_count": 34,
   "metadata": {
    "collapsed": false
   },
   "outputs": [
    {
     "data": {
      "text/html": [
       "<div>\n",
       "<table border=\"1\" class=\"dataframe\">\n",
       "  <thead>\n",
       "    <tr style=\"text-align: right;\">\n",
       "      <th></th>\n",
       "      <th>A</th>\n",
       "      <th>B</th>\n",
       "    </tr>\n",
       "  </thead>\n",
       "  <tbody>\n",
       "    <tr>\n",
       "      <th>2016-01-02</th>\n",
       "      <td>-0.862746</td>\n",
       "      <td>-0.805507</td>\n",
       "    </tr>\n",
       "    <tr>\n",
       "      <th>2016-01-03</th>\n",
       "      <td>1.135880</td>\n",
       "      <td>0.033600</td>\n",
       "    </tr>\n",
       "    <tr>\n",
       "      <th>2016-01-04</th>\n",
       "      <td>0.915352</td>\n",
       "      <td>1.463294</td>\n",
       "    </tr>\n",
       "  </tbody>\n",
       "</table>\n",
       "</div>"
      ],
      "text/plain": [
       "                   A         B\n",
       "2016-01-02 -0.862746 -0.805507\n",
       "2016-01-03  1.135880  0.033600\n",
       "2016-01-04  0.915352  1.463294"
      ]
     },
     "execution_count": 34,
     "metadata": {},
     "output_type": "execute_result"
    }
   ],
   "source": [
    "df.loc['20160102':'20160104', ['A','B']]"
   ]
  },
  {
   "cell_type": "code",
   "execution_count": 35,
   "metadata": {
    "collapsed": false
   },
   "outputs": [
    {
     "data": {
      "text/plain": [
       "A   -0.862746\n",
       "B   -0.805507\n",
       "Name: 2016-01-02 00:00:00, dtype: float64"
      ]
     },
     "execution_count": 35,
     "metadata": {},
     "output_type": "execute_result"
    }
   ],
   "source": [
    "df.loc['20160102',['A','B']]"
   ]
  },
  {
   "cell_type": "code",
   "execution_count": 36,
   "metadata": {
    "collapsed": false
   },
   "outputs": [
    {
     "data": {
      "text/plain": [
       "0.47378111247419763"
      ]
     },
     "execution_count": 36,
     "metadata": {},
     "output_type": "execute_result"
    }
   ],
   "source": [
    "df.loc[dates[0],'A']"
   ]
  },
  {
   "cell_type": "code",
   "execution_count": 37,
   "metadata": {
    "collapsed": false
   },
   "outputs": [
    {
     "data": {
      "text/plain": [
       "0.47378111247419763"
      ]
     },
     "execution_count": 37,
     "metadata": {},
     "output_type": "execute_result"
    }
   ],
   "source": [
    "df.at[dates[0],'A']"
   ]
  },
  {
   "cell_type": "markdown",
   "metadata": {},
   "source": [
    "### 4.3. Selection by Position"
   ]
  },
  {
   "cell_type": "code",
   "execution_count": 38,
   "metadata": {
    "collapsed": false
   },
   "outputs": [
    {
     "data": {
      "text/plain": [
       "A    0.915352\n",
       "B    1.463294\n",
       "C    0.795379\n",
       "D   -1.050365\n",
       "Name: 2016-01-04 00:00:00, dtype: float64"
      ]
     },
     "execution_count": 38,
     "metadata": {},
     "output_type": "execute_result"
    }
   ],
   "source": [
    "df.iloc[3]"
   ]
  },
  {
   "cell_type": "code",
   "execution_count": 39,
   "metadata": {
    "collapsed": false
   },
   "outputs": [
    {
     "data": {
      "text/html": [
       "<div>\n",
       "<table border=\"1\" class=\"dataframe\">\n",
       "  <thead>\n",
       "    <tr style=\"text-align: right;\">\n",
       "      <th></th>\n",
       "      <th>A</th>\n",
       "      <th>B</th>\n",
       "    </tr>\n",
       "  </thead>\n",
       "  <tbody>\n",
       "    <tr>\n",
       "      <th>2016-01-04</th>\n",
       "      <td>0.915352</td>\n",
       "      <td>1.463294</td>\n",
       "    </tr>\n",
       "    <tr>\n",
       "      <th>2016-01-05</th>\n",
       "      <td>-0.430019</td>\n",
       "      <td>-0.111974</td>\n",
       "    </tr>\n",
       "  </tbody>\n",
       "</table>\n",
       "</div>"
      ],
      "text/plain": [
       "                   A         B\n",
       "2016-01-04  0.915352  1.463294\n",
       "2016-01-05 -0.430019 -0.111974"
      ]
     },
     "execution_count": 39,
     "metadata": {},
     "output_type": "execute_result"
    }
   ],
   "source": [
    "df.iloc[3:5,0:2]"
   ]
  },
  {
   "cell_type": "code",
   "execution_count": 40,
   "metadata": {
    "collapsed": false
   },
   "outputs": [
    {
     "data": {
      "text/html": [
       "<div>\n",
       "<table border=\"1\" class=\"dataframe\">\n",
       "  <thead>\n",
       "    <tr style=\"text-align: right;\">\n",
       "      <th></th>\n",
       "      <th>A</th>\n",
       "      <th>C</th>\n",
       "    </tr>\n",
       "  </thead>\n",
       "  <tbody>\n",
       "    <tr>\n",
       "      <th>2016-01-02</th>\n",
       "      <td>-0.862746</td>\n",
       "      <td>1.244406</td>\n",
       "    </tr>\n",
       "    <tr>\n",
       "      <th>2016-01-03</th>\n",
       "      <td>1.135880</td>\n",
       "      <td>0.791142</td>\n",
       "    </tr>\n",
       "    <tr>\n",
       "      <th>2016-01-05</th>\n",
       "      <td>-0.430019</td>\n",
       "      <td>-1.386735</td>\n",
       "    </tr>\n",
       "  </tbody>\n",
       "</table>\n",
       "</div>"
      ],
      "text/plain": [
       "                   A         C\n",
       "2016-01-02 -0.862746  1.244406\n",
       "2016-01-03  1.135880  0.791142\n",
       "2016-01-05 -0.430019 -1.386735"
      ]
     },
     "execution_count": 40,
     "metadata": {},
     "output_type": "execute_result"
    }
   ],
   "source": [
    "df.iloc[[1,2,4],[0,2]]\n"
   ]
  },
  {
   "cell_type": "code",
   "execution_count": 41,
   "metadata": {
    "collapsed": false
   },
   "outputs": [
    {
     "data": {
      "text/html": [
       "<div>\n",
       "<table border=\"1\" class=\"dataframe\">\n",
       "  <thead>\n",
       "    <tr style=\"text-align: right;\">\n",
       "      <th></th>\n",
       "      <th>A</th>\n",
       "      <th>B</th>\n",
       "      <th>C</th>\n",
       "      <th>D</th>\n",
       "    </tr>\n",
       "  </thead>\n",
       "  <tbody>\n",
       "    <tr>\n",
       "      <th>2016-01-02</th>\n",
       "      <td>-0.862746</td>\n",
       "      <td>-0.805507</td>\n",
       "      <td>1.244406</td>\n",
       "      <td>-1.167155</td>\n",
       "    </tr>\n",
       "    <tr>\n",
       "      <th>2016-01-03</th>\n",
       "      <td>1.135880</td>\n",
       "      <td>0.033600</td>\n",
       "      <td>0.791142</td>\n",
       "      <td>-0.367876</td>\n",
       "    </tr>\n",
       "  </tbody>\n",
       "</table>\n",
       "</div>"
      ],
      "text/plain": [
       "                   A         B         C         D\n",
       "2016-01-02 -0.862746 -0.805507  1.244406 -1.167155\n",
       "2016-01-03  1.135880  0.033600  0.791142 -0.367876"
      ]
     },
     "execution_count": 41,
     "metadata": {},
     "output_type": "execute_result"
    }
   ],
   "source": [
    "df.iloc[1:3,:]"
   ]
  },
  {
   "cell_type": "code",
   "execution_count": 42,
   "metadata": {
    "collapsed": false
   },
   "outputs": [
    {
     "data": {
      "text/html": [
       "<div>\n",
       "<table border=\"1\" class=\"dataframe\">\n",
       "  <thead>\n",
       "    <tr style=\"text-align: right;\">\n",
       "      <th></th>\n",
       "      <th>B</th>\n",
       "      <th>C</th>\n",
       "    </tr>\n",
       "  </thead>\n",
       "  <tbody>\n",
       "    <tr>\n",
       "      <th>2016-01-01</th>\n",
       "      <td>-1.010233</td>\n",
       "      <td>-1.613558</td>\n",
       "    </tr>\n",
       "    <tr>\n",
       "      <th>2016-01-02</th>\n",
       "      <td>-0.805507</td>\n",
       "      <td>1.244406</td>\n",
       "    </tr>\n",
       "    <tr>\n",
       "      <th>2016-01-03</th>\n",
       "      <td>0.033600</td>\n",
       "      <td>0.791142</td>\n",
       "    </tr>\n",
       "    <tr>\n",
       "      <th>2016-01-04</th>\n",
       "      <td>1.463294</td>\n",
       "      <td>0.795379</td>\n",
       "    </tr>\n",
       "    <tr>\n",
       "      <th>2016-01-05</th>\n",
       "      <td>-0.111974</td>\n",
       "      <td>-1.386735</td>\n",
       "    </tr>\n",
       "    <tr>\n",
       "      <th>2016-01-06</th>\n",
       "      <td>-0.399806</td>\n",
       "      <td>0.033455</td>\n",
       "    </tr>\n",
       "  </tbody>\n",
       "</table>\n",
       "</div>"
      ],
      "text/plain": [
       "                   B         C\n",
       "2016-01-01 -1.010233 -1.613558\n",
       "2016-01-02 -0.805507  1.244406\n",
       "2016-01-03  0.033600  0.791142\n",
       "2016-01-04  1.463294  0.795379\n",
       "2016-01-05 -0.111974 -1.386735\n",
       "2016-01-06 -0.399806  0.033455"
      ]
     },
     "execution_count": 42,
     "metadata": {},
     "output_type": "execute_result"
    }
   ],
   "source": [
    "df.iloc[:,1:3]"
   ]
  },
  {
   "cell_type": "code",
   "execution_count": 43,
   "metadata": {
    "collapsed": false
   },
   "outputs": [
    {
     "data": {
      "text/plain": [
       "-0.80550745262783097"
      ]
     },
     "execution_count": 43,
     "metadata": {},
     "output_type": "execute_result"
    }
   ],
   "source": [
    "df.iloc[1,1]"
   ]
  },
  {
   "cell_type": "code",
   "execution_count": 44,
   "metadata": {
    "collapsed": false
   },
   "outputs": [
    {
     "data": {
      "text/plain": [
       "-0.80550745262783097"
      ]
     },
     "execution_count": 44,
     "metadata": {},
     "output_type": "execute_result"
    }
   ],
   "source": [
    "df.iat[1,1]"
   ]
  },
  {
   "cell_type": "markdown",
   "metadata": {},
   "source": [
    "### 4.4. Boolean Indexing"
   ]
  },
  {
   "cell_type": "code",
   "execution_count": 45,
   "metadata": {
    "collapsed": false
   },
   "outputs": [
    {
     "data": {
      "text/html": [
       "<div>\n",
       "<table border=\"1\" class=\"dataframe\">\n",
       "  <thead>\n",
       "    <tr style=\"text-align: right;\">\n",
       "      <th></th>\n",
       "      <th>A</th>\n",
       "      <th>B</th>\n",
       "      <th>C</th>\n",
       "      <th>D</th>\n",
       "    </tr>\n",
       "  </thead>\n",
       "  <tbody>\n",
       "    <tr>\n",
       "      <th>2016-01-01</th>\n",
       "      <td>0.473781</td>\n",
       "      <td>-1.010233</td>\n",
       "      <td>-1.613558</td>\n",
       "      <td>0.861746</td>\n",
       "    </tr>\n",
       "    <tr>\n",
       "      <th>2016-01-03</th>\n",
       "      <td>1.135880</td>\n",
       "      <td>0.033600</td>\n",
       "      <td>0.791142</td>\n",
       "      <td>-0.367876</td>\n",
       "    </tr>\n",
       "    <tr>\n",
       "      <th>2016-01-04</th>\n",
       "      <td>0.915352</td>\n",
       "      <td>1.463294</td>\n",
       "      <td>0.795379</td>\n",
       "      <td>-1.050365</td>\n",
       "    </tr>\n",
       "    <tr>\n",
       "      <th>2016-01-06</th>\n",
       "      <td>0.894483</td>\n",
       "      <td>-0.399806</td>\n",
       "      <td>0.033455</td>\n",
       "      <td>-1.815952</td>\n",
       "    </tr>\n",
       "  </tbody>\n",
       "</table>\n",
       "</div>"
      ],
      "text/plain": [
       "                   A         B         C         D\n",
       "2016-01-01  0.473781 -1.010233 -1.613558  0.861746\n",
       "2016-01-03  1.135880  0.033600  0.791142 -0.367876\n",
       "2016-01-04  0.915352  1.463294  0.795379 -1.050365\n",
       "2016-01-06  0.894483 -0.399806  0.033455 -1.815952"
      ]
     },
     "execution_count": 45,
     "metadata": {},
     "output_type": "execute_result"
    }
   ],
   "source": [
    "df[df.A > 0]"
   ]
  },
  {
   "cell_type": "code",
   "execution_count": 46,
   "metadata": {
    "collapsed": false
   },
   "outputs": [
    {
     "data": {
      "text/html": [
       "<div>\n",
       "<table border=\"1\" class=\"dataframe\">\n",
       "  <thead>\n",
       "    <tr style=\"text-align: right;\">\n",
       "      <th></th>\n",
       "      <th>A</th>\n",
       "      <th>B</th>\n",
       "      <th>C</th>\n",
       "      <th>D</th>\n",
       "    </tr>\n",
       "  </thead>\n",
       "  <tbody>\n",
       "    <tr>\n",
       "      <th>2016-01-01</th>\n",
       "      <td>0.473781</td>\n",
       "      <td>NaN</td>\n",
       "      <td>NaN</td>\n",
       "      <td>0.861746</td>\n",
       "    </tr>\n",
       "    <tr>\n",
       "      <th>2016-01-02</th>\n",
       "      <td>NaN</td>\n",
       "      <td>NaN</td>\n",
       "      <td>1.244406</td>\n",
       "      <td>NaN</td>\n",
       "    </tr>\n",
       "    <tr>\n",
       "      <th>2016-01-03</th>\n",
       "      <td>1.135880</td>\n",
       "      <td>0.033600</td>\n",
       "      <td>0.791142</td>\n",
       "      <td>NaN</td>\n",
       "    </tr>\n",
       "    <tr>\n",
       "      <th>2016-01-04</th>\n",
       "      <td>0.915352</td>\n",
       "      <td>1.463294</td>\n",
       "      <td>0.795379</td>\n",
       "      <td>NaN</td>\n",
       "    </tr>\n",
       "    <tr>\n",
       "      <th>2016-01-05</th>\n",
       "      <td>NaN</td>\n",
       "      <td>NaN</td>\n",
       "      <td>NaN</td>\n",
       "      <td>0.188353</td>\n",
       "    </tr>\n",
       "    <tr>\n",
       "      <th>2016-01-06</th>\n",
       "      <td>0.894483</td>\n",
       "      <td>NaN</td>\n",
       "      <td>0.033455</td>\n",
       "      <td>NaN</td>\n",
       "    </tr>\n",
       "  </tbody>\n",
       "</table>\n",
       "</div>"
      ],
      "text/plain": [
       "                   A         B         C         D\n",
       "2016-01-01  0.473781       NaN       NaN  0.861746\n",
       "2016-01-02       NaN       NaN  1.244406       NaN\n",
       "2016-01-03  1.135880  0.033600  0.791142       NaN\n",
       "2016-01-04  0.915352  1.463294  0.795379       NaN\n",
       "2016-01-05       NaN       NaN       NaN  0.188353\n",
       "2016-01-06  0.894483       NaN  0.033455       NaN"
      ]
     },
     "execution_count": 46,
     "metadata": {},
     "output_type": "execute_result"
    }
   ],
   "source": [
    "df[df > 0]"
   ]
  },
  {
   "cell_type": "code",
   "execution_count": 47,
   "metadata": {
    "collapsed": true
   },
   "outputs": [],
   "source": [
    "df2 = df.copy()"
   ]
  },
  {
   "cell_type": "code",
   "execution_count": 48,
   "metadata": {
    "collapsed": true
   },
   "outputs": [],
   "source": [
    "df2['E'] = ['one', 'one','two','three','four','three']"
   ]
  },
  {
   "cell_type": "code",
   "execution_count": 49,
   "metadata": {
    "collapsed": false
   },
   "outputs": [
    {
     "data": {
      "text/html": [
       "<div>\n",
       "<table border=\"1\" class=\"dataframe\">\n",
       "  <thead>\n",
       "    <tr style=\"text-align: right;\">\n",
       "      <th></th>\n",
       "      <th>A</th>\n",
       "      <th>B</th>\n",
       "      <th>C</th>\n",
       "      <th>D</th>\n",
       "      <th>E</th>\n",
       "    </tr>\n",
       "  </thead>\n",
       "  <tbody>\n",
       "    <tr>\n",
       "      <th>2016-01-01</th>\n",
       "      <td>0.473781</td>\n",
       "      <td>-1.010233</td>\n",
       "      <td>-1.613558</td>\n",
       "      <td>0.861746</td>\n",
       "      <td>one</td>\n",
       "    </tr>\n",
       "    <tr>\n",
       "      <th>2016-01-02</th>\n",
       "      <td>-0.862746</td>\n",
       "      <td>-0.805507</td>\n",
       "      <td>1.244406</td>\n",
       "      <td>-1.167155</td>\n",
       "      <td>one</td>\n",
       "    </tr>\n",
       "    <tr>\n",
       "      <th>2016-01-03</th>\n",
       "      <td>1.135880</td>\n",
       "      <td>0.033600</td>\n",
       "      <td>0.791142</td>\n",
       "      <td>-0.367876</td>\n",
       "      <td>two</td>\n",
       "    </tr>\n",
       "    <tr>\n",
       "      <th>2016-01-04</th>\n",
       "      <td>0.915352</td>\n",
       "      <td>1.463294</td>\n",
       "      <td>0.795379</td>\n",
       "      <td>-1.050365</td>\n",
       "      <td>three</td>\n",
       "    </tr>\n",
       "    <tr>\n",
       "      <th>2016-01-05</th>\n",
       "      <td>-0.430019</td>\n",
       "      <td>-0.111974</td>\n",
       "      <td>-1.386735</td>\n",
       "      <td>0.188353</td>\n",
       "      <td>four</td>\n",
       "    </tr>\n",
       "    <tr>\n",
       "      <th>2016-01-06</th>\n",
       "      <td>0.894483</td>\n",
       "      <td>-0.399806</td>\n",
       "      <td>0.033455</td>\n",
       "      <td>-1.815952</td>\n",
       "      <td>three</td>\n",
       "    </tr>\n",
       "  </tbody>\n",
       "</table>\n",
       "</div>"
      ],
      "text/plain": [
       "                   A         B         C         D      E\n",
       "2016-01-01  0.473781 -1.010233 -1.613558  0.861746    one\n",
       "2016-01-02 -0.862746 -0.805507  1.244406 -1.167155    one\n",
       "2016-01-03  1.135880  0.033600  0.791142 -0.367876    two\n",
       "2016-01-04  0.915352  1.463294  0.795379 -1.050365  three\n",
       "2016-01-05 -0.430019 -0.111974 -1.386735  0.188353   four\n",
       "2016-01-06  0.894483 -0.399806  0.033455 -1.815952  three"
      ]
     },
     "execution_count": 49,
     "metadata": {},
     "output_type": "execute_result"
    }
   ],
   "source": [
    "df2"
   ]
  },
  {
   "cell_type": "code",
   "execution_count": 50,
   "metadata": {
    "collapsed": false
   },
   "outputs": [
    {
     "data": {
      "text/html": [
       "<div>\n",
       "<table border=\"1\" class=\"dataframe\">\n",
       "  <thead>\n",
       "    <tr style=\"text-align: right;\">\n",
       "      <th></th>\n",
       "      <th>A</th>\n",
       "      <th>B</th>\n",
       "      <th>C</th>\n",
       "      <th>D</th>\n",
       "      <th>E</th>\n",
       "    </tr>\n",
       "  </thead>\n",
       "  <tbody>\n",
       "    <tr>\n",
       "      <th>2016-01-03</th>\n",
       "      <td>1.135880</td>\n",
       "      <td>0.033600</td>\n",
       "      <td>0.791142</td>\n",
       "      <td>-0.367876</td>\n",
       "      <td>two</td>\n",
       "    </tr>\n",
       "    <tr>\n",
       "      <th>2016-01-05</th>\n",
       "      <td>-0.430019</td>\n",
       "      <td>-0.111974</td>\n",
       "      <td>-1.386735</td>\n",
       "      <td>0.188353</td>\n",
       "      <td>four</td>\n",
       "    </tr>\n",
       "  </tbody>\n",
       "</table>\n",
       "</div>"
      ],
      "text/plain": [
       "                   A         B         C         D     E\n",
       "2016-01-03  1.135880  0.033600  0.791142 -0.367876   two\n",
       "2016-01-05 -0.430019 -0.111974 -1.386735  0.188353  four"
      ]
     },
     "execution_count": 50,
     "metadata": {},
     "output_type": "execute_result"
    }
   ],
   "source": [
    "df2[df2['E'].isin(['two','four'])]"
   ]
  },
  {
   "cell_type": "markdown",
   "metadata": {},
   "source": [
    "### 4.4. Setting"
   ]
  },
  {
   "cell_type": "code",
   "execution_count": 54,
   "metadata": {
    "collapsed": true
   },
   "outputs": [],
   "source": [
    "s1 = pd.Series([1,2,3,4,5,6], index = pd.date_range('20160102', periods=6))"
   ]
  },
  {
   "cell_type": "code",
   "execution_count": 55,
   "metadata": {
    "collapsed": false
   },
   "outputs": [
    {
     "data": {
      "text/plain": [
       "2016-01-02    1\n",
       "2016-01-03    2\n",
       "2016-01-04    3\n",
       "2016-01-05    4\n",
       "2016-01-06    5\n",
       "2016-01-07    6\n",
       "Freq: D, dtype: int64"
      ]
     },
     "execution_count": 55,
     "metadata": {},
     "output_type": "execute_result"
    }
   ],
   "source": [
    "s1"
   ]
  },
  {
   "cell_type": "code",
   "execution_count": 56,
   "metadata": {
    "collapsed": true
   },
   "outputs": [],
   "source": [
    "df['F'] = s1"
   ]
  },
  {
   "cell_type": "code",
   "execution_count": 57,
   "metadata": {
    "collapsed": true
   },
   "outputs": [],
   "source": [
    "df.at[dates[0],'A'] = 0"
   ]
  },
  {
   "cell_type": "code",
   "execution_count": 58,
   "metadata": {
    "collapsed": true
   },
   "outputs": [],
   "source": [
    "df.iat[0,1] = 0"
   ]
  },
  {
   "cell_type": "code",
   "execution_count": 59,
   "metadata": {
    "collapsed": true
   },
   "outputs": [],
   "source": [
    "df.loc[:,'D'] = np.array([5] * len(df))"
   ]
  },
  {
   "cell_type": "code",
   "execution_count": 60,
   "metadata": {
    "collapsed": false
   },
   "outputs": [
    {
     "data": {
      "text/html": [
       "<div>\n",
       "<table border=\"1\" class=\"dataframe\">\n",
       "  <thead>\n",
       "    <tr style=\"text-align: right;\">\n",
       "      <th></th>\n",
       "      <th>A</th>\n",
       "      <th>B</th>\n",
       "      <th>C</th>\n",
       "      <th>D</th>\n",
       "      <th>F</th>\n",
       "    </tr>\n",
       "  </thead>\n",
       "  <tbody>\n",
       "    <tr>\n",
       "      <th>2016-01-01</th>\n",
       "      <td>0.000000</td>\n",
       "      <td>0.000000</td>\n",
       "      <td>-1.613558</td>\n",
       "      <td>5</td>\n",
       "      <td>NaN</td>\n",
       "    </tr>\n",
       "    <tr>\n",
       "      <th>2016-01-02</th>\n",
       "      <td>-0.862746</td>\n",
       "      <td>-0.805507</td>\n",
       "      <td>1.244406</td>\n",
       "      <td>5</td>\n",
       "      <td>1.0</td>\n",
       "    </tr>\n",
       "    <tr>\n",
       "      <th>2016-01-03</th>\n",
       "      <td>1.135880</td>\n",
       "      <td>0.033600</td>\n",
       "      <td>0.791142</td>\n",
       "      <td>5</td>\n",
       "      <td>2.0</td>\n",
       "    </tr>\n",
       "    <tr>\n",
       "      <th>2016-01-04</th>\n",
       "      <td>0.915352</td>\n",
       "      <td>1.463294</td>\n",
       "      <td>0.795379</td>\n",
       "      <td>5</td>\n",
       "      <td>3.0</td>\n",
       "    </tr>\n",
       "    <tr>\n",
       "      <th>2016-01-05</th>\n",
       "      <td>-0.430019</td>\n",
       "      <td>-0.111974</td>\n",
       "      <td>-1.386735</td>\n",
       "      <td>5</td>\n",
       "      <td>4.0</td>\n",
       "    </tr>\n",
       "    <tr>\n",
       "      <th>2016-01-06</th>\n",
       "      <td>0.894483</td>\n",
       "      <td>-0.399806</td>\n",
       "      <td>0.033455</td>\n",
       "      <td>5</td>\n",
       "      <td>5.0</td>\n",
       "    </tr>\n",
       "  </tbody>\n",
       "</table>\n",
       "</div>"
      ],
      "text/plain": [
       "                   A         B         C  D    F\n",
       "2016-01-01  0.000000  0.000000 -1.613558  5  NaN\n",
       "2016-01-02 -0.862746 -0.805507  1.244406  5  1.0\n",
       "2016-01-03  1.135880  0.033600  0.791142  5  2.0\n",
       "2016-01-04  0.915352  1.463294  0.795379  5  3.0\n",
       "2016-01-05 -0.430019 -0.111974 -1.386735  5  4.0\n",
       "2016-01-06  0.894483 -0.399806  0.033455  5  5.0"
      ]
     },
     "execution_count": 60,
     "metadata": {},
     "output_type": "execute_result"
    }
   ],
   "source": [
    "df"
   ]
  },
  {
   "cell_type": "code",
   "execution_count": 61,
   "metadata": {
    "collapsed": false,
    "scrolled": true
   },
   "outputs": [
    {
     "data": {
      "text/html": [
       "<div>\n",
       "<table border=\"1\" class=\"dataframe\">\n",
       "  <thead>\n",
       "    <tr style=\"text-align: right;\">\n",
       "      <th></th>\n",
       "      <th>A</th>\n",
       "      <th>B</th>\n",
       "      <th>C</th>\n",
       "      <th>D</th>\n",
       "      <th>F</th>\n",
       "    </tr>\n",
       "  </thead>\n",
       "  <tbody>\n",
       "    <tr>\n",
       "      <th>2016-01-01</th>\n",
       "      <td>0.000000</td>\n",
       "      <td>0.000000</td>\n",
       "      <td>-1.613558</td>\n",
       "      <td>-5</td>\n",
       "      <td>NaN</td>\n",
       "    </tr>\n",
       "    <tr>\n",
       "      <th>2016-01-02</th>\n",
       "      <td>-0.862746</td>\n",
       "      <td>-0.805507</td>\n",
       "      <td>-1.244406</td>\n",
       "      <td>-5</td>\n",
       "      <td>-1.0</td>\n",
       "    </tr>\n",
       "    <tr>\n",
       "      <th>2016-01-03</th>\n",
       "      <td>-1.135880</td>\n",
       "      <td>-0.033600</td>\n",
       "      <td>-0.791142</td>\n",
       "      <td>-5</td>\n",
       "      <td>-2.0</td>\n",
       "    </tr>\n",
       "    <tr>\n",
       "      <th>2016-01-04</th>\n",
       "      <td>-0.915352</td>\n",
       "      <td>-1.463294</td>\n",
       "      <td>-0.795379</td>\n",
       "      <td>-5</td>\n",
       "      <td>-3.0</td>\n",
       "    </tr>\n",
       "    <tr>\n",
       "      <th>2016-01-05</th>\n",
       "      <td>-0.430019</td>\n",
       "      <td>-0.111974</td>\n",
       "      <td>-1.386735</td>\n",
       "      <td>-5</td>\n",
       "      <td>-4.0</td>\n",
       "    </tr>\n",
       "    <tr>\n",
       "      <th>2016-01-06</th>\n",
       "      <td>-0.894483</td>\n",
       "      <td>-0.399806</td>\n",
       "      <td>-0.033455</td>\n",
       "      <td>-5</td>\n",
       "      <td>-5.0</td>\n",
       "    </tr>\n",
       "  </tbody>\n",
       "</table>\n",
       "</div>"
      ],
      "text/plain": [
       "                   A         B         C  D    F\n",
       "2016-01-01  0.000000  0.000000 -1.613558 -5  NaN\n",
       "2016-01-02 -0.862746 -0.805507 -1.244406 -5 -1.0\n",
       "2016-01-03 -1.135880 -0.033600 -0.791142 -5 -2.0\n",
       "2016-01-04 -0.915352 -1.463294 -0.795379 -5 -3.0\n",
       "2016-01-05 -0.430019 -0.111974 -1.386735 -5 -4.0\n",
       "2016-01-06 -0.894483 -0.399806 -0.033455 -5 -5.0"
      ]
     },
     "execution_count": 61,
     "metadata": {},
     "output_type": "execute_result"
    }
   ],
   "source": [
    "df2 = df.copy()\n",
    "df2[df2 > 0] = -df2\n",
    "df2"
   ]
  },
  {
   "cell_type": "markdown",
   "metadata": {},
   "source": [
    "***\n",
    "## 5. Missing Data"
   ]
  },
  {
   "cell_type": "code",
   "execution_count": 64,
   "metadata": {
    "collapsed": true
   },
   "outputs": [],
   "source": [
    "df1 = df.reindex(index=dates[0:4], columns=list(df.columns) + ['E'])"
   ]
  },
  {
   "cell_type": "code",
   "execution_count": 65,
   "metadata": {
    "collapsed": true
   },
   "outputs": [],
   "source": [
    "df1.loc[dates[0]:dates[1],'E'] = 1"
   ]
  },
  {
   "cell_type": "code",
   "execution_count": 66,
   "metadata": {
    "collapsed": false
   },
   "outputs": [
    {
     "data": {
      "text/html": [
       "<div>\n",
       "<table border=\"1\" class=\"dataframe\">\n",
       "  <thead>\n",
       "    <tr style=\"text-align: right;\">\n",
       "      <th></th>\n",
       "      <th>A</th>\n",
       "      <th>B</th>\n",
       "      <th>C</th>\n",
       "      <th>D</th>\n",
       "      <th>F</th>\n",
       "      <th>E</th>\n",
       "    </tr>\n",
       "  </thead>\n",
       "  <tbody>\n",
       "    <tr>\n",
       "      <th>2016-01-01</th>\n",
       "      <td>1.000000</td>\n",
       "      <td>0.000000</td>\n",
       "      <td>-1.613558</td>\n",
       "      <td>5</td>\n",
       "      <td>NaN</td>\n",
       "      <td>1.0</td>\n",
       "    </tr>\n",
       "    <tr>\n",
       "      <th>2016-01-02</th>\n",
       "      <td>-0.862746</td>\n",
       "      <td>-0.805507</td>\n",
       "      <td>1.244406</td>\n",
       "      <td>5</td>\n",
       "      <td>1.0</td>\n",
       "      <td>1.0</td>\n",
       "    </tr>\n",
       "    <tr>\n",
       "      <th>2016-01-03</th>\n",
       "      <td>1.135880</td>\n",
       "      <td>0.033600</td>\n",
       "      <td>0.791142</td>\n",
       "      <td>5</td>\n",
       "      <td>2.0</td>\n",
       "      <td>NaN</td>\n",
       "    </tr>\n",
       "    <tr>\n",
       "      <th>2016-01-04</th>\n",
       "      <td>0.915352</td>\n",
       "      <td>1.463294</td>\n",
       "      <td>0.795379</td>\n",
       "      <td>5</td>\n",
       "      <td>3.0</td>\n",
       "      <td>NaN</td>\n",
       "    </tr>\n",
       "  </tbody>\n",
       "</table>\n",
       "</div>"
      ],
      "text/plain": [
       "                   A         B         C  D    F    E\n",
       "2016-01-01  1.000000  0.000000 -1.613558  5  NaN  1.0\n",
       "2016-01-02 -0.862746 -0.805507  1.244406  5  1.0  1.0\n",
       "2016-01-03  1.135880  0.033600  0.791142  5  2.0  NaN\n",
       "2016-01-04  0.915352  1.463294  0.795379  5  3.0  NaN"
      ]
     },
     "execution_count": 66,
     "metadata": {},
     "output_type": "execute_result"
    }
   ],
   "source": [
    "df1"
   ]
  },
  {
   "cell_type": "code",
   "execution_count": 67,
   "metadata": {
    "collapsed": false
   },
   "outputs": [
    {
     "data": {
      "text/html": [
       "<div>\n",
       "<table border=\"1\" class=\"dataframe\">\n",
       "  <thead>\n",
       "    <tr style=\"text-align: right;\">\n",
       "      <th></th>\n",
       "      <th>A</th>\n",
       "      <th>B</th>\n",
       "      <th>C</th>\n",
       "      <th>D</th>\n",
       "      <th>F</th>\n",
       "      <th>E</th>\n",
       "    </tr>\n",
       "  </thead>\n",
       "  <tbody>\n",
       "    <tr>\n",
       "      <th>2016-01-02</th>\n",
       "      <td>-0.862746</td>\n",
       "      <td>-0.805507</td>\n",
       "      <td>1.244406</td>\n",
       "      <td>5</td>\n",
       "      <td>1.0</td>\n",
       "      <td>1.0</td>\n",
       "    </tr>\n",
       "  </tbody>\n",
       "</table>\n",
       "</div>"
      ],
      "text/plain": [
       "                   A         B         C  D    F    E\n",
       "2016-01-02 -0.862746 -0.805507  1.244406  5  1.0  1.0"
      ]
     },
     "execution_count": 67,
     "metadata": {},
     "output_type": "execute_result"
    }
   ],
   "source": [
    "df1.dropna(how='any')"
   ]
  },
  {
   "cell_type": "code",
   "execution_count": 68,
   "metadata": {
    "collapsed": false
   },
   "outputs": [
    {
     "data": {
      "text/html": [
       "<div>\n",
       "<table border=\"1\" class=\"dataframe\">\n",
       "  <thead>\n",
       "    <tr style=\"text-align: right;\">\n",
       "      <th></th>\n",
       "      <th>A</th>\n",
       "      <th>B</th>\n",
       "      <th>C</th>\n",
       "      <th>D</th>\n",
       "      <th>F</th>\n",
       "      <th>E</th>\n",
       "    </tr>\n",
       "  </thead>\n",
       "  <tbody>\n",
       "    <tr>\n",
       "      <th>2016-01-01</th>\n",
       "      <td>1.000000</td>\n",
       "      <td>0.000000</td>\n",
       "      <td>-1.613558</td>\n",
       "      <td>5</td>\n",
       "      <td>5.0</td>\n",
       "      <td>1.0</td>\n",
       "    </tr>\n",
       "    <tr>\n",
       "      <th>2016-01-02</th>\n",
       "      <td>-0.862746</td>\n",
       "      <td>-0.805507</td>\n",
       "      <td>1.244406</td>\n",
       "      <td>5</td>\n",
       "      <td>1.0</td>\n",
       "      <td>1.0</td>\n",
       "    </tr>\n",
       "    <tr>\n",
       "      <th>2016-01-03</th>\n",
       "      <td>1.135880</td>\n",
       "      <td>0.033600</td>\n",
       "      <td>0.791142</td>\n",
       "      <td>5</td>\n",
       "      <td>2.0</td>\n",
       "      <td>5.0</td>\n",
       "    </tr>\n",
       "    <tr>\n",
       "      <th>2016-01-04</th>\n",
       "      <td>0.915352</td>\n",
       "      <td>1.463294</td>\n",
       "      <td>0.795379</td>\n",
       "      <td>5</td>\n",
       "      <td>3.0</td>\n",
       "      <td>5.0</td>\n",
       "    </tr>\n",
       "  </tbody>\n",
       "</table>\n",
       "</div>"
      ],
      "text/plain": [
       "                   A         B         C  D    F    E\n",
       "2016-01-01  1.000000  0.000000 -1.613558  5  5.0  1.0\n",
       "2016-01-02 -0.862746 -0.805507  1.244406  5  1.0  1.0\n",
       "2016-01-03  1.135880  0.033600  0.791142  5  2.0  5.0\n",
       "2016-01-04  0.915352  1.463294  0.795379  5  3.0  5.0"
      ]
     },
     "execution_count": 68,
     "metadata": {},
     "output_type": "execute_result"
    }
   ],
   "source": [
    "df1.fillna(value=5)"
   ]
  },
  {
   "cell_type": "code",
   "execution_count": 69,
   "metadata": {
    "collapsed": false
   },
   "outputs": [
    {
     "data": {
      "text/html": [
       "<div>\n",
       "<table border=\"1\" class=\"dataframe\">\n",
       "  <thead>\n",
       "    <tr style=\"text-align: right;\">\n",
       "      <th></th>\n",
       "      <th>A</th>\n",
       "      <th>B</th>\n",
       "      <th>C</th>\n",
       "      <th>D</th>\n",
       "      <th>F</th>\n",
       "      <th>E</th>\n",
       "    </tr>\n",
       "  </thead>\n",
       "  <tbody>\n",
       "    <tr>\n",
       "      <th>2016-01-01</th>\n",
       "      <td>False</td>\n",
       "      <td>False</td>\n",
       "      <td>False</td>\n",
       "      <td>False</td>\n",
       "      <td>True</td>\n",
       "      <td>False</td>\n",
       "    </tr>\n",
       "    <tr>\n",
       "      <th>2016-01-02</th>\n",
       "      <td>False</td>\n",
       "      <td>False</td>\n",
       "      <td>False</td>\n",
       "      <td>False</td>\n",
       "      <td>False</td>\n",
       "      <td>False</td>\n",
       "    </tr>\n",
       "    <tr>\n",
       "      <th>2016-01-03</th>\n",
       "      <td>False</td>\n",
       "      <td>False</td>\n",
       "      <td>False</td>\n",
       "      <td>False</td>\n",
       "      <td>False</td>\n",
       "      <td>True</td>\n",
       "    </tr>\n",
       "    <tr>\n",
       "      <th>2016-01-04</th>\n",
       "      <td>False</td>\n",
       "      <td>False</td>\n",
       "      <td>False</td>\n",
       "      <td>False</td>\n",
       "      <td>False</td>\n",
       "      <td>True</td>\n",
       "    </tr>\n",
       "  </tbody>\n",
       "</table>\n",
       "</div>"
      ],
      "text/plain": [
       "                A      B      C      D      F      E\n",
       "2016-01-01  False  False  False  False   True  False\n",
       "2016-01-02  False  False  False  False  False  False\n",
       "2016-01-03  False  False  False  False  False   True\n",
       "2016-01-04  False  False  False  False  False   True"
      ]
     },
     "execution_count": 69,
     "metadata": {},
     "output_type": "execute_result"
    }
   ],
   "source": [
    "pd.isnull(df1)"
   ]
  },
  {
   "cell_type": "markdown",
   "metadata": {},
   "source": [
    "***\n",
    "## 6. Operations\n",
    "### 6.1. Stats"
   ]
  },
  {
   "cell_type": "code",
   "execution_count": 70,
   "metadata": {
    "collapsed": false
   },
   "outputs": [
    {
     "data": {
      "text/plain": [
       "A    0.442158\n",
       "B    0.029934\n",
       "C   -0.022652\n",
       "D    5.000000\n",
       "F    3.000000\n",
       "dtype: float64"
      ]
     },
     "execution_count": 70,
     "metadata": {},
     "output_type": "execute_result"
    }
   ],
   "source": [
    "df.mean()"
   ]
  },
  {
   "cell_type": "code",
   "execution_count": 71,
   "metadata": {
    "collapsed": false
   },
   "outputs": [
    {
     "data": {
      "text/plain": [
       "2016-01-01    1.096610\n",
       "2016-01-02    1.115231\n",
       "2016-01-03    1.792124\n",
       "2016-01-04    2.234805\n",
       "2016-01-05    1.414255\n",
       "2016-01-06    2.105626\n",
       "Freq: D, dtype: float64"
      ]
     },
     "execution_count": 71,
     "metadata": {},
     "output_type": "execute_result"
    }
   ],
   "source": [
    "df.mean(1)"
   ]
  },
  {
   "cell_type": "code",
   "execution_count": 72,
   "metadata": {
    "collapsed": true
   },
   "outputs": [],
   "source": [
    "s = pd.Series([1,3,5,np.nan,6,8], index=dates).shift(2)"
   ]
  },
  {
   "cell_type": "code",
   "execution_count": 73,
   "metadata": {
    "collapsed": false
   },
   "outputs": [
    {
     "data": {
      "text/plain": [
       "2016-01-01    NaN\n",
       "2016-01-02    NaN\n",
       "2016-01-03    1.0\n",
       "2016-01-04    3.0\n",
       "2016-01-05    5.0\n",
       "2016-01-06    NaN\n",
       "Freq: D, dtype: float64"
      ]
     },
     "execution_count": 73,
     "metadata": {},
     "output_type": "execute_result"
    }
   ],
   "source": [
    "s"
   ]
  },
  {
   "cell_type": "code",
   "execution_count": 74,
   "metadata": {
    "collapsed": false
   },
   "outputs": [
    {
     "data": {
      "text/html": [
       "<div>\n",
       "<table border=\"1\" class=\"dataframe\">\n",
       "  <thead>\n",
       "    <tr style=\"text-align: right;\">\n",
       "      <th></th>\n",
       "      <th>A</th>\n",
       "      <th>B</th>\n",
       "      <th>C</th>\n",
       "      <th>D</th>\n",
       "      <th>F</th>\n",
       "    </tr>\n",
       "  </thead>\n",
       "  <tbody>\n",
       "    <tr>\n",
       "      <th>2016-01-01</th>\n",
       "      <td>NaN</td>\n",
       "      <td>NaN</td>\n",
       "      <td>NaN</td>\n",
       "      <td>NaN</td>\n",
       "      <td>NaN</td>\n",
       "    </tr>\n",
       "    <tr>\n",
       "      <th>2016-01-02</th>\n",
       "      <td>NaN</td>\n",
       "      <td>NaN</td>\n",
       "      <td>NaN</td>\n",
       "      <td>NaN</td>\n",
       "      <td>NaN</td>\n",
       "    </tr>\n",
       "    <tr>\n",
       "      <th>2016-01-03</th>\n",
       "      <td>0.135880</td>\n",
       "      <td>-0.966400</td>\n",
       "      <td>-0.208858</td>\n",
       "      <td>4.0</td>\n",
       "      <td>1.0</td>\n",
       "    </tr>\n",
       "    <tr>\n",
       "      <th>2016-01-04</th>\n",
       "      <td>-2.084648</td>\n",
       "      <td>-1.536706</td>\n",
       "      <td>-2.204621</td>\n",
       "      <td>2.0</td>\n",
       "      <td>0.0</td>\n",
       "    </tr>\n",
       "    <tr>\n",
       "      <th>2016-01-05</th>\n",
       "      <td>-5.430019</td>\n",
       "      <td>-5.111974</td>\n",
       "      <td>-6.386735</td>\n",
       "      <td>0.0</td>\n",
       "      <td>-1.0</td>\n",
       "    </tr>\n",
       "    <tr>\n",
       "      <th>2016-01-06</th>\n",
       "      <td>NaN</td>\n",
       "      <td>NaN</td>\n",
       "      <td>NaN</td>\n",
       "      <td>NaN</td>\n",
       "      <td>NaN</td>\n",
       "    </tr>\n",
       "  </tbody>\n",
       "</table>\n",
       "</div>"
      ],
      "text/plain": [
       "                   A         B         C    D    F\n",
       "2016-01-01       NaN       NaN       NaN  NaN  NaN\n",
       "2016-01-02       NaN       NaN       NaN  NaN  NaN\n",
       "2016-01-03  0.135880 -0.966400 -0.208858  4.0  1.0\n",
       "2016-01-04 -2.084648 -1.536706 -2.204621  2.0  0.0\n",
       "2016-01-05 -5.430019 -5.111974 -6.386735  0.0 -1.0\n",
       "2016-01-06       NaN       NaN       NaN  NaN  NaN"
      ]
     },
     "execution_count": 74,
     "metadata": {},
     "output_type": "execute_result"
    }
   ],
   "source": [
    "df.sub(s, axis='index')"
   ]
  },
  {
   "cell_type": "markdown",
   "metadata": {},
   "source": [
    "### 6.2. Apply"
   ]
  },
  {
   "cell_type": "code",
   "execution_count": 75,
   "metadata": {
    "collapsed": false
   },
   "outputs": [
    {
     "data": {
      "text/html": [
       "<div>\n",
       "<table border=\"1\" class=\"dataframe\">\n",
       "  <thead>\n",
       "    <tr style=\"text-align: right;\">\n",
       "      <th></th>\n",
       "      <th>A</th>\n",
       "      <th>B</th>\n",
       "      <th>C</th>\n",
       "      <th>D</th>\n",
       "      <th>F</th>\n",
       "    </tr>\n",
       "  </thead>\n",
       "  <tbody>\n",
       "    <tr>\n",
       "      <th>2016-01-01</th>\n",
       "      <td>1.000000</td>\n",
       "      <td>0.000000</td>\n",
       "      <td>-1.613558</td>\n",
       "      <td>5</td>\n",
       "      <td>NaN</td>\n",
       "    </tr>\n",
       "    <tr>\n",
       "      <th>2016-01-02</th>\n",
       "      <td>0.137254</td>\n",
       "      <td>-0.805507</td>\n",
       "      <td>-0.369152</td>\n",
       "      <td>10</td>\n",
       "      <td>1.0</td>\n",
       "    </tr>\n",
       "    <tr>\n",
       "      <th>2016-01-03</th>\n",
       "      <td>1.273134</td>\n",
       "      <td>-0.771908</td>\n",
       "      <td>0.421990</td>\n",
       "      <td>15</td>\n",
       "      <td>3.0</td>\n",
       "    </tr>\n",
       "    <tr>\n",
       "      <th>2016-01-04</th>\n",
       "      <td>2.188487</td>\n",
       "      <td>0.691386</td>\n",
       "      <td>1.217369</td>\n",
       "      <td>20</td>\n",
       "      <td>6.0</td>\n",
       "    </tr>\n",
       "    <tr>\n",
       "      <th>2016-01-05</th>\n",
       "      <td>1.758468</td>\n",
       "      <td>0.579413</td>\n",
       "      <td>-0.169366</td>\n",
       "      <td>25</td>\n",
       "      <td>10.0</td>\n",
       "    </tr>\n",
       "    <tr>\n",
       "      <th>2016-01-06</th>\n",
       "      <td>2.652951</td>\n",
       "      <td>0.179607</td>\n",
       "      <td>-0.135911</td>\n",
       "      <td>30</td>\n",
       "      <td>15.0</td>\n",
       "    </tr>\n",
       "  </tbody>\n",
       "</table>\n",
       "</div>"
      ],
      "text/plain": [
       "                   A         B         C   D     F\n",
       "2016-01-01  1.000000  0.000000 -1.613558   5   NaN\n",
       "2016-01-02  0.137254 -0.805507 -0.369152  10   1.0\n",
       "2016-01-03  1.273134 -0.771908  0.421990  15   3.0\n",
       "2016-01-04  2.188487  0.691386  1.217369  20   6.0\n",
       "2016-01-05  1.758468  0.579413 -0.169366  25  10.0\n",
       "2016-01-06  2.652951  0.179607 -0.135911  30  15.0"
      ]
     },
     "execution_count": 75,
     "metadata": {},
     "output_type": "execute_result"
    }
   ],
   "source": [
    "df.apply(np.cumsum)"
   ]
  },
  {
   "cell_type": "code",
   "execution_count": 76,
   "metadata": {
    "collapsed": false
   },
   "outputs": [
    {
     "data": {
      "text/plain": [
       "A    1.998626\n",
       "B    2.268802\n",
       "C    2.857964\n",
       "D    0.000000\n",
       "F    4.000000\n",
       "dtype: float64"
      ]
     },
     "execution_count": 76,
     "metadata": {},
     "output_type": "execute_result"
    }
   ],
   "source": [
    "df.apply(lambda x: x.max() - x.min())"
   ]
  },
  {
   "cell_type": "markdown",
   "metadata": {},
   "source": [
    "### 6.3. Histogramming"
   ]
  },
  {
   "cell_type": "code",
   "execution_count": 77,
   "metadata": {
    "collapsed": true
   },
   "outputs": [],
   "source": [
    "s = pd.Series(np.random.randint(0, 7, size=10))"
   ]
  },
  {
   "cell_type": "code",
   "execution_count": 78,
   "metadata": {
    "collapsed": false
   },
   "outputs": [
    {
     "data": {
      "text/plain": [
       "0    4\n",
       "1    5\n",
       "2    4\n",
       "3    1\n",
       "4    5\n",
       "5    3\n",
       "6    4\n",
       "7    1\n",
       "8    4\n",
       "9    1\n",
       "dtype: int32"
      ]
     },
     "execution_count": 78,
     "metadata": {},
     "output_type": "execute_result"
    }
   ],
   "source": [
    "s"
   ]
  },
  {
   "cell_type": "code",
   "execution_count": 79,
   "metadata": {
    "collapsed": false
   },
   "outputs": [
    {
     "data": {
      "text/plain": [
       "4    4\n",
       "1    3\n",
       "5    2\n",
       "3    1\n",
       "dtype: int64"
      ]
     },
     "execution_count": 79,
     "metadata": {},
     "output_type": "execute_result"
    }
   ],
   "source": [
    "s.value_counts()"
   ]
  },
  {
   "cell_type": "markdown",
   "metadata": {},
   "source": [
    "### 6.4. String Methods"
   ]
  },
  {
   "cell_type": "code",
   "execution_count": 80,
   "metadata": {
    "collapsed": true
   },
   "outputs": [],
   "source": [
    "s = pd.Series(['A', 'B', 'C', 'Aaba', 'Baca', np.nan, 'CABA', 'dog', 'cat'])"
   ]
  },
  {
   "cell_type": "code",
   "execution_count": 81,
   "metadata": {
    "collapsed": false
   },
   "outputs": [
    {
     "data": {
      "text/plain": [
       "0       a\n",
       "1       b\n",
       "2       c\n",
       "3    aaba\n",
       "4    baca\n",
       "5     NaN\n",
       "6    caba\n",
       "7     dog\n",
       "8     cat\n",
       "dtype: object"
      ]
     },
     "execution_count": 81,
     "metadata": {},
     "output_type": "execute_result"
    }
   ],
   "source": [
    "s.str.lower()"
   ]
  },
  {
   "cell_type": "markdown",
   "metadata": {},
   "source": [
    "***\n",
    "## 7. Merge\n",
    "### 7.1. Concat"
   ]
  },
  {
   "cell_type": "code",
   "execution_count": 82,
   "metadata": {
    "collapsed": true
   },
   "outputs": [],
   "source": [
    "df = pd.DataFrame(np.random.randn(10, 4))"
   ]
  },
  {
   "cell_type": "code",
   "execution_count": 83,
   "metadata": {
    "collapsed": false
   },
   "outputs": [
    {
     "data": {
      "text/html": [
       "<div>\n",
       "<table border=\"1\" class=\"dataframe\">\n",
       "  <thead>\n",
       "    <tr style=\"text-align: right;\">\n",
       "      <th></th>\n",
       "      <th>0</th>\n",
       "      <th>1</th>\n",
       "      <th>2</th>\n",
       "      <th>3</th>\n",
       "    </tr>\n",
       "  </thead>\n",
       "  <tbody>\n",
       "    <tr>\n",
       "      <th>0</th>\n",
       "      <td>0.051788</td>\n",
       "      <td>0.632310</td>\n",
       "      <td>0.879183</td>\n",
       "      <td>0.974627</td>\n",
       "    </tr>\n",
       "    <tr>\n",
       "      <th>1</th>\n",
       "      <td>-1.122499</td>\n",
       "      <td>-0.341731</td>\n",
       "      <td>-1.715339</td>\n",
       "      <td>-0.410024</td>\n",
       "    </tr>\n",
       "    <tr>\n",
       "      <th>2</th>\n",
       "      <td>0.459130</td>\n",
       "      <td>-1.845439</td>\n",
       "      <td>-1.938700</td>\n",
       "      <td>-0.978315</td>\n",
       "    </tr>\n",
       "    <tr>\n",
       "      <th>3</th>\n",
       "      <td>0.659026</td>\n",
       "      <td>1.176290</td>\n",
       "      <td>0.455632</td>\n",
       "      <td>0.305390</td>\n",
       "    </tr>\n",
       "    <tr>\n",
       "      <th>4</th>\n",
       "      <td>1.664813</td>\n",
       "      <td>2.698741</td>\n",
       "      <td>-0.547621</td>\n",
       "      <td>0.148605</td>\n",
       "    </tr>\n",
       "    <tr>\n",
       "      <th>5</th>\n",
       "      <td>0.509675</td>\n",
       "      <td>1.533627</td>\n",
       "      <td>-0.474595</td>\n",
       "      <td>0.580227</td>\n",
       "    </tr>\n",
       "    <tr>\n",
       "      <th>6</th>\n",
       "      <td>-1.088350</td>\n",
       "      <td>-1.216523</td>\n",
       "      <td>0.467385</td>\n",
       "      <td>-0.130395</td>\n",
       "    </tr>\n",
       "    <tr>\n",
       "      <th>7</th>\n",
       "      <td>0.565695</td>\n",
       "      <td>0.388232</td>\n",
       "      <td>0.985281</td>\n",
       "      <td>-0.863274</td>\n",
       "    </tr>\n",
       "    <tr>\n",
       "      <th>8</th>\n",
       "      <td>0.156349</td>\n",
       "      <td>-0.491624</td>\n",
       "      <td>0.002537</td>\n",
       "      <td>-1.130115</td>\n",
       "    </tr>\n",
       "    <tr>\n",
       "      <th>9</th>\n",
       "      <td>-0.552068</td>\n",
       "      <td>0.781136</td>\n",
       "      <td>-0.173374</td>\n",
       "      <td>1.668902</td>\n",
       "    </tr>\n",
       "  </tbody>\n",
       "</table>\n",
       "</div>"
      ],
      "text/plain": [
       "          0         1         2         3\n",
       "0  0.051788  0.632310  0.879183  0.974627\n",
       "1 -1.122499 -0.341731 -1.715339 -0.410024\n",
       "2  0.459130 -1.845439 -1.938700 -0.978315\n",
       "3  0.659026  1.176290  0.455632  0.305390\n",
       "4  1.664813  2.698741 -0.547621  0.148605\n",
       "5  0.509675  1.533627 -0.474595  0.580227\n",
       "6 -1.088350 -1.216523  0.467385 -0.130395\n",
       "7  0.565695  0.388232  0.985281 -0.863274\n",
       "8  0.156349 -0.491624  0.002537 -1.130115\n",
       "9 -0.552068  0.781136 -0.173374  1.668902"
      ]
     },
     "execution_count": 83,
     "metadata": {},
     "output_type": "execute_result"
    }
   ],
   "source": [
    "df"
   ]
  },
  {
   "cell_type": "code",
   "execution_count": 84,
   "metadata": {
    "collapsed": true
   },
   "outputs": [],
   "source": [
    "pieces = [df[:3], df[3:7], df[7:]]"
   ]
  },
  {
   "cell_type": "code",
   "execution_count": 85,
   "metadata": {
    "collapsed": false
   },
   "outputs": [
    {
     "data": {
      "text/html": [
       "<div>\n",
       "<table border=\"1\" class=\"dataframe\">\n",
       "  <thead>\n",
       "    <tr style=\"text-align: right;\">\n",
       "      <th></th>\n",
       "      <th>0</th>\n",
       "      <th>1</th>\n",
       "      <th>2</th>\n",
       "      <th>3</th>\n",
       "    </tr>\n",
       "  </thead>\n",
       "  <tbody>\n",
       "    <tr>\n",
       "      <th>0</th>\n",
       "      <td>0.051788</td>\n",
       "      <td>0.632310</td>\n",
       "      <td>0.879183</td>\n",
       "      <td>0.974627</td>\n",
       "    </tr>\n",
       "    <tr>\n",
       "      <th>1</th>\n",
       "      <td>-1.122499</td>\n",
       "      <td>-0.341731</td>\n",
       "      <td>-1.715339</td>\n",
       "      <td>-0.410024</td>\n",
       "    </tr>\n",
       "    <tr>\n",
       "      <th>2</th>\n",
       "      <td>0.459130</td>\n",
       "      <td>-1.845439</td>\n",
       "      <td>-1.938700</td>\n",
       "      <td>-0.978315</td>\n",
       "    </tr>\n",
       "    <tr>\n",
       "      <th>3</th>\n",
       "      <td>0.659026</td>\n",
       "      <td>1.176290</td>\n",
       "      <td>0.455632</td>\n",
       "      <td>0.305390</td>\n",
       "    </tr>\n",
       "    <tr>\n",
       "      <th>4</th>\n",
       "      <td>1.664813</td>\n",
       "      <td>2.698741</td>\n",
       "      <td>-0.547621</td>\n",
       "      <td>0.148605</td>\n",
       "    </tr>\n",
       "    <tr>\n",
       "      <th>5</th>\n",
       "      <td>0.509675</td>\n",
       "      <td>1.533627</td>\n",
       "      <td>-0.474595</td>\n",
       "      <td>0.580227</td>\n",
       "    </tr>\n",
       "    <tr>\n",
       "      <th>6</th>\n",
       "      <td>-1.088350</td>\n",
       "      <td>-1.216523</td>\n",
       "      <td>0.467385</td>\n",
       "      <td>-0.130395</td>\n",
       "    </tr>\n",
       "    <tr>\n",
       "      <th>7</th>\n",
       "      <td>0.565695</td>\n",
       "      <td>0.388232</td>\n",
       "      <td>0.985281</td>\n",
       "      <td>-0.863274</td>\n",
       "    </tr>\n",
       "    <tr>\n",
       "      <th>8</th>\n",
       "      <td>0.156349</td>\n",
       "      <td>-0.491624</td>\n",
       "      <td>0.002537</td>\n",
       "      <td>-1.130115</td>\n",
       "    </tr>\n",
       "    <tr>\n",
       "      <th>9</th>\n",
       "      <td>-0.552068</td>\n",
       "      <td>0.781136</td>\n",
       "      <td>-0.173374</td>\n",
       "      <td>1.668902</td>\n",
       "    </tr>\n",
       "  </tbody>\n",
       "</table>\n",
       "</div>"
      ],
      "text/plain": [
       "          0         1         2         3\n",
       "0  0.051788  0.632310  0.879183  0.974627\n",
       "1 -1.122499 -0.341731 -1.715339 -0.410024\n",
       "2  0.459130 -1.845439 -1.938700 -0.978315\n",
       "3  0.659026  1.176290  0.455632  0.305390\n",
       "4  1.664813  2.698741 -0.547621  0.148605\n",
       "5  0.509675  1.533627 -0.474595  0.580227\n",
       "6 -1.088350 -1.216523  0.467385 -0.130395\n",
       "7  0.565695  0.388232  0.985281 -0.863274\n",
       "8  0.156349 -0.491624  0.002537 -1.130115\n",
       "9 -0.552068  0.781136 -0.173374  1.668902"
      ]
     },
     "execution_count": 85,
     "metadata": {},
     "output_type": "execute_result"
    }
   ],
   "source": [
    "pd.concat(pieces)"
   ]
  },
  {
   "cell_type": "markdown",
   "metadata": {},
   "source": [
    "### 7.2. Join"
   ]
  },
  {
   "cell_type": "code",
   "execution_count": 86,
   "metadata": {
    "collapsed": true
   },
   "outputs": [],
   "source": [
    "left = pd.DataFrame({'key': ['foo', 'foo'], 'lval': [1, 2]})"
   ]
  },
  {
   "cell_type": "code",
   "execution_count": 87,
   "metadata": {
    "collapsed": true
   },
   "outputs": [],
   "source": [
    "right = pd.DataFrame({'key': ['foo', 'foo'], 'rval': [4, 5]})"
   ]
  },
  {
   "cell_type": "code",
   "execution_count": 88,
   "metadata": {
    "collapsed": false
   },
   "outputs": [
    {
     "data": {
      "text/html": [
       "<div>\n",
       "<table border=\"1\" class=\"dataframe\">\n",
       "  <thead>\n",
       "    <tr style=\"text-align: right;\">\n",
       "      <th></th>\n",
       "      <th>key</th>\n",
       "      <th>lval</th>\n",
       "    </tr>\n",
       "  </thead>\n",
       "  <tbody>\n",
       "    <tr>\n",
       "      <th>0</th>\n",
       "      <td>foo</td>\n",
       "      <td>1</td>\n",
       "    </tr>\n",
       "    <tr>\n",
       "      <th>1</th>\n",
       "      <td>foo</td>\n",
       "      <td>2</td>\n",
       "    </tr>\n",
       "  </tbody>\n",
       "</table>\n",
       "</div>"
      ],
      "text/plain": [
       "   key  lval\n",
       "0  foo     1\n",
       "1  foo     2"
      ]
     },
     "execution_count": 88,
     "metadata": {},
     "output_type": "execute_result"
    }
   ],
   "source": [
    "left"
   ]
  },
  {
   "cell_type": "code",
   "execution_count": 89,
   "metadata": {
    "collapsed": false
   },
   "outputs": [
    {
     "data": {
      "text/html": [
       "<div>\n",
       "<table border=\"1\" class=\"dataframe\">\n",
       "  <thead>\n",
       "    <tr style=\"text-align: right;\">\n",
       "      <th></th>\n",
       "      <th>key</th>\n",
       "      <th>rval</th>\n",
       "    </tr>\n",
       "  </thead>\n",
       "  <tbody>\n",
       "    <tr>\n",
       "      <th>0</th>\n",
       "      <td>foo</td>\n",
       "      <td>4</td>\n",
       "    </tr>\n",
       "    <tr>\n",
       "      <th>1</th>\n",
       "      <td>foo</td>\n",
       "      <td>5</td>\n",
       "    </tr>\n",
       "  </tbody>\n",
       "</table>\n",
       "</div>"
      ],
      "text/plain": [
       "   key  rval\n",
       "0  foo     4\n",
       "1  foo     5"
      ]
     },
     "execution_count": 89,
     "metadata": {},
     "output_type": "execute_result"
    }
   ],
   "source": [
    "right"
   ]
  },
  {
   "cell_type": "code",
   "execution_count": 90,
   "metadata": {
    "collapsed": false
   },
   "outputs": [
    {
     "data": {
      "text/html": [
       "<div>\n",
       "<table border=\"1\" class=\"dataframe\">\n",
       "  <thead>\n",
       "    <tr style=\"text-align: right;\">\n",
       "      <th></th>\n",
       "      <th>key</th>\n",
       "      <th>lval</th>\n",
       "      <th>rval</th>\n",
       "    </tr>\n",
       "  </thead>\n",
       "  <tbody>\n",
       "    <tr>\n",
       "      <th>0</th>\n",
       "      <td>foo</td>\n",
       "      <td>1</td>\n",
       "      <td>4</td>\n",
       "    </tr>\n",
       "    <tr>\n",
       "      <th>1</th>\n",
       "      <td>foo</td>\n",
       "      <td>1</td>\n",
       "      <td>5</td>\n",
       "    </tr>\n",
       "    <tr>\n",
       "      <th>2</th>\n",
       "      <td>foo</td>\n",
       "      <td>2</td>\n",
       "      <td>4</td>\n",
       "    </tr>\n",
       "    <tr>\n",
       "      <th>3</th>\n",
       "      <td>foo</td>\n",
       "      <td>2</td>\n",
       "      <td>5</td>\n",
       "    </tr>\n",
       "  </tbody>\n",
       "</table>\n",
       "</div>"
      ],
      "text/plain": [
       "   key  lval  rval\n",
       "0  foo     1     4\n",
       "1  foo     1     5\n",
       "2  foo     2     4\n",
       "3  foo     2     5"
      ]
     },
     "execution_count": 90,
     "metadata": {},
     "output_type": "execute_result"
    }
   ],
   "source": [
    "pd.merge(left, right, on='key')"
   ]
  },
  {
   "cell_type": "markdown",
   "metadata": {},
   "source": [
    "### 7.3. Append"
   ]
  },
  {
   "cell_type": "code",
   "execution_count": 91,
   "metadata": {
    "collapsed": true
   },
   "outputs": [],
   "source": [
    "df = pd.DataFrame(np.random.randn(8, 4), columns=['A','B','C','D'])"
   ]
  },
  {
   "cell_type": "code",
   "execution_count": 92,
   "metadata": {
    "collapsed": false
   },
   "outputs": [
    {
     "data": {
      "text/html": [
       "<div>\n",
       "<table border=\"1\" class=\"dataframe\">\n",
       "  <thead>\n",
       "    <tr style=\"text-align: right;\">\n",
       "      <th></th>\n",
       "      <th>A</th>\n",
       "      <th>B</th>\n",
       "      <th>C</th>\n",
       "      <th>D</th>\n",
       "    </tr>\n",
       "  </thead>\n",
       "  <tbody>\n",
       "    <tr>\n",
       "      <th>0</th>\n",
       "      <td>-2.020624</td>\n",
       "      <td>-0.649945</td>\n",
       "      <td>-0.572975</td>\n",
       "      <td>-1.509492</td>\n",
       "    </tr>\n",
       "    <tr>\n",
       "      <th>1</th>\n",
       "      <td>0.683421</td>\n",
       "      <td>-1.617557</td>\n",
       "      <td>-0.482648</td>\n",
       "      <td>0.894691</td>\n",
       "    </tr>\n",
       "    <tr>\n",
       "      <th>2</th>\n",
       "      <td>0.716066</td>\n",
       "      <td>-0.442584</td>\n",
       "      <td>0.522020</td>\n",
       "      <td>-0.118365</td>\n",
       "    </tr>\n",
       "    <tr>\n",
       "      <th>3</th>\n",
       "      <td>-0.148666</td>\n",
       "      <td>1.025203</td>\n",
       "      <td>-0.240516</td>\n",
       "      <td>1.946462</td>\n",
       "    </tr>\n",
       "    <tr>\n",
       "      <th>4</th>\n",
       "      <td>-0.515639</td>\n",
       "      <td>-0.101377</td>\n",
       "      <td>-0.725282</td>\n",
       "      <td>-0.030552</td>\n",
       "    </tr>\n",
       "    <tr>\n",
       "      <th>5</th>\n",
       "      <td>-1.590702</td>\n",
       "      <td>-0.486316</td>\n",
       "      <td>-1.753060</td>\n",
       "      <td>2.383558</td>\n",
       "    </tr>\n",
       "    <tr>\n",
       "      <th>6</th>\n",
       "      <td>-0.873169</td>\n",
       "      <td>0.532549</td>\n",
       "      <td>0.796022</td>\n",
       "      <td>-1.454947</td>\n",
       "    </tr>\n",
       "    <tr>\n",
       "      <th>7</th>\n",
       "      <td>1.193751</td>\n",
       "      <td>0.037857</td>\n",
       "      <td>1.380871</td>\n",
       "      <td>0.206826</td>\n",
       "    </tr>\n",
       "  </tbody>\n",
       "</table>\n",
       "</div>"
      ],
      "text/plain": [
       "          A         B         C         D\n",
       "0 -2.020624 -0.649945 -0.572975 -1.509492\n",
       "1  0.683421 -1.617557 -0.482648  0.894691\n",
       "2  0.716066 -0.442584  0.522020 -0.118365\n",
       "3 -0.148666  1.025203 -0.240516  1.946462\n",
       "4 -0.515639 -0.101377 -0.725282 -0.030552\n",
       "5 -1.590702 -0.486316 -1.753060  2.383558\n",
       "6 -0.873169  0.532549  0.796022 -1.454947\n",
       "7  1.193751  0.037857  1.380871  0.206826"
      ]
     },
     "execution_count": 92,
     "metadata": {},
     "output_type": "execute_result"
    }
   ],
   "source": [
    "df"
   ]
  },
  {
   "cell_type": "code",
   "execution_count": 93,
   "metadata": {
    "collapsed": true
   },
   "outputs": [],
   "source": [
    "s = df.iloc[3]"
   ]
  },
  {
   "cell_type": "code",
   "execution_count": 94,
   "metadata": {
    "collapsed": false
   },
   "outputs": [
    {
     "data": {
      "text/html": [
       "<div>\n",
       "<table border=\"1\" class=\"dataframe\">\n",
       "  <thead>\n",
       "    <tr style=\"text-align: right;\">\n",
       "      <th></th>\n",
       "      <th>A</th>\n",
       "      <th>B</th>\n",
       "      <th>C</th>\n",
       "      <th>D</th>\n",
       "    </tr>\n",
       "  </thead>\n",
       "  <tbody>\n",
       "    <tr>\n",
       "      <th>0</th>\n",
       "      <td>-2.020624</td>\n",
       "      <td>-0.649945</td>\n",
       "      <td>-0.572975</td>\n",
       "      <td>-1.509492</td>\n",
       "    </tr>\n",
       "    <tr>\n",
       "      <th>1</th>\n",
       "      <td>0.683421</td>\n",
       "      <td>-1.617557</td>\n",
       "      <td>-0.482648</td>\n",
       "      <td>0.894691</td>\n",
       "    </tr>\n",
       "    <tr>\n",
       "      <th>2</th>\n",
       "      <td>0.716066</td>\n",
       "      <td>-0.442584</td>\n",
       "      <td>0.522020</td>\n",
       "      <td>-0.118365</td>\n",
       "    </tr>\n",
       "    <tr>\n",
       "      <th>3</th>\n",
       "      <td>-0.148666</td>\n",
       "      <td>1.025203</td>\n",
       "      <td>-0.240516</td>\n",
       "      <td>1.946462</td>\n",
       "    </tr>\n",
       "    <tr>\n",
       "      <th>4</th>\n",
       "      <td>-0.515639</td>\n",
       "      <td>-0.101377</td>\n",
       "      <td>-0.725282</td>\n",
       "      <td>-0.030552</td>\n",
       "    </tr>\n",
       "    <tr>\n",
       "      <th>5</th>\n",
       "      <td>-1.590702</td>\n",
       "      <td>-0.486316</td>\n",
       "      <td>-1.753060</td>\n",
       "      <td>2.383558</td>\n",
       "    </tr>\n",
       "    <tr>\n",
       "      <th>6</th>\n",
       "      <td>-0.873169</td>\n",
       "      <td>0.532549</td>\n",
       "      <td>0.796022</td>\n",
       "      <td>-1.454947</td>\n",
       "    </tr>\n",
       "    <tr>\n",
       "      <th>7</th>\n",
       "      <td>1.193751</td>\n",
       "      <td>0.037857</td>\n",
       "      <td>1.380871</td>\n",
       "      <td>0.206826</td>\n",
       "    </tr>\n",
       "    <tr>\n",
       "      <th>8</th>\n",
       "      <td>-0.148666</td>\n",
       "      <td>1.025203</td>\n",
       "      <td>-0.240516</td>\n",
       "      <td>1.946462</td>\n",
       "    </tr>\n",
       "  </tbody>\n",
       "</table>\n",
       "</div>"
      ],
      "text/plain": [
       "          A         B         C         D\n",
       "0 -2.020624 -0.649945 -0.572975 -1.509492\n",
       "1  0.683421 -1.617557 -0.482648  0.894691\n",
       "2  0.716066 -0.442584  0.522020 -0.118365\n",
       "3 -0.148666  1.025203 -0.240516  1.946462\n",
       "4 -0.515639 -0.101377 -0.725282 -0.030552\n",
       "5 -1.590702 -0.486316 -1.753060  2.383558\n",
       "6 -0.873169  0.532549  0.796022 -1.454947\n",
       "7  1.193751  0.037857  1.380871  0.206826\n",
       "8 -0.148666  1.025203 -0.240516  1.946462"
      ]
     },
     "execution_count": 94,
     "metadata": {},
     "output_type": "execute_result"
    }
   ],
   "source": [
    "df.append(s, ignore_index=True)"
   ]
  },
  {
   "cell_type": "markdown",
   "metadata": {},
   "source": [
    "***\n",
    "## 8. Grouping"
   ]
  },
  {
   "cell_type": "code",
   "execution_count": 95,
   "metadata": {
    "collapsed": true
   },
   "outputs": [],
   "source": [
    "df = pd.DataFrame({'A' : ['foo', 'bar', 'foo', 'bar',\n",
    "                          'foo', 'bar', 'foo', 'foo'],\n",
    "                   'B' : ['one', 'one', 'two', 'three',\n",
    "                          'two', 'two', 'one', 'three'],\n",
    "                   'C' : np.random.randn(8),\n",
    "                   'D' : np.random.randn(8)})\n"
   ]
  },
  {
   "cell_type": "code",
   "execution_count": 96,
   "metadata": {
    "collapsed": false
   },
   "outputs": [
    {
     "data": {
      "text/html": [
       "<div>\n",
       "<table border=\"1\" class=\"dataframe\">\n",
       "  <thead>\n",
       "    <tr style=\"text-align: right;\">\n",
       "      <th></th>\n",
       "      <th>A</th>\n",
       "      <th>B</th>\n",
       "      <th>C</th>\n",
       "      <th>D</th>\n",
       "    </tr>\n",
       "  </thead>\n",
       "  <tbody>\n",
       "    <tr>\n",
       "      <th>0</th>\n",
       "      <td>foo</td>\n",
       "      <td>one</td>\n",
       "      <td>-1.008255</td>\n",
       "      <td>-1.699649</td>\n",
       "    </tr>\n",
       "    <tr>\n",
       "      <th>1</th>\n",
       "      <td>bar</td>\n",
       "      <td>one</td>\n",
       "      <td>-0.107767</td>\n",
       "      <td>-0.197108</td>\n",
       "    </tr>\n",
       "    <tr>\n",
       "      <th>2</th>\n",
       "      <td>foo</td>\n",
       "      <td>two</td>\n",
       "      <td>-0.702865</td>\n",
       "      <td>0.798154</td>\n",
       "    </tr>\n",
       "    <tr>\n",
       "      <th>3</th>\n",
       "      <td>bar</td>\n",
       "      <td>three</td>\n",
       "      <td>-0.897027</td>\n",
       "      <td>-1.292418</td>\n",
       "    </tr>\n",
       "    <tr>\n",
       "      <th>4</th>\n",
       "      <td>foo</td>\n",
       "      <td>two</td>\n",
       "      <td>-0.671039</td>\n",
       "      <td>1.342587</td>\n",
       "    </tr>\n",
       "    <tr>\n",
       "      <th>5</th>\n",
       "      <td>bar</td>\n",
       "      <td>two</td>\n",
       "      <td>-0.372291</td>\n",
       "      <td>-0.964204</td>\n",
       "    </tr>\n",
       "    <tr>\n",
       "      <th>6</th>\n",
       "      <td>foo</td>\n",
       "      <td>one</td>\n",
       "      <td>-0.593307</td>\n",
       "      <td>-0.260274</td>\n",
       "    </tr>\n",
       "    <tr>\n",
       "      <th>7</th>\n",
       "      <td>foo</td>\n",
       "      <td>three</td>\n",
       "      <td>0.620843</td>\n",
       "      <td>-0.604197</td>\n",
       "    </tr>\n",
       "  </tbody>\n",
       "</table>\n",
       "</div>"
      ],
      "text/plain": [
       "     A      B         C         D\n",
       "0  foo    one -1.008255 -1.699649\n",
       "1  bar    one -0.107767 -0.197108\n",
       "2  foo    two -0.702865  0.798154\n",
       "3  bar  three -0.897027 -1.292418\n",
       "4  foo    two -0.671039  1.342587\n",
       "5  bar    two -0.372291 -0.964204\n",
       "6  foo    one -0.593307 -0.260274\n",
       "7  foo  three  0.620843 -0.604197"
      ]
     },
     "execution_count": 96,
     "metadata": {},
     "output_type": "execute_result"
    }
   ],
   "source": [
    "df"
   ]
  },
  {
   "cell_type": "code",
   "execution_count": 97,
   "metadata": {
    "collapsed": false
   },
   "outputs": [
    {
     "data": {
      "text/html": [
       "<div>\n",
       "<table border=\"1\" class=\"dataframe\">\n",
       "  <thead>\n",
       "    <tr style=\"text-align: right;\">\n",
       "      <th></th>\n",
       "      <th>C</th>\n",
       "      <th>D</th>\n",
       "    </tr>\n",
       "    <tr>\n",
       "      <th>A</th>\n",
       "      <th></th>\n",
       "      <th></th>\n",
       "    </tr>\n",
       "  </thead>\n",
       "  <tbody>\n",
       "    <tr>\n",
       "      <th>bar</th>\n",
       "      <td>-1.377085</td>\n",
       "      <td>-2.45373</td>\n",
       "    </tr>\n",
       "    <tr>\n",
       "      <th>foo</th>\n",
       "      <td>-2.354623</td>\n",
       "      <td>-0.42338</td>\n",
       "    </tr>\n",
       "  </tbody>\n",
       "</table>\n",
       "</div>"
      ],
      "text/plain": [
       "            C        D\n",
       "A                     \n",
       "bar -1.377085 -2.45373\n",
       "foo -2.354623 -0.42338"
      ]
     },
     "execution_count": 97,
     "metadata": {},
     "output_type": "execute_result"
    }
   ],
   "source": [
    "df.groupby('A').sum()"
   ]
  },
  {
   "cell_type": "code",
   "execution_count": 98,
   "metadata": {
    "collapsed": false
   },
   "outputs": [
    {
     "data": {
      "text/html": [
       "<div>\n",
       "<table border=\"1\" class=\"dataframe\">\n",
       "  <thead>\n",
       "    <tr style=\"text-align: right;\">\n",
       "      <th></th>\n",
       "      <th>C</th>\n",
       "      <th>D</th>\n",
       "    </tr>\n",
       "    <tr>\n",
       "      <th>B</th>\n",
       "      <th></th>\n",
       "      <th></th>\n",
       "    </tr>\n",
       "  </thead>\n",
       "  <tbody>\n",
       "    <tr>\n",
       "      <th>one</th>\n",
       "      <td>-1.709329</td>\n",
       "      <td>-2.157031</td>\n",
       "    </tr>\n",
       "    <tr>\n",
       "      <th>three</th>\n",
       "      <td>-0.276185</td>\n",
       "      <td>-1.896615</td>\n",
       "    </tr>\n",
       "    <tr>\n",
       "      <th>two</th>\n",
       "      <td>-1.746194</td>\n",
       "      <td>1.176537</td>\n",
       "    </tr>\n",
       "  </tbody>\n",
       "</table>\n",
       "</div>"
      ],
      "text/plain": [
       "              C         D\n",
       "B                        \n",
       "one   -1.709329 -2.157031\n",
       "three -0.276185 -1.896615\n",
       "two   -1.746194  1.176537"
      ]
     },
     "execution_count": 98,
     "metadata": {},
     "output_type": "execute_result"
    }
   ],
   "source": [
    "df.groupby('B').sum()"
   ]
  },
  {
   "cell_type": "code",
   "execution_count": 99,
   "metadata": {
    "collapsed": false
   },
   "outputs": [
    {
     "data": {
      "text/html": [
       "<div>\n",
       "<table border=\"1\" class=\"dataframe\">\n",
       "  <thead>\n",
       "    <tr style=\"text-align: right;\">\n",
       "      <th></th>\n",
       "      <th></th>\n",
       "      <th>C</th>\n",
       "      <th>D</th>\n",
       "    </tr>\n",
       "    <tr>\n",
       "      <th>A</th>\n",
       "      <th>B</th>\n",
       "      <th></th>\n",
       "      <th></th>\n",
       "    </tr>\n",
       "  </thead>\n",
       "  <tbody>\n",
       "    <tr>\n",
       "      <th rowspan=\"3\" valign=\"top\">bar</th>\n",
       "      <th>one</th>\n",
       "      <td>-0.107767</td>\n",
       "      <td>-0.197108</td>\n",
       "    </tr>\n",
       "    <tr>\n",
       "      <th>three</th>\n",
       "      <td>-0.897027</td>\n",
       "      <td>-1.292418</td>\n",
       "    </tr>\n",
       "    <tr>\n",
       "      <th>two</th>\n",
       "      <td>-0.372291</td>\n",
       "      <td>-0.964204</td>\n",
       "    </tr>\n",
       "    <tr>\n",
       "      <th rowspan=\"3\" valign=\"top\">foo</th>\n",
       "      <th>one</th>\n",
       "      <td>-1.601562</td>\n",
       "      <td>-1.959923</td>\n",
       "    </tr>\n",
       "    <tr>\n",
       "      <th>three</th>\n",
       "      <td>0.620843</td>\n",
       "      <td>-0.604197</td>\n",
       "    </tr>\n",
       "    <tr>\n",
       "      <th>two</th>\n",
       "      <td>-1.373904</td>\n",
       "      <td>2.140741</td>\n",
       "    </tr>\n",
       "  </tbody>\n",
       "</table>\n",
       "</div>"
      ],
      "text/plain": [
       "                  C         D\n",
       "A   B                        \n",
       "bar one   -0.107767 -0.197108\n",
       "    three -0.897027 -1.292418\n",
       "    two   -0.372291 -0.964204\n",
       "foo one   -1.601562 -1.959923\n",
       "    three  0.620843 -0.604197\n",
       "    two   -1.373904  2.140741"
      ]
     },
     "execution_count": 99,
     "metadata": {},
     "output_type": "execute_result"
    }
   ],
   "source": [
    "df.groupby(['A','B']).sum()"
   ]
  },
  {
   "cell_type": "markdown",
   "metadata": {},
   "source": [
    "***\n",
    "## 9. Reshaping\n",
    "### 9.1. Stack"
   ]
  },
  {
   "cell_type": "code",
   "execution_count": 100,
   "metadata": {
    "collapsed": true
   },
   "outputs": [],
   "source": [
    "tuples = list(zip(*[['bar', 'bar', 'baz', 'baz',\n",
    "                     'foo', 'foo', 'qux', 'qux'],\n",
    "                    ['one', 'two', 'one', 'two',\n",
    "                     'one', 'two', 'one', 'two']]))"
   ]
  },
  {
   "cell_type": "code",
   "execution_count": 101,
   "metadata": {
    "collapsed": true
   },
   "outputs": [],
   "source": [
    "index = pd.MultiIndex.from_tuples(tuples, names=['first', 'second'])"
   ]
  },
  {
   "cell_type": "code",
   "execution_count": 102,
   "metadata": {
    "collapsed": true
   },
   "outputs": [],
   "source": [
    "df = pd.DataFrame(np.random.randn(8, 2), index=index, columns=['A', 'B'])"
   ]
  },
  {
   "cell_type": "code",
   "execution_count": 103,
   "metadata": {
    "collapsed": true
   },
   "outputs": [],
   "source": [
    "df2 = df[:4]"
   ]
  },
  {
   "cell_type": "code",
   "execution_count": 104,
   "metadata": {
    "collapsed": false
   },
   "outputs": [
    {
     "data": {
      "text/html": [
       "<div>\n",
       "<table border=\"1\" class=\"dataframe\">\n",
       "  <thead>\n",
       "    <tr style=\"text-align: right;\">\n",
       "      <th></th>\n",
       "      <th></th>\n",
       "      <th>A</th>\n",
       "      <th>B</th>\n",
       "    </tr>\n",
       "    <tr>\n",
       "      <th>first</th>\n",
       "      <th>second</th>\n",
       "      <th></th>\n",
       "      <th></th>\n",
       "    </tr>\n",
       "  </thead>\n",
       "  <tbody>\n",
       "    <tr>\n",
       "      <th rowspan=\"2\" valign=\"top\">bar</th>\n",
       "      <th>one</th>\n",
       "      <td>-1.619022</td>\n",
       "      <td>-1.692278</td>\n",
       "    </tr>\n",
       "    <tr>\n",
       "      <th>two</th>\n",
       "      <td>-0.013207</td>\n",
       "      <td>-0.159209</td>\n",
       "    </tr>\n",
       "    <tr>\n",
       "      <th rowspan=\"2\" valign=\"top\">baz</th>\n",
       "      <th>one</th>\n",
       "      <td>1.580709</td>\n",
       "      <td>0.862288</td>\n",
       "    </tr>\n",
       "    <tr>\n",
       "      <th>two</th>\n",
       "      <td>-0.128368</td>\n",
       "      <td>-0.820907</td>\n",
       "    </tr>\n",
       "  </tbody>\n",
       "</table>\n",
       "</div>"
      ],
      "text/plain": [
       "                     A         B\n",
       "first second                    \n",
       "bar   one    -1.619022 -1.692278\n",
       "      two    -0.013207 -0.159209\n",
       "baz   one     1.580709  0.862288\n",
       "      two    -0.128368 -0.820907"
      ]
     },
     "execution_count": 104,
     "metadata": {},
     "output_type": "execute_result"
    }
   ],
   "source": [
    "df2"
   ]
  },
  {
   "cell_type": "code",
   "execution_count": 105,
   "metadata": {
    "collapsed": false
   },
   "outputs": [
    {
     "data": {
      "text/html": [
       "<div>\n",
       "<table border=\"1\" class=\"dataframe\">\n",
       "  <thead>\n",
       "    <tr style=\"text-align: right;\">\n",
       "      <th></th>\n",
       "      <th></th>\n",
       "      <th>A</th>\n",
       "      <th>B</th>\n",
       "    </tr>\n",
       "    <tr>\n",
       "      <th>first</th>\n",
       "      <th>second</th>\n",
       "      <th></th>\n",
       "      <th></th>\n",
       "    </tr>\n",
       "  </thead>\n",
       "  <tbody>\n",
       "    <tr>\n",
       "      <th rowspan=\"2\" valign=\"top\">bar</th>\n",
       "      <th>one</th>\n",
       "      <td>-1.619022</td>\n",
       "      <td>-1.692278</td>\n",
       "    </tr>\n",
       "    <tr>\n",
       "      <th>two</th>\n",
       "      <td>-0.013207</td>\n",
       "      <td>-0.159209</td>\n",
       "    </tr>\n",
       "    <tr>\n",
       "      <th rowspan=\"2\" valign=\"top\">baz</th>\n",
       "      <th>one</th>\n",
       "      <td>1.580709</td>\n",
       "      <td>0.862288</td>\n",
       "    </tr>\n",
       "    <tr>\n",
       "      <th>two</th>\n",
       "      <td>-0.128368</td>\n",
       "      <td>-0.820907</td>\n",
       "    </tr>\n",
       "    <tr>\n",
       "      <th rowspan=\"2\" valign=\"top\">foo</th>\n",
       "      <th>one</th>\n",
       "      <td>-0.435695</td>\n",
       "      <td>0.124127</td>\n",
       "    </tr>\n",
       "    <tr>\n",
       "      <th>two</th>\n",
       "      <td>-0.768662</td>\n",
       "      <td>-0.410103</td>\n",
       "    </tr>\n",
       "    <tr>\n",
       "      <th rowspan=\"2\" valign=\"top\">qux</th>\n",
       "      <th>one</th>\n",
       "      <td>0.871469</td>\n",
       "      <td>2.614684</td>\n",
       "    </tr>\n",
       "    <tr>\n",
       "      <th>two</th>\n",
       "      <td>-0.483106</td>\n",
       "      <td>-0.620923</td>\n",
       "    </tr>\n",
       "  </tbody>\n",
       "</table>\n",
       "</div>"
      ],
      "text/plain": [
       "                     A         B\n",
       "first second                    \n",
       "bar   one    -1.619022 -1.692278\n",
       "      two    -0.013207 -0.159209\n",
       "baz   one     1.580709  0.862288\n",
       "      two    -0.128368 -0.820907\n",
       "foo   one    -0.435695  0.124127\n",
       "      two    -0.768662 -0.410103\n",
       "qux   one     0.871469  2.614684\n",
       "      two    -0.483106 -0.620923"
      ]
     },
     "execution_count": 105,
     "metadata": {},
     "output_type": "execute_result"
    }
   ],
   "source": [
    "df"
   ]
  },
  {
   "cell_type": "code",
   "execution_count": 106,
   "metadata": {
    "collapsed": true
   },
   "outputs": [],
   "source": [
    "stacked = df2.stack()"
   ]
  },
  {
   "cell_type": "code",
   "execution_count": 107,
   "metadata": {
    "collapsed": false
   },
   "outputs": [
    {
     "data": {
      "text/plain": [
       "first  second   \n",
       "bar    one     A   -1.619022\n",
       "               B   -1.692278\n",
       "       two     A   -0.013207\n",
       "               B   -0.159209\n",
       "baz    one     A    1.580709\n",
       "               B    0.862288\n",
       "       two     A   -0.128368\n",
       "               B   -0.820907\n",
       "dtype: float64"
      ]
     },
     "execution_count": 107,
     "metadata": {},
     "output_type": "execute_result"
    }
   ],
   "source": [
    "stacked"
   ]
  },
  {
   "cell_type": "code",
   "execution_count": 108,
   "metadata": {
    "collapsed": false
   },
   "outputs": [
    {
     "data": {
      "text/html": [
       "<div>\n",
       "<table border=\"1\" class=\"dataframe\">\n",
       "  <thead>\n",
       "    <tr style=\"text-align: right;\">\n",
       "      <th></th>\n",
       "      <th></th>\n",
       "      <th>A</th>\n",
       "      <th>B</th>\n",
       "    </tr>\n",
       "    <tr>\n",
       "      <th>first</th>\n",
       "      <th>second</th>\n",
       "      <th></th>\n",
       "      <th></th>\n",
       "    </tr>\n",
       "  </thead>\n",
       "  <tbody>\n",
       "    <tr>\n",
       "      <th rowspan=\"2\" valign=\"top\">bar</th>\n",
       "      <th>one</th>\n",
       "      <td>-1.619022</td>\n",
       "      <td>-1.692278</td>\n",
       "    </tr>\n",
       "    <tr>\n",
       "      <th>two</th>\n",
       "      <td>-0.013207</td>\n",
       "      <td>-0.159209</td>\n",
       "    </tr>\n",
       "    <tr>\n",
       "      <th rowspan=\"2\" valign=\"top\">baz</th>\n",
       "      <th>one</th>\n",
       "      <td>1.580709</td>\n",
       "      <td>0.862288</td>\n",
       "    </tr>\n",
       "    <tr>\n",
       "      <th>two</th>\n",
       "      <td>-0.128368</td>\n",
       "      <td>-0.820907</td>\n",
       "    </tr>\n",
       "  </tbody>\n",
       "</table>\n",
       "</div>"
      ],
      "text/plain": [
       "                     A         B\n",
       "first second                    \n",
       "bar   one    -1.619022 -1.692278\n",
       "      two    -0.013207 -0.159209\n",
       "baz   one     1.580709  0.862288\n",
       "      two    -0.128368 -0.820907"
      ]
     },
     "execution_count": 108,
     "metadata": {},
     "output_type": "execute_result"
    }
   ],
   "source": [
    "stacked.unstack()"
   ]
  },
  {
   "cell_type": "code",
   "execution_count": 109,
   "metadata": {
    "collapsed": false
   },
   "outputs": [
    {
     "data": {
      "text/html": [
       "<div>\n",
       "<table border=\"1\" class=\"dataframe\">\n",
       "  <thead>\n",
       "    <tr style=\"text-align: right;\">\n",
       "      <th></th>\n",
       "      <th>second</th>\n",
       "      <th>one</th>\n",
       "      <th>two</th>\n",
       "    </tr>\n",
       "    <tr>\n",
       "      <th>first</th>\n",
       "      <th></th>\n",
       "      <th></th>\n",
       "      <th></th>\n",
       "    </tr>\n",
       "  </thead>\n",
       "  <tbody>\n",
       "    <tr>\n",
       "      <th rowspan=\"2\" valign=\"top\">bar</th>\n",
       "      <th>A</th>\n",
       "      <td>-1.619022</td>\n",
       "      <td>-0.013207</td>\n",
       "    </tr>\n",
       "    <tr>\n",
       "      <th>B</th>\n",
       "      <td>-1.692278</td>\n",
       "      <td>-0.159209</td>\n",
       "    </tr>\n",
       "    <tr>\n",
       "      <th rowspan=\"2\" valign=\"top\">baz</th>\n",
       "      <th>A</th>\n",
       "      <td>1.580709</td>\n",
       "      <td>-0.128368</td>\n",
       "    </tr>\n",
       "    <tr>\n",
       "      <th>B</th>\n",
       "      <td>0.862288</td>\n",
       "      <td>-0.820907</td>\n",
       "    </tr>\n",
       "  </tbody>\n",
       "</table>\n",
       "</div>"
      ],
      "text/plain": [
       "second        one       two\n",
       "first                      \n",
       "bar   A -1.619022 -0.013207\n",
       "      B -1.692278 -0.159209\n",
       "baz   A  1.580709 -0.128368\n",
       "      B  0.862288 -0.820907"
      ]
     },
     "execution_count": 109,
     "metadata": {},
     "output_type": "execute_result"
    }
   ],
   "source": [
    "stacked.unstack(1)"
   ]
  },
  {
   "cell_type": "code",
   "execution_count": 110,
   "metadata": {
    "collapsed": false
   },
   "outputs": [
    {
     "data": {
      "text/html": [
       "<div>\n",
       "<table border=\"1\" class=\"dataframe\">\n",
       "  <thead>\n",
       "    <tr style=\"text-align: right;\">\n",
       "      <th></th>\n",
       "      <th>first</th>\n",
       "      <th>bar</th>\n",
       "      <th>baz</th>\n",
       "    </tr>\n",
       "    <tr>\n",
       "      <th>second</th>\n",
       "      <th></th>\n",
       "      <th></th>\n",
       "      <th></th>\n",
       "    </tr>\n",
       "  </thead>\n",
       "  <tbody>\n",
       "    <tr>\n",
       "      <th rowspan=\"2\" valign=\"top\">one</th>\n",
       "      <th>A</th>\n",
       "      <td>-1.619022</td>\n",
       "      <td>1.580709</td>\n",
       "    </tr>\n",
       "    <tr>\n",
       "      <th>B</th>\n",
       "      <td>-1.692278</td>\n",
       "      <td>0.862288</td>\n",
       "    </tr>\n",
       "    <tr>\n",
       "      <th rowspan=\"2\" valign=\"top\">two</th>\n",
       "      <th>A</th>\n",
       "      <td>-0.013207</td>\n",
       "      <td>-0.128368</td>\n",
       "    </tr>\n",
       "    <tr>\n",
       "      <th>B</th>\n",
       "      <td>-0.159209</td>\n",
       "      <td>-0.820907</td>\n",
       "    </tr>\n",
       "  </tbody>\n",
       "</table>\n",
       "</div>"
      ],
      "text/plain": [
       "first          bar       baz\n",
       "second                      \n",
       "one    A -1.619022  1.580709\n",
       "       B -1.692278  0.862288\n",
       "two    A -0.013207 -0.128368\n",
       "       B -0.159209 -0.820907"
      ]
     },
     "execution_count": 110,
     "metadata": {},
     "output_type": "execute_result"
    }
   ],
   "source": [
    "stacked.unstack(0)"
   ]
  },
  {
   "cell_type": "markdown",
   "metadata": {},
   "source": [
    "### 9.2. Pivot Tables"
   ]
  },
  {
   "cell_type": "code",
   "execution_count": 111,
   "metadata": {
    "collapsed": true
   },
   "outputs": [],
   "source": [
    "df = pd.DataFrame({'A' : ['one', 'one', 'two', 'three'] * 3,\n",
    "                   'B' : ['A', 'B', 'C'] * 4,\n",
    "                   'C' : ['foo', 'foo', 'foo', 'bar', 'bar', 'bar'] * 2,\n",
    "                   'D' : np.random.randn(12),\n",
    "                   'E' : np.random.randn(12)})"
   ]
  },
  {
   "cell_type": "code",
   "execution_count": 112,
   "metadata": {
    "collapsed": false
   },
   "outputs": [
    {
     "data": {
      "text/html": [
       "<div>\n",
       "<table border=\"1\" class=\"dataframe\">\n",
       "  <thead>\n",
       "    <tr style=\"text-align: right;\">\n",
       "      <th></th>\n",
       "      <th>A</th>\n",
       "      <th>B</th>\n",
       "      <th>C</th>\n",
       "      <th>D</th>\n",
       "      <th>E</th>\n",
       "    </tr>\n",
       "  </thead>\n",
       "  <tbody>\n",
       "    <tr>\n",
       "      <th>0</th>\n",
       "      <td>one</td>\n",
       "      <td>A</td>\n",
       "      <td>foo</td>\n",
       "      <td>-0.246275</td>\n",
       "      <td>-1.070195</td>\n",
       "    </tr>\n",
       "    <tr>\n",
       "      <th>1</th>\n",
       "      <td>one</td>\n",
       "      <td>B</td>\n",
       "      <td>foo</td>\n",
       "      <td>0.477048</td>\n",
       "      <td>0.349213</td>\n",
       "    </tr>\n",
       "    <tr>\n",
       "      <th>2</th>\n",
       "      <td>two</td>\n",
       "      <td>C</td>\n",
       "      <td>foo</td>\n",
       "      <td>-0.623378</td>\n",
       "      <td>1.560844</td>\n",
       "    </tr>\n",
       "    <tr>\n",
       "      <th>3</th>\n",
       "      <td>three</td>\n",
       "      <td>A</td>\n",
       "      <td>bar</td>\n",
       "      <td>-0.007411</td>\n",
       "      <td>-0.218426</td>\n",
       "    </tr>\n",
       "    <tr>\n",
       "      <th>4</th>\n",
       "      <td>one</td>\n",
       "      <td>B</td>\n",
       "      <td>bar</td>\n",
       "      <td>0.029947</td>\n",
       "      <td>-1.487843</td>\n",
       "    </tr>\n",
       "    <tr>\n",
       "      <th>5</th>\n",
       "      <td>one</td>\n",
       "      <td>C</td>\n",
       "      <td>bar</td>\n",
       "      <td>-0.777067</td>\n",
       "      <td>0.444505</td>\n",
       "    </tr>\n",
       "    <tr>\n",
       "      <th>6</th>\n",
       "      <td>two</td>\n",
       "      <td>A</td>\n",
       "      <td>foo</td>\n",
       "      <td>0.534013</td>\n",
       "      <td>-0.560235</td>\n",
       "    </tr>\n",
       "    <tr>\n",
       "      <th>7</th>\n",
       "      <td>three</td>\n",
       "      <td>B</td>\n",
       "      <td>foo</td>\n",
       "      <td>-0.661050</td>\n",
       "      <td>-0.194110</td>\n",
       "    </tr>\n",
       "    <tr>\n",
       "      <th>8</th>\n",
       "      <td>one</td>\n",
       "      <td>C</td>\n",
       "      <td>foo</td>\n",
       "      <td>0.255505</td>\n",
       "      <td>0.226144</td>\n",
       "    </tr>\n",
       "    <tr>\n",
       "      <th>9</th>\n",
       "      <td>one</td>\n",
       "      <td>A</td>\n",
       "      <td>bar</td>\n",
       "      <td>0.192658</td>\n",
       "      <td>1.342364</td>\n",
       "    </tr>\n",
       "    <tr>\n",
       "      <th>10</th>\n",
       "      <td>two</td>\n",
       "      <td>B</td>\n",
       "      <td>bar</td>\n",
       "      <td>0.391088</td>\n",
       "      <td>-0.042924</td>\n",
       "    </tr>\n",
       "    <tr>\n",
       "      <th>11</th>\n",
       "      <td>three</td>\n",
       "      <td>C</td>\n",
       "      <td>bar</td>\n",
       "      <td>0.697549</td>\n",
       "      <td>1.084442</td>\n",
       "    </tr>\n",
       "  </tbody>\n",
       "</table>\n",
       "</div>"
      ],
      "text/plain": [
       "        A  B    C         D         E\n",
       "0     one  A  foo -0.246275 -1.070195\n",
       "1     one  B  foo  0.477048  0.349213\n",
       "2     two  C  foo -0.623378  1.560844\n",
       "3   three  A  bar -0.007411 -0.218426\n",
       "4     one  B  bar  0.029947 -1.487843\n",
       "5     one  C  bar -0.777067  0.444505\n",
       "6     two  A  foo  0.534013 -0.560235\n",
       "7   three  B  foo -0.661050 -0.194110\n",
       "8     one  C  foo  0.255505  0.226144\n",
       "9     one  A  bar  0.192658  1.342364\n",
       "10    two  B  bar  0.391088 -0.042924\n",
       "11  three  C  bar  0.697549  1.084442"
      ]
     },
     "execution_count": 112,
     "metadata": {},
     "output_type": "execute_result"
    }
   ],
   "source": [
    "df"
   ]
  },
  {
   "cell_type": "code",
   "execution_count": 113,
   "metadata": {
    "collapsed": false
   },
   "outputs": [
    {
     "data": {
      "text/html": [
       "<div>\n",
       "<table border=\"1\" class=\"dataframe\">\n",
       "  <thead>\n",
       "    <tr style=\"text-align: right;\">\n",
       "      <th></th>\n",
       "      <th>C</th>\n",
       "      <th>bar</th>\n",
       "      <th>foo</th>\n",
       "    </tr>\n",
       "    <tr>\n",
       "      <th>A</th>\n",
       "      <th>B</th>\n",
       "      <th></th>\n",
       "      <th></th>\n",
       "    </tr>\n",
       "  </thead>\n",
       "  <tbody>\n",
       "    <tr>\n",
       "      <th rowspan=\"3\" valign=\"top\">one</th>\n",
       "      <th>A</th>\n",
       "      <td>0.192658</td>\n",
       "      <td>-0.246275</td>\n",
       "    </tr>\n",
       "    <tr>\n",
       "      <th>B</th>\n",
       "      <td>0.029947</td>\n",
       "      <td>0.477048</td>\n",
       "    </tr>\n",
       "    <tr>\n",
       "      <th>C</th>\n",
       "      <td>-0.777067</td>\n",
       "      <td>0.255505</td>\n",
       "    </tr>\n",
       "    <tr>\n",
       "      <th rowspan=\"3\" valign=\"top\">three</th>\n",
       "      <th>A</th>\n",
       "      <td>-0.007411</td>\n",
       "      <td>NaN</td>\n",
       "    </tr>\n",
       "    <tr>\n",
       "      <th>B</th>\n",
       "      <td>NaN</td>\n",
       "      <td>-0.661050</td>\n",
       "    </tr>\n",
       "    <tr>\n",
       "      <th>C</th>\n",
       "      <td>0.697549</td>\n",
       "      <td>NaN</td>\n",
       "    </tr>\n",
       "    <tr>\n",
       "      <th rowspan=\"3\" valign=\"top\">two</th>\n",
       "      <th>A</th>\n",
       "      <td>NaN</td>\n",
       "      <td>0.534013</td>\n",
       "    </tr>\n",
       "    <tr>\n",
       "      <th>B</th>\n",
       "      <td>0.391088</td>\n",
       "      <td>NaN</td>\n",
       "    </tr>\n",
       "    <tr>\n",
       "      <th>C</th>\n",
       "      <td>NaN</td>\n",
       "      <td>-0.623378</td>\n",
       "    </tr>\n",
       "  </tbody>\n",
       "</table>\n",
       "</div>"
      ],
      "text/plain": [
       "C             bar       foo\n",
       "A     B                    \n",
       "one   A  0.192658 -0.246275\n",
       "      B  0.029947  0.477048\n",
       "      C -0.777067  0.255505\n",
       "three A -0.007411       NaN\n",
       "      B       NaN -0.661050\n",
       "      C  0.697549       NaN\n",
       "two   A       NaN  0.534013\n",
       "      B  0.391088       NaN\n",
       "      C       NaN -0.623378"
      ]
     },
     "execution_count": 113,
     "metadata": {},
     "output_type": "execute_result"
    }
   ],
   "source": [
    "pd.pivot_table(df, values='D', index=['A', 'B'], columns=['C'])"
   ]
  },
  {
   "cell_type": "markdown",
   "metadata": {},
   "source": [
    "***\n",
    "## 10. Time Series"
   ]
  },
  {
   "cell_type": "code",
   "execution_count": 114,
   "metadata": {
    "collapsed": true
   },
   "outputs": [],
   "source": [
    "rng = pd.date_range('1/1/2016', periods=100, freq='S')"
   ]
  },
  {
   "cell_type": "code",
   "execution_count": 115,
   "metadata": {
    "collapsed": true
   },
   "outputs": [],
   "source": [
    "ts = pd.Series(np.random.randint(0, 500, len(rng)), index=rng)"
   ]
  },
  {
   "cell_type": "code",
   "execution_count": 116,
   "metadata": {
    "collapsed": false
   },
   "outputs": [
    {
     "data": {
      "text/plain": [
       "2016-01-01    24088\n",
       "Freq: 5T, dtype: int32"
      ]
     },
     "execution_count": 116,
     "metadata": {},
     "output_type": "execute_result"
    }
   ],
   "source": [
    "ts.resample('5Min').sum()"
   ]
  },
  {
   "cell_type": "code",
   "execution_count": 117,
   "metadata": {
    "collapsed": true
   },
   "outputs": [],
   "source": [
    "rng = pd.date_range('3/6/2016 00:00', periods=5, freq='D')"
   ]
  },
  {
   "cell_type": "code",
   "execution_count": 118,
   "metadata": {
    "collapsed": true
   },
   "outputs": [],
   "source": [
    "ts = pd.Series(np.random.randn(len(rng)), rng)\n"
   ]
  },
  {
   "cell_type": "code",
   "execution_count": 119,
   "metadata": {
    "collapsed": false
   },
   "outputs": [
    {
     "data": {
      "text/plain": [
       "2016-03-06   -0.619343\n",
       "2016-03-07   -0.162491\n",
       "2016-03-08    1.393714\n",
       "2016-03-09   -0.890372\n",
       "2016-03-10   -0.720020\n",
       "Freq: D, dtype: float64"
      ]
     },
     "execution_count": 119,
     "metadata": {},
     "output_type": "execute_result"
    }
   ],
   "source": [
    "ts"
   ]
  },
  {
   "cell_type": "code",
   "execution_count": 120,
   "metadata": {
    "collapsed": true
   },
   "outputs": [],
   "source": [
    "ts_utc = ts.tz_localize('UTC')"
   ]
  },
  {
   "cell_type": "code",
   "execution_count": 121,
   "metadata": {
    "collapsed": false
   },
   "outputs": [
    {
     "data": {
      "text/plain": [
       "2016-03-06 00:00:00+00:00   -0.619343\n",
       "2016-03-07 00:00:00+00:00   -0.162491\n",
       "2016-03-08 00:00:00+00:00    1.393714\n",
       "2016-03-09 00:00:00+00:00   -0.890372\n",
       "2016-03-10 00:00:00+00:00   -0.720020\n",
       "Freq: D, dtype: float64"
      ]
     },
     "execution_count": 121,
     "metadata": {},
     "output_type": "execute_result"
    }
   ],
   "source": [
    "ts_utc"
   ]
  },
  {
   "cell_type": "code",
   "execution_count": 122,
   "metadata": {
    "collapsed": false
   },
   "outputs": [
    {
     "data": {
      "text/plain": [
       "2016-03-05 19:00:00-05:00   -0.619343\n",
       "2016-03-06 19:00:00-05:00   -0.162491\n",
       "2016-03-07 19:00:00-05:00    1.393714\n",
       "2016-03-08 19:00:00-05:00   -0.890372\n",
       "2016-03-09 19:00:00-05:00   -0.720020\n",
       "Freq: D, dtype: float64"
      ]
     },
     "execution_count": 122,
     "metadata": {},
     "output_type": "execute_result"
    }
   ],
   "source": [
    "ts_utc.tz_convert('US/Eastern')"
   ]
  },
  {
   "cell_type": "code",
   "execution_count": 123,
   "metadata": {
    "collapsed": true
   },
   "outputs": [],
   "source": [
    "rng = pd.date_range('1/1/2012', periods=5, freq='M')"
   ]
  },
  {
   "cell_type": "code",
   "execution_count": 124,
   "metadata": {
    "collapsed": true
   },
   "outputs": [],
   "source": [
    "ts = pd.Series(np.random.randn(len(rng)), index=rng)"
   ]
  },
  {
   "cell_type": "code",
   "execution_count": 125,
   "metadata": {
    "collapsed": false
   },
   "outputs": [
    {
     "data": {
      "text/plain": [
       "2012-01-31   -1.221726\n",
       "2012-02-29   -0.580112\n",
       "2012-03-31    0.076303\n",
       "2012-04-30   -1.027228\n",
       "2012-05-31   -1.404714\n",
       "Freq: M, dtype: float64"
      ]
     },
     "execution_count": 125,
     "metadata": {},
     "output_type": "execute_result"
    }
   ],
   "source": [
    "ts"
   ]
  },
  {
   "cell_type": "code",
   "execution_count": 126,
   "metadata": {
    "collapsed": true
   },
   "outputs": [],
   "source": [
    "ps = ts.to_period()"
   ]
  },
  {
   "cell_type": "code",
   "execution_count": 127,
   "metadata": {
    "collapsed": false
   },
   "outputs": [
    {
     "data": {
      "text/plain": [
       "2012-01   -1.221726\n",
       "2012-02   -0.580112\n",
       "2012-03    0.076303\n",
       "2012-04   -1.027228\n",
       "2012-05   -1.404714\n",
       "Freq: M, dtype: float64"
      ]
     },
     "execution_count": 127,
     "metadata": {},
     "output_type": "execute_result"
    }
   ],
   "source": [
    "ps"
   ]
  },
  {
   "cell_type": "code",
   "execution_count": 128,
   "metadata": {
    "collapsed": false
   },
   "outputs": [
    {
     "data": {
      "text/plain": [
       "2012-01-01   -1.221726\n",
       "2012-02-01   -0.580112\n",
       "2012-03-01    0.076303\n",
       "2012-04-01   -1.027228\n",
       "2012-05-01   -1.404714\n",
       "Freq: MS, dtype: float64"
      ]
     },
     "execution_count": 128,
     "metadata": {},
     "output_type": "execute_result"
    }
   ],
   "source": [
    "ps.to_timestamp()"
   ]
  },
  {
   "cell_type": "code",
   "execution_count": 129,
   "metadata": {
    "collapsed": true
   },
   "outputs": [],
   "source": [
    "prng = pd.period_range('1990Q1', '2000Q4', freq='Q-NOV')"
   ]
  },
  {
   "cell_type": "code",
   "execution_count": 130,
   "metadata": {
    "collapsed": true
   },
   "outputs": [],
   "source": [
    "ts = pd.Series(np.random.randn(len(prng)), prng)\n"
   ]
  },
  {
   "cell_type": "code",
   "execution_count": 131,
   "metadata": {
    "collapsed": true
   },
   "outputs": [],
   "source": [
    "ts.index = (prng.asfreq('M', 'e') + 1).asfreq('H', 's') + 9"
   ]
  },
  {
   "cell_type": "code",
   "execution_count": 132,
   "metadata": {
    "collapsed": false
   },
   "outputs": [
    {
     "data": {
      "text/plain": [
       "1990-03-01 09:00   -1.958535\n",
       "1990-06-01 09:00    1.016182\n",
       "1990-09-01 09:00   -0.960091\n",
       "1990-12-01 09:00    0.166848\n",
       "1991-03-01 09:00   -0.669370\n",
       "Freq: H, dtype: float64"
      ]
     },
     "execution_count": 132,
     "metadata": {},
     "output_type": "execute_result"
    }
   ],
   "source": [
    "ts.head()"
   ]
  },
  {
   "cell_type": "markdown",
   "metadata": {},
   "source": [
    "***\n",
    "## 11. Categoricals "
   ]
  },
  {
   "cell_type": "code",
   "execution_count": 133,
   "metadata": {
    "collapsed": true
   },
   "outputs": [],
   "source": [
    "df = pd.DataFrame({\"id\":[1,2,3,4,5,6], \"raw_grade\":['a', 'b', 'b', 'a', 'a', 'e']})"
   ]
  },
  {
   "cell_type": "code",
   "execution_count": 134,
   "metadata": {
    "collapsed": true
   },
   "outputs": [],
   "source": [
    "df[\"grade\"] = df[\"raw_grade\"].astype(\"category\")"
   ]
  },
  {
   "cell_type": "code",
   "execution_count": 135,
   "metadata": {
    "collapsed": false
   },
   "outputs": [
    {
     "data": {
      "text/plain": [
       "0    a\n",
       "1    b\n",
       "2    b\n",
       "3    a\n",
       "4    a\n",
       "5    e\n",
       "Name: grade, dtype: category\n",
       "Categories (3, object): [a, b, e]"
      ]
     },
     "execution_count": 135,
     "metadata": {},
     "output_type": "execute_result"
    }
   ],
   "source": [
    "df[\"grade\"]\n"
   ]
  },
  {
   "cell_type": "code",
   "execution_count": 136,
   "metadata": {
    "collapsed": true
   },
   "outputs": [],
   "source": [
    "df[\"grade\"].cat.categories = [\"very good\", \"good\", \"very bad\"]"
   ]
  },
  {
   "cell_type": "code",
   "execution_count": 137,
   "metadata": {
    "collapsed": true
   },
   "outputs": [],
   "source": [
    "df[\"grade\"] = df[\"grade\"].cat.set_categories([\"very bad\", \"bad\", \"medium\", \"good\", \"very good\"])"
   ]
  },
  {
   "cell_type": "code",
   "execution_count": 138,
   "metadata": {
    "collapsed": false
   },
   "outputs": [
    {
     "data": {
      "text/plain": [
       "0    very good\n",
       "1         good\n",
       "2         good\n",
       "3    very good\n",
       "4    very good\n",
       "5     very bad\n",
       "Name: grade, dtype: category\n",
       "Categories (5, object): [very bad, bad, medium, good, very good]"
      ]
     },
     "execution_count": 138,
     "metadata": {},
     "output_type": "execute_result"
    }
   ],
   "source": [
    "df[\"grade\"]"
   ]
  },
  {
   "cell_type": "code",
   "execution_count": 139,
   "metadata": {
    "collapsed": false
   },
   "outputs": [
    {
     "data": {
      "text/html": [
       "<div>\n",
       "<table border=\"1\" class=\"dataframe\">\n",
       "  <thead>\n",
       "    <tr style=\"text-align: right;\">\n",
       "      <th></th>\n",
       "      <th>id</th>\n",
       "      <th>raw_grade</th>\n",
       "      <th>grade</th>\n",
       "    </tr>\n",
       "  </thead>\n",
       "  <tbody>\n",
       "    <tr>\n",
       "      <th>5</th>\n",
       "      <td>6</td>\n",
       "      <td>e</td>\n",
       "      <td>very bad</td>\n",
       "    </tr>\n",
       "    <tr>\n",
       "      <th>1</th>\n",
       "      <td>2</td>\n",
       "      <td>b</td>\n",
       "      <td>good</td>\n",
       "    </tr>\n",
       "    <tr>\n",
       "      <th>2</th>\n",
       "      <td>3</td>\n",
       "      <td>b</td>\n",
       "      <td>good</td>\n",
       "    </tr>\n",
       "    <tr>\n",
       "      <th>0</th>\n",
       "      <td>1</td>\n",
       "      <td>a</td>\n",
       "      <td>very good</td>\n",
       "    </tr>\n",
       "    <tr>\n",
       "      <th>3</th>\n",
       "      <td>4</td>\n",
       "      <td>a</td>\n",
       "      <td>very good</td>\n",
       "    </tr>\n",
       "    <tr>\n",
       "      <th>4</th>\n",
       "      <td>5</td>\n",
       "      <td>a</td>\n",
       "      <td>very good</td>\n",
       "    </tr>\n",
       "  </tbody>\n",
       "</table>\n",
       "</div>"
      ],
      "text/plain": [
       "   id raw_grade      grade\n",
       "5   6         e   very bad\n",
       "1   2         b       good\n",
       "2   3         b       good\n",
       "0   1         a  very good\n",
       "3   4         a  very good\n",
       "4   5         a  very good"
      ]
     },
     "execution_count": 139,
     "metadata": {},
     "output_type": "execute_result"
    }
   ],
   "source": [
    "df.sort_values(by=\"grade\")"
   ]
  },
  {
   "cell_type": "code",
   "execution_count": 140,
   "metadata": {
    "collapsed": false
   },
   "outputs": [
    {
     "data": {
      "text/plain": [
       "grade\n",
       "very bad     1\n",
       "bad          0\n",
       "medium       0\n",
       "good         2\n",
       "very good    3\n",
       "dtype: int64"
      ]
     },
     "execution_count": 140,
     "metadata": {},
     "output_type": "execute_result"
    }
   ],
   "source": [
    "df.groupby(\"grade\").size()"
   ]
  },
  {
   "cell_type": "markdown",
   "metadata": {},
   "source": [
    "***\n",
    "## 12. Plotting"
   ]
  },
  {
   "cell_type": "code",
   "execution_count": 141,
   "metadata": {
    "collapsed": true
   },
   "outputs": [],
   "source": [
    "ts = pd.Series(np.random.randn(1000), index=pd.date_range('1/1/2000', periods=1000))"
   ]
  },
  {
   "cell_type": "code",
   "execution_count": 142,
   "metadata": {
    "collapsed": true
   },
   "outputs": [],
   "source": [
    "ts = ts.cumsum()"
   ]
  },
  {
   "cell_type": "code",
   "execution_count": 143,
   "metadata": {
    "collapsed": false
   },
   "outputs": [
    {
     "data": {
      "text/plain": [
       "<matplotlib.axes._subplots.AxesSubplot at 0x9425400>"
      ]
     },
     "execution_count": 143,
     "metadata": {},
     "output_type": "execute_result"
    }
   ],
   "source": [
    "ts.plot()"
   ]
  },
  {
   "cell_type": "code",
   "execution_count": 144,
   "metadata": {
    "collapsed": true
   },
   "outputs": [],
   "source": [
    "df = pd.DataFrame(np.random.randn(1000, 4), index=ts.index,\n",
    "                  columns=['A', 'B', 'C', 'D'])"
   ]
  },
  {
   "cell_type": "code",
   "execution_count": 145,
   "metadata": {
    "collapsed": true
   },
   "outputs": [],
   "source": [
    "df = df.cumsum()"
   ]
  },
  {
   "cell_type": "code",
   "execution_count": 146,
   "metadata": {
    "collapsed": false
   },
   "outputs": [
    {
     "data": {
      "text/plain": [
       "<matplotlib.legend.Legend at 0x9425f98>"
      ]
     },
     "execution_count": 146,
     "metadata": {},
     "output_type": "execute_result"
    }
   ],
   "source": [
    "plt.figure(); df.plot(); plt.legend(loc='best')"
   ]
  },
  {
   "cell_type": "markdown",
   "metadata": {},
   "source": [
    "***\n",
    "## 13. Getting Data In/Out\n",
    "### 13.1 CSV"
   ]
  },
  {
   "cell_type": "code",
   "execution_count": 147,
   "metadata": {
    "collapsed": true
   },
   "outputs": [],
   "source": [
    "df.to_csv('foo.csv')"
   ]
  },
  {
   "cell_type": "code",
   "execution_count": 148,
   "metadata": {
    "collapsed": false
   },
   "outputs": [
    {
     "data": {
      "text/html": [
       "<div>\n",
       "<table border=\"1\" class=\"dataframe\">\n",
       "  <thead>\n",
       "    <tr style=\"text-align: right;\">\n",
       "      <th></th>\n",
       "      <th>Unnamed: 0</th>\n",
       "      <th>A</th>\n",
       "      <th>B</th>\n",
       "      <th>C</th>\n",
       "      <th>D</th>\n",
       "    </tr>\n",
       "  </thead>\n",
       "  <tbody>\n",
       "    <tr>\n",
       "      <th>0</th>\n",
       "      <td>2000-01-01</td>\n",
       "      <td>0.125963</td>\n",
       "      <td>-0.578460</td>\n",
       "      <td>1.042439</td>\n",
       "      <td>-0.794426</td>\n",
       "    </tr>\n",
       "    <tr>\n",
       "      <th>1</th>\n",
       "      <td>2000-01-02</td>\n",
       "      <td>-0.676516</td>\n",
       "      <td>-1.292368</td>\n",
       "      <td>0.784075</td>\n",
       "      <td>1.083318</td>\n",
       "    </tr>\n",
       "    <tr>\n",
       "      <th>2</th>\n",
       "      <td>2000-01-03</td>\n",
       "      <td>-0.494540</td>\n",
       "      <td>-2.179246</td>\n",
       "      <td>0.066460</td>\n",
       "      <td>4.513711</td>\n",
       "    </tr>\n",
       "    <tr>\n",
       "      <th>3</th>\n",
       "      <td>2000-01-04</td>\n",
       "      <td>-0.461766</td>\n",
       "      <td>-2.079718</td>\n",
       "      <td>-0.137835</td>\n",
       "      <td>4.093688</td>\n",
       "    </tr>\n",
       "    <tr>\n",
       "      <th>4</th>\n",
       "      <td>2000-01-05</td>\n",
       "      <td>-1.960442</td>\n",
       "      <td>-1.825936</td>\n",
       "      <td>1.171447</td>\n",
       "      <td>6.590814</td>\n",
       "    </tr>\n",
       "    <tr>\n",
       "      <th>5</th>\n",
       "      <td>2000-01-06</td>\n",
       "      <td>-1.867356</td>\n",
       "      <td>-1.168478</td>\n",
       "      <td>1.707503</td>\n",
       "      <td>5.274376</td>\n",
       "    </tr>\n",
       "    <tr>\n",
       "      <th>6</th>\n",
       "      <td>2000-01-07</td>\n",
       "      <td>-1.828050</td>\n",
       "      <td>0.658011</td>\n",
       "      <td>1.246147</td>\n",
       "      <td>6.083983</td>\n",
       "    </tr>\n",
       "    <tr>\n",
       "      <th>7</th>\n",
       "      <td>2000-01-08</td>\n",
       "      <td>-1.570826</td>\n",
       "      <td>-0.238284</td>\n",
       "      <td>1.974935</td>\n",
       "      <td>5.667500</td>\n",
       "    </tr>\n",
       "    <tr>\n",
       "      <th>8</th>\n",
       "      <td>2000-01-09</td>\n",
       "      <td>-2.542094</td>\n",
       "      <td>-1.394416</td>\n",
       "      <td>0.548245</td>\n",
       "      <td>5.675005</td>\n",
       "    </tr>\n",
       "    <tr>\n",
       "      <th>9</th>\n",
       "      <td>2000-01-10</td>\n",
       "      <td>-1.350773</td>\n",
       "      <td>-1.971715</td>\n",
       "      <td>0.485087</td>\n",
       "      <td>6.380812</td>\n",
       "    </tr>\n",
       "    <tr>\n",
       "      <th>10</th>\n",
       "      <td>2000-01-11</td>\n",
       "      <td>-2.791340</td>\n",
       "      <td>-2.073583</td>\n",
       "      <td>0.908680</td>\n",
       "      <td>5.386434</td>\n",
       "    </tr>\n",
       "    <tr>\n",
       "      <th>11</th>\n",
       "      <td>2000-01-12</td>\n",
       "      <td>-3.578275</td>\n",
       "      <td>-1.470668</td>\n",
       "      <td>0.936311</td>\n",
       "      <td>5.816716</td>\n",
       "    </tr>\n",
       "    <tr>\n",
       "      <th>12</th>\n",
       "      <td>2000-01-13</td>\n",
       "      <td>-4.446706</td>\n",
       "      <td>-3.973214</td>\n",
       "      <td>0.279952</td>\n",
       "      <td>6.096146</td>\n",
       "    </tr>\n",
       "    <tr>\n",
       "      <th>13</th>\n",
       "      <td>2000-01-14</td>\n",
       "      <td>-4.551872</td>\n",
       "      <td>-3.562373</td>\n",
       "      <td>-0.184510</td>\n",
       "      <td>5.724160</td>\n",
       "    </tr>\n",
       "    <tr>\n",
       "      <th>14</th>\n",
       "      <td>2000-01-15</td>\n",
       "      <td>-4.157203</td>\n",
       "      <td>-3.766302</td>\n",
       "      <td>-0.749773</td>\n",
       "      <td>7.467856</td>\n",
       "    </tr>\n",
       "    <tr>\n",
       "      <th>15</th>\n",
       "      <td>2000-01-16</td>\n",
       "      <td>-4.910986</td>\n",
       "      <td>-0.598528</td>\n",
       "      <td>0.526357</td>\n",
       "      <td>7.761042</td>\n",
       "    </tr>\n",
       "    <tr>\n",
       "      <th>16</th>\n",
       "      <td>2000-01-17</td>\n",
       "      <td>-3.515805</td>\n",
       "      <td>-1.229725</td>\n",
       "      <td>-1.087933</td>\n",
       "      <td>9.404437</td>\n",
       "    </tr>\n",
       "    <tr>\n",
       "      <th>17</th>\n",
       "      <td>2000-01-18</td>\n",
       "      <td>-2.640268</td>\n",
       "      <td>-1.212163</td>\n",
       "      <td>-0.431603</td>\n",
       "      <td>9.161110</td>\n",
       "    </tr>\n",
       "    <tr>\n",
       "      <th>18</th>\n",
       "      <td>2000-01-19</td>\n",
       "      <td>-3.225464</td>\n",
       "      <td>-2.956171</td>\n",
       "      <td>0.513889</td>\n",
       "      <td>9.560046</td>\n",
       "    </tr>\n",
       "    <tr>\n",
       "      <th>19</th>\n",
       "      <td>2000-01-20</td>\n",
       "      <td>-2.442082</td>\n",
       "      <td>-3.774900</td>\n",
       "      <td>1.089428</td>\n",
       "      <td>8.281341</td>\n",
       "    </tr>\n",
       "    <tr>\n",
       "      <th>20</th>\n",
       "      <td>2000-01-21</td>\n",
       "      <td>-1.324239</td>\n",
       "      <td>-3.730762</td>\n",
       "      <td>1.764860</td>\n",
       "      <td>9.196044</td>\n",
       "    </tr>\n",
       "    <tr>\n",
       "      <th>21</th>\n",
       "      <td>2000-01-22</td>\n",
       "      <td>-1.155599</td>\n",
       "      <td>-3.567743</td>\n",
       "      <td>2.818899</td>\n",
       "      <td>9.688366</td>\n",
       "    </tr>\n",
       "    <tr>\n",
       "      <th>22</th>\n",
       "      <td>2000-01-23</td>\n",
       "      <td>-3.218550</td>\n",
       "      <td>-3.800866</td>\n",
       "      <td>4.523380</td>\n",
       "      <td>9.466009</td>\n",
       "    </tr>\n",
       "    <tr>\n",
       "      <th>23</th>\n",
       "      <td>2000-01-24</td>\n",
       "      <td>-2.490423</td>\n",
       "      <td>-2.383205</td>\n",
       "      <td>4.818459</td>\n",
       "      <td>10.073114</td>\n",
       "    </tr>\n",
       "    <tr>\n",
       "      <th>24</th>\n",
       "      <td>2000-01-25</td>\n",
       "      <td>-3.441684</td>\n",
       "      <td>-2.687965</td>\n",
       "      <td>4.309607</td>\n",
       "      <td>12.407382</td>\n",
       "    </tr>\n",
       "    <tr>\n",
       "      <th>25</th>\n",
       "      <td>2000-01-26</td>\n",
       "      <td>-4.321988</td>\n",
       "      <td>-3.953600</td>\n",
       "      <td>3.558596</td>\n",
       "      <td>11.957462</td>\n",
       "    </tr>\n",
       "    <tr>\n",
       "      <th>26</th>\n",
       "      <td>2000-01-27</td>\n",
       "      <td>-5.702061</td>\n",
       "      <td>-3.343025</td>\n",
       "      <td>2.469913</td>\n",
       "      <td>11.601112</td>\n",
       "    </tr>\n",
       "    <tr>\n",
       "      <th>27</th>\n",
       "      <td>2000-01-28</td>\n",
       "      <td>-6.528327</td>\n",
       "      <td>-3.781293</td>\n",
       "      <td>1.668154</td>\n",
       "      <td>11.697453</td>\n",
       "    </tr>\n",
       "    <tr>\n",
       "      <th>28</th>\n",
       "      <td>2000-01-29</td>\n",
       "      <td>-6.767440</td>\n",
       "      <td>-4.694028</td>\n",
       "      <td>0.856874</td>\n",
       "      <td>13.003760</td>\n",
       "    </tr>\n",
       "    <tr>\n",
       "      <th>29</th>\n",
       "      <td>2000-01-30</td>\n",
       "      <td>-7.388600</td>\n",
       "      <td>-4.554101</td>\n",
       "      <td>0.548668</td>\n",
       "      <td>13.747894</td>\n",
       "    </tr>\n",
       "    <tr>\n",
       "      <th>...</th>\n",
       "      <td>...</td>\n",
       "      <td>...</td>\n",
       "      <td>...</td>\n",
       "      <td>...</td>\n",
       "      <td>...</td>\n",
       "    </tr>\n",
       "    <tr>\n",
       "      <th>970</th>\n",
       "      <td>2002-08-28</td>\n",
       "      <td>-7.908278</td>\n",
       "      <td>67.549085</td>\n",
       "      <td>8.481348</td>\n",
       "      <td>55.341907</td>\n",
       "    </tr>\n",
       "    <tr>\n",
       "      <th>971</th>\n",
       "      <td>2002-08-29</td>\n",
       "      <td>-8.128910</td>\n",
       "      <td>67.150649</td>\n",
       "      <td>8.817702</td>\n",
       "      <td>55.109688</td>\n",
       "    </tr>\n",
       "    <tr>\n",
       "      <th>972</th>\n",
       "      <td>2002-08-30</td>\n",
       "      <td>-8.216664</td>\n",
       "      <td>65.343380</td>\n",
       "      <td>8.530661</td>\n",
       "      <td>55.950869</td>\n",
       "    </tr>\n",
       "    <tr>\n",
       "      <th>973</th>\n",
       "      <td>2002-08-31</td>\n",
       "      <td>-9.121734</td>\n",
       "      <td>64.406376</td>\n",
       "      <td>9.017284</td>\n",
       "      <td>55.496892</td>\n",
       "    </tr>\n",
       "    <tr>\n",
       "      <th>974</th>\n",
       "      <td>2002-09-01</td>\n",
       "      <td>-8.410777</td>\n",
       "      <td>62.922854</td>\n",
       "      <td>8.238338</td>\n",
       "      <td>54.586776</td>\n",
       "    </tr>\n",
       "    <tr>\n",
       "      <th>975</th>\n",
       "      <td>2002-09-02</td>\n",
       "      <td>-8.103669</td>\n",
       "      <td>61.749448</td>\n",
       "      <td>10.218478</td>\n",
       "      <td>53.938747</td>\n",
       "    </tr>\n",
       "    <tr>\n",
       "      <th>976</th>\n",
       "      <td>2002-09-03</td>\n",
       "      <td>-9.672449</td>\n",
       "      <td>62.462627</td>\n",
       "      <td>11.039267</td>\n",
       "      <td>52.898175</td>\n",
       "    </tr>\n",
       "    <tr>\n",
       "      <th>977</th>\n",
       "      <td>2002-09-04</td>\n",
       "      <td>-9.412903</td>\n",
       "      <td>62.759808</td>\n",
       "      <td>12.007455</td>\n",
       "      <td>52.728789</td>\n",
       "    </tr>\n",
       "    <tr>\n",
       "      <th>978</th>\n",
       "      <td>2002-09-05</td>\n",
       "      <td>-10.366034</td>\n",
       "      <td>62.919164</td>\n",
       "      <td>13.183812</td>\n",
       "      <td>54.251448</td>\n",
       "    </tr>\n",
       "    <tr>\n",
       "      <th>979</th>\n",
       "      <td>2002-09-06</td>\n",
       "      <td>-10.748470</td>\n",
       "      <td>61.157973</td>\n",
       "      <td>12.813521</td>\n",
       "      <td>53.950311</td>\n",
       "    </tr>\n",
       "    <tr>\n",
       "      <th>980</th>\n",
       "      <td>2002-09-07</td>\n",
       "      <td>-11.423547</td>\n",
       "      <td>61.792282</td>\n",
       "      <td>13.519785</td>\n",
       "      <td>54.347509</td>\n",
       "    </tr>\n",
       "    <tr>\n",
       "      <th>981</th>\n",
       "      <td>2002-09-08</td>\n",
       "      <td>-12.029402</td>\n",
       "      <td>61.334283</td>\n",
       "      <td>13.374723</td>\n",
       "      <td>52.632623</td>\n",
       "    </tr>\n",
       "    <tr>\n",
       "      <th>982</th>\n",
       "      <td>2002-09-09</td>\n",
       "      <td>-12.527795</td>\n",
       "      <td>59.875346</td>\n",
       "      <td>12.863937</td>\n",
       "      <td>53.800697</td>\n",
       "    </tr>\n",
       "    <tr>\n",
       "      <th>983</th>\n",
       "      <td>2002-09-10</td>\n",
       "      <td>-13.929847</td>\n",
       "      <td>58.148292</td>\n",
       "      <td>13.128094</td>\n",
       "      <td>52.808896</td>\n",
       "    </tr>\n",
       "    <tr>\n",
       "      <th>984</th>\n",
       "      <td>2002-09-11</td>\n",
       "      <td>-14.818756</td>\n",
       "      <td>59.700040</td>\n",
       "      <td>13.229521</td>\n",
       "      <td>51.702282</td>\n",
       "    </tr>\n",
       "    <tr>\n",
       "      <th>985</th>\n",
       "      <td>2002-09-12</td>\n",
       "      <td>-15.012070</td>\n",
       "      <td>57.847942</td>\n",
       "      <td>13.606299</td>\n",
       "      <td>52.934429</td>\n",
       "    </tr>\n",
       "    <tr>\n",
       "      <th>986</th>\n",
       "      <td>2002-09-13</td>\n",
       "      <td>-13.845210</td>\n",
       "      <td>59.577935</td>\n",
       "      <td>14.005210</td>\n",
       "      <td>50.751627</td>\n",
       "    </tr>\n",
       "    <tr>\n",
       "      <th>987</th>\n",
       "      <td>2002-09-14</td>\n",
       "      <td>-14.045836</td>\n",
       "      <td>62.163106</td>\n",
       "      <td>12.932669</td>\n",
       "      <td>49.688364</td>\n",
       "    </tr>\n",
       "    <tr>\n",
       "      <th>988</th>\n",
       "      <td>2002-09-15</td>\n",
       "      <td>-14.196020</td>\n",
       "      <td>61.730328</td>\n",
       "      <td>12.832613</td>\n",
       "      <td>48.154940</td>\n",
       "    </tr>\n",
       "    <tr>\n",
       "      <th>989</th>\n",
       "      <td>2002-09-16</td>\n",
       "      <td>-15.191746</td>\n",
       "      <td>62.294683</td>\n",
       "      <td>13.856687</td>\n",
       "      <td>49.887823</td>\n",
       "    </tr>\n",
       "    <tr>\n",
       "      <th>990</th>\n",
       "      <td>2002-09-17</td>\n",
       "      <td>-15.290523</td>\n",
       "      <td>63.680458</td>\n",
       "      <td>14.309165</td>\n",
       "      <td>49.420372</td>\n",
       "    </tr>\n",
       "    <tr>\n",
       "      <th>991</th>\n",
       "      <td>2002-09-18</td>\n",
       "      <td>-16.129355</td>\n",
       "      <td>64.420943</td>\n",
       "      <td>13.183267</td>\n",
       "      <td>48.928589</td>\n",
       "    </tr>\n",
       "    <tr>\n",
       "      <th>992</th>\n",
       "      <td>2002-09-19</td>\n",
       "      <td>-14.745993</td>\n",
       "      <td>65.465462</td>\n",
       "      <td>14.336667</td>\n",
       "      <td>50.079375</td>\n",
       "    </tr>\n",
       "    <tr>\n",
       "      <th>993</th>\n",
       "      <td>2002-09-20</td>\n",
       "      <td>-15.827745</td>\n",
       "      <td>65.751390</td>\n",
       "      <td>16.602462</td>\n",
       "      <td>50.807834</td>\n",
       "    </tr>\n",
       "    <tr>\n",
       "      <th>994</th>\n",
       "      <td>2002-09-21</td>\n",
       "      <td>-13.486618</td>\n",
       "      <td>66.382894</td>\n",
       "      <td>18.519098</td>\n",
       "      <td>52.270327</td>\n",
       "    </tr>\n",
       "    <tr>\n",
       "      <th>995</th>\n",
       "      <td>2002-09-22</td>\n",
       "      <td>-13.312867</td>\n",
       "      <td>65.983486</td>\n",
       "      <td>19.445455</td>\n",
       "      <td>52.045869</td>\n",
       "    </tr>\n",
       "    <tr>\n",
       "      <th>996</th>\n",
       "      <td>2002-09-23</td>\n",
       "      <td>-15.079412</td>\n",
       "      <td>66.649144</td>\n",
       "      <td>21.053095</td>\n",
       "      <td>50.691459</td>\n",
       "    </tr>\n",
       "    <tr>\n",
       "      <th>997</th>\n",
       "      <td>2002-09-24</td>\n",
       "      <td>-14.383469</td>\n",
       "      <td>66.291947</td>\n",
       "      <td>20.801361</td>\n",
       "      <td>50.941442</td>\n",
       "    </tr>\n",
       "    <tr>\n",
       "      <th>998</th>\n",
       "      <td>2002-09-25</td>\n",
       "      <td>-16.342273</td>\n",
       "      <td>67.149825</td>\n",
       "      <td>19.704903</td>\n",
       "      <td>49.579112</td>\n",
       "    </tr>\n",
       "    <tr>\n",
       "      <th>999</th>\n",
       "      <td>2002-09-26</td>\n",
       "      <td>-15.230032</td>\n",
       "      <td>68.245307</td>\n",
       "      <td>20.457175</td>\n",
       "      <td>48.967932</td>\n",
       "    </tr>\n",
       "  </tbody>\n",
       "</table>\n",
       "<p>1000 rows × 5 columns</p>\n",
       "</div>"
      ],
      "text/plain": [
       "     Unnamed: 0          A          B          C          D\n",
       "0    2000-01-01   0.125963  -0.578460   1.042439  -0.794426\n",
       "1    2000-01-02  -0.676516  -1.292368   0.784075   1.083318\n",
       "2    2000-01-03  -0.494540  -2.179246   0.066460   4.513711\n",
       "3    2000-01-04  -0.461766  -2.079718  -0.137835   4.093688\n",
       "4    2000-01-05  -1.960442  -1.825936   1.171447   6.590814\n",
       "5    2000-01-06  -1.867356  -1.168478   1.707503   5.274376\n",
       "6    2000-01-07  -1.828050   0.658011   1.246147   6.083983\n",
       "7    2000-01-08  -1.570826  -0.238284   1.974935   5.667500\n",
       "8    2000-01-09  -2.542094  -1.394416   0.548245   5.675005\n",
       "9    2000-01-10  -1.350773  -1.971715   0.485087   6.380812\n",
       "10   2000-01-11  -2.791340  -2.073583   0.908680   5.386434\n",
       "11   2000-01-12  -3.578275  -1.470668   0.936311   5.816716\n",
       "12   2000-01-13  -4.446706  -3.973214   0.279952   6.096146\n",
       "13   2000-01-14  -4.551872  -3.562373  -0.184510   5.724160\n",
       "14   2000-01-15  -4.157203  -3.766302  -0.749773   7.467856\n",
       "15   2000-01-16  -4.910986  -0.598528   0.526357   7.761042\n",
       "16   2000-01-17  -3.515805  -1.229725  -1.087933   9.404437\n",
       "17   2000-01-18  -2.640268  -1.212163  -0.431603   9.161110\n",
       "18   2000-01-19  -3.225464  -2.956171   0.513889   9.560046\n",
       "19   2000-01-20  -2.442082  -3.774900   1.089428   8.281341\n",
       "20   2000-01-21  -1.324239  -3.730762   1.764860   9.196044\n",
       "21   2000-01-22  -1.155599  -3.567743   2.818899   9.688366\n",
       "22   2000-01-23  -3.218550  -3.800866   4.523380   9.466009\n",
       "23   2000-01-24  -2.490423  -2.383205   4.818459  10.073114\n",
       "24   2000-01-25  -3.441684  -2.687965   4.309607  12.407382\n",
       "25   2000-01-26  -4.321988  -3.953600   3.558596  11.957462\n",
       "26   2000-01-27  -5.702061  -3.343025   2.469913  11.601112\n",
       "27   2000-01-28  -6.528327  -3.781293   1.668154  11.697453\n",
       "28   2000-01-29  -6.767440  -4.694028   0.856874  13.003760\n",
       "29   2000-01-30  -7.388600  -4.554101   0.548668  13.747894\n",
       "..          ...        ...        ...        ...        ...\n",
       "970  2002-08-28  -7.908278  67.549085   8.481348  55.341907\n",
       "971  2002-08-29  -8.128910  67.150649   8.817702  55.109688\n",
       "972  2002-08-30  -8.216664  65.343380   8.530661  55.950869\n",
       "973  2002-08-31  -9.121734  64.406376   9.017284  55.496892\n",
       "974  2002-09-01  -8.410777  62.922854   8.238338  54.586776\n",
       "975  2002-09-02  -8.103669  61.749448  10.218478  53.938747\n",
       "976  2002-09-03  -9.672449  62.462627  11.039267  52.898175\n",
       "977  2002-09-04  -9.412903  62.759808  12.007455  52.728789\n",
       "978  2002-09-05 -10.366034  62.919164  13.183812  54.251448\n",
       "979  2002-09-06 -10.748470  61.157973  12.813521  53.950311\n",
       "980  2002-09-07 -11.423547  61.792282  13.519785  54.347509\n",
       "981  2002-09-08 -12.029402  61.334283  13.374723  52.632623\n",
       "982  2002-09-09 -12.527795  59.875346  12.863937  53.800697\n",
       "983  2002-09-10 -13.929847  58.148292  13.128094  52.808896\n",
       "984  2002-09-11 -14.818756  59.700040  13.229521  51.702282\n",
       "985  2002-09-12 -15.012070  57.847942  13.606299  52.934429\n",
       "986  2002-09-13 -13.845210  59.577935  14.005210  50.751627\n",
       "987  2002-09-14 -14.045836  62.163106  12.932669  49.688364\n",
       "988  2002-09-15 -14.196020  61.730328  12.832613  48.154940\n",
       "989  2002-09-16 -15.191746  62.294683  13.856687  49.887823\n",
       "990  2002-09-17 -15.290523  63.680458  14.309165  49.420372\n",
       "991  2002-09-18 -16.129355  64.420943  13.183267  48.928589\n",
       "992  2002-09-19 -14.745993  65.465462  14.336667  50.079375\n",
       "993  2002-09-20 -15.827745  65.751390  16.602462  50.807834\n",
       "994  2002-09-21 -13.486618  66.382894  18.519098  52.270327\n",
       "995  2002-09-22 -13.312867  65.983486  19.445455  52.045869\n",
       "996  2002-09-23 -15.079412  66.649144  21.053095  50.691459\n",
       "997  2002-09-24 -14.383469  66.291947  20.801361  50.941442\n",
       "998  2002-09-25 -16.342273  67.149825  19.704903  49.579112\n",
       "999  2002-09-26 -15.230032  68.245307  20.457175  48.967932\n",
       "\n",
       "[1000 rows x 5 columns]"
      ]
     },
     "execution_count": 148,
     "metadata": {},
     "output_type": "execute_result"
    }
   ],
   "source": [
    "pd.read_csv('foo.csv')"
   ]
  },
  {
   "cell_type": "markdown",
   "metadata": {},
   "source": [
    "### 13.2. HDF5"
   ]
  },
  {
   "cell_type": "code",
   "execution_count": 149,
   "metadata": {
    "collapsed": true
   },
   "outputs": [],
   "source": [
    "df.to_hdf('foo.h5','df')"
   ]
  },
  {
   "cell_type": "code",
   "execution_count": 150,
   "metadata": {
    "collapsed": false
   },
   "outputs": [
    {
     "data": {
      "text/html": [
       "<div>\n",
       "<table border=\"1\" class=\"dataframe\">\n",
       "  <thead>\n",
       "    <tr style=\"text-align: right;\">\n",
       "      <th></th>\n",
       "      <th>A</th>\n",
       "      <th>B</th>\n",
       "      <th>C</th>\n",
       "      <th>D</th>\n",
       "    </tr>\n",
       "  </thead>\n",
       "  <tbody>\n",
       "    <tr>\n",
       "      <th>2000-01-01</th>\n",
       "      <td>0.125963</td>\n",
       "      <td>-0.578460</td>\n",
       "      <td>1.042439</td>\n",
       "      <td>-0.794426</td>\n",
       "    </tr>\n",
       "    <tr>\n",
       "      <th>2000-01-02</th>\n",
       "      <td>-0.676516</td>\n",
       "      <td>-1.292368</td>\n",
       "      <td>0.784075</td>\n",
       "      <td>1.083318</td>\n",
       "    </tr>\n",
       "    <tr>\n",
       "      <th>2000-01-03</th>\n",
       "      <td>-0.494540</td>\n",
       "      <td>-2.179246</td>\n",
       "      <td>0.066460</td>\n",
       "      <td>4.513711</td>\n",
       "    </tr>\n",
       "    <tr>\n",
       "      <th>2000-01-04</th>\n",
       "      <td>-0.461766</td>\n",
       "      <td>-2.079718</td>\n",
       "      <td>-0.137835</td>\n",
       "      <td>4.093688</td>\n",
       "    </tr>\n",
       "    <tr>\n",
       "      <th>2000-01-05</th>\n",
       "      <td>-1.960442</td>\n",
       "      <td>-1.825936</td>\n",
       "      <td>1.171447</td>\n",
       "      <td>6.590814</td>\n",
       "    </tr>\n",
       "    <tr>\n",
       "      <th>2000-01-06</th>\n",
       "      <td>-1.867356</td>\n",
       "      <td>-1.168478</td>\n",
       "      <td>1.707503</td>\n",
       "      <td>5.274376</td>\n",
       "    </tr>\n",
       "    <tr>\n",
       "      <th>2000-01-07</th>\n",
       "      <td>-1.828050</td>\n",
       "      <td>0.658011</td>\n",
       "      <td>1.246147</td>\n",
       "      <td>6.083983</td>\n",
       "    </tr>\n",
       "    <tr>\n",
       "      <th>2000-01-08</th>\n",
       "      <td>-1.570826</td>\n",
       "      <td>-0.238284</td>\n",
       "      <td>1.974935</td>\n",
       "      <td>5.667500</td>\n",
       "    </tr>\n",
       "    <tr>\n",
       "      <th>2000-01-09</th>\n",
       "      <td>-2.542094</td>\n",
       "      <td>-1.394416</td>\n",
       "      <td>0.548245</td>\n",
       "      <td>5.675005</td>\n",
       "    </tr>\n",
       "    <tr>\n",
       "      <th>2000-01-10</th>\n",
       "      <td>-1.350773</td>\n",
       "      <td>-1.971715</td>\n",
       "      <td>0.485087</td>\n",
       "      <td>6.380812</td>\n",
       "    </tr>\n",
       "    <tr>\n",
       "      <th>2000-01-11</th>\n",
       "      <td>-2.791340</td>\n",
       "      <td>-2.073583</td>\n",
       "      <td>0.908680</td>\n",
       "      <td>5.386434</td>\n",
       "    </tr>\n",
       "    <tr>\n",
       "      <th>2000-01-12</th>\n",
       "      <td>-3.578275</td>\n",
       "      <td>-1.470668</td>\n",
       "      <td>0.936311</td>\n",
       "      <td>5.816716</td>\n",
       "    </tr>\n",
       "    <tr>\n",
       "      <th>2000-01-13</th>\n",
       "      <td>-4.446706</td>\n",
       "      <td>-3.973214</td>\n",
       "      <td>0.279952</td>\n",
       "      <td>6.096146</td>\n",
       "    </tr>\n",
       "    <tr>\n",
       "      <th>2000-01-14</th>\n",
       "      <td>-4.551872</td>\n",
       "      <td>-3.562373</td>\n",
       "      <td>-0.184510</td>\n",
       "      <td>5.724160</td>\n",
       "    </tr>\n",
       "    <tr>\n",
       "      <th>2000-01-15</th>\n",
       "      <td>-4.157203</td>\n",
       "      <td>-3.766302</td>\n",
       "      <td>-0.749773</td>\n",
       "      <td>7.467856</td>\n",
       "    </tr>\n",
       "    <tr>\n",
       "      <th>2000-01-16</th>\n",
       "      <td>-4.910986</td>\n",
       "      <td>-0.598528</td>\n",
       "      <td>0.526357</td>\n",
       "      <td>7.761042</td>\n",
       "    </tr>\n",
       "    <tr>\n",
       "      <th>2000-01-17</th>\n",
       "      <td>-3.515805</td>\n",
       "      <td>-1.229725</td>\n",
       "      <td>-1.087933</td>\n",
       "      <td>9.404437</td>\n",
       "    </tr>\n",
       "    <tr>\n",
       "      <th>2000-01-18</th>\n",
       "      <td>-2.640268</td>\n",
       "      <td>-1.212163</td>\n",
       "      <td>-0.431603</td>\n",
       "      <td>9.161110</td>\n",
       "    </tr>\n",
       "    <tr>\n",
       "      <th>2000-01-19</th>\n",
       "      <td>-3.225464</td>\n",
       "      <td>-2.956171</td>\n",
       "      <td>0.513889</td>\n",
       "      <td>9.560046</td>\n",
       "    </tr>\n",
       "    <tr>\n",
       "      <th>2000-01-20</th>\n",
       "      <td>-2.442082</td>\n",
       "      <td>-3.774900</td>\n",
       "      <td>1.089428</td>\n",
       "      <td>8.281341</td>\n",
       "    </tr>\n",
       "    <tr>\n",
       "      <th>2000-01-21</th>\n",
       "      <td>-1.324239</td>\n",
       "      <td>-3.730762</td>\n",
       "      <td>1.764860</td>\n",
       "      <td>9.196044</td>\n",
       "    </tr>\n",
       "    <tr>\n",
       "      <th>2000-01-22</th>\n",
       "      <td>-1.155599</td>\n",
       "      <td>-3.567743</td>\n",
       "      <td>2.818899</td>\n",
       "      <td>9.688366</td>\n",
       "    </tr>\n",
       "    <tr>\n",
       "      <th>2000-01-23</th>\n",
       "      <td>-3.218550</td>\n",
       "      <td>-3.800866</td>\n",
       "      <td>4.523380</td>\n",
       "      <td>9.466009</td>\n",
       "    </tr>\n",
       "    <tr>\n",
       "      <th>2000-01-24</th>\n",
       "      <td>-2.490423</td>\n",
       "      <td>-2.383205</td>\n",
       "      <td>4.818459</td>\n",
       "      <td>10.073114</td>\n",
       "    </tr>\n",
       "    <tr>\n",
       "      <th>2000-01-25</th>\n",
       "      <td>-3.441684</td>\n",
       "      <td>-2.687965</td>\n",
       "      <td>4.309607</td>\n",
       "      <td>12.407382</td>\n",
       "    </tr>\n",
       "    <tr>\n",
       "      <th>2000-01-26</th>\n",
       "      <td>-4.321988</td>\n",
       "      <td>-3.953600</td>\n",
       "      <td>3.558596</td>\n",
       "      <td>11.957462</td>\n",
       "    </tr>\n",
       "    <tr>\n",
       "      <th>2000-01-27</th>\n",
       "      <td>-5.702061</td>\n",
       "      <td>-3.343025</td>\n",
       "      <td>2.469913</td>\n",
       "      <td>11.601112</td>\n",
       "    </tr>\n",
       "    <tr>\n",
       "      <th>2000-01-28</th>\n",
       "      <td>-6.528327</td>\n",
       "      <td>-3.781293</td>\n",
       "      <td>1.668154</td>\n",
       "      <td>11.697453</td>\n",
       "    </tr>\n",
       "    <tr>\n",
       "      <th>2000-01-29</th>\n",
       "      <td>-6.767440</td>\n",
       "      <td>-4.694028</td>\n",
       "      <td>0.856874</td>\n",
       "      <td>13.003760</td>\n",
       "    </tr>\n",
       "    <tr>\n",
       "      <th>2000-01-30</th>\n",
       "      <td>-7.388600</td>\n",
       "      <td>-4.554101</td>\n",
       "      <td>0.548668</td>\n",
       "      <td>13.747894</td>\n",
       "    </tr>\n",
       "    <tr>\n",
       "      <th>...</th>\n",
       "      <td>...</td>\n",
       "      <td>...</td>\n",
       "      <td>...</td>\n",
       "      <td>...</td>\n",
       "    </tr>\n",
       "    <tr>\n",
       "      <th>2002-08-28</th>\n",
       "      <td>-7.908278</td>\n",
       "      <td>67.549085</td>\n",
       "      <td>8.481348</td>\n",
       "      <td>55.341907</td>\n",
       "    </tr>\n",
       "    <tr>\n",
       "      <th>2002-08-29</th>\n",
       "      <td>-8.128910</td>\n",
       "      <td>67.150649</td>\n",
       "      <td>8.817702</td>\n",
       "      <td>55.109688</td>\n",
       "    </tr>\n",
       "    <tr>\n",
       "      <th>2002-08-30</th>\n",
       "      <td>-8.216664</td>\n",
       "      <td>65.343380</td>\n",
       "      <td>8.530661</td>\n",
       "      <td>55.950869</td>\n",
       "    </tr>\n",
       "    <tr>\n",
       "      <th>2002-08-31</th>\n",
       "      <td>-9.121734</td>\n",
       "      <td>64.406376</td>\n",
       "      <td>9.017284</td>\n",
       "      <td>55.496892</td>\n",
       "    </tr>\n",
       "    <tr>\n",
       "      <th>2002-09-01</th>\n",
       "      <td>-8.410777</td>\n",
       "      <td>62.922854</td>\n",
       "      <td>8.238338</td>\n",
       "      <td>54.586776</td>\n",
       "    </tr>\n",
       "    <tr>\n",
       "      <th>2002-09-02</th>\n",
       "      <td>-8.103669</td>\n",
       "      <td>61.749448</td>\n",
       "      <td>10.218478</td>\n",
       "      <td>53.938747</td>\n",
       "    </tr>\n",
       "    <tr>\n",
       "      <th>2002-09-03</th>\n",
       "      <td>-9.672449</td>\n",
       "      <td>62.462627</td>\n",
       "      <td>11.039267</td>\n",
       "      <td>52.898175</td>\n",
       "    </tr>\n",
       "    <tr>\n",
       "      <th>2002-09-04</th>\n",
       "      <td>-9.412903</td>\n",
       "      <td>62.759808</td>\n",
       "      <td>12.007455</td>\n",
       "      <td>52.728789</td>\n",
       "    </tr>\n",
       "    <tr>\n",
       "      <th>2002-09-05</th>\n",
       "      <td>-10.366034</td>\n",
       "      <td>62.919164</td>\n",
       "      <td>13.183812</td>\n",
       "      <td>54.251448</td>\n",
       "    </tr>\n",
       "    <tr>\n",
       "      <th>2002-09-06</th>\n",
       "      <td>-10.748470</td>\n",
       "      <td>61.157973</td>\n",
       "      <td>12.813521</td>\n",
       "      <td>53.950311</td>\n",
       "    </tr>\n",
       "    <tr>\n",
       "      <th>2002-09-07</th>\n",
       "      <td>-11.423547</td>\n",
       "      <td>61.792282</td>\n",
       "      <td>13.519785</td>\n",
       "      <td>54.347509</td>\n",
       "    </tr>\n",
       "    <tr>\n",
       "      <th>2002-09-08</th>\n",
       "      <td>-12.029402</td>\n",
       "      <td>61.334283</td>\n",
       "      <td>13.374723</td>\n",
       "      <td>52.632623</td>\n",
       "    </tr>\n",
       "    <tr>\n",
       "      <th>2002-09-09</th>\n",
       "      <td>-12.527795</td>\n",
       "      <td>59.875346</td>\n",
       "      <td>12.863937</td>\n",
       "      <td>53.800697</td>\n",
       "    </tr>\n",
       "    <tr>\n",
       "      <th>2002-09-10</th>\n",
       "      <td>-13.929847</td>\n",
       "      <td>58.148292</td>\n",
       "      <td>13.128094</td>\n",
       "      <td>52.808896</td>\n",
       "    </tr>\n",
       "    <tr>\n",
       "      <th>2002-09-11</th>\n",
       "      <td>-14.818756</td>\n",
       "      <td>59.700040</td>\n",
       "      <td>13.229521</td>\n",
       "      <td>51.702282</td>\n",
       "    </tr>\n",
       "    <tr>\n",
       "      <th>2002-09-12</th>\n",
       "      <td>-15.012070</td>\n",
       "      <td>57.847942</td>\n",
       "      <td>13.606299</td>\n",
       "      <td>52.934429</td>\n",
       "    </tr>\n",
       "    <tr>\n",
       "      <th>2002-09-13</th>\n",
       "      <td>-13.845210</td>\n",
       "      <td>59.577935</td>\n",
       "      <td>14.005210</td>\n",
       "      <td>50.751627</td>\n",
       "    </tr>\n",
       "    <tr>\n",
       "      <th>2002-09-14</th>\n",
       "      <td>-14.045836</td>\n",
       "      <td>62.163106</td>\n",
       "      <td>12.932669</td>\n",
       "      <td>49.688364</td>\n",
       "    </tr>\n",
       "    <tr>\n",
       "      <th>2002-09-15</th>\n",
       "      <td>-14.196020</td>\n",
       "      <td>61.730328</td>\n",
       "      <td>12.832613</td>\n",
       "      <td>48.154940</td>\n",
       "    </tr>\n",
       "    <tr>\n",
       "      <th>2002-09-16</th>\n",
       "      <td>-15.191746</td>\n",
       "      <td>62.294683</td>\n",
       "      <td>13.856687</td>\n",
       "      <td>49.887823</td>\n",
       "    </tr>\n",
       "    <tr>\n",
       "      <th>2002-09-17</th>\n",
       "      <td>-15.290523</td>\n",
       "      <td>63.680458</td>\n",
       "      <td>14.309165</td>\n",
       "      <td>49.420372</td>\n",
       "    </tr>\n",
       "    <tr>\n",
       "      <th>2002-09-18</th>\n",
       "      <td>-16.129355</td>\n",
       "      <td>64.420943</td>\n",
       "      <td>13.183267</td>\n",
       "      <td>48.928589</td>\n",
       "    </tr>\n",
       "    <tr>\n",
       "      <th>2002-09-19</th>\n",
       "      <td>-14.745993</td>\n",
       "      <td>65.465462</td>\n",
       "      <td>14.336667</td>\n",
       "      <td>50.079375</td>\n",
       "    </tr>\n",
       "    <tr>\n",
       "      <th>2002-09-20</th>\n",
       "      <td>-15.827745</td>\n",
       "      <td>65.751390</td>\n",
       "      <td>16.602462</td>\n",
       "      <td>50.807834</td>\n",
       "    </tr>\n",
       "    <tr>\n",
       "      <th>2002-09-21</th>\n",
       "      <td>-13.486618</td>\n",
       "      <td>66.382894</td>\n",
       "      <td>18.519098</td>\n",
       "      <td>52.270327</td>\n",
       "    </tr>\n",
       "    <tr>\n",
       "      <th>2002-09-22</th>\n",
       "      <td>-13.312867</td>\n",
       "      <td>65.983486</td>\n",
       "      <td>19.445455</td>\n",
       "      <td>52.045869</td>\n",
       "    </tr>\n",
       "    <tr>\n",
       "      <th>2002-09-23</th>\n",
       "      <td>-15.079412</td>\n",
       "      <td>66.649144</td>\n",
       "      <td>21.053095</td>\n",
       "      <td>50.691459</td>\n",
       "    </tr>\n",
       "    <tr>\n",
       "      <th>2002-09-24</th>\n",
       "      <td>-14.383469</td>\n",
       "      <td>66.291947</td>\n",
       "      <td>20.801361</td>\n",
       "      <td>50.941442</td>\n",
       "    </tr>\n",
       "    <tr>\n",
       "      <th>2002-09-25</th>\n",
       "      <td>-16.342273</td>\n",
       "      <td>67.149825</td>\n",
       "      <td>19.704903</td>\n",
       "      <td>49.579112</td>\n",
       "    </tr>\n",
       "    <tr>\n",
       "      <th>2002-09-26</th>\n",
       "      <td>-15.230032</td>\n",
       "      <td>68.245307</td>\n",
       "      <td>20.457175</td>\n",
       "      <td>48.967932</td>\n",
       "    </tr>\n",
       "  </tbody>\n",
       "</table>\n",
       "<p>1000 rows × 4 columns</p>\n",
       "</div>"
      ],
      "text/plain": [
       "                    A          B          C          D\n",
       "2000-01-01   0.125963  -0.578460   1.042439  -0.794426\n",
       "2000-01-02  -0.676516  -1.292368   0.784075   1.083318\n",
       "2000-01-03  -0.494540  -2.179246   0.066460   4.513711\n",
       "2000-01-04  -0.461766  -2.079718  -0.137835   4.093688\n",
       "2000-01-05  -1.960442  -1.825936   1.171447   6.590814\n",
       "2000-01-06  -1.867356  -1.168478   1.707503   5.274376\n",
       "2000-01-07  -1.828050   0.658011   1.246147   6.083983\n",
       "2000-01-08  -1.570826  -0.238284   1.974935   5.667500\n",
       "2000-01-09  -2.542094  -1.394416   0.548245   5.675005\n",
       "2000-01-10  -1.350773  -1.971715   0.485087   6.380812\n",
       "2000-01-11  -2.791340  -2.073583   0.908680   5.386434\n",
       "2000-01-12  -3.578275  -1.470668   0.936311   5.816716\n",
       "2000-01-13  -4.446706  -3.973214   0.279952   6.096146\n",
       "2000-01-14  -4.551872  -3.562373  -0.184510   5.724160\n",
       "2000-01-15  -4.157203  -3.766302  -0.749773   7.467856\n",
       "2000-01-16  -4.910986  -0.598528   0.526357   7.761042\n",
       "2000-01-17  -3.515805  -1.229725  -1.087933   9.404437\n",
       "2000-01-18  -2.640268  -1.212163  -0.431603   9.161110\n",
       "2000-01-19  -3.225464  -2.956171   0.513889   9.560046\n",
       "2000-01-20  -2.442082  -3.774900   1.089428   8.281341\n",
       "2000-01-21  -1.324239  -3.730762   1.764860   9.196044\n",
       "2000-01-22  -1.155599  -3.567743   2.818899   9.688366\n",
       "2000-01-23  -3.218550  -3.800866   4.523380   9.466009\n",
       "2000-01-24  -2.490423  -2.383205   4.818459  10.073114\n",
       "2000-01-25  -3.441684  -2.687965   4.309607  12.407382\n",
       "2000-01-26  -4.321988  -3.953600   3.558596  11.957462\n",
       "2000-01-27  -5.702061  -3.343025   2.469913  11.601112\n",
       "2000-01-28  -6.528327  -3.781293   1.668154  11.697453\n",
       "2000-01-29  -6.767440  -4.694028   0.856874  13.003760\n",
       "2000-01-30  -7.388600  -4.554101   0.548668  13.747894\n",
       "...               ...        ...        ...        ...\n",
       "2002-08-28  -7.908278  67.549085   8.481348  55.341907\n",
       "2002-08-29  -8.128910  67.150649   8.817702  55.109688\n",
       "2002-08-30  -8.216664  65.343380   8.530661  55.950869\n",
       "2002-08-31  -9.121734  64.406376   9.017284  55.496892\n",
       "2002-09-01  -8.410777  62.922854   8.238338  54.586776\n",
       "2002-09-02  -8.103669  61.749448  10.218478  53.938747\n",
       "2002-09-03  -9.672449  62.462627  11.039267  52.898175\n",
       "2002-09-04  -9.412903  62.759808  12.007455  52.728789\n",
       "2002-09-05 -10.366034  62.919164  13.183812  54.251448\n",
       "2002-09-06 -10.748470  61.157973  12.813521  53.950311\n",
       "2002-09-07 -11.423547  61.792282  13.519785  54.347509\n",
       "2002-09-08 -12.029402  61.334283  13.374723  52.632623\n",
       "2002-09-09 -12.527795  59.875346  12.863937  53.800697\n",
       "2002-09-10 -13.929847  58.148292  13.128094  52.808896\n",
       "2002-09-11 -14.818756  59.700040  13.229521  51.702282\n",
       "2002-09-12 -15.012070  57.847942  13.606299  52.934429\n",
       "2002-09-13 -13.845210  59.577935  14.005210  50.751627\n",
       "2002-09-14 -14.045836  62.163106  12.932669  49.688364\n",
       "2002-09-15 -14.196020  61.730328  12.832613  48.154940\n",
       "2002-09-16 -15.191746  62.294683  13.856687  49.887823\n",
       "2002-09-17 -15.290523  63.680458  14.309165  49.420372\n",
       "2002-09-18 -16.129355  64.420943  13.183267  48.928589\n",
       "2002-09-19 -14.745993  65.465462  14.336667  50.079375\n",
       "2002-09-20 -15.827745  65.751390  16.602462  50.807834\n",
       "2002-09-21 -13.486618  66.382894  18.519098  52.270327\n",
       "2002-09-22 -13.312867  65.983486  19.445455  52.045869\n",
       "2002-09-23 -15.079412  66.649144  21.053095  50.691459\n",
       "2002-09-24 -14.383469  66.291947  20.801361  50.941442\n",
       "2002-09-25 -16.342273  67.149825  19.704903  49.579112\n",
       "2002-09-26 -15.230032  68.245307  20.457175  48.967932\n",
       "\n",
       "[1000 rows x 4 columns]"
      ]
     },
     "execution_count": 150,
     "metadata": {},
     "output_type": "execute_result"
    }
   ],
   "source": [
    "pd.read_hdf('foo.h5','df')"
   ]
  },
  {
   "cell_type": "markdown",
   "metadata": {},
   "source": [
    "### 13.3. Excel"
   ]
  },
  {
   "cell_type": "code",
   "execution_count": 151,
   "metadata": {
    "collapsed": true
   },
   "outputs": [],
   "source": [
    "df.to_excel('foo.xlsx', sheet_name='Sheet1')"
   ]
  },
  {
   "cell_type": "code",
   "execution_count": 152,
   "metadata": {
    "collapsed": false
   },
   "outputs": [
    {
     "data": {
      "text/html": [
       "<div>\n",
       "<table border=\"1\" class=\"dataframe\">\n",
       "  <thead>\n",
       "    <tr style=\"text-align: right;\">\n",
       "      <th></th>\n",
       "      <th>A</th>\n",
       "      <th>B</th>\n",
       "      <th>C</th>\n",
       "      <th>D</th>\n",
       "    </tr>\n",
       "  </thead>\n",
       "  <tbody>\n",
       "    <tr>\n",
       "      <th>2000-01-01</th>\n",
       "      <td>0.125963</td>\n",
       "      <td>-0.578460</td>\n",
       "      <td>1.042439</td>\n",
       "      <td>-0.794426</td>\n",
       "    </tr>\n",
       "    <tr>\n",
       "      <th>2000-01-02</th>\n",
       "      <td>-0.676516</td>\n",
       "      <td>-1.292368</td>\n",
       "      <td>0.784075</td>\n",
       "      <td>1.083318</td>\n",
       "    </tr>\n",
       "    <tr>\n",
       "      <th>2000-01-03</th>\n",
       "      <td>-0.494540</td>\n",
       "      <td>-2.179246</td>\n",
       "      <td>0.066460</td>\n",
       "      <td>4.513711</td>\n",
       "    </tr>\n",
       "    <tr>\n",
       "      <th>2000-01-04</th>\n",
       "      <td>-0.461766</td>\n",
       "      <td>-2.079718</td>\n",
       "      <td>-0.137835</td>\n",
       "      <td>4.093688</td>\n",
       "    </tr>\n",
       "    <tr>\n",
       "      <th>2000-01-05</th>\n",
       "      <td>-1.960442</td>\n",
       "      <td>-1.825936</td>\n",
       "      <td>1.171447</td>\n",
       "      <td>6.590814</td>\n",
       "    </tr>\n",
       "    <tr>\n",
       "      <th>2000-01-06</th>\n",
       "      <td>-1.867356</td>\n",
       "      <td>-1.168478</td>\n",
       "      <td>1.707503</td>\n",
       "      <td>5.274376</td>\n",
       "    </tr>\n",
       "    <tr>\n",
       "      <th>2000-01-07</th>\n",
       "      <td>-1.828050</td>\n",
       "      <td>0.658011</td>\n",
       "      <td>1.246147</td>\n",
       "      <td>6.083983</td>\n",
       "    </tr>\n",
       "    <tr>\n",
       "      <th>2000-01-08</th>\n",
       "      <td>-1.570826</td>\n",
       "      <td>-0.238284</td>\n",
       "      <td>1.974935</td>\n",
       "      <td>5.667500</td>\n",
       "    </tr>\n",
       "    <tr>\n",
       "      <th>2000-01-09</th>\n",
       "      <td>-2.542094</td>\n",
       "      <td>-1.394416</td>\n",
       "      <td>0.548245</td>\n",
       "      <td>5.675005</td>\n",
       "    </tr>\n",
       "    <tr>\n",
       "      <th>2000-01-10</th>\n",
       "      <td>-1.350773</td>\n",
       "      <td>-1.971715</td>\n",
       "      <td>0.485087</td>\n",
       "      <td>6.380812</td>\n",
       "    </tr>\n",
       "    <tr>\n",
       "      <th>2000-01-11</th>\n",
       "      <td>-2.791340</td>\n",
       "      <td>-2.073583</td>\n",
       "      <td>0.908680</td>\n",
       "      <td>5.386434</td>\n",
       "    </tr>\n",
       "    <tr>\n",
       "      <th>2000-01-12</th>\n",
       "      <td>-3.578275</td>\n",
       "      <td>-1.470668</td>\n",
       "      <td>0.936311</td>\n",
       "      <td>5.816716</td>\n",
       "    </tr>\n",
       "    <tr>\n",
       "      <th>2000-01-13</th>\n",
       "      <td>-4.446706</td>\n",
       "      <td>-3.973214</td>\n",
       "      <td>0.279952</td>\n",
       "      <td>6.096146</td>\n",
       "    </tr>\n",
       "    <tr>\n",
       "      <th>2000-01-14</th>\n",
       "      <td>-4.551872</td>\n",
       "      <td>-3.562373</td>\n",
       "      <td>-0.184510</td>\n",
       "      <td>5.724160</td>\n",
       "    </tr>\n",
       "    <tr>\n",
       "      <th>2000-01-15</th>\n",
       "      <td>-4.157203</td>\n",
       "      <td>-3.766302</td>\n",
       "      <td>-0.749773</td>\n",
       "      <td>7.467856</td>\n",
       "    </tr>\n",
       "    <tr>\n",
       "      <th>2000-01-16</th>\n",
       "      <td>-4.910986</td>\n",
       "      <td>-0.598528</td>\n",
       "      <td>0.526357</td>\n",
       "      <td>7.761042</td>\n",
       "    </tr>\n",
       "    <tr>\n",
       "      <th>2000-01-17</th>\n",
       "      <td>-3.515805</td>\n",
       "      <td>-1.229725</td>\n",
       "      <td>-1.087933</td>\n",
       "      <td>9.404437</td>\n",
       "    </tr>\n",
       "    <tr>\n",
       "      <th>2000-01-18</th>\n",
       "      <td>-2.640268</td>\n",
       "      <td>-1.212163</td>\n",
       "      <td>-0.431603</td>\n",
       "      <td>9.161110</td>\n",
       "    </tr>\n",
       "    <tr>\n",
       "      <th>2000-01-19</th>\n",
       "      <td>-3.225464</td>\n",
       "      <td>-2.956171</td>\n",
       "      <td>0.513889</td>\n",
       "      <td>9.560046</td>\n",
       "    </tr>\n",
       "    <tr>\n",
       "      <th>2000-01-20</th>\n",
       "      <td>-2.442082</td>\n",
       "      <td>-3.774900</td>\n",
       "      <td>1.089428</td>\n",
       "      <td>8.281341</td>\n",
       "    </tr>\n",
       "    <tr>\n",
       "      <th>2000-01-21</th>\n",
       "      <td>-1.324239</td>\n",
       "      <td>-3.730762</td>\n",
       "      <td>1.764860</td>\n",
       "      <td>9.196044</td>\n",
       "    </tr>\n",
       "    <tr>\n",
       "      <th>2000-01-22</th>\n",
       "      <td>-1.155599</td>\n",
       "      <td>-3.567743</td>\n",
       "      <td>2.818899</td>\n",
       "      <td>9.688366</td>\n",
       "    </tr>\n",
       "    <tr>\n",
       "      <th>2000-01-23</th>\n",
       "      <td>-3.218550</td>\n",
       "      <td>-3.800866</td>\n",
       "      <td>4.523380</td>\n",
       "      <td>9.466009</td>\n",
       "    </tr>\n",
       "    <tr>\n",
       "      <th>2000-01-24</th>\n",
       "      <td>-2.490423</td>\n",
       "      <td>-2.383205</td>\n",
       "      <td>4.818459</td>\n",
       "      <td>10.073114</td>\n",
       "    </tr>\n",
       "    <tr>\n",
       "      <th>2000-01-25</th>\n",
       "      <td>-3.441684</td>\n",
       "      <td>-2.687965</td>\n",
       "      <td>4.309607</td>\n",
       "      <td>12.407382</td>\n",
       "    </tr>\n",
       "    <tr>\n",
       "      <th>2000-01-26</th>\n",
       "      <td>-4.321988</td>\n",
       "      <td>-3.953600</td>\n",
       "      <td>3.558596</td>\n",
       "      <td>11.957462</td>\n",
       "    </tr>\n",
       "    <tr>\n",
       "      <th>2000-01-27</th>\n",
       "      <td>-5.702061</td>\n",
       "      <td>-3.343025</td>\n",
       "      <td>2.469913</td>\n",
       "      <td>11.601112</td>\n",
       "    </tr>\n",
       "    <tr>\n",
       "      <th>2000-01-28</th>\n",
       "      <td>-6.528327</td>\n",
       "      <td>-3.781293</td>\n",
       "      <td>1.668154</td>\n",
       "      <td>11.697453</td>\n",
       "    </tr>\n",
       "    <tr>\n",
       "      <th>2000-01-29</th>\n",
       "      <td>-6.767440</td>\n",
       "      <td>-4.694028</td>\n",
       "      <td>0.856874</td>\n",
       "      <td>13.003760</td>\n",
       "    </tr>\n",
       "    <tr>\n",
       "      <th>2000-01-30</th>\n",
       "      <td>-7.388600</td>\n",
       "      <td>-4.554101</td>\n",
       "      <td>0.548668</td>\n",
       "      <td>13.747894</td>\n",
       "    </tr>\n",
       "    <tr>\n",
       "      <th>...</th>\n",
       "      <td>...</td>\n",
       "      <td>...</td>\n",
       "      <td>...</td>\n",
       "      <td>...</td>\n",
       "    </tr>\n",
       "    <tr>\n",
       "      <th>2002-08-28</th>\n",
       "      <td>-7.908278</td>\n",
       "      <td>67.549085</td>\n",
       "      <td>8.481348</td>\n",
       "      <td>55.341907</td>\n",
       "    </tr>\n",
       "    <tr>\n",
       "      <th>2002-08-29</th>\n",
       "      <td>-8.128910</td>\n",
       "      <td>67.150649</td>\n",
       "      <td>8.817702</td>\n",
       "      <td>55.109688</td>\n",
       "    </tr>\n",
       "    <tr>\n",
       "      <th>2002-08-30</th>\n",
       "      <td>-8.216664</td>\n",
       "      <td>65.343380</td>\n",
       "      <td>8.530661</td>\n",
       "      <td>55.950869</td>\n",
       "    </tr>\n",
       "    <tr>\n",
       "      <th>2002-08-31</th>\n",
       "      <td>-9.121734</td>\n",
       "      <td>64.406376</td>\n",
       "      <td>9.017284</td>\n",
       "      <td>55.496892</td>\n",
       "    </tr>\n",
       "    <tr>\n",
       "      <th>2002-09-01</th>\n",
       "      <td>-8.410777</td>\n",
       "      <td>62.922854</td>\n",
       "      <td>8.238338</td>\n",
       "      <td>54.586776</td>\n",
       "    </tr>\n",
       "    <tr>\n",
       "      <th>2002-09-02</th>\n",
       "      <td>-8.103669</td>\n",
       "      <td>61.749448</td>\n",
       "      <td>10.218478</td>\n",
       "      <td>53.938747</td>\n",
       "    </tr>\n",
       "    <tr>\n",
       "      <th>2002-09-03</th>\n",
       "      <td>-9.672449</td>\n",
       "      <td>62.462627</td>\n",
       "      <td>11.039267</td>\n",
       "      <td>52.898175</td>\n",
       "    </tr>\n",
       "    <tr>\n",
       "      <th>2002-09-04</th>\n",
       "      <td>-9.412903</td>\n",
       "      <td>62.759808</td>\n",
       "      <td>12.007455</td>\n",
       "      <td>52.728789</td>\n",
       "    </tr>\n",
       "    <tr>\n",
       "      <th>2002-09-05</th>\n",
       "      <td>-10.366034</td>\n",
       "      <td>62.919164</td>\n",
       "      <td>13.183812</td>\n",
       "      <td>54.251448</td>\n",
       "    </tr>\n",
       "    <tr>\n",
       "      <th>2002-09-06</th>\n",
       "      <td>-10.748470</td>\n",
       "      <td>61.157973</td>\n",
       "      <td>12.813521</td>\n",
       "      <td>53.950311</td>\n",
       "    </tr>\n",
       "    <tr>\n",
       "      <th>2002-09-07</th>\n",
       "      <td>-11.423547</td>\n",
       "      <td>61.792282</td>\n",
       "      <td>13.519785</td>\n",
       "      <td>54.347509</td>\n",
       "    </tr>\n",
       "    <tr>\n",
       "      <th>2002-09-08</th>\n",
       "      <td>-12.029402</td>\n",
       "      <td>61.334283</td>\n",
       "      <td>13.374723</td>\n",
       "      <td>52.632623</td>\n",
       "    </tr>\n",
       "    <tr>\n",
       "      <th>2002-09-09</th>\n",
       "      <td>-12.527795</td>\n",
       "      <td>59.875346</td>\n",
       "      <td>12.863937</td>\n",
       "      <td>53.800697</td>\n",
       "    </tr>\n",
       "    <tr>\n",
       "      <th>2002-09-10</th>\n",
       "      <td>-13.929847</td>\n",
       "      <td>58.148292</td>\n",
       "      <td>13.128094</td>\n",
       "      <td>52.808896</td>\n",
       "    </tr>\n",
       "    <tr>\n",
       "      <th>2002-09-11</th>\n",
       "      <td>-14.818756</td>\n",
       "      <td>59.700040</td>\n",
       "      <td>13.229521</td>\n",
       "      <td>51.702282</td>\n",
       "    </tr>\n",
       "    <tr>\n",
       "      <th>2002-09-12</th>\n",
       "      <td>-15.012070</td>\n",
       "      <td>57.847942</td>\n",
       "      <td>13.606299</td>\n",
       "      <td>52.934429</td>\n",
       "    </tr>\n",
       "    <tr>\n",
       "      <th>2002-09-13</th>\n",
       "      <td>-13.845210</td>\n",
       "      <td>59.577935</td>\n",
       "      <td>14.005210</td>\n",
       "      <td>50.751627</td>\n",
       "    </tr>\n",
       "    <tr>\n",
       "      <th>2002-09-14</th>\n",
       "      <td>-14.045836</td>\n",
       "      <td>62.163106</td>\n",
       "      <td>12.932669</td>\n",
       "      <td>49.688364</td>\n",
       "    </tr>\n",
       "    <tr>\n",
       "      <th>2002-09-15</th>\n",
       "      <td>-14.196020</td>\n",
       "      <td>61.730328</td>\n",
       "      <td>12.832613</td>\n",
       "      <td>48.154940</td>\n",
       "    </tr>\n",
       "    <tr>\n",
       "      <th>2002-09-16</th>\n",
       "      <td>-15.191746</td>\n",
       "      <td>62.294683</td>\n",
       "      <td>13.856687</td>\n",
       "      <td>49.887823</td>\n",
       "    </tr>\n",
       "    <tr>\n",
       "      <th>2002-09-17</th>\n",
       "      <td>-15.290523</td>\n",
       "      <td>63.680458</td>\n",
       "      <td>14.309165</td>\n",
       "      <td>49.420372</td>\n",
       "    </tr>\n",
       "    <tr>\n",
       "      <th>2002-09-18</th>\n",
       "      <td>-16.129355</td>\n",
       "      <td>64.420943</td>\n",
       "      <td>13.183267</td>\n",
       "      <td>48.928589</td>\n",
       "    </tr>\n",
       "    <tr>\n",
       "      <th>2002-09-19</th>\n",
       "      <td>-14.745993</td>\n",
       "      <td>65.465462</td>\n",
       "      <td>14.336667</td>\n",
       "      <td>50.079375</td>\n",
       "    </tr>\n",
       "    <tr>\n",
       "      <th>2002-09-20</th>\n",
       "      <td>-15.827745</td>\n",
       "      <td>65.751390</td>\n",
       "      <td>16.602462</td>\n",
       "      <td>50.807834</td>\n",
       "    </tr>\n",
       "    <tr>\n",
       "      <th>2002-09-21</th>\n",
       "      <td>-13.486618</td>\n",
       "      <td>66.382894</td>\n",
       "      <td>18.519098</td>\n",
       "      <td>52.270327</td>\n",
       "    </tr>\n",
       "    <tr>\n",
       "      <th>2002-09-22</th>\n",
       "      <td>-13.312867</td>\n",
       "      <td>65.983486</td>\n",
       "      <td>19.445455</td>\n",
       "      <td>52.045869</td>\n",
       "    </tr>\n",
       "    <tr>\n",
       "      <th>2002-09-23</th>\n",
       "      <td>-15.079412</td>\n",
       "      <td>66.649144</td>\n",
       "      <td>21.053095</td>\n",
       "      <td>50.691459</td>\n",
       "    </tr>\n",
       "    <tr>\n",
       "      <th>2002-09-24</th>\n",
       "      <td>-14.383469</td>\n",
       "      <td>66.291947</td>\n",
       "      <td>20.801361</td>\n",
       "      <td>50.941442</td>\n",
       "    </tr>\n",
       "    <tr>\n",
       "      <th>2002-09-25</th>\n",
       "      <td>-16.342273</td>\n",
       "      <td>67.149825</td>\n",
       "      <td>19.704903</td>\n",
       "      <td>49.579112</td>\n",
       "    </tr>\n",
       "    <tr>\n",
       "      <th>2002-09-26</th>\n",
       "      <td>-15.230032</td>\n",
       "      <td>68.245307</td>\n",
       "      <td>20.457175</td>\n",
       "      <td>48.967932</td>\n",
       "    </tr>\n",
       "  </tbody>\n",
       "</table>\n",
       "<p>1000 rows × 4 columns</p>\n",
       "</div>"
      ],
      "text/plain": [
       "                    A          B          C          D\n",
       "2000-01-01   0.125963  -0.578460   1.042439  -0.794426\n",
       "2000-01-02  -0.676516  -1.292368   0.784075   1.083318\n",
       "2000-01-03  -0.494540  -2.179246   0.066460   4.513711\n",
       "2000-01-04  -0.461766  -2.079718  -0.137835   4.093688\n",
       "2000-01-05  -1.960442  -1.825936   1.171447   6.590814\n",
       "2000-01-06  -1.867356  -1.168478   1.707503   5.274376\n",
       "2000-01-07  -1.828050   0.658011   1.246147   6.083983\n",
       "2000-01-08  -1.570826  -0.238284   1.974935   5.667500\n",
       "2000-01-09  -2.542094  -1.394416   0.548245   5.675005\n",
       "2000-01-10  -1.350773  -1.971715   0.485087   6.380812\n",
       "2000-01-11  -2.791340  -2.073583   0.908680   5.386434\n",
       "2000-01-12  -3.578275  -1.470668   0.936311   5.816716\n",
       "2000-01-13  -4.446706  -3.973214   0.279952   6.096146\n",
       "2000-01-14  -4.551872  -3.562373  -0.184510   5.724160\n",
       "2000-01-15  -4.157203  -3.766302  -0.749773   7.467856\n",
       "2000-01-16  -4.910986  -0.598528   0.526357   7.761042\n",
       "2000-01-17  -3.515805  -1.229725  -1.087933   9.404437\n",
       "2000-01-18  -2.640268  -1.212163  -0.431603   9.161110\n",
       "2000-01-19  -3.225464  -2.956171   0.513889   9.560046\n",
       "2000-01-20  -2.442082  -3.774900   1.089428   8.281341\n",
       "2000-01-21  -1.324239  -3.730762   1.764860   9.196044\n",
       "2000-01-22  -1.155599  -3.567743   2.818899   9.688366\n",
       "2000-01-23  -3.218550  -3.800866   4.523380   9.466009\n",
       "2000-01-24  -2.490423  -2.383205   4.818459  10.073114\n",
       "2000-01-25  -3.441684  -2.687965   4.309607  12.407382\n",
       "2000-01-26  -4.321988  -3.953600   3.558596  11.957462\n",
       "2000-01-27  -5.702061  -3.343025   2.469913  11.601112\n",
       "2000-01-28  -6.528327  -3.781293   1.668154  11.697453\n",
       "2000-01-29  -6.767440  -4.694028   0.856874  13.003760\n",
       "2000-01-30  -7.388600  -4.554101   0.548668  13.747894\n",
       "...               ...        ...        ...        ...\n",
       "2002-08-28  -7.908278  67.549085   8.481348  55.341907\n",
       "2002-08-29  -8.128910  67.150649   8.817702  55.109688\n",
       "2002-08-30  -8.216664  65.343380   8.530661  55.950869\n",
       "2002-08-31  -9.121734  64.406376   9.017284  55.496892\n",
       "2002-09-01  -8.410777  62.922854   8.238338  54.586776\n",
       "2002-09-02  -8.103669  61.749448  10.218478  53.938747\n",
       "2002-09-03  -9.672449  62.462627  11.039267  52.898175\n",
       "2002-09-04  -9.412903  62.759808  12.007455  52.728789\n",
       "2002-09-05 -10.366034  62.919164  13.183812  54.251448\n",
       "2002-09-06 -10.748470  61.157973  12.813521  53.950311\n",
       "2002-09-07 -11.423547  61.792282  13.519785  54.347509\n",
       "2002-09-08 -12.029402  61.334283  13.374723  52.632623\n",
       "2002-09-09 -12.527795  59.875346  12.863937  53.800697\n",
       "2002-09-10 -13.929847  58.148292  13.128094  52.808896\n",
       "2002-09-11 -14.818756  59.700040  13.229521  51.702282\n",
       "2002-09-12 -15.012070  57.847942  13.606299  52.934429\n",
       "2002-09-13 -13.845210  59.577935  14.005210  50.751627\n",
       "2002-09-14 -14.045836  62.163106  12.932669  49.688364\n",
       "2002-09-15 -14.196020  61.730328  12.832613  48.154940\n",
       "2002-09-16 -15.191746  62.294683  13.856687  49.887823\n",
       "2002-09-17 -15.290523  63.680458  14.309165  49.420372\n",
       "2002-09-18 -16.129355  64.420943  13.183267  48.928589\n",
       "2002-09-19 -14.745993  65.465462  14.336667  50.079375\n",
       "2002-09-20 -15.827745  65.751390  16.602462  50.807834\n",
       "2002-09-21 -13.486618  66.382894  18.519098  52.270327\n",
       "2002-09-22 -13.312867  65.983486  19.445455  52.045869\n",
       "2002-09-23 -15.079412  66.649144  21.053095  50.691459\n",
       "2002-09-24 -14.383469  66.291947  20.801361  50.941442\n",
       "2002-09-25 -16.342273  67.149825  19.704903  49.579112\n",
       "2002-09-26 -15.230032  68.245307  20.457175  48.967932\n",
       "\n",
       "[1000 rows x 4 columns]"
      ]
     },
     "execution_count": 152,
     "metadata": {},
     "output_type": "execute_result"
    }
   ],
   "source": [
    "pd.read_excel('foo.xlsx', 'Sheet1', index_col=None, na_values=['NA'])"
   ]
  },
  {
   "cell_type": "markdown",
   "metadata": {},
   "source": [
    "## 14. Gotchas"
   ]
  },
  {
   "cell_type": "code",
   "execution_count": null,
   "metadata": {
    "collapsed": true
   },
   "outputs": [],
   "source": []
  }
 ],
 "metadata": {
  "anaconda-cloud": {},
  "kernelspec": {
   "display_name": "Python [Root]",
   "language": "python",
   "name": "Python [Root]"
  },
  "language_info": {
   "codemirror_mode": {
    "name": "ipython",
    "version": 2
   },
   "file_extension": ".py",
   "mimetype": "text/x-python",
   "name": "python",
   "nbconvert_exporter": "python",
   "pygments_lexer": "ipython2",
   "version": "2.7.12"
  }
 },
 "nbformat": 4,
 "nbformat_minor": 0
}
